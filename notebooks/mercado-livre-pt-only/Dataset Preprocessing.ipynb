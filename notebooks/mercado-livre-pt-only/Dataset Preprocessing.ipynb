{
 "cells": [
  {
   "cell_type": "code",
   "execution_count": 1,
   "metadata": {},
   "outputs": [],
   "source": [
    "from __future__ import absolute_import\n",
    "from __future__ import division\n",
    "from __future__ import print_function"
   ]
  },
  {
   "cell_type": "code",
   "execution_count": 2,
   "metadata": {},
   "outputs": [],
   "source": [
    "import os\n",
    "\n",
    "%matplotlib inline\n",
    "import matplotlib.pyplot as plt\n",
    "import numpy as np\n",
    "import pandas as pd\n",
    "import seaborn as sns\n",
    "from sklearn.model_selection import train_test_split"
   ]
  },
  {
   "cell_type": "code",
   "execution_count": 3,
   "metadata": {},
   "outputs": [],
   "source": [
    "DATA_PATH = '../../data/mercado-livre-pt-only'\n",
    "DATASET_FILE = os.path.join(DATA_PATH, 'train-pt-reliable-all-data.csv')\n",
    "TRAIN_DATASET = os.path.join(DATA_PATH, 'train.csv')\n",
    "VAL_DATASET = os.path.join(DATA_PATH, 'val.csv')\n",
    "TEST_DATASET  = os.path.join(DATA_PATH, 'test.csv')"
   ]
  },
  {
   "cell_type": "code",
   "execution_count": 4,
   "metadata": {},
   "outputs": [],
   "source": [
    "def read_data(filename):\n",
    "    data = pd.read_csv(filename, sep=\",\", header=None, names=['utterance','quality', 'language', 'label'])\n",
    "    return data"
   ]
  },
  {
   "cell_type": "code",
   "execution_count": 5,
   "metadata": {},
   "outputs": [],
   "source": [
    "data = read_data(DATASET_FILE)"
   ]
  },
  {
   "cell_type": "code",
   "execution_count": 6,
   "metadata": {},
   "outputs": [
    {
     "data": {
      "text/html": [
       "<div>\n",
       "<style scoped>\n",
       "    .dataframe tbody tr th:only-of-type {\n",
       "        vertical-align: middle;\n",
       "    }\n",
       "\n",
       "    .dataframe tbody tr th {\n",
       "        vertical-align: top;\n",
       "    }\n",
       "\n",
       "    .dataframe thead th {\n",
       "        text-align: right;\n",
       "    }\n",
       "</style>\n",
       "<table border=\"1\" class=\"dataframe\">\n",
       "  <thead>\n",
       "    <tr style=\"text-align: right;\">\n",
       "      <th></th>\n",
       "      <th>utterance</th>\n",
       "      <th>quality</th>\n",
       "      <th>language</th>\n",
       "      <th>label</th>\n",
       "    </tr>\n",
       "  </thead>\n",
       "  <tbody>\n",
       "    <tr>\n",
       "      <th>0</th>\n",
       "      <td>projeto unidade hidraulica 3000 psi</td>\n",
       "      <td>reliable</td>\n",
       "      <td>portuguese</td>\n",
       "      <td>AIR_COMPRESSORS</td>\n",
       "    </tr>\n",
       "    <tr>\n",
       "      <th>1</th>\n",
       "      <td>tapete capacho 120x60 churrasqueira + frete gr...</td>\n",
       "      <td>reliable</td>\n",
       "      <td>portuguese</td>\n",
       "      <td>CARPETS</td>\n",
       "    </tr>\n",
       "    <tr>\n",
       "      <th>2</th>\n",
       "      <td>camiseta raglan crepusculo jealous baby look</td>\n",
       "      <td>reliable</td>\n",
       "      <td>portuguese</td>\n",
       "      <td>T_SHIRTS</td>\n",
       "    </tr>\n",
       "    <tr>\n",
       "      <th>3</th>\n",
       "      <td>unidade de dvd gravador com defeito apenas par...</td>\n",
       "      <td>reliable</td>\n",
       "      <td>portuguese</td>\n",
       "      <td>DVD_RECORDERS</td>\n",
       "    </tr>\n",
       "    <tr>\n",
       "      <th>4</th>\n",
       "      <td>fan  dell r320 / r420 0hr6c0 - 24h</td>\n",
       "      <td>reliable</td>\n",
       "      <td>portuguese</td>\n",
       "      <td>DESKTOP_COMPUTER_COOLERS_AND_FANS</td>\n",
       "    </tr>\n",
       "  </tbody>\n",
       "</table>\n",
       "</div>"
      ],
      "text/plain": [
       "                                           utterance   quality    language  \\\n",
       "0                projeto unidade hidraulica 3000 psi  reliable  portuguese   \n",
       "1  tapete capacho 120x60 churrasqueira + frete gr...  reliable  portuguese   \n",
       "2       camiseta raglan crepusculo jealous baby look  reliable  portuguese   \n",
       "3  unidade de dvd gravador com defeito apenas par...  reliable  portuguese   \n",
       "4                 fan  dell r320 / r420 0hr6c0 - 24h  reliable  portuguese   \n",
       "\n",
       "                               label  \n",
       "0                    AIR_COMPRESSORS  \n",
       "1                            CARPETS  \n",
       "2                           T_SHIRTS  \n",
       "3                      DVD_RECORDERS  \n",
       "4  DESKTOP_COMPUTER_COOLERS_AND_FANS  "
      ]
     },
     "execution_count": 6,
     "metadata": {},
     "output_type": "execute_result"
    }
   ],
   "source": [
    "data.head()"
   ]
  },
  {
   "cell_type": "code",
   "execution_count": 7,
   "metadata": {},
   "outputs": [
    {
     "data": {
      "text/plain": [
       "0         portuguese\n",
       "1         portuguese\n",
       "2         portuguese\n",
       "3         portuguese\n",
       "4         portuguese\n",
       "5         portuguese\n",
       "6         portuguese\n",
       "7         portuguese\n",
       "8         portuguese\n",
       "9         portuguese\n",
       "10        portuguese\n",
       "11        portuguese\n",
       "12        portuguese\n",
       "13        portuguese\n",
       "14        portuguese\n",
       "15        portuguese\n",
       "16        portuguese\n",
       "17        portuguese\n",
       "18        portuguese\n",
       "19        portuguese\n",
       "20        portuguese\n",
       "21        portuguese\n",
       "22        portuguese\n",
       "23        portuguese\n",
       "24        portuguese\n",
       "25        portuguese\n",
       "26        portuguese\n",
       "27        portuguese\n",
       "28        portuguese\n",
       "29        portuguese\n",
       "             ...    \n",
       "693288    portuguese\n",
       "693289    portuguese\n",
       "693290    portuguese\n",
       "693291    portuguese\n",
       "693292    portuguese\n",
       "693293    portuguese\n",
       "693294    portuguese\n",
       "693295    portuguese\n",
       "693296    portuguese\n",
       "693297    portuguese\n",
       "693298    portuguese\n",
       "693299    portuguese\n",
       "693300    portuguese\n",
       "693301    portuguese\n",
       "693302    portuguese\n",
       "693303    portuguese\n",
       "693304    portuguese\n",
       "693305    portuguese\n",
       "693306    portuguese\n",
       "693307    portuguese\n",
       "693308    portuguese\n",
       "693309    portuguese\n",
       "693310    portuguese\n",
       "693311    portuguese\n",
       "693312    portuguese\n",
       "693313    portuguese\n",
       "693314    portuguese\n",
       "693315    portuguese\n",
       "693316    portuguese\n",
       "693317    portuguese\n",
       "Name: language, Length: 693318, dtype: object"
      ]
     },
     "execution_count": 7,
     "metadata": {},
     "output_type": "execute_result"
    }
   ],
   "source": [
    "data.pop('quality')\n",
    "data.pop('language')"
   ]
  },
  {
   "cell_type": "code",
   "execution_count": 8,
   "metadata": {},
   "outputs": [
    {
     "data": {
      "text/html": [
       "<div>\n",
       "<style scoped>\n",
       "    .dataframe tbody tr th:only-of-type {\n",
       "        vertical-align: middle;\n",
       "    }\n",
       "\n",
       "    .dataframe tbody tr th {\n",
       "        vertical-align: top;\n",
       "    }\n",
       "\n",
       "    .dataframe thead th {\n",
       "        text-align: right;\n",
       "    }\n",
       "</style>\n",
       "<table border=\"1\" class=\"dataframe\">\n",
       "  <thead>\n",
       "    <tr style=\"text-align: right;\">\n",
       "      <th></th>\n",
       "      <th>utterance</th>\n",
       "      <th>label</th>\n",
       "    </tr>\n",
       "  </thead>\n",
       "  <tbody>\n",
       "    <tr>\n",
       "      <th>0</th>\n",
       "      <td>projeto unidade hidraulica 3000 psi</td>\n",
       "      <td>AIR_COMPRESSORS</td>\n",
       "    </tr>\n",
       "    <tr>\n",
       "      <th>1</th>\n",
       "      <td>tapete capacho 120x60 churrasqueira + frete gr...</td>\n",
       "      <td>CARPETS</td>\n",
       "    </tr>\n",
       "    <tr>\n",
       "      <th>2</th>\n",
       "      <td>camiseta raglan crepusculo jealous baby look</td>\n",
       "      <td>T_SHIRTS</td>\n",
       "    </tr>\n",
       "    <tr>\n",
       "      <th>3</th>\n",
       "      <td>unidade de dvd gravador com defeito apenas par...</td>\n",
       "      <td>DVD_RECORDERS</td>\n",
       "    </tr>\n",
       "    <tr>\n",
       "      <th>4</th>\n",
       "      <td>fan  dell r320 / r420 0hr6c0 - 24h</td>\n",
       "      <td>DESKTOP_COMPUTER_COOLERS_AND_FANS</td>\n",
       "    </tr>\n",
       "  </tbody>\n",
       "</table>\n",
       "</div>"
      ],
      "text/plain": [
       "                                           utterance  \\\n",
       "0                projeto unidade hidraulica 3000 psi   \n",
       "1  tapete capacho 120x60 churrasqueira + frete gr...   \n",
       "2       camiseta raglan crepusculo jealous baby look   \n",
       "3  unidade de dvd gravador com defeito apenas par...   \n",
       "4                 fan  dell r320 / r420 0hr6c0 - 24h   \n",
       "\n",
       "                               label  \n",
       "0                    AIR_COMPRESSORS  \n",
       "1                            CARPETS  \n",
       "2                           T_SHIRTS  \n",
       "3                      DVD_RECORDERS  \n",
       "4  DESKTOP_COMPUTER_COOLERS_AND_FANS  "
      ]
     },
     "execution_count": 8,
     "metadata": {},
     "output_type": "execute_result"
    }
   ],
   "source": [
    "labels = data['label']\n",
    "data.head()"
   ]
  },
  {
   "cell_type": "markdown",
   "metadata": {},
   "source": [
    "### Remove data from labels containing less then 10 examples:"
   ]
  },
  {
   "cell_type": "code",
   "execution_count": 9,
   "metadata": {},
   "outputs": [],
   "source": [
    "bytag = data.groupby('label').aggregate(np.count_nonzero)\n",
    "tags = bytag[bytag.utterance >= 10].index\n",
    "data = data[data['label'].isin(tags)]"
   ]
  },
  {
   "cell_type": "code",
   "execution_count": 10,
   "metadata": {},
   "outputs": [
    {
     "name": "stdout",
     "output_type": "stream",
     "text": [
      "                                    utterance\n",
      "label                                        \n",
      "CAR_SEAT_COVERS                          4711\n",
      "AUTOMOTIVE_SHIFT_LEVER_KNOBS             4689\n",
      "CAR_ANTENNAS                             4671\n",
      "FOOTBALL_SHIRTS                          4603\n",
      "SURVEILLANCE_CAMERAS                     4544\n",
      "VIDEO_GAMES                              4539\n",
      "WALLPAPERS                               4423\n",
      "WRISTWATCHES                             4378\n",
      "SUNGLASSES                               4375\n",
      "CARPETS                                  4284\n",
      "HANDBAGS                                 4250\n",
      "DOLLS                                    4214\n",
      "BOOKS                                    4169\n",
      "LIGHT_BULBS                              4146\n",
      "RAM_MEMORY_MODULES                       4109\n",
      "JACKETS_AND_COATS                        4073\n",
      "MOBILE_DEVICE_CHARGERS                   4017\n",
      "ACTION_FIGURES                           4001\n",
      "PANTS                                    3995\n",
      "COMPUTER_PROCESSORS                      3970\n",
      "AUTOMOTIVE_WEATHERSTRIPS                 3941\n",
      "ELECTRIC_GUITARS                         3890\n",
      "DIGITAL_VOICE_RECORDERS                  3871\n",
      "ENGINE_OILS                              3849\n",
      "MUSICAL_KEYBOARD_CASES_AND_BAGS          3797\n",
      "T_SHIRTS                                 3708\n",
      "FISHING_REELS                            3698\n",
      "EYESHADOWS                               3689\n",
      "AUTOMOTIVE_SIDE_VIEW_MIRRORS             3683\n",
      "FOOTBALL_SHOES                           3668\n",
      "...                                       ...\n",
      "TENNIS_BALLS                               13\n",
      "HAND_BLENDERS                              13\n",
      "SELF_TANNERS                               13\n",
      "RICE                                       13\n",
      "AUTOMOTIVE_BUMPER_GRILLES                  13\n",
      "SODS                                       13\n",
      "CAMERA_STRAPS                              13\n",
      "ENGINE_OIL_PRESSURE_SENSORS                13\n",
      "TURNTABLE_NEEDLES                          13\n",
      "MEAT_HOOKS                                 12\n",
      "STABILIZERS_AND_UPS                        12\n",
      "DIGITAL_WEATHER_STATIONS                   12\n",
      "SHIN_GUARDS                                12\n",
      "SANDWICH_MAKERS                            12\n",
      "DRIED_FRUITS                               12\n",
      "BOXING_HEADGEARS                           12\n",
      "READY_TO_DRINK_COCKTAILS                   12\n",
      "NECK_GAITERS_MASKS_AND_BALACLAVAS          11\n",
      "COUNTERFEIT_MONEY_DETECTOR_MACHINE         11\n",
      "DOORBELLS                                  11\n",
      "SWIMMING_EARPLUGS                          11\n",
      "CAR_FRONT_MASKS                            11\n",
      "STYLING_CHAIRS                             10\n",
      "TABLE_TENNIS_BALLS                         10\n",
      "DOG_NAIL_CLIPPERS                          10\n",
      "TOOTHBRUSH_HOLDERS                         10\n",
      "BASKET_BALLS                               10\n",
      "SWIMMING_NOSE_CLIPS                        10\n",
      "DENTAL_FLOSSES                             10\n",
      "BINDING_SPINES                             10\n",
      "\n",
      "[1048 rows x 1 columns]\n"
     ]
    }
   ],
   "source": [
    "bytag = data.groupby('label').aggregate(np.count_nonzero)\n",
    "print(bytag.sort_values(by='utterance', ascending=False))"
   ]
  },
  {
   "cell_type": "code",
   "execution_count": 11,
   "metadata": {},
   "outputs": [
    {
     "data": {
      "text/plain": [
       "<matplotlib.legend.Legend at 0x7f64fae98b38>"
      ]
     },
     "execution_count": 11,
     "metadata": {},
     "output_type": "execute_result"
    },
    {
     "data": {
      "image/png": "[encoded data removed]",
      "text/plain": [
       "<Figure size 576x288 with 1 Axes>"
      ]
     },
     "metadata": {
      "needs_background": "light"
     },
     "output_type": "display_data"
    }
   ],
   "source": [
    "largest_qtys = [4711,4689,4671,4603,4544] \n",
    "smallest_qtys = [10,10,10,10,10]\n",
    "index = [1,2,3,4,5]\n",
    "df2 = pd.DataFrame({'largest': largest_qtys, 'smallest': smallest_qtys}, index = index)\n",
    "ax = df2.plot.bar(figsize=(8,4),rot=0)\n",
    "x_offset = 0\n",
    "y_offset = 0.2\n",
    "for p in ax.patches:\n",
    "    b = p.get_bbox()\n",
    "    val = \"{:.0f}\".format(b.y1 + b.y0)        \n",
    "    ax.annotate(val, ((b.x0 + b.x1)/2 + x_offset, b.y1 + y_offset))\n",
    "ax.legend(loc=5)  "
   ]
  },
  {
   "cell_type": "markdown",
   "metadata": {},
   "source": [
    "### Splits dataset into train, test and validation sets"
   ]
  },
  {
   "cell_type": "code",
   "execution_count": 13,
   "metadata": {},
   "outputs": [],
   "source": [
    "train_posts, test_posts, train_tags, test_tags = train_test_split(data['utterance'], data['label'],\n",
    "                                                    stratify=data['label'], shuffle=True,\n",
    "                                                    test_size=0.20)\n",
    "\n",
    "train_posts, val_posts, train_tags, val_tags = train_test_split(train_posts, train_tags,\n",
    "                                                    stratify=train_tags, shuffle=True,\n",
    "                                                    test_size=0.10)\n",
    "\n"
   ]
  },
  {
   "cell_type": "code",
   "execution_count": 14,
   "metadata": {},
   "outputs": [],
   "source": [
    "train_posts = train_posts.values.reshape(train_posts.shape[0], 1)\n",
    "val_posts = val_posts.values.reshape(val_posts.shape[0], 1)\n",
    "test_posts = test_posts.values.reshape(test_posts.shape[0], 1)\n",
    "\n",
    "train_tags = train_tags.values.reshape(train_tags.shape[0], 1)\n",
    "val_tags = val_tags.values.reshape(val_tags.shape[0], 1)\n",
    "test_tags = test_tags.values.reshape(test_tags.shape[0], 1)\n",
    "\n",
    "train_dataset = np.hstack([train_posts, train_tags])\n",
    "val_dataset = np.hstack([val_posts, val_tags])\n",
    "test_dataset = np.hstack([test_posts, test_tags])"
   ]
  },
  {
   "cell_type": "code",
   "execution_count": 15,
   "metadata": {},
   "outputs": [
    {
     "name": "stdout",
     "output_type": "stream",
     "text": [
      "train_posts shape: (498780, 1)\n",
      "train_tags shape: (498780, 1)\n",
      "val_posts shape: (55420, 1)\n",
      "val_tags shape: (55420, 1)\n",
      "test_posts shape: (138551, 1)\n",
      "test_tags shape: (138551, 1)\n",
      "train_dataset shape: (498780, 2)\n",
      "val_dataset shape: (55420, 2)\n",
      "test_dataset shape: (138551, 2)\n"
     ]
    }
   ],
   "source": [
    "print('train_posts shape: ' + str(train_posts.shape))\n",
    "print('train_tags shape: ' + str(train_posts.shape))\n",
    "print('val_posts shape: ' + str(val_posts.shape))\n",
    "print('val_tags shape: ' + str(val_posts.shape))\n",
    "print('test_posts shape: ' + str(test_posts.shape))\n",
    "print('test_tags shape: ' + str(test_tags.shape))\n",
    "print('train_dataset shape: ' + str(train_dataset.shape))\n",
    "print('val_dataset shape: ' + str(val_dataset.shape))\n",
    "print('test_dataset shape: ' + str(test_dataset.shape))"
   ]
  },
  {
   "cell_type": "code",
   "execution_count": 16,
   "metadata": {},
   "outputs": [],
   "source": [
    "np.savetxt(TRAIN_DATASET, train_dataset,fmt=\"%s\", delimiter=\",\")\n",
    "np.savetxt(VAL_DATASET, val_dataset,fmt=\"%s\", delimiter=\",\")\n",
    "np.savetxt(TEST_DATASET, test_dataset,fmt=\"%s\", delimiter=\",\")"
   ]
  },
  {
   "cell_type": "markdown",
   "metadata": {},
   "source": [
    "###  Sentence size (token number) distribution"
   ]
  },
  {
   "cell_type": "code",
   "execution_count": 18,
   "metadata": {},
   "outputs": [
    {
     "name": "stderr",
     "output_type": "stream",
     "text": [
      "No handles with labels found to put in legend.\n"
     ]
    },
    {
     "data": {
      "image/png": "[encoded data removed]",
      "text/plain": [
       "<Figure size 432x288 with 1 Axes>"
      ]
     },
     "metadata": {},
     "output_type": "display_data"
    }
   ],
   "source": [
    "def getSentenceLen(str):\n",
    "    import re\n",
    "    try:\n",
    "        return len(re.findall(r'\\w+', str))\n",
    "    except:\n",
    "        return 0\n",
    "    \n",
    "sns.set_style(\"whitegrid\")\n",
    "length_checker = np.vectorize(getSentenceLen) \n",
    "sentence_len = length_checker(train_posts) \n",
    "sns.distplot(sentence_len,bins= 20, hist=True, kde=False, color='b')\n",
    "#plt.axvline(x=max_seq_len, color='k', linestyle='--', label='max len')\n",
    "plt.title('sentence length'); plt.legend()\n",
    "plt.show()\n"
   ]
  },
  {
   "cell_type": "code",
   "execution_count": 19,
   "metadata": {},
   "outputs": [
    {
     "name": "stdout",
     "output_type": "stream",
     "text": [
      "max seq len  20\n",
      "mean  8.300996431292353\n",
      "std dev  2.2333729691447424\n"
     ]
    }
   ],
   "source": [
    "print('max seq len ', sentence_len.max())\n",
    "print('mean ', sentence_len.mean())\n",
    "print('std dev ', sentence_len.std())"
   ]
  },
  {
   "cell_type": "code",
   "execution_count": null,
   "metadata": {},
   "outputs": [],
   "source": []
  }
 ],
 "metadata": {
  "kernelspec": {
   "display_name": "Python 3",
   "language": "python",
   "name": "python3"
  },
  "language_info": {
   "codemirror_mode": {
    "name": "ipython",
    "version": 3
   },
   "file_extension": ".py",
   "mimetype": "text/x-python",
   "name": "python",
   "nbconvert_exporter": "python",
   "pygments_lexer": "ipython3",
   "version": "3.6.8"
  }
 },
 "nbformat": 4,
 "nbformat_minor": 2
}
