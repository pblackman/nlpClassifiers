{
 "cells": [
  {
   "cell_type": "code",
   "execution_count": 1,
   "metadata": {},
   "outputs": [],
   "source": [
    "from __future__ import absolute_import\n",
    "from __future__ import division\n",
    "from __future__ import print_function"
   ]
  },
  {
   "cell_type": "code",
   "execution_count": 2,
   "metadata": {},
   "outputs": [],
   "source": [
    "%load_ext autoreload\n",
    "%autoreload 2\n",
    "from fastai import *\n",
    "from fastai.text import * \n",
    "from fastai.callbacks import *\n",
    "import pandas as pd\n",
    "from tqdm import tnrange, tqdm_notebook"
   ]
  },
  {
   "cell_type": "code",
   "execution_count": 3,
   "metadata": {},
   "outputs": [
    {
     "name": "stdout",
     "output_type": "stream",
     "text": [
      "Devices available:  8\n",
      "Set device:  4\n",
      "Current device:  4\n"
     ]
    }
   ],
   "source": [
    "# See how many devices are around\n",
    "print('Devices available: ', torch.cuda.device_count())\n",
    "# Set it to a particular device\n",
    "CUDA_DEVICE = 4\n",
    "print('Set device: ', CUDA_DEVICE)\n",
    "torch.cuda.set_device(CUDA_DEVICE)\n",
    "# Check which device you are on\n",
    "print('Current device: ', torch.cuda.current_device())"
   ]
  },
  {
   "cell_type": "code",
   "execution_count": 4,
   "metadata": {},
   "outputs": [],
   "source": [
    "DATA_PATH = '../../data/virtual-operator'\n",
    "TRAIN_DATASET = os.path.join(DATA_PATH, 'train.csv')\n",
    "VAL_DATASET = os.path.join(DATA_PATH, 'val.csv')\n",
    "TEST_DATASET  = os.path.join(DATA_PATH, 'test.csv')"
   ]
  },
  {
   "cell_type": "code",
   "execution_count": 5,
   "metadata": {},
   "outputs": [],
   "source": [
    "LM_PATH=Path('../../models/ulmfit/lm/virtual-operator')\n",
    "LM_PATH.mkdir(exist_ok=True)"
   ]
  },
  {
   "cell_type": "code",
   "execution_count": 6,
   "metadata": {},
   "outputs": [],
   "source": [
    "def read_data(filename):\n",
    "    data = pd.read_csv(filename, sep=\";\", names =['utterance','label'], header=None, dtype={'utterance':str, 'label': str} )\n",
    "    return data"
   ]
  },
  {
   "cell_type": "code",
   "execution_count": 7,
   "metadata": {},
   "outputs": [],
   "source": [
    "train_dataset = read_data(TRAIN_DATASET).dropna()\n",
    "val_dataset = read_data(VAL_DATASET).dropna()\n",
    "test_dataset = read_data(TEST_DATASET).dropna()"
   ]
  },
  {
   "cell_type": "code",
   "execution_count": 8,
   "metadata": {},
   "outputs": [],
   "source": [
    "tokenizer = Tokenizer(lang='pt', n_cpus=10)"
   ]
  },
  {
   "cell_type": "code",
   "execution_count": 9,
   "metadata": {},
   "outputs": [],
   "source": [
    "data_lm = TextLMDataBunch.from_df(LM_PATH, train_df = train_dataset, valid_df = val_dataset,  bs=128, text_cols=0)"
   ]
  },
  {
   "cell_type": "code",
   "execution_count": 10,
   "metadata": {},
   "outputs": [],
   "source": [
    "data_lm.save('data_lm_virtual_operator')"
   ]
  },
  {
   "cell_type": "code",
   "execution_count": 11,
   "metadata": {},
   "outputs": [],
   "source": [
    "data_lm = load_data(LM_PATH, 'data_lm_virtual_operator', bs=64)"
   ]
  },
  {
   "cell_type": "code",
   "execution_count": 12,
   "metadata": {},
   "outputs": [],
   "source": [
    "weights_pretrained = 'wiki_pt_lm_30k_step4'\n",
    "itos_pretrained = 'wiki_pt_lm_30k_itos_vocab'\n",
    "pretained_data = (weights_pretrained, itos_pretrained)"
   ]
  },
  {
   "cell_type": "code",
   "execution_count": 13,
   "metadata": {},
   "outputs": [],
   "source": [
    "learn = language_model_learner(data_lm, AWD_LSTM, pretrained_fnames=pretained_data, pretrained=False, drop_mult=0, callback_fns=ShowGraph)\n",
    "learn.freeze()"
   ]
  },
  {
   "cell_type": "code",
   "execution_count": 14,
   "metadata": {},
   "outputs": [
    {
     "data": {
      "text/html": [],
      "text/plain": [
       "<IPython.core.display.HTML object>"
      ]
     },
     "metadata": {},
     "output_type": "display_data"
    },
    {
     "name": "stdout",
     "output_type": "stream",
     "text": [
      "LR Finder is complete, type {learner_name}.recorder.plot() to see the graph.\n",
      "Min numerical gradient: 6.92E-02\n"
     ]
    },
    {
     "data": {
      "image/png": "[encoded data removed]",
      "text/plain": [
       "<Figure size 432x288 with 1 Axes>"
      ]
     },
     "metadata": {
      "needs_background": "light"
     },
     "output_type": "display_data"
    }
   ],
   "source": [
    "learn.lr_find()\n",
    "learn.recorder.plot(suggestion=True, skip_start=0)"
   ]
  },
  {
   "cell_type": "code",
   "execution_count": 15,
   "metadata": {},
   "outputs": [
    {
     "data": {
      "text/html": [
       "<table border=\"1\" class=\"dataframe\">\n",
       "  <thead>\n",
       "    <tr style=\"text-align: left;\">\n",
       "      <th>epoch</th>\n",
       "      <th>train_loss</th>\n",
       "      <th>valid_loss</th>\n",
       "      <th>accuracy</th>\n",
       "      <th>time</th>\n",
       "    </tr>\n",
       "  </thead>\n",
       "  <tbody>\n",
       "    <tr>\n",
       "      <td>0</td>\n",
       "      <td>3.140265</td>\n",
       "      <td>3.114724</td>\n",
       "      <td>0.366938</td>\n",
       "      <td>01:46</td>\n",
       "    </tr>\n",
       "    <tr>\n",
       "      <td>1</td>\n",
       "      <td>3.102388</td>\n",
       "      <td>3.088475</td>\n",
       "      <td>0.371138</td>\n",
       "      <td>01:45</td>\n",
       "    </tr>\n",
       "    <tr>\n",
       "      <td>2</td>\n",
       "      <td>3.024431</td>\n",
       "      <td>3.035418</td>\n",
       "      <td>0.376833</td>\n",
       "      <td>01:45</td>\n",
       "    </tr>\n",
       "    <tr>\n",
       "      <td>3</td>\n",
       "      <td>2.911459</td>\n",
       "      <td>2.980243</td>\n",
       "      <td>0.383196</td>\n",
       "      <td>01:45</td>\n",
       "    </tr>\n",
       "    <tr>\n",
       "      <td>4</td>\n",
       "      <td>2.832967</td>\n",
       "      <td>2.966908</td>\n",
       "      <td>0.385350</td>\n",
       "      <td>01:45</td>\n",
       "    </tr>\n",
       "  </tbody>\n",
       "</table>"
      ],
      "text/plain": [
       "<IPython.core.display.HTML object>"
      ]
     },
     "metadata": {},
     "output_type": "display_data"
    },
    {
     "data": {
      "image/png": "[encoded data removed]",
      "text/plain": [
       "<Figure size 432x288 with 1 Axes>"
      ]
     },
     "metadata": {},
     "output_type": "display_data"
    },
    {
     "name": "stdout",
     "output_type": "stream",
     "text": [
      "Better model found at epoch 0 with val_loss value: 3.1147239208221436.\n",
      "Better model found at epoch 1 with val_loss value: 3.088475227355957.\n",
      "Better model found at epoch 2 with val_loss value: 3.0354177951812744.\n",
      "Better model found at epoch 3 with val_loss value: 2.9802427291870117.\n",
      "Better model found at epoch 4 with val_loss value: 2.9669079780578613.\n"
     ]
    }
   ],
   "source": [
    "learn.fit_one_cycle(5, 3e-2, moms=(0.8,0.7),callbacks=[ShowGraph(learn), SaveModelCallback(learn, name='wikipt-30k-FT-virtual-operator-head-best')])"
   ]
  },
  {
   "cell_type": "code",
   "execution_count": null,
   "metadata": {},
   "outputs": [],
   "source": [
    "learn.purge()\n",
    "learn.load('wikipt-30k-FT-virtual-operator-head-best') "
   ]
  },
  {
   "cell_type": "code",
   "execution_count": 17,
   "metadata": {},
   "outputs": [
    {
     "data": {
      "text/html": [
       "<table border=\"1\" class=\"dataframe\">\n",
       "  <thead>\n",
       "    <tr style=\"text-align: left;\">\n",
       "      <th>epoch</th>\n",
       "      <th>train_loss</th>\n",
       "      <th>valid_loss</th>\n",
       "      <th>accuracy</th>\n",
       "      <th>time</th>\n",
       "    </tr>\n",
       "  </thead>\n",
       "  <tbody>\n",
       "    <tr>\n",
       "      <td>0</td>\n",
       "      <td>2.911391</td>\n",
       "      <td>2.949193</td>\n",
       "      <td>0.383257</td>\n",
       "      <td>02:08</td>\n",
       "    </tr>\n",
       "    <tr>\n",
       "      <td>1</td>\n",
       "      <td>2.882530</td>\n",
       "      <td>2.885931</td>\n",
       "      <td>0.393080</td>\n",
       "      <td>02:08</td>\n",
       "    </tr>\n",
       "    <tr>\n",
       "      <td>2</td>\n",
       "      <td>2.803784</td>\n",
       "      <td>2.840865</td>\n",
       "      <td>0.400626</td>\n",
       "      <td>02:09</td>\n",
       "    </tr>\n",
       "    <tr>\n",
       "      <td>3</td>\n",
       "      <td>2.629409</td>\n",
       "      <td>2.834233</td>\n",
       "      <td>0.402926</td>\n",
       "      <td>02:09</td>\n",
       "    </tr>\n",
       "    <tr>\n",
       "      <td>4</td>\n",
       "      <td>2.439624</td>\n",
       "      <td>2.895283</td>\n",
       "      <td>0.398791</td>\n",
       "      <td>02:09</td>\n",
       "    </tr>\n",
       "  </tbody>\n",
       "</table>"
      ],
      "text/plain": [
       "<IPython.core.display.HTML object>"
      ]
     },
     "metadata": {},
     "output_type": "display_data"
    },
    {
     "data": {
      "image/png": "[encoded data removed]",
      "text/plain": [
       "<Figure size 432x288 with 1 Axes>"
      ]
     },
     "metadata": {},
     "output_type": "display_data"
    },
    {
     "name": "stdout",
     "output_type": "stream",
     "text": [
      "Better model found at epoch 0 with val_loss value: 2.949193239212036.\n",
      "Better model found at epoch 1 with val_loss value: 2.8859314918518066.\n",
      "Better model found at epoch 2 with val_loss value: 2.840864658355713.\n",
      "Better model found at epoch 3 with val_loss value: 2.834233045578003.\n"
     ]
    }
   ],
   "source": [
    "learn.unfreeze()\n",
    "learn.fit_one_cycle(5, 8E-3, moms=(0.8,0.7), callbacks=[ShowGraph(learn), SaveModelCallback(learn, name='wikipt-30k-FT-virtual-operator-step2-best')])"
   ]
  },
  {
   "cell_type": "code",
   "execution_count": 21,
   "metadata": {},
   "outputs": [
    {
     "data": {
      "text/plain": [
       "17.02982127662944"
      ]
     },
     "execution_count": 21,
     "metadata": {},
     "output_type": "execute_result"
    }
   ],
   "source": [
    "np.exp(2.834966)"
   ]
  },
  {
   "cell_type": "code",
   "execution_count": null,
   "metadata": {},
   "outputs": [],
   "source": [
    "learn.purge()\n",
    "learn.load('wikipt-30k-FT-virtual-operator-step2-best')"
   ]
  },
  {
   "cell_type": "code",
   "execution_count": 31,
   "metadata": {},
   "outputs": [],
   "source": [
    "learn.save_encoder('wikipt-30k-FT-virtual-operator-encoder')"
   ]
  },
  {
   "cell_type": "code",
   "execution_count": 40,
   "metadata": {},
   "outputs": [],
   "source": [
    "!cp ../../models/ulmfit/lm/virtual-operator/models/wikipt-30k-FT-virtual-operator-encoder.pth models/"
   ]
  },
  {
   "cell_type": "code",
   "execution_count": 27,
   "metadata": {},
   "outputs": [
    {
     "data": {
      "text/plain": [
       "'o meu controle  remoto está com'"
      ]
     },
     "execution_count": 27,
     "metadata": {},
     "output_type": "execute_result"
    }
   ],
   "source": [
    "learn.predict('o meu controle ', 3)"
   ]
  },
  {
   "cell_type": "code",
   "execution_count": 10,
   "metadata": {},
   "outputs": [],
   "source": [
    "data_class = TextClasDataBunch.from_df(path = \"\", train_df = train_dataset, valid_df = val_dataset, test_df = test_dataset,  vocab=data_lm.train_ds.vocab,tokenizer=tokenizer, bs=128, text_cols=['utterance'], label_cols=['label'])"
   ]
  },
  {
   "cell_type": "code",
   "execution_count": 33,
   "metadata": {},
   "outputs": [
    {
     "name": "stderr",
     "output_type": "stream",
     "text": [
      "/opt/conda/envs/fastai/lib/python3.6/site-packages/fastai/datasets.py:164: YAMLLoadWarning: calling yaml.load() without Loader=... is deprecated, as the default Loader is unsafe. Please read https://msg.pyyaml.org/load for full details.\n",
      "  with open(fpath, 'r') as yaml_file: return yaml.load(yaml_file)\n"
     ]
    }
   ],
   "source": [
    "del data_lm\n",
    "learn = text_classifier_learner(data_class, AWD_LSTM, drop_mult=0.1, callback_fns=ShowGraph)\n",
    "learn.load_encoder('wikipt-30k-FT-virtual-operator-encoder')\n",
    "learn.freeze()"
   ]
  },
  {
   "cell_type": "code",
   "execution_count": 13,
   "metadata": {
    "scrolled": false
   },
   "outputs": [
    {
     "data": {
      "text/html": [],
      "text/plain": [
       "<IPython.core.display.HTML object>"
      ]
     },
     "metadata": {},
     "output_type": "display_data"
    },
    {
     "name": "stdout",
     "output_type": "stream",
     "text": [
      "LR Finder is complete, type {learner_name}.recorder.plot() to see the graph.\n",
      "Min numerical gradient: 2.75E-02\n"
     ]
    },
    {
     "data": {
      "image/png": "[encoded data removed]",
      "text/plain": [
       "<Figure size 432x288 with 1 Axes>"
      ]
     },
     "metadata": {
      "needs_background": "light"
     },
     "output_type": "display_data"
    }
   ],
   "source": [
    "learn.lr_find()\n",
    "learn.recorder.plot(suggestion=True, skip_start=0)"
   ]
  },
  {
   "cell_type": "code",
   "execution_count": 34,
   "metadata": {
    "scrolled": true
   },
   "outputs": [
    {
     "data": {
      "text/html": [
       "<table border=\"1\" class=\"dataframe\">\n",
       "  <thead>\n",
       "    <tr style=\"text-align: left;\">\n",
       "      <th>epoch</th>\n",
       "      <th>train_loss</th>\n",
       "      <th>valid_loss</th>\n",
       "      <th>accuracy</th>\n",
       "      <th>time</th>\n",
       "    </tr>\n",
       "  </thead>\n",
       "  <tbody>\n",
       "    <tr>\n",
       "      <td>0</td>\n",
       "      <td>0.781452</td>\n",
       "      <td>0.754268</td>\n",
       "      <td>0.807669</td>\n",
       "      <td>01:32</td>\n",
       "    </tr>\n",
       "    <tr>\n",
       "      <td>1</td>\n",
       "      <td>0.953700</td>\n",
       "      <td>0.861115</td>\n",
       "      <td>0.787032</td>\n",
       "      <td>01:32</td>\n",
       "    </tr>\n",
       "    <tr>\n",
       "      <td>2</td>\n",
       "      <td>1.139098</td>\n",
       "      <td>1.018328</td>\n",
       "      <td>0.749548</td>\n",
       "      <td>01:28</td>\n",
       "    </tr>\n",
       "    <tr>\n",
       "      <td>3</td>\n",
       "      <td>0.916615</td>\n",
       "      <td>0.971817</td>\n",
       "      <td>0.759287</td>\n",
       "      <td>01:32</td>\n",
       "    </tr>\n",
       "    <tr>\n",
       "      <td>4</td>\n",
       "      <td>1.052087</td>\n",
       "      <td>0.878420</td>\n",
       "      <td>0.783133</td>\n",
       "      <td>01:30</td>\n",
       "    </tr>\n",
       "    <tr>\n",
       "      <td>5</td>\n",
       "      <td>0.846761</td>\n",
       "      <td>0.801635</td>\n",
       "      <td>0.796119</td>\n",
       "      <td>01:28</td>\n",
       "    </tr>\n",
       "    <tr>\n",
       "      <td>6</td>\n",
       "      <td>0.756987</td>\n",
       "      <td>0.751871</td>\n",
       "      <td>0.803415</td>\n",
       "      <td>01:32</td>\n",
       "    </tr>\n",
       "    <tr>\n",
       "      <td>7</td>\n",
       "      <td>0.825176</td>\n",
       "      <td>0.618428</td>\n",
       "      <td>0.836347</td>\n",
       "      <td>01:26</td>\n",
       "    </tr>\n",
       "    <tr>\n",
       "      <td>8</td>\n",
       "      <td>0.616925</td>\n",
       "      <td>0.532365</td>\n",
       "      <td>0.855714</td>\n",
       "      <td>01:26</td>\n",
       "    </tr>\n",
       "    <tr>\n",
       "      <td>9</td>\n",
       "      <td>0.498579</td>\n",
       "      <td>0.507079</td>\n",
       "      <td>0.863401</td>\n",
       "      <td>01:26</td>\n",
       "    </tr>\n",
       "  </tbody>\n",
       "</table>"
      ],
      "text/plain": [
       "<IPython.core.display.HTML object>"
      ]
     },
     "metadata": {},
     "output_type": "display_data"
    },
    {
     "data": {
      "image/png": "[encoded data removed]",
      "text/plain": [
       "<Figure size 432x288 with 1 Axes>"
      ]
     },
     "metadata": {},
     "output_type": "display_data"
    },
    {
     "name": "stdout",
     "output_type": "stream",
     "text": [
      "Better model found at epoch 0 with val_loss value: 0.754267692565918.\n",
      "Better model found at epoch 6 with val_loss value: 0.7518711686134338.\n",
      "Better model found at epoch 7 with val_loss value: 0.6184276938438416.\n",
      "Better model found at epoch 8 with val_loss value: 0.532365083694458.\n",
      "Better model found at epoch 9 with val_loss value: 0.5070790648460388.\n"
     ]
    }
   ],
   "source": [
    "learn.fit_one_cycle(10, 1.20E-01, moms=(0.8,0.7), callbacks=[ShowGraph(learn), SaveModelCallback(learn, name='wikipt-30k-FT-virtual-operator-classifier-head-best')])"
   ]
  },
  {
   "cell_type": "code",
   "execution_count": null,
   "metadata": {},
   "outputs": [],
   "source": [
    "learn.load('wikipt-30k-FT-virtual-operator-classifier-head-best')"
   ]
  },
  {
   "cell_type": "code",
   "execution_count": 36,
   "metadata": {},
   "outputs": [
    {
     "data": {
      "text/html": [
       "<table border=\"1\" class=\"dataframe\">\n",
       "  <thead>\n",
       "    <tr style=\"text-align: left;\">\n",
       "      <th>epoch</th>\n",
       "      <th>train_loss</th>\n",
       "      <th>valid_loss</th>\n",
       "      <th>accuracy</th>\n",
       "      <th>time</th>\n",
       "    </tr>\n",
       "  </thead>\n",
       "  <tbody>\n",
       "    <tr>\n",
       "      <td>0</td>\n",
       "      <td>0.621542</td>\n",
       "      <td>1.230601</td>\n",
       "      <td>0.881388</td>\n",
       "      <td>01:48</td>\n",
       "    </tr>\n",
       "    <tr>\n",
       "      <td>1</td>\n",
       "      <td>0.327427</td>\n",
       "      <td>1.483630</td>\n",
       "      <td>0.924769</td>\n",
       "      <td>01:38</td>\n",
       "    </tr>\n",
       "  </tbody>\n",
       "</table>"
      ],
      "text/plain": [
       "<IPython.core.display.HTML object>"
      ]
     },
     "metadata": {},
     "output_type": "display_data"
    },
    {
     "data": {
      "image/png": "[encoded data removed]",
      "text/plain": [
       "<Figure size 432x288 with 1 Axes>"
      ]
     },
     "metadata": {},
     "output_type": "display_data"
    },
    {
     "name": "stdout",
     "output_type": "stream",
     "text": [
      "Better model found at epoch 0 with val_loss value: 1.2306005954742432.\n"
     ]
    }
   ],
   "source": [
    "learn.freeze_to(-2)\n",
    "learn.fit_one_cycle(2, slice(1e-1/(2.6**4),1e-1), moms=(0.8,0.7), callbacks=[ShowGraph(learn), SaveModelCallback(learn, name='wikipt-30k-FT-virtual-operator-classifier-step2')])\n"
   ]
  },
  {
   "cell_type": "code",
   "execution_count": null,
   "metadata": {},
   "outputs": [],
   "source": [
    "learn.load('wikipt-30k-FT-virtual-operator-classifier-step2')"
   ]
  },
  {
   "cell_type": "code",
   "execution_count": 38,
   "metadata": {},
   "outputs": [
    {
     "data": {
      "text/html": [
       "<table border=\"1\" class=\"dataframe\">\n",
       "  <thead>\n",
       "    <tr style=\"text-align: left;\">\n",
       "      <th>epoch</th>\n",
       "      <th>train_loss</th>\n",
       "      <th>valid_loss</th>\n",
       "      <th>accuracy</th>\n",
       "      <th>time</th>\n",
       "    </tr>\n",
       "  </thead>\n",
       "  <tbody>\n",
       "    <tr>\n",
       "      <td>0</td>\n",
       "      <td>0.477384</td>\n",
       "      <td>0.698441</td>\n",
       "      <td>0.903648</td>\n",
       "      <td>02:42</td>\n",
       "    </tr>\n",
       "    <tr>\n",
       "      <td>1</td>\n",
       "      <td>0.349925</td>\n",
       "      <td>0.317941</td>\n",
       "      <td>0.926169</td>\n",
       "      <td>02:44</td>\n",
       "    </tr>\n",
       "    <tr>\n",
       "      <td>2</td>\n",
       "      <td>0.223929</td>\n",
       "      <td>0.192863</td>\n",
       "      <td>0.954716</td>\n",
       "      <td>02:34</td>\n",
       "    </tr>\n",
       "    <tr>\n",
       "      <td>3</td>\n",
       "      <td>0.110455</td>\n",
       "      <td>0.151546</td>\n",
       "      <td>0.963206</td>\n",
       "      <td>02:29</td>\n",
       "    </tr>\n",
       "  </tbody>\n",
       "</table>"
      ],
      "text/plain": [
       "<IPython.core.display.HTML object>"
      ]
     },
     "metadata": {},
     "output_type": "display_data"
    },
    {
     "data": {
      "image/png": "[encoded data removed]",
      "text/plain": [
       "<Figure size 432x288 with 1 Axes>"
      ]
     },
     "metadata": {},
     "output_type": "display_data"
    },
    {
     "name": "stdout",
     "output_type": "stream",
     "text": [
      "Better model found at epoch 0 with val_loss value: 0.6984413862228394.\n",
      "Better model found at epoch 1 with val_loss value: 0.31794100999832153.\n",
      "Better model found at epoch 2 with val_loss value: 0.1928633153438568.\n",
      "Better model found at epoch 3 with val_loss value: 0.1515456885099411.\n"
     ]
    }
   ],
   "source": [
    "learn.freeze_to(-3)\n",
    "learn.fit_one_cycle(4, slice(5e-2/(2.6**4),5e-2), moms=(0.8,0.7), callbacks=[ShowGraph(learn), SaveModelCallback(learn, name='wikipt-30k-FT-virtual-operator-classifier-step3')])\n"
   ]
  },
  {
   "cell_type": "code",
   "execution_count": null,
   "metadata": {},
   "outputs": [],
   "source": [
    "learn.purge()"
   ]
  },
  {
   "cell_type": "code",
   "execution_count": null,
   "metadata": {},
   "outputs": [],
   "source": [
    "learn.load('wikipt-30k-FT-virtual-operator-classifier-step3')"
   ]
  },
  {
   "cell_type": "code",
   "execution_count": 40,
   "metadata": {},
   "outputs": [
    {
     "data": {
      "text/html": [
       "<table border=\"1\" class=\"dataframe\">\n",
       "  <thead>\n",
       "    <tr style=\"text-align: left;\">\n",
       "      <th>epoch</th>\n",
       "      <th>train_loss</th>\n",
       "      <th>valid_loss</th>\n",
       "      <th>accuracy</th>\n",
       "      <th>time</th>\n",
       "    </tr>\n",
       "  </thead>\n",
       "  <tbody>\n",
       "    <tr>\n",
       "      <td>0</td>\n",
       "      <td>0.081569</td>\n",
       "      <td>0.156163</td>\n",
       "      <td>0.963411</td>\n",
       "      <td>03:31</td>\n",
       "    </tr>\n",
       "    <tr>\n",
       "      <td>1</td>\n",
       "      <td>0.077102</td>\n",
       "      <td>0.156989</td>\n",
       "      <td>0.964250</td>\n",
       "      <td>03:31</td>\n",
       "    </tr>\n",
       "    <tr>\n",
       "      <td>2</td>\n",
       "      <td>0.077238</td>\n",
       "      <td>0.156249</td>\n",
       "      <td>0.964661</td>\n",
       "      <td>03:29</td>\n",
       "    </tr>\n",
       "    <tr>\n",
       "      <td>3</td>\n",
       "      <td>0.064843</td>\n",
       "      <td>0.161280</td>\n",
       "      <td>0.964624</td>\n",
       "      <td>03:25</td>\n",
       "    </tr>\n",
       "  </tbody>\n",
       "</table>"
      ],
      "text/plain": [
       "<IPython.core.display.HTML object>"
      ]
     },
     "metadata": {},
     "output_type": "display_data"
    },
    {
     "data": {
      "image/png": "[encoded data removed]",
      "text/plain": [
       "<Figure size 432x288 with 1 Axes>"
      ]
     },
     "metadata": {},
     "output_type": "display_data"
    },
    {
     "name": "stdout",
     "output_type": "stream",
     "text": [
      "Better model found at epoch 0 with val_loss value: 0.1561630815267563.\n"
     ]
    }
   ],
   "source": [
    "learn.unfreeze()\n",
    "learn.fit_one_cycle(4, slice(1e-3/(2.6**4),1e-3), moms=(0.8,0.7), callbacks=[ShowGraph(learn), SaveModelCallback(learn, name='wikipt-30k-FT-virtual-operator-classifier-step4')])"
   ]
  },
  {
   "cell_type": "code",
   "execution_count": null,
   "metadata": {},
   "outputs": [],
   "source": [
    "learn.load('wikipt-30k-FT-virtual-operator-classifier-step4')"
   ]
  },
  {
   "cell_type": "code",
   "execution_count": 53,
   "metadata": {},
   "outputs": [],
   "source": [
    "y = []\n",
    "for item in test_dataset.itertuples():\n",
    "    label = item[2]\n",
    "    label_id = learn.data.classes.index(label)\n",
    "    y.append(label_id)"
   ]
  },
  {
   "cell_type": "code",
   "execution_count": 47,
   "metadata": {},
   "outputs": [],
   "source": [
    "preds_test = learn.get_preds(ds_type = DatasetType.Test, ordered=True)"
   ]
  },
  {
   "cell_type": "code",
   "execution_count": 48,
   "metadata": {},
   "outputs": [],
   "source": [
    "y_hat = torch.argmax(preds_test[0], dim=1)"
   ]
  },
  {
   "cell_type": "code",
   "execution_count": 56,
   "metadata": {},
   "outputs": [
    {
     "name": "stdout",
     "output_type": "stream",
     "text": [
      "                                                                  precision    recall  f1-score   support\n",
      "\n",
      "                     Sintomas.Genérico.Atualização de endereço G      0.974     0.974     0.974        76\n",
      "                          Sintomas.Genérico.Canal Globo não pega      0.737     0.773     0.754       304\n",
      "                           Sintomas.Genérico.Canal HD não pega G      0.933     0.944     0.939       697\n",
      "                     Sintomas.Genérico.Canal adulto não pega (G)      0.885     0.676     0.767        34\n",
      "                      Sintomas.Genérico.Canal comum não pega (G)      0.886     0.839     0.862      1200\n",
      "                                Sintomas.Genérico.Canal não pega      0.945     0.961     0.953      5967\n",
      "                       Sintomas.Genérico.Canal opcional não pega      0.824     0.865     0.844       222\n",
      "                                 Sintomas.Genérico.Canal travado      0.906     0.933     0.919       477\n",
      "                                    Sintomas.Genérico.Código sim      0.881     0.881     0.881        67\n",
      "                           Sintomas.Genérico.Entendimento errado      0.825     0.938     0.878       322\n",
      "                    Sintomas.Genérico.Equipamento não funciona G      0.966     0.967     0.967      2318\n",
      "                        Sintomas.Genérico.Equipamento quebrado G      0.965     0.967     0.966      1441\n",
      "                        Sintomas.Genérico.Equipamento queimado G      0.986     0.993     0.990      2106\n",
      "                           Sintomas.Genérico.Falar com atendente      0.988     0.988     0.988      8262\n",
      "                                    Sintomas.Genérico.Instalação      0.994     0.986     0.990       647\n",
      "                                       Sintomas.Genérico.Mudança      0.962     0.966     0.964       891\n",
      "                             Sintomas.Genérico.Mudança de antena      0.992     0.989     0.991       372\n",
      "                         Sintomas.Genérico.Mudança de endereço G      0.994     0.995     0.995      2501\n",
      "                         Sintomas.Genérico.Mudança de instalação      0.990     1.000     0.995        98\n",
      "                                       Sintomas.Genérico.Não sei      0.879     0.909     0.894       440\n",
      "                            Sintomas.Genérico.Problema Controle2      0.961     0.957     0.959      1661\n",
      "                            Sintomas.Genérico.Problema com canal      0.984     0.978     0.981      3547\n",
      "                   Sintomas.Genérico.Problema com closed caption      1.000     1.000     1.000         4\n",
      "                      Sintomas.Genérico.Problema com equipamento      0.990     0.989     0.989      9645\n",
      "                           Sintomas.Genérico.Problema com imagem      0.983     0.979     0.981      6605\n",
      "                          Sintomas.Genérico.Problema com legenda      0.977     0.992     0.984       252\n",
      "                            Sintomas.Genérico.Problema com senha      0.993     0.997     0.995       291\n",
      "                   Sintomas.Genérico.Problema com troca de canal      0.857     0.316     0.462        19\n",
      "                   Sintomas.Genérico.Problema com visita técnica      0.999     0.999     0.999      2193\n",
      "                            Sintomas.Genérico.Problema com áudio      0.966     0.957     0.962       301\n",
      "                            Sintomas.Genérico.Problema de antena      0.864     0.916     0.889        83\n",
      "                            Sintomas.Genérico.Promessa de oferta      0.000     0.000     0.000        13\n",
      "                                     Sintomas.Genérico.Sem sinal      0.971     0.975     0.973     14552\n",
      "                          Sintomas.Genérico.Sem sinal nem código      0.800     0.822     0.811       146\n",
      "                              Sintomas.Genérico.Sky não funciona      0.965     0.958     0.961      8357\n",
      "                            Sintomas.Genérico.Tela monocromática      0.909     0.802     0.852       187\n",
      "                       Sintomas.Genérico.Texto ou código na tela      0.915     0.909     0.912      1694\n",
      "                          Sintomas.Genérico.Troca de equipamento      0.980     0.975     0.978      3737\n",
      "                     Sintomas.Qualificado.Agendar visita técnica      0.970     0.908     0.938       316\n",
      "                              Sintomas.Qualificado.Alterar áudio      0.915     0.892     0.903       204\n",
      "                   Sintomas.Qualificado.Apenas imagem, sem áudio      0.941     0.943     0.942       562\n",
      "                             Sintomas.Qualificado.Aplicativo Sky      0.995     0.993     0.994       809\n",
      "                      Sintomas.Qualificado.Ativar closed caption      0.000     0.000     0.000         6\n",
      "            Sintomas.Qualificado.Atualização crítica de endereço      0.800     0.706     0.750        17\n",
      "                          Sintomas.Qualificado.Ausência de sinal      0.994     0.994     0.994     10158\n",
      "                       Sintomas.Qualificado.Ausência sinal geral      0.800     0.952     0.870        21\n",
      "                                Sintomas.Qualificado.Banda larga      0.963     0.966     0.965      2590\n",
      "                         Sintomas.Qualificado.Cabos e conectores      0.992     0.990     0.991      1558\n",
      "              Sintomas.Qualificado.Canal PPV não está disponível      0.961     0.963     0.962      1016\n",
      "                        Sintomas.Qualificado.Canal fora da grade      0.913     0.918     0.915       342\n",
      "                               Sintomas.Qualificado.Cancelamento      0.967     0.975     0.971      1847\n",
      "                               Sintomas.Qualificado.Cancelar Sky      0.889     0.640     0.744        50\n",
      "                        Sintomas.Qualificado.Chip do equipamento      0.947     0.978     0.963        92\n",
      "                         Sintomas.Qualificado.Cliente está longe      0.667     0.062     0.114        32\n",
      "             Sintomas.Qualificado.Controle não funciona para sky      0.784     0.784     0.784       125\n",
      "              Sintomas.Qualificado.Controle não funciona para tv      0.802     0.869     0.834       107\n",
      "                           Sintomas.Qualificado.Controle perdido      0.958     0.971     0.964       306\n",
      "                          Sintomas.Qualificado.Controle quebrado      0.856     0.819     0.837       138\n",
      "                         Sintomas.Qualificado.Criar senha padrão      0.950     0.950     0.950        20\n",
      "                              Sintomas.Qualificado.Código 1-2-25      0.973     0.942     0.958       658\n",
      "                                 Sintomas.Qualificado.Código 109      0.969     1.000     0.984        93\n",
      "                                  Sintomas.Qualificado.Código 13      0.955     0.913     0.933        23\n",
      "                                  Sintomas.Qualificado.Código 14      0.965     1.000     0.982       111\n",
      "                                  Sintomas.Qualificado.Código 19      0.941     0.980     0.960        49\n",
      "                                   Sintomas.Qualificado.Código 4      0.951     0.951     0.951       980\n",
      "                                  Sintomas.Qualificado.Código 56      0.995     0.993     0.994       585\n",
      "                                   Sintomas.Qualificado.Código 6      0.927     0.948     0.937       905\n",
      "                                  Sintomas.Qualificado.Código 77      0.934     0.965     0.949      1094\n",
      "                                   Sintomas.Qualificado.Código 9      0.889     0.889     0.889         9\n",
      "                         Sintomas.Qualificado.Código diagnóstico      0.976     0.984     0.980       122\n",
      "                      Sintomas.Qualificado.Equipamento com ruído      0.909     0.952     0.930        21\n",
      "         Sintomas.Qualificado.Equipamento liga e desliga sozinho      0.960     0.943     0.951       455\n",
      "                       Sintomas.Qualificado.Equipamento não liga      0.983     0.974     0.978      1816\n",
      "                       Sintomas.Qualificado.Equipamento queimado      0.914     0.871     0.892       147\n",
      "                  Sintomas.Qualificado.Equipamento superaquecido      0.913     0.940     0.926        67\n",
      "                        Sintomas.Qualificado.Equipamento travado      0.821     0.688     0.749        93\n",
      "                        Sintomas.Qualificado.Evento indisponível      0.901     0.977     0.937       130\n",
      "                                   Sintomas.Qualificado.Gravação      0.971     0.958     0.964       997\n",
      "                        Sintomas.Qualificado.Guia de programação      0.978     0.983     0.980       409\n",
      "                 Sintomas.Qualificado.Habilitar recurso de senha      0.865     0.821     0.842        78\n",
      "                      Sintomas.Qualificado.Imagem preto e branco      0.902     0.874     0.888        95\n",
      "Sintomas.Qualificado.Informações e confirmação de visita técnica      0.968     0.957     0.962       910\n",
      "                        Sintomas.Qualificado.Irritação ou Anatel      0.983     0.980     0.982       950\n",
      "                          Sintomas.Qualificado.Legenda incorreta      0.812     0.867     0.839        30\n",
      "                Sintomas.Qualificado.Legenda não aparece na tela      0.938     0.871     0.904        70\n",
      "                      Sintomas.Qualificado.Lentidão trocar canal      0.667     0.500     0.571         8\n",
      "                    Sintomas.Qualificado.Msg carregando conteúdo      0.000     0.000     0.000         3\n",
      "                          Sintomas.Qualificado.Mudança de cômodo      0.979     0.958     0.969      1975\n",
      "                        Sintomas.Qualificado.Mudança de endereço      0.987     0.984     0.986      3343\n",
      "                  Sintomas.Qualificado.Mudança de posição antena      0.935     0.940     0.938       654\n",
      "                       Sintomas.Qualificado.Novo Controle Pedido      0.927     0.959     0.943       146\n",
      "                             Sintomas.Qualificado.Numeração nova      0.945     0.851     0.896       101\n",
      "                     Sintomas.Qualificado.NãoTéc ponto adicional      0.932     0.953     0.942      2049\n",
      "                           Sintomas.Qualificado.NãoTéc sky livre      0.900     0.992     0.944       127\n",
      "                          Sintomas.Qualificado.NãoTéc upgrade hd      0.905     0.952     0.928       419\n",
      "                            Sintomas.Qualificado.NãoTéc_cadastro      0.884     0.914     0.899       292\n",
      "                              Sintomas.Qualificado.NãoTéc_compra      0.918     0.868     0.892       129\n",
      "                              Sintomas.Qualificado.NãoTéc_fatura      0.943     0.932     0.937      1451\n",
      "                              Sintomas.Qualificado.NãoTéc_outros      0.955     0.801     0.871       186\n",
      "                               Sintomas.Qualificado.NãoTéc_plano      0.877     0.895     0.886      1683\n",
      "                               Sintomas.Qualificado.Número da OS      0.000     0.000     0.000         2\n",
      "                           Sintomas.Qualificado.Outros problemas      0.907     0.853     0.879       729\n",
      "                      Sintomas.Qualificado.Priorizar atendimento      0.950     0.963     0.956      1140\n",
      "                              Sintomas.Qualificado.Problema tudo      0.951     0.931     0.941       145\n",
      "    Sintomas.Qualificado.Procurando sinal sintonizador terrestre      0.833     0.968     0.896        31\n",
      "                          Sintomas.Qualificado.Programação local      0.927     0.934     0.931       380\n",
      "                       Sintomas.Qualificado.Reativar programação      0.952     1.000     0.976        60\n",
      "                                    Sintomas.Qualificado.Recarga      0.634     0.963     0.765        27\n",
      "                      Sintomas.Qualificado.Reset de senha padrão      0.917     0.861     0.888       115\n",
      "                Sintomas.Qualificado.Resolvido com sinal booster      0.870     0.887     0.879       212\n",
      "                             Sintomas.Qualificado.Senha - padrão      0.884     0.892     0.888       120\n",
      "                                 Sintomas.Qualificado.Sky Online      0.956     0.955     0.955      1926\n",
      "                      Sintomas.Qualificado.TV é HD, mas Sky é SD      0.936     0.933     0.935       268\n",
      "                                  Sintomas.Qualificado.Tela azul      0.838     0.925     0.879       134\n",
      "                          Sintomas.Qualificado.Tela com chuvisco      0.843     0.893     0.867       234\n",
      "                                 Sintomas.Qualificado.Tela preta      0.941     0.894     0.917       861\n",
      "                         Sintomas.Qualificado.Travado exceto 200      0.600     0.706     0.649        17\n",
      "                Sintomas.Qualificado.Travado no canal do cliente      0.847     0.927     0.885       506\n",
      "                       Sintomas.Qualificado.Técnico não resolveu      0.627     0.516     0.566        91\n",
      "                           Sintomas.Qualificado.Técnico não veio      0.946     0.962     0.954      1474\n",
      "                             Sintomas.Qualificado.Áudio atrasado      0.000     0.000     0.000         6\n",
      "\n",
      "                                                       micro avg      0.965     0.965     0.965    133986\n",
      "                                                       macro avg      0.877     0.868     0.868    133986\n",
      "                                                    weighted avg      0.965     0.965     0.965    133986\n",
      "\n"
     ]
    }
   ],
   "source": [
    "from sklearn.metrics import classification_report\n",
    "print(classification_report(y, y_hat, target_names=learn.data.classes, digits=3))"
   ]
  },
  {
   "cell_type": "code",
   "execution_count": null,
   "metadata": {},
   "outputs": [],
   "source": []
  }
 ],
 "metadata": {
  "kernelspec": {
   "display_name": "Python 3",
   "language": "python",
   "name": "python3"
  },
  "language_info": {
   "codemirror_mode": {
    "name": "ipython",
    "version": 3
   },
   "file_extension": ".py",
   "mimetype": "text/x-python",
   "name": "python",
   "nbconvert_exporter": "python",
   "pygments_lexer": "ipython3",
   "version": "3.6.9"
  }
 },
 "nbformat": 4,
 "nbformat_minor": 2
}
