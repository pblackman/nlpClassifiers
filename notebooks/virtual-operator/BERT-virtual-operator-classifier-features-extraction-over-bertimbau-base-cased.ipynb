{
 "cells": [
  {
   "cell_type": "markdown",
   "metadata": {},
   "source": [
    "#### Based on https://medium.com/swlh/painless-fine-tuning-of-bert-in-pytorch-b91c14912caa\n",
    "https://github.com/aniruddhachoudhury/BERT-Tutorials/blob/master/Blog%202/BERT_Fine_Tuning_Sentence_Classification.ipynb"
   ]
  },
  {
   "cell_type": "code",
   "execution_count": 1,
   "metadata": {},
   "outputs": [],
   "source": [
    "%load_ext autoreload\n",
    "%autoreload 2"
   ]
  },
  {
   "cell_type": "code",
   "execution_count": 2,
   "metadata": {},
   "outputs": [
    {
     "name": "stderr",
     "output_type": "stream",
     "text": [
      "\u001b[34m\u001b[1mwandb\u001b[0m: \u001b[33mWARNING\u001b[0m W&B installed but not logged in.  Run `wandb login` or set the WANDB_API_KEY env variable.\n"
     ]
    }
   ],
   "source": [
    "import matplotlib.pyplot as plt\n",
    "import torch.nn as nn\n",
    "from os.path import join\n",
    "import torch\n",
    "from nlpClassifiers.data.dataset  import NLPDataset\n",
    "from nlpClassifiers.models.models import BertSentenceFeaturesModel\n",
    "#from torch.optim import AdamW, SGD\n",
    "from torch.utils.data import DataLoader, SequentialSampler, RandomSampler\n",
    "from transformers import BertForSequenceClassification, AdamW, BertConfig\n",
    "from transformers import get_linear_schedule_with_warmup\n",
    "from torch.nn import LayerNorm as BertLayerNorm\n",
    "import numpy as np\n",
    "import time\n",
    "import logging\n",
    "import datetime\n",
    "import random\n",
    "import pandas as pd\n",
    "import argparse\n",
    "import pickle as pk\n",
    "import itertools\n",
    "import os\n",
    "import shutil\n",
    "from pathlib import Path\n",
    "import copy\n",
    "import wandb\n",
    "import re\n",
    "from nlpClassifiers import settings\n",
    "from scipy.special import expit\n",
    "from sklearn.metrics import classification_report"
   ]
  },
  {
   "cell_type": "code",
   "execution_count": 3,
   "metadata": {},
   "outputs": [],
   "source": [
    "def predict(\n",
    "    model_path: Path,\n",
    "    dataset: str,\n",
    "    batch_size: int,\n",
    "    labels_dict,\n",
    "    device: torch.device\n",
    "):\n",
    "\n",
    "    print(f\"====Loading dataset for testing\")\n",
    "    test_corpus = NLPDataset(dataset, \"test\", sentence_max_len, bert_path, labels_dict)\n",
    "    test_dataloader = DataLoader(\n",
    "        test_corpus,\n",
    "        batch_size=batch_size,\n",
    "        sampler = RandomSampler(test_corpus),\n",
    "        pin_memory=True,\n",
    "        num_workers=0,\n",
    "        drop_last=True\n",
    "    )\n",
    "\n",
    "    print(f\"====Loading model for testing\")\n",
    "    model = torch.load(join(model_path, \"best-model.pth\"))\n",
    "    model.to(device)\n",
    "    model.eval()\n",
    "    pred_labels = []\n",
    "    test_labels = []\n",
    "    logits_list = []\n",
    "\n",
    "    def _list_from_tensor(tensor):\n",
    "        if tensor.numel() == 1:\n",
    "            return [tensor.item()]\n",
    "        return list(tensor.cpu().detach().numpy())\n",
    "\n",
    "    print(\"====Testing model...\")\n",
    "    for batch in test_dataloader:\n",
    "        batch = tuple(t.to(device) for t in batch)\n",
    "        b_input_ids, b_segment_ids, b_input_mask, b_labels = batch\n",
    "        with torch.no_grad():\n",
    "            loss, logits= model(b_input_ids,  b_segment_ids, b_labels)\n",
    "            preds = np.argmax(logits.cpu(), axis=1) # Convert one-hot to index\n",
    "            b_labels = b_labels.int()\n",
    "            pred_labels.extend(_list_from_tensor(preds))\n",
    "            test_labels.extend(_list_from_tensor(b_labels))\n",
    "        logits_list.extend(_list_from_tensor(logits))\n",
    "\n",
    "    print(classification_report(test_labels, pred_labels, labels=list(labels_dict.values()), target_names=np.array(list(labels_dict.keys())), digits=3))\n",
    "    logits_list = expit(logits_list)\n",
    "\n",
    "    del model\n",
    "    torch.cuda.empty_cache()\n",
    "\n"
   ]
  },
  {
   "cell_type": "code",
   "execution_count": 4,
   "metadata": {},
   "outputs": [],
   "source": [
    "def get_accuracy_from_logits(logits, labels):\n",
    "    acc = (labels.cpu() == logits.cpu().argmax(-1)).float().detach().numpy()\n",
    "    return float(100 * acc.sum() / len(acc))"
   ]
  },
  {
   "cell_type": "code",
   "execution_count": 5,
   "metadata": {},
   "outputs": [],
   "source": [
    "DATA_PATH = '../../data/virtual-operator'\n",
    "MODELS_PATH = '../../models/virtual-operator/bert-base-portuguese-tapt-classifier/'\n",
    "PATH_TO_BERT = '../../models/virtual-operator/bertimbau-adaptive-base-finetuned/'\n",
    "TRAIN_DATASET = os.path.join(DATA_PATH, 'train.csv')\n",
    "VAL_DATASET = os.path.join(DATA_PATH, 'val.csv')\n",
    "TEST_DATASET  = os.path.join(DATA_PATH, 'test.csv')\n",
    "PATH_TO_VIRTUAL_OPERATOR_MODELS =  \"../../models/virtual-operator\"\n",
    "PATH_TO_AGENT_BENCHMARK_MODELS = \"../../models/agent-benchmark\"\n",
    "PATH_TO_ML_PT_MODELS = \"../../models/mercado-livre-pt-only\""
   ]
  },
  {
   "cell_type": "code",
   "execution_count": 6,
   "metadata": {},
   "outputs": [],
   "source": [
    "gpu = 0\n",
    "dataset = 'virtual-operator'\n",
    "save_name = 'bert-features-classifier-cls-virtual-operator'\n",
    "bert_path = 'neuralmind/bert-base-portuguese-cased'\n",
    "batch_size = 16\n",
    "sentence_max_len = 30"
   ]
  },
  {
   "cell_type": "code",
   "execution_count": 7,
   "metadata": {},
   "outputs": [],
   "source": [
    "BASE_PATH_TO_MODELS = {\"virtual-operator\": PATH_TO_VIRTUAL_OPERATOR_MODELS, \"agent-benchmark\": PATH_TO_AGENT_BENCHMARK_MODELS, \"mercado-livre-pt\": PATH_TO_ML_PT_MODELS}\n",
    "FULL_PATH_TO_MODELS = join(BASE_PATH_TO_MODELS[dataset], \"bert-base-portuguese-tapt-classifier\")"
   ]
  },
  {
   "cell_type": "code",
   "execution_count": 8,
   "metadata": {},
   "outputs": [],
   "source": [
    "device = torch.device(f\"cuda:{gpu}\")\n"
   ]
  },
  {
   "cell_type": "code",
   "execution_count": 9,
   "metadata": {},
   "outputs": [],
   "source": [
    "model_path = Path(\n",
    "    FULL_PATH_TO_MODELS, \n",
    "    f\"base-dataset-{dataset}-{save_name}\"\n",
    ")\n",
    "last_saved_model = model_path"
   ]
  },
  {
   "cell_type": "code",
   "execution_count": 10,
   "metadata": {},
   "outputs": [],
   "source": [
    "train_corpus = NLPDataset(dataset, \"train\", sentence_max_len, bert_path)\n",
    "labels_dict = train_corpus.labels_dict"
   ]
  },
  {
   "cell_type": "code",
   "execution_count": 11,
   "metadata": {},
   "outputs": [
    {
     "name": "stdout",
     "output_type": "stream",
     "text": [
      "====Loading dataset for testing\n",
      "====Loading model for testing\n",
      "====Testing model...\n"
     ]
    },
    {
     "name": "stderr",
     "output_type": "stream",
     "text": [
      "/usr/local/lib/python3.6/dist-packages/sklearn/metrics/_classification.py:1221: UndefinedMetricWarning: Precision and F-score are ill-defined and being set to 0.0 in labels with no predicted samples. Use `zero_division` parameter to control this behavior.\n",
      "  _warn_prf(average, modifier, msg_start, len(result))\n"
     ]
    },
    {
     "name": "stdout",
     "output_type": "stream",
     "text": [
      "                                                                  precision    recall  f1-score   support\n",
      "\n",
      "                              Sintomas.Genérico.Sky não funciona      0.954     0.913     0.933      8357\n",
      "                                    Sintomas.Genérico.Instalação      0.985     0.985     0.985       647\n",
      "                                Sintomas.Genérico.Canal não pega      0.942     0.928     0.935      5967\n",
      "                    Sintomas.Genérico.Equipamento não funciona G      0.925     0.959     0.942      2318\n",
      "                                     Sintomas.Genérico.Sem sinal      0.969     0.948     0.958     14552\n",
      "                               Sintomas.Qualificado.Cancelamento      0.922     0.938     0.930      1847\n",
      "                           Sintomas.Qualificado.Outros problemas      0.818     0.830     0.824       729\n",
      "                              Sintomas.Qualificado.NãoTéc_fatura      0.891     0.854     0.872      1451\n",
      "                          Sintomas.Qualificado.Mudança de cômodo      0.925     0.981     0.952      1975\n",
      "                        Sintomas.Genérico.Equipamento queimado G      0.973     0.983     0.978      2106\n",
      "                      Sintomas.Genérico.Problema com equipamento      0.984     0.984     0.984      9645\n",
      "                        Sintomas.Genérico.Equipamento quebrado G      0.964     0.977     0.971      1441\n",
      "              Sintomas.Qualificado.Controle não funciona para tv      0.748     0.804     0.775       107\n",
      "                           Sintomas.Genérico.Falar com atendente      0.975     0.973     0.974      8262\n",
      "                            Sintomas.Genérico.Problema com canal      0.978     0.973     0.976      3546\n",
      "                       Sintomas.Qualificado.Técnico não resolveu      0.488     0.440     0.462        91\n",
      "                          Sintomas.Genérico.Troca de equipamento      0.965     0.967     0.966      3737\n",
      "                              Sintomas.Qualificado.NãoTéc_outros      0.837     0.828     0.832       186\n",
      "                                Sintomas.Qualificado.Banda larga      0.983     0.971     0.977      2590\n",
      "                                       Sintomas.Genérico.Mudança      0.971     0.972     0.971       891\n",
      "                          Sintomas.Qualificado.Ausência de sinal      0.989     0.979     0.984     10158\n",
      "                         Sintomas.Qualificado.Cabos e conectores      0.953     0.906     0.929      1558\n",
      "                           Sintomas.Qualificado.Técnico não veio      0.828     0.916     0.870      1474\n",
      "                     Sintomas.Qualificado.NãoTéc ponto adicional      0.877     0.923     0.899      2049\n",
      "                        Sintomas.Qualificado.Mudança de endereço      0.981     0.967     0.974      3343\n",
      "                          Sintomas.Genérico.Canal Globo não pega      0.661     0.796     0.722       304\n",
      "                           Sintomas.Qualificado.Controle perdido      0.939     0.958     0.948       306\n",
      "                          Sintomas.Qualificado.Tela com chuvisco      0.831     0.838     0.834       234\n",
      "                         Sintomas.Genérico.Mudança de endereço G      0.993     0.996     0.995      2501\n",
      "                           Sintomas.Genérico.Problema com imagem      0.972     0.964     0.968      6605\n",
      "         Sintomas.Qualificado.Equipamento liga e desliga sozinho      0.899     0.899     0.899       455\n",
      "                                   Sintomas.Qualificado.Código 6      0.880     0.937     0.907       905\n",
      "                       Sintomas.Qualificado.Equipamento não liga      0.967     0.973     0.970      1816\n",
      "                               Sintomas.Qualificado.NãoTéc_plano      0.820     0.851     0.835      1683\n",
      "                          Sintomas.Qualificado.Programação local      0.841     0.905     0.872       380\n",
      "                                   Sintomas.Qualificado.Gravação      0.939     0.971     0.955       997\n",
      "                                 Sintomas.Qualificado.Sky Online      0.940     0.933     0.937      1926\n",
      "                      Sintomas.Genérico.Canal comum não pega (G)      0.883     0.845     0.864      1200\n",
      "                   Sintomas.Genérico.Problema com visita técnica      0.995     0.999     0.997      2193\n",
      "                       Sintomas.Genérico.Texto ou código na tela      0.803     0.874     0.837      1694\n",
      "                              Sintomas.Qualificado.Código 1-2-25      0.930     0.891     0.910       658\n",
      "                                 Sintomas.Qualificado.Tela preta      0.863     0.857     0.860       861\n",
      "                Sintomas.Qualificado.Travado no canal do cliente      0.766     0.800     0.783       506\n",
      "             Sintomas.Qualificado.Controle não funciona para sky      0.716     0.768     0.741       125\n",
      "                   Sintomas.Qualificado.Apenas imagem, sem áudio      0.918     0.879     0.898       562\n",
      "              Sintomas.Qualificado.Canal PPV não está disponível      0.931     0.945     0.938      1016\n",
      "                        Sintomas.Qualificado.Evento indisponível      0.867     0.854     0.860       130\n",
      "                                  Sintomas.Qualificado.Código 56      0.979     0.979     0.979       585\n",
      "                      Sintomas.Qualificado.Priorizar atendimento      0.907     0.918     0.912      1140\n",
      "                            Sintomas.Genérico.Problema Controle2      0.930     0.939     0.934      1660\n",
      "                           Sintomas.Genérico.Canal HD não pega G      0.884     0.887     0.885       697\n",
      "                       Sintomas.Qualificado.Reativar programação      0.905     0.950     0.927        60\n",
      "                                  Sintomas.Qualificado.Código 77      0.841     0.907     0.872      1094\n",
      "                          Sintomas.Qualificado.NãoTéc upgrade hd      0.919     0.888     0.903       419\n",
      "Sintomas.Qualificado.Informações e confirmação de visita técnica      0.917     0.901     0.909       910\n",
      "                                   Sintomas.Qualificado.Código 4      0.897     0.894     0.895       980\n",
      "                     Sintomas.Qualificado.Agendar visita técnica      0.967     0.930     0.948       316\n",
      "                        Sintomas.Qualificado.Chip do equipamento      0.946     0.946     0.946        92\n",
      "                  Sintomas.Qualificado.Equipamento superaquecido      0.889     0.955     0.921        67\n",
      "                        Sintomas.Qualificado.Irritação ou Anatel      0.950     0.944     0.947       950\n",
      "                         Sintomas.Qualificado.Código diagnóstico      0.944     0.959     0.951       122\n",
      "                            Sintomas.Genérico.Tela monocromática      0.869     0.818     0.843       187\n",
      "                           Sintomas.Genérico.Entendimento errado      0.779     0.823     0.801       322\n",
      "                                       Sintomas.Genérico.Não sei      0.786     0.766     0.776       440\n",
      "                                    Sintomas.Genérico.Código sim      0.845     0.731     0.784        67\n",
      "            Sintomas.Qualificado.Atualização crítica de endereço      0.857     0.706     0.774        17\n",
      "                            Sintomas.Genérico.Problema com áudio      0.939     0.973     0.956       301\n",
      "                             Sintomas.Qualificado.Senha - padrão      0.771     0.900     0.831       120\n",
      "                                  Sintomas.Qualificado.Tela azul      0.896     0.896     0.896       134\n",
      "                  Sintomas.Qualificado.Mudança de posição antena      0.839     0.899     0.868       654\n",
      "                            Sintomas.Genérico.Problema de antena      0.911     0.867     0.889        83\n",
      "                             Sintomas.Qualificado.Aplicativo Sky      0.987     0.968     0.978       809\n",
      "                                 Sintomas.Genérico.Canal travado      0.862     0.931     0.895       477\n",
      "                Sintomas.Qualificado.Resolvido com sinal booster      0.616     0.750     0.677       212\n",
      "                          Sintomas.Qualificado.Legenda incorreta      0.000     0.000     0.000        30\n",
      "                                 Sintomas.Qualificado.Código 109      0.958     0.978     0.968        93\n",
      "                        Sintomas.Qualificado.Equipamento travado      0.764     0.731     0.747        93\n",
      "                         Sintomas.Genérico.Mudança de instalação      0.990     1.000     0.995        98\n",
      "                       Sintomas.Genérico.Canal opcional não pega      0.763     0.856     0.807       222\n",
      "                                  Sintomas.Qualificado.Código 19      0.958     0.939     0.948        49\n",
      "                             Sintomas.Genérico.Mudança de antena      0.989     0.978     0.984       372\n",
      "                              Sintomas.Qualificado.NãoTéc_compra      0.876     0.822     0.848       129\n",
      "                           Sintomas.Qualificado.NãoTéc sky livre      0.937     0.929     0.933       127\n",
      "                      Sintomas.Qualificado.Reset de senha padrão      0.935     0.878     0.906       115\n",
      "                          Sintomas.Qualificado.Controle quebrado      0.755     0.804     0.779       138\n",
      "                                  Sintomas.Qualificado.Código 14      0.948     0.991     0.969       111\n",
      "                        Sintomas.Qualificado.Guia de programação      0.937     0.944     0.940       409\n",
      "                             Sintomas.Qualificado.Numeração nova      0.935     0.861     0.897       101\n",
      "                      Sintomas.Qualificado.TV é HD, mas Sky é SD      0.877     0.881     0.879       268\n",
      "                          Sintomas.Genérico.Sem sinal nem código      0.659     0.753     0.703       146\n",
      "                               Sintomas.Qualificado.Cancelar Sky      0.583     0.560     0.571        50\n",
      "                                    Sintomas.Qualificado.Recarga      0.649     0.889     0.750        27\n",
      "                       Sintomas.Qualificado.Novo Controle Pedido      0.893     0.918     0.905       146\n",
      "                       Sintomas.Qualificado.Equipamento queimado      0.868     0.898     0.883       147\n",
      "                            Sintomas.Genérico.Problema com senha      0.990     0.997     0.993       291\n",
      "                            Sintomas.Qualificado.NãoTéc_cadastro      0.876     0.870     0.873       292\n",
      "                         Sintomas.Qualificado.Criar senha padrão      1.000     0.950     0.974        20\n",
      "                              Sintomas.Qualificado.Alterar áudio      0.870     0.917     0.893       204\n",
      "                        Sintomas.Qualificado.Canal fora da grade      0.856     0.883     0.869       342\n",
      "                          Sintomas.Genérico.Problema com legenda      0.954     0.984     0.969       252\n",
      "                              Sintomas.Qualificado.Problema tudo      0.911     0.917     0.914       145\n",
      "                                   Sintomas.Qualificado.Código 9      0.889     0.889     0.889         9\n",
      "                      Sintomas.Qualificado.Imagem preto e branco      0.871     0.853     0.862        95\n",
      "                               Sintomas.Qualificado.Número da OS      0.000     0.000     0.000         2\n",
      "                     Sintomas.Genérico.Atualização de endereço G      0.961     0.974     0.967        76\n",
      "                 Sintomas.Qualificado.Habilitar recurso de senha      0.857     0.846     0.852        78\n",
      "                     Sintomas.Genérico.Canal adulto não pega (G)      0.714     0.735     0.725        34\n",
      "                   Sintomas.Genérico.Problema com troca de canal      0.227     0.263     0.244        19\n",
      "                         Sintomas.Qualificado.Cliente está longe      0.550     0.344     0.423        32\n",
      "    Sintomas.Qualificado.Procurando sinal sintonizador terrestre      0.690     0.935     0.795        31\n",
      "                      Sintomas.Qualificado.Equipamento com ruído      0.909     0.952     0.930        21\n",
      "                                  Sintomas.Qualificado.Código 13      0.955     0.913     0.933        23\n",
      "                         Sintomas.Qualificado.Travado exceto 200      0.562     0.529     0.545        17\n",
      "                Sintomas.Qualificado.Legenda não aparece na tela      0.615     0.914     0.736        70\n",
      "                      Sintomas.Qualificado.Ativar closed caption      0.000     0.000     0.000         6\n",
      "                            Sintomas.Genérico.Promessa de oferta      0.462     0.462     0.462        13\n",
      "                       Sintomas.Qualificado.Ausência sinal geral      0.625     0.714     0.667        21\n",
      "                             Sintomas.Qualificado.Áudio atrasado      0.500     0.500     0.500         6\n",
      "                      Sintomas.Qualificado.Lentidão trocar canal      0.000     0.000     0.000         8\n",
      "                    Sintomas.Qualificado.Msg carregando conteúdo      1.000     0.667     0.800         3\n",
      "                   Sintomas.Genérico.Problema com closed caption      1.000     1.000     1.000         4\n",
      "\n",
      "                                                        accuracy                          0.943    133984\n",
      "                                                       macro avg      0.836     0.845     0.839    133984\n",
      "                                                    weighted avg      0.944     0.943     0.943    133984\n",
      "\n"
     ]
    }
   ],
   "source": [
    "predict(last_saved_model, dataset, batch_size, labels_dict, device)"
   ]
  },
  {
   "cell_type": "code",
   "execution_count": null,
   "metadata": {},
   "outputs": [],
   "source": []
  }
 ],
 "metadata": {
  "kernelspec": {
   "display_name": "Python 3",
   "language": "python",
   "name": "python3"
  },
  "language_info": {
   "codemirror_mode": {
    "name": "ipython",
    "version": 3
   },
   "file_extension": ".py",
   "mimetype": "text/x-python",
   "name": "python",
   "nbconvert_exporter": "python",
   "pygments_lexer": "ipython3",
   "version": "3.6.9"
  }
 },
 "nbformat": 4,
 "nbformat_minor": 2
}
