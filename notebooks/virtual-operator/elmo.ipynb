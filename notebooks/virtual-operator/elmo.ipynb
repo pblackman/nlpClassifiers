{
 "cells": [
  {
   "cell_type": "markdown",
   "metadata": {},
   "source": [
    "#### Based on https://mlexplained.com/2019/01/30/an-in-depth-tutorial-to-allennlp-from-basics-to-elmo-and-bert/"
   ]
  },
  {
   "cell_type": "code",
   "execution_count": 1,
   "metadata": {},
   "outputs": [],
   "source": [
    "%load_ext autoreload\n",
    "%autoreload 2"
   ]
  },
  {
   "cell_type": "code",
   "execution_count": 2,
   "metadata": {},
   "outputs": [],
   "source": [
    "#!pip install allennlp==0.9.0"
   ]
  },
  {
   "cell_type": "code",
   "execution_count": 3,
   "metadata": {},
   "outputs": [],
   "source": [
    "import csv\n",
    "import logging\n",
    "import numpy as np\n",
    "import os\n",
    "import pandas as pd\n",
    "import sys\n",
    "import torch\n",
    "import torch.nn as nn\n",
    "import torch.optim as optim\n",
    "import torch.nn.functional as F\n",
    "\n",
    "from allennlp.common.checks import ConfigurationError\n",
    "from allennlp.data import Instance\n",
    "from allennlp.data.fields import LabelField, TextField, Field, ArrayField\n",
    "from allennlp.data.instance import Instance\n",
    "from allennlp.data.iterators import BasicIterator, DataIterator, BucketIterator\n",
    "from allennlp.data.tokenizers import Tokenizer, WordTokenizer, Token\n",
    "from allennlp.data.tokenizers.word_splitter import JustSpacesWordSplitter\n",
    "from allennlp.data.token_indexers import TokenIndexer, SingleIdTokenIndexer\n",
    "from allennlp.data.vocabulary import Vocabulary\n",
    "from allennlp.training.metrics import CategoricalAccuracy\n",
    "from allennlp.common.file_utils import cached_path\n",
    "from allennlp.data.dataset_readers.dataset_reader import DatasetReader\n",
    "from allennlp.models import Model\n",
    "from allennlp.modules.seq2vec_encoders import Seq2VecEncoder, PytorchSeq2VecWrapper\n",
    "from allennlp.modules.text_field_embedders import TextFieldEmbedder, BasicTextFieldEmbedder\n",
    "from allennlp.data.tokenizers.word_splitter import SpacyWordSplitter\n",
    "from allennlp.data.token_indexers.elmo_indexer import ELMoCharacterMapper, ELMoTokenCharactersIndexer\n",
    "from allennlp.modules.token_embedders import ElmoTokenEmbedder\n",
    "from allennlp.nn import util as nn_util\n",
    "from allennlp.nn.util import get_text_field_mask\n",
    "from allennlp.training.trainer import Trainer\n",
    "from functools import partial\n",
    "from overrides import overrides\n",
    "from pathlib import Path\n",
    "from scipy.special import expit # the sigmoid function\n",
    "from sklearn.metrics import classification_report\n",
    "from tqdm import tqdm\n",
    "from typing import Dict, List, Callable, Iterable\n",
    "import random"
   ]
  },
  {
   "cell_type": "code",
   "execution_count": 4,
   "metadata": {},
   "outputs": [],
   "source": [
    "logger = logging.getLogger(__name__)  # pylint: disable=invalid-name\n",
    "\n",
    "class AgentBenchmarkDatasetReader(DatasetReader):\n",
    "    def __init__(self,\n",
    "                 config,\n",
    "                 tokenizer: Callable[[str], List[str]]=lambda x: x.split(),\n",
    "                 token_indexers: Dict[str, TokenIndexer] = None) -> None:\n",
    "        super().__init__(lazy=False)\n",
    "        self._tokenizer = tokenizer or WordTokenizer(JustSpacesWordSplitter())\n",
    "        self._token_indexers = token_indexers or {\"tokens\": SingleIdTokenIndexer()}\n",
    "        self._config = config\n",
    "\n",
    "    @overrides\n",
    "    def _read(self, file_path):\n",
    "        logger.info(\"Reading instances from lines in file at: %s\", file_path)\n",
    "        with open(cached_path(file_path), mode=\"r\", encoding='utf-8') as data_file:\n",
    "            logger.info(\"Reading instances from lines in file at: %s\", file_path)\n",
    "            i = 0\n",
    "            for line in data_file:\n",
    "                i+=1\n",
    "                if self._config.testing: \n",
    "                    if i == 50000:\n",
    "                       break\n",
    "                line = line.strip(\"\\n\")\n",
    "                if not line:\n",
    "                    continue\n",
    "                line_data = line.split(\";\")\n",
    "                if line_data[0] == \"utterance\":\n",
    "                    continue\n",
    "                utterance = line_data[0]\n",
    "                label = line_data[1]\n",
    "\n",
    "                if utterance == \"\":\n",
    "                    break\n",
    "\n",
    "                yield self.text_to_instance(\n",
    "                        [Token(x) for x in self._tokenizer(utterance)], label)\n",
    "\n",
    "    @overrides\n",
    "    def text_to_instance(self,  # type: ignore\n",
    "                         tokens:List[Token],\n",
    "                         label: str = None) -> Instance:\n",
    "        # pylint: disable=arguments-differ\n",
    "        sentence_field = TextField(tokens, self._token_indexers)\n",
    "        fields = { \"tokens\" : sentence_field}\n",
    "\n",
    "        if label is not None:\n",
    "            fields['label'] = LabelField(label, \"labels\")\n",
    "\n",
    "        return Instance(fields)"
   ]
  },
  {
   "cell_type": "code",
   "execution_count": 5,
   "metadata": {},
   "outputs": [],
   "source": [
    "ELMO_MODEL_PATH=\"../../models/virtual-operator/elmo-model.th\"\n",
    "ELMO_VOCAB_PATH=\"../../models/virtual-operator/elmo-vocabulary\""
   ]
  },
  {
   "cell_type": "code",
   "execution_count": 6,
   "metadata": {},
   "outputs": [],
   "source": [
    "DATA_PATH = '../../data/virtual-operator'\n",
    "TRAIN_DATASET = os.path.join(DATA_PATH, 'train.csv')\n",
    "VAL_DATASET = os.path.join(DATA_PATH, 'val.csv')\n",
    "TEST_DATASET  = os.path.join(DATA_PATH, 'test.csv')"
   ]
  },
  {
   "cell_type": "code",
   "execution_count": 7,
   "metadata": {},
   "outputs": [],
   "source": [
    "def seed_everything(seed=10):\n",
    "    random.seed(seed)\n",
    "    os.environ['PYTHONHASHSEED'] = str(seed)\n",
    "    np.random.seed(seed)\n",
    "    torch.manual_seed(seed)\n",
    "    torch.cuda.manual_seed(seed)\n",
    "    torch.backends.cudnn.deterministic = True"
   ]
  },
  {
   "cell_type": "code",
   "execution_count": 8,
   "metadata": {},
   "outputs": [],
   "source": [
    "seed_everything()"
   ]
  },
  {
   "cell_type": "code",
   "execution_count": 9,
   "metadata": {},
   "outputs": [],
   "source": [
    "class Config(dict):\n",
    "    def __init__(self, **kwargs):\n",
    "        super().__init__(**kwargs)\n",
    "        for k, v in kwargs.items():\n",
    "            setattr(self, k, v)\n",
    "    \n",
    "    def set(self, key, val):\n",
    "        self[key] = val\n",
    "        setattr(self, key, val)\n",
    "        \n",
    "config = Config(\n",
    "    lazy=False,\n",
    "    testing=False,\n",
    "    seed=1,\n",
    "    batch_size=512,\n",
    "    lr=3e-2,\n",
    "    epochs=30,\n",
    "    hidden_sz=300,\n",
    "    max_seq_len=82, # necessary to limit memory usage\n",
    "    max_vocab_size=30000,\n",
    ")"
   ]
  },
  {
   "cell_type": "code",
   "execution_count": 10,
   "metadata": {},
   "outputs": [],
   "source": [
    "USE_GPU =torch.cuda.is_available()\n",
    "gpu=2"
   ]
  },
  {
   "cell_type": "code",
   "execution_count": 11,
   "metadata": {},
   "outputs": [
    {
     "name": "stdout",
     "output_type": "stream",
     "text": [
      "tensor([[0.4581, 0.4829, 0.3125],\n",
      "        [0.6150, 0.2139, 0.4118]], device='cuda:0')\n"
     ]
    }
   ],
   "source": [
    " print(torch.rand(2,3).cuda())"
   ]
  },
  {
   "cell_type": "code",
   "execution_count": 12,
   "metadata": {},
   "outputs": [
    {
     "name": "stdout",
     "output_type": "stream",
     "text": [
      "1.7.1\n"
     ]
    }
   ],
   "source": [
    "print(torch.__version__)"
   ]
  },
  {
   "cell_type": "code",
   "execution_count": 13,
   "metadata": {},
   "outputs": [
    {
     "data": {
      "text/plain": [
       "<torch._C.Generator at 0x7f15753b1eb8>"
      ]
     },
     "execution_count": 13,
     "metadata": {},
     "output_type": "execute_result"
    }
   ],
   "source": [
    "torch.manual_seed(config.seed)"
   ]
  },
  {
   "cell_type": "markdown",
   "metadata": {},
   "source": [
    "### Prepare token handlers"
   ]
  },
  {
   "cell_type": "code",
   "execution_count": 14,
   "metadata": {},
   "outputs": [],
   "source": [
    "# the token indexer is responsible for mapping tokens to integers\n",
    "token_indexer = ELMoTokenCharactersIndexer()\n",
    "\n",
    "def tokenizer(x: str):\n",
    "    return [w.text for w in\n",
    "            SpacyWordSplitter(language='pt_core_news_sm', \n",
    "                              pos_tags=False).split_words(x)[:config.max_seq_len]]"
   ]
  },
  {
   "cell_type": "code",
   "execution_count": 15,
   "metadata": {},
   "outputs": [
    {
     "name": "stderr",
     "output_type": "stream",
     "text": [
      "482348it [02:25, 3323.14it/s]\n",
      "53595it [00:14, 3610.10it/s]\n",
      "133986it [00:38, 3439.69it/s]\n"
     ]
    }
   ],
   "source": [
    "reader = AgentBenchmarkDatasetReader(config, tokenizer=tokenizer,\n",
    "    token_indexers={\"tokens\": token_indexer})\n",
    "train_dataset = reader.read(TRAIN_DATASET)\n",
    "val_dataset = reader.read(VAL_DATASET)\n",
    "test_dataset = reader.read(TEST_DATASET)"
   ]
  },
  {
   "cell_type": "code",
   "execution_count": 16,
   "metadata": {},
   "outputs": [
    {
     "data": {
      "text/plain": [
       "{'tokens': [para, visita, técnica],\n",
       " '_token_indexers': {'tokens': <allennlp.data.token_indexers.elmo_indexer.ELMoTokenCharactersIndexer at 0x7f1076976438>},\n",
       " '_indexed_tokens': None,\n",
       " '_indexer_name_to_indexed_token': None,\n",
       " '_token_index_to_indexer_name': None}"
      ]
     },
     "execution_count": 16,
     "metadata": {},
     "output_type": "execute_result"
    }
   ],
   "source": [
    "vars(train_dataset[0].fields[\"tokens\"])"
   ]
  },
  {
   "cell_type": "code",
   "execution_count": 17,
   "metadata": {},
   "outputs": [
    {
     "name": "stderr",
     "output_type": "stream",
     "text": [
      "100%|██████████| 482348/482348 [00:02<00:00, 228711.93it/s]\n"
     ]
    }
   ],
   "source": [
    "vocab = Vocabulary.from_instances(train_dataset)"
   ]
  },
  {
   "cell_type": "code",
   "execution_count": 18,
   "metadata": {},
   "outputs": [
    {
     "data": {
      "text/plain": [
       "{'_padding_token': '@@PADDING@@',\n",
       " '_oov_token': '@@UNKNOWN@@',\n",
       " '_non_padded_namespaces': {'*labels', '*tags'},\n",
       " '_token_to_index': _TokenToIndexDefaultDict(None,\n",
       "                          {'labels': {'Sintomas.Genérico.Sem sinal': 0,\n",
       "                            'Sintomas.Qualificado.Ausência de sinal': 1,\n",
       "                            'Sintomas.Genérico.Problema com equipamento': 2,\n",
       "                            'Sintomas.Genérico.Sky não funciona': 3,\n",
       "                            'Sintomas.Genérico.Falar com atendente': 4,\n",
       "                            'Sintomas.Genérico.Problema com imagem': 5,\n",
       "                            'Sintomas.Genérico.Canal não pega': 6,\n",
       "                            'Sintomas.Genérico.Troca de equipamento': 7,\n",
       "                            'Sintomas.Genérico.Problema com canal': 8,\n",
       "                            'Sintomas.Qualificado.Mudança de endereço': 9,\n",
       "                            'Sintomas.Qualificado.Banda larga': 10,\n",
       "                            'Sintomas.Genérico.Mudança de endereço G': 11,\n",
       "                            'Sintomas.Genérico.Equipamento não funciona G': 12,\n",
       "                            'Sintomas.Genérico.Problema com visita técnica': 13,\n",
       "                            'Sintomas.Genérico.Equipamento queimado G': 14,\n",
       "                            'Sintomas.Qualificado.NãoTéc ponto adicional': 15,\n",
       "                            'Sintomas.Qualificado.Mudança de cômodo': 16,\n",
       "                            'Sintomas.Qualificado.Sky Online': 17,\n",
       "                            'Sintomas.Qualificado.Cancelamento': 18,\n",
       "                            'Sintomas.Qualificado.Equipamento não liga': 19,\n",
       "                            'Sintomas.Genérico.Texto ou código na tela': 20,\n",
       "                            'Sintomas.Qualificado.NãoTéc_plano': 21,\n",
       "                            'Sintomas.Genérico.Problema Controle2': 22,\n",
       "                            'Sintomas.Qualificado.Cabos e conectores': 23,\n",
       "                            'Sintomas.Qualificado.Técnico não veio': 24,\n",
       "                            'Sintomas.Qualificado.NãoTéc_fatura': 25,\n",
       "                            'Sintomas.Genérico.Equipamento quebrado G': 26,\n",
       "                            'Sintomas.Genérico.Canal comum não pega (G)': 27,\n",
       "                            'Sintomas.Qualificado.Priorizar atendimento': 28,\n",
       "                            'Sintomas.Qualificado.Código 77': 29,\n",
       "                            'Sintomas.Qualificado.Canal PPV não está disponível': 30,\n",
       "                            'Sintomas.Qualificado.Gravação': 31,\n",
       "                            'Sintomas.Qualificado.Código 4': 32,\n",
       "                            'Sintomas.Qualificado.Irritação ou Anatel': 33,\n",
       "                            'Sintomas.Qualificado.Informações e confirmação de visita técnica': 34,\n",
       "                            'Sintomas.Qualificado.Código 6': 35,\n",
       "                            'Sintomas.Genérico.Mudança': 36,\n",
       "                            'Sintomas.Qualificado.Tela preta': 37,\n",
       "                            'Sintomas.Qualificado.Aplicativo Sky': 38,\n",
       "                            'Sintomas.Qualificado.Outros problemas': 39,\n",
       "                            'Sintomas.Genérico.Canal HD não pega G': 40,\n",
       "                            'Sintomas.Qualificado.Código 1-2-25': 41,\n",
       "                            'Sintomas.Qualificado.Mudança de posição antena': 42,\n",
       "                            'Sintomas.Genérico.Instalação': 43,\n",
       "                            'Sintomas.Qualificado.Código 56': 44,\n",
       "                            'Sintomas.Qualificado.Apenas imagem, sem áudio': 45,\n",
       "                            'Sintomas.Qualificado.Travado no canal do cliente': 46,\n",
       "                            'Sintomas.Genérico.Canal travado': 47,\n",
       "                            'Sintomas.Qualificado.Equipamento liga e desliga sozinho': 48,\n",
       "                            'Sintomas.Genérico.Não sei': 49,\n",
       "                            'Sintomas.Qualificado.NãoTéc upgrade hd': 50,\n",
       "                            'Sintomas.Qualificado.Guia de programação': 51,\n",
       "                            'Sintomas.Qualificado.Programação local': 52,\n",
       "                            'Sintomas.Genérico.Mudança de antena': 53,\n",
       "                            'Sintomas.Qualificado.Canal fora da grade': 54,\n",
       "                            'Sintomas.Genérico.Entendimento errado': 55,\n",
       "                            'Sintomas.Qualificado.Agendar visita técnica': 56,\n",
       "                            'Sintomas.Qualificado.Controle perdido': 57,\n",
       "                            'Sintomas.Genérico.Canal Globo não pega': 58,\n",
       "                            'Sintomas.Genérico.Problema com áudio': 59,\n",
       "                            'Sintomas.Qualificado.NãoTéc_cadastro': 60,\n",
       "                            'Sintomas.Genérico.Problema com senha': 61,\n",
       "                            'Sintomas.Qualificado.TV é HD, mas Sky é SD': 62,\n",
       "                            'Sintomas.Genérico.Problema com legenda': 63,\n",
       "                            'Sintomas.Qualificado.Tela com chuvisco': 64,\n",
       "                            'Sintomas.Genérico.Canal opcional não pega': 65,\n",
       "                            'Sintomas.Qualificado.Resolvido com sinal booster': 66,\n",
       "                            'Sintomas.Qualificado.Alterar áudio': 67,\n",
       "                            'Sintomas.Genérico.Tela monocromática': 68,\n",
       "                            'Sintomas.Qualificado.NãoTéc_outros': 69,\n",
       "                            'Sintomas.Qualificado.Equipamento queimado': 70,\n",
       "                            'Sintomas.Genérico.Sem sinal nem código': 71,\n",
       "                            'Sintomas.Qualificado.Novo Controle Pedido': 72,\n",
       "                            'Sintomas.Qualificado.Problema tudo': 73,\n",
       "                            'Sintomas.Qualificado.Controle quebrado': 74,\n",
       "                            'Sintomas.Qualificado.Tela azul': 75,\n",
       "                            'Sintomas.Qualificado.Evento indisponível': 76,\n",
       "                            'Sintomas.Qualificado.NãoTéc_compra': 77,\n",
       "                            'Sintomas.Qualificado.NãoTéc sky livre': 78,\n",
       "                            'Sintomas.Qualificado.Controle não funciona para sky': 79,\n",
       "                            'Sintomas.Qualificado.Código diagnóstico': 80,\n",
       "                            'Sintomas.Qualificado.Senha - padrão': 81,\n",
       "                            'Sintomas.Qualificado.Reset de senha padrão': 82,\n",
       "                            'Sintomas.Qualificado.Código 14': 83,\n",
       "                            'Sintomas.Qualificado.Controle não funciona para tv': 84,\n",
       "                            'Sintomas.Qualificado.Numeração nova': 85,\n",
       "                            'Sintomas.Genérico.Mudança de instalação': 86,\n",
       "                            'Sintomas.Qualificado.Imagem preto e branco': 87,\n",
       "                            'Sintomas.Qualificado.Equipamento travado': 88,\n",
       "                            'Sintomas.Qualificado.Código 109': 89,\n",
       "                            'Sintomas.Qualificado.Técnico não resolveu': 90,\n",
       "                            'Sintomas.Qualificado.Chip do equipamento': 91,\n",
       "                            'Sintomas.Genérico.Problema de antena': 92,\n",
       "                            'Sintomas.Qualificado.Habilitar recurso de senha': 93,\n",
       "                            'Sintomas.Genérico.Atualização de endereço G': 94,\n",
       "                            'Sintomas.Qualificado.Legenda não aparece na tela': 95,\n",
       "                            'Sintomas.Genérico.Código sim': 96,\n",
       "                            'Sintomas.Qualificado.Equipamento superaquecido': 97,\n",
       "                            'Sintomas.Qualificado.Reativar programação': 98,\n",
       "                            'Sintomas.Qualificado.Cancelar Sky': 99,\n",
       "                            'Sintomas.Qualificado.Código 19': 100,\n",
       "                            'Sintomas.Genérico.Canal adulto não pega (G)': 101,\n",
       "                            'Sintomas.Qualificado.Cliente está longe': 102,\n",
       "                            'Sintomas.Qualificado.Procurando sinal sintonizador terrestre': 103,\n",
       "                            'Sintomas.Qualificado.Legenda incorreta': 104,\n",
       "                            'Sintomas.Qualificado.Recarga': 105,\n",
       "                            'Sintomas.Qualificado.Código 13': 106,\n",
       "                            'Sintomas.Qualificado.Equipamento com ruído': 107,\n",
       "                            'Sintomas.Qualificado.Ausência sinal geral': 108,\n",
       "                            'Sintomas.Qualificado.Criar senha padrão': 109,\n",
       "                            'Sintomas.Genérico.Problema com troca de canal': 110,\n",
       "                            'Sintomas.Qualificado.Atualização crítica de endereço': 111,\n",
       "                            'Sintomas.Qualificado.Travado exceto 200': 112,\n",
       "                            'Sintomas.Genérico.Promessa de oferta': 113,\n",
       "                            'Sintomas.Qualificado.Código 9': 114,\n",
       "                            'Sintomas.Qualificado.Lentidão trocar canal': 115,\n",
       "                            'Sintomas.Qualificado.Ativar closed caption': 116,\n",
       "                            'Sintomas.Qualificado.Áudio atrasado': 117,\n",
       "                            'Sintomas.Genérico.Problema com closed caption': 118,\n",
       "                            'Sintomas.Qualificado.Msg carregando conteúdo': 119,\n",
       "                            'Sintomas.Qualificado.Número da OS': 120}}),\n",
       " '_index_to_token': _IndexToTokenDefaultDict(None,\n",
       "                          {'labels': {0: 'Sintomas.Genérico.Sem sinal',\n",
       "                            1: 'Sintomas.Qualificado.Ausência de sinal',\n",
       "                            2: 'Sintomas.Genérico.Problema com equipamento',\n",
       "                            3: 'Sintomas.Genérico.Sky não funciona',\n",
       "                            4: 'Sintomas.Genérico.Falar com atendente',\n",
       "                            5: 'Sintomas.Genérico.Problema com imagem',\n",
       "                            6: 'Sintomas.Genérico.Canal não pega',\n",
       "                            7: 'Sintomas.Genérico.Troca de equipamento',\n",
       "                            8: 'Sintomas.Genérico.Problema com canal',\n",
       "                            9: 'Sintomas.Qualificado.Mudança de endereço',\n",
       "                            10: 'Sintomas.Qualificado.Banda larga',\n",
       "                            11: 'Sintomas.Genérico.Mudança de endereço G',\n",
       "                            12: 'Sintomas.Genérico.Equipamento não funciona G',\n",
       "                            13: 'Sintomas.Genérico.Problema com visita técnica',\n",
       "                            14: 'Sintomas.Genérico.Equipamento queimado G',\n",
       "                            15: 'Sintomas.Qualificado.NãoTéc ponto adicional',\n",
       "                            16: 'Sintomas.Qualificado.Mudança de cômodo',\n",
       "                            17: 'Sintomas.Qualificado.Sky Online',\n",
       "                            18: 'Sintomas.Qualificado.Cancelamento',\n",
       "                            19: 'Sintomas.Qualificado.Equipamento não liga',\n",
       "                            20: 'Sintomas.Genérico.Texto ou código na tela',\n",
       "                            21: 'Sintomas.Qualificado.NãoTéc_plano',\n",
       "                            22: 'Sintomas.Genérico.Problema Controle2',\n",
       "                            23: 'Sintomas.Qualificado.Cabos e conectores',\n",
       "                            24: 'Sintomas.Qualificado.Técnico não veio',\n",
       "                            25: 'Sintomas.Qualificado.NãoTéc_fatura',\n",
       "                            26: 'Sintomas.Genérico.Equipamento quebrado G',\n",
       "                            27: 'Sintomas.Genérico.Canal comum não pega (G)',\n",
       "                            28: 'Sintomas.Qualificado.Priorizar atendimento',\n",
       "                            29: 'Sintomas.Qualificado.Código 77',\n",
       "                            30: 'Sintomas.Qualificado.Canal PPV não está disponível',\n",
       "                            31: 'Sintomas.Qualificado.Gravação',\n",
       "                            32: 'Sintomas.Qualificado.Código 4',\n",
       "                            33: 'Sintomas.Qualificado.Irritação ou Anatel',\n",
       "                            34: 'Sintomas.Qualificado.Informações e confirmação de visita técnica',\n",
       "                            35: 'Sintomas.Qualificado.Código 6',\n",
       "                            36: 'Sintomas.Genérico.Mudança',\n",
       "                            37: 'Sintomas.Qualificado.Tela preta',\n",
       "                            38: 'Sintomas.Qualificado.Aplicativo Sky',\n",
       "                            39: 'Sintomas.Qualificado.Outros problemas',\n",
       "                            40: 'Sintomas.Genérico.Canal HD não pega G',\n",
       "                            41: 'Sintomas.Qualificado.Código 1-2-25',\n",
       "                            42: 'Sintomas.Qualificado.Mudança de posição antena',\n",
       "                            43: 'Sintomas.Genérico.Instalação',\n",
       "                            44: 'Sintomas.Qualificado.Código 56',\n",
       "                            45: 'Sintomas.Qualificado.Apenas imagem, sem áudio',\n",
       "                            46: 'Sintomas.Qualificado.Travado no canal do cliente',\n",
       "                            47: 'Sintomas.Genérico.Canal travado',\n",
       "                            48: 'Sintomas.Qualificado.Equipamento liga e desliga sozinho',\n",
       "                            49: 'Sintomas.Genérico.Não sei',\n",
       "                            50: 'Sintomas.Qualificado.NãoTéc upgrade hd',\n",
       "                            51: 'Sintomas.Qualificado.Guia de programação',\n",
       "                            52: 'Sintomas.Qualificado.Programação local',\n",
       "                            53: 'Sintomas.Genérico.Mudança de antena',\n",
       "                            54: 'Sintomas.Qualificado.Canal fora da grade',\n",
       "                            55: 'Sintomas.Genérico.Entendimento errado',\n",
       "                            56: 'Sintomas.Qualificado.Agendar visita técnica',\n",
       "                            57: 'Sintomas.Qualificado.Controle perdido',\n",
       "                            58: 'Sintomas.Genérico.Canal Globo não pega',\n",
       "                            59: 'Sintomas.Genérico.Problema com áudio',\n",
       "                            60: 'Sintomas.Qualificado.NãoTéc_cadastro',\n",
       "                            61: 'Sintomas.Genérico.Problema com senha',\n",
       "                            62: 'Sintomas.Qualificado.TV é HD, mas Sky é SD',\n",
       "                            63: 'Sintomas.Genérico.Problema com legenda',\n",
       "                            64: 'Sintomas.Qualificado.Tela com chuvisco',\n",
       "                            65: 'Sintomas.Genérico.Canal opcional não pega',\n",
       "                            66: 'Sintomas.Qualificado.Resolvido com sinal booster',\n",
       "                            67: 'Sintomas.Qualificado.Alterar áudio',\n",
       "                            68: 'Sintomas.Genérico.Tela monocromática',\n",
       "                            69: 'Sintomas.Qualificado.NãoTéc_outros',\n",
       "                            70: 'Sintomas.Qualificado.Equipamento queimado',\n",
       "                            71: 'Sintomas.Genérico.Sem sinal nem código',\n",
       "                            72: 'Sintomas.Qualificado.Novo Controle Pedido',\n",
       "                            73: 'Sintomas.Qualificado.Problema tudo',\n",
       "                            74: 'Sintomas.Qualificado.Controle quebrado',\n",
       "                            75: 'Sintomas.Qualificado.Tela azul',\n",
       "                            76: 'Sintomas.Qualificado.Evento indisponível',\n",
       "                            77: 'Sintomas.Qualificado.NãoTéc_compra',\n",
       "                            78: 'Sintomas.Qualificado.NãoTéc sky livre',\n",
       "                            79: 'Sintomas.Qualificado.Controle não funciona para sky',\n",
       "                            80: 'Sintomas.Qualificado.Código diagnóstico',\n",
       "                            81: 'Sintomas.Qualificado.Senha - padrão',\n",
       "                            82: 'Sintomas.Qualificado.Reset de senha padrão',\n",
       "                            83: 'Sintomas.Qualificado.Código 14',\n",
       "                            84: 'Sintomas.Qualificado.Controle não funciona para tv',\n",
       "                            85: 'Sintomas.Qualificado.Numeração nova',\n",
       "                            86: 'Sintomas.Genérico.Mudança de instalação',\n",
       "                            87: 'Sintomas.Qualificado.Imagem preto e branco',\n",
       "                            88: 'Sintomas.Qualificado.Equipamento travado',\n",
       "                            89: 'Sintomas.Qualificado.Código 109',\n",
       "                            90: 'Sintomas.Qualificado.Técnico não resolveu',\n",
       "                            91: 'Sintomas.Qualificado.Chip do equipamento',\n",
       "                            92: 'Sintomas.Genérico.Problema de antena',\n",
       "                            93: 'Sintomas.Qualificado.Habilitar recurso de senha',\n",
       "                            94: 'Sintomas.Genérico.Atualização de endereço G',\n",
       "                            95: 'Sintomas.Qualificado.Legenda não aparece na tela',\n",
       "                            96: 'Sintomas.Genérico.Código sim',\n",
       "                            97: 'Sintomas.Qualificado.Equipamento superaquecido',\n",
       "                            98: 'Sintomas.Qualificado.Reativar programação',\n",
       "                            99: 'Sintomas.Qualificado.Cancelar Sky',\n",
       "                            100: 'Sintomas.Qualificado.Código 19',\n",
       "                            101: 'Sintomas.Genérico.Canal adulto não pega (G)',\n",
       "                            102: 'Sintomas.Qualificado.Cliente está longe',\n",
       "                            103: 'Sintomas.Qualificado.Procurando sinal sintonizador terrestre',\n",
       "                            104: 'Sintomas.Qualificado.Legenda incorreta',\n",
       "                            105: 'Sintomas.Qualificado.Recarga',\n",
       "                            106: 'Sintomas.Qualificado.Código 13',\n",
       "                            107: 'Sintomas.Qualificado.Equipamento com ruído',\n",
       "                            108: 'Sintomas.Qualificado.Ausência sinal geral',\n",
       "                            109: 'Sintomas.Qualificado.Criar senha padrão',\n",
       "                            110: 'Sintomas.Genérico.Problema com troca de canal',\n",
       "                            111: 'Sintomas.Qualificado.Atualização crítica de endereço',\n",
       "                            112: 'Sintomas.Qualificado.Travado exceto 200',\n",
       "                            113: 'Sintomas.Genérico.Promessa de oferta',\n",
       "                            114: 'Sintomas.Qualificado.Código 9',\n",
       "                            115: 'Sintomas.Qualificado.Lentidão trocar canal',\n",
       "                            116: 'Sintomas.Qualificado.Ativar closed caption',\n",
       "                            117: 'Sintomas.Qualificado.Áudio atrasado',\n",
       "                            118: 'Sintomas.Genérico.Problema com closed caption',\n",
       "                            119: 'Sintomas.Qualificado.Msg carregando conteúdo',\n",
       "                            120: 'Sintomas.Qualificado.Número da OS'}}),\n",
       " '_retained_counter': defaultdict(<function allennlp.data.vocabulary.Vocabulary.from_instances.<locals>.<lambda>()>,\n",
       "             {'labels': defaultdict(int,\n",
       "                          {'Sintomas.Genérico.Sky não funciona': 30085,\n",
       "                           'Sintomas.Genérico.Instalação': 2328,\n",
       "                           'Sintomas.Genérico.Canal não pega': 21481,\n",
       "                           'Sintomas.Genérico.Equipamento não funciona G': 8347,\n",
       "                           'Sintomas.Genérico.Sem sinal': 52389,\n",
       "                           'Sintomas.Qualificado.Cancelamento': 6650,\n",
       "                           'Sintomas.Qualificado.Outros problemas': 2626,\n",
       "                           'Sintomas.Qualificado.NãoTéc_fatura': 5224,\n",
       "                           'Sintomas.Qualificado.Mudança de cômodo': 7108,\n",
       "                           'Sintomas.Genérico.Equipamento queimado G': 7582,\n",
       "                           'Sintomas.Genérico.Problema com equipamento': 34720,\n",
       "                           'Sintomas.Genérico.Equipamento quebrado G': 5186,\n",
       "                           'Sintomas.Qualificado.Controle não funciona para tv': 384,\n",
       "                           'Sintomas.Genérico.Falar com atendente': 29742,\n",
       "                           'Sintomas.Genérico.Problema com canal': 12770,\n",
       "                           'Sintomas.Qualificado.Técnico não resolveu': 329,\n",
       "                           'Sintomas.Genérico.Troca de equipamento': 13454,\n",
       "                           'Sintomas.Qualificado.NãoTéc_outros': 668,\n",
       "                           'Sintomas.Qualificado.Banda larga': 9322,\n",
       "                           'Sintomas.Genérico.Mudança': 3206,\n",
       "                           'Sintomas.Qualificado.Ausência de sinal': 36570,\n",
       "                           'Sintomas.Qualificado.Cabos e conectores': 5610,\n",
       "                           'Sintomas.Qualificado.Técnico não veio': 5307,\n",
       "                           'Sintomas.Qualificado.NãoTéc ponto adicional': 7377,\n",
       "                           'Sintomas.Qualificado.Mudança de endereço': 12035,\n",
       "                           'Sintomas.Genérico.Canal Globo não pega': 1095,\n",
       "                           'Sintomas.Qualificado.Controle perdido': 1103,\n",
       "                           'Sintomas.Qualificado.Tela com chuvisco': 841,\n",
       "                           'Sintomas.Genérico.Mudança de endereço G': 9002,\n",
       "                           'Sintomas.Genérico.Problema com imagem': 23780,\n",
       "                           'Sintomas.Qualificado.Equipamento liga e desliga sozinho': 1640,\n",
       "                           'Sintomas.Qualificado.Código 6': 3258,\n",
       "                           'Sintomas.Qualificado.Equipamento não liga': 6538,\n",
       "                           'Sintomas.Qualificado.NãoTéc_plano': 6059,\n",
       "                           'Sintomas.Qualificado.Programação local': 1369,\n",
       "                           'Sintomas.Qualificado.Gravação': 3587,\n",
       "                           'Sintomas.Qualificado.Sky Online': 6933,\n",
       "                           'Sintomas.Genérico.Canal comum não pega (G)': 4320,\n",
       "                           'Sintomas.Genérico.Problema com visita técnica': 7893,\n",
       "                           'Sintomas.Genérico.Texto ou código na tela': 6098,\n",
       "                           'Sintomas.Qualificado.Código 1-2-25': 2370,\n",
       "                           'Sintomas.Qualificado.Tela preta': 3100,\n",
       "                           'Sintomas.Qualificado.Travado no canal do cliente': 1820,\n",
       "                           'Sintomas.Qualificado.Controle não funciona para sky': 450,\n",
       "                           'Sintomas.Qualificado.Apenas imagem, sem áudio': 2024,\n",
       "                           'Sintomas.Qualificado.Canal PPV não está disponível': 3656,\n",
       "                           'Sintomas.Qualificado.Evento indisponível': 468,\n",
       "                           'Sintomas.Qualificado.Código 56': 2104,\n",
       "                           'Sintomas.Qualificado.Priorizar atendimento': 4104,\n",
       "                           'Sintomas.Genérico.Problema Controle2': 5980,\n",
       "                           'Sintomas.Genérico.Canal HD não pega G': 2507,\n",
       "                           'Sintomas.Qualificado.Reativar programação': 214,\n",
       "                           'Sintomas.Qualificado.Código 77': 3939,\n",
       "                           'Sintomas.Qualificado.NãoTéc upgrade hd': 1507,\n",
       "                           'Sintomas.Qualificado.Informações e confirmação de visita técnica': 3278,\n",
       "                           'Sintomas.Qualificado.Código 4': 3526,\n",
       "                           'Sintomas.Qualificado.Agendar visita técnica': 1138,\n",
       "                           'Sintomas.Qualificado.Chip do equipamento': 329,\n",
       "                           'Sintomas.Qualificado.Equipamento superaquecido': 240,\n",
       "                           'Sintomas.Qualificado.Irritação ou Anatel': 3422,\n",
       "                           'Sintomas.Qualificado.Código diagnóstico': 440,\n",
       "                           'Sintomas.Genérico.Tela monocromática': 673,\n",
       "                           'Sintomas.Genérico.Entendimento errado': 1159,\n",
       "                           'Sintomas.Genérico.Não sei': 1583,\n",
       "                           'Sintomas.Genérico.Código sim': 242,\n",
       "                           'Sintomas.Qualificado.Atualização crítica de endereço': 62,\n",
       "                           'Sintomas.Genérico.Problema com áudio': 1085,\n",
       "                           'Sintomas.Qualificado.Senha - padrão': 433,\n",
       "                           'Sintomas.Qualificado.Tela azul': 483,\n",
       "                           'Sintomas.Qualificado.Mudança de posição antena': 2353,\n",
       "                           'Sintomas.Genérico.Problema de antena': 300,\n",
       "                           'Sintomas.Qualificado.Aplicativo Sky': 2912,\n",
       "                           'Sintomas.Genérico.Canal travado': 1717,\n",
       "                           'Sintomas.Qualificado.Resolvido com sinal booster': 762,\n",
       "                           'Sintomas.Qualificado.Legenda incorreta': 109,\n",
       "                           'Sintomas.Qualificado.Código 109': 333,\n",
       "                           'Sintomas.Qualificado.Equipamento travado': 336,\n",
       "                           'Sintomas.Genérico.Mudança de instalação': 352,\n",
       "                           'Sintomas.Genérico.Canal opcional não pega': 798,\n",
       "                           'Sintomas.Qualificado.Código 19': 178,\n",
       "                           'Sintomas.Genérico.Mudança de antena': 1339,\n",
       "                           'Sintomas.Qualificado.NãoTéc_compra': 466,\n",
       "                           'Sintomas.Qualificado.NãoTéc sky livre': 455,\n",
       "                           'Sintomas.Qualificado.Reset de senha padrão': 416,\n",
       "                           'Sintomas.Qualificado.Controle quebrado': 496,\n",
       "                           'Sintomas.Qualificado.Código 14': 399,\n",
       "                           'Sintomas.Qualificado.Guia de programação': 1472,\n",
       "                           'Sintomas.Qualificado.Numeração nova': 365,\n",
       "                           'Sintomas.Qualificado.TV é HD, mas Sky é SD': 964,\n",
       "                           'Sintomas.Genérico.Sem sinal nem código': 527,\n",
       "                           'Sintomas.Qualificado.Cancelar Sky': 179,\n",
       "                           'Sintomas.Qualificado.Recarga': 95,\n",
       "                           'Sintomas.Qualificado.Novo Controle Pedido': 527,\n",
       "                           'Sintomas.Qualificado.Equipamento queimado': 530,\n",
       "                           'Sintomas.Genérico.Problema com senha': 1046,\n",
       "                           'Sintomas.Qualificado.NãoTéc_cadastro': 1052,\n",
       "                           'Sintomas.Qualificado.Criar senha padrão': 71,\n",
       "                           'Sintomas.Qualificado.Alterar áudio': 733,\n",
       "                           'Sintomas.Qualificado.Canal fora da grade': 1232,\n",
       "                           'Sintomas.Genérico.Problema com legenda': 906,\n",
       "                           'Sintomas.Qualificado.Problema tudo': 520,\n",
       "                           'Sintomas.Qualificado.Código 9': 33,\n",
       "                           'Sintomas.Qualificado.Imagem preto e branco': 344,\n",
       "                           'Sintomas.Qualificado.Número da OS': 8,\n",
       "                           'Sintomas.Genérico.Atualização de endereço G': 275,\n",
       "                           'Sintomas.Qualificado.Habilitar recurso de senha': 282,\n",
       "                           'Sintomas.Genérico.Canal adulto não pega (G)': 123,\n",
       "                           'Sintomas.Genérico.Problema com troca de canal': 68,\n",
       "                           'Sintomas.Qualificado.Cliente está longe': 116,\n",
       "                           'Sintomas.Qualificado.Procurando sinal sintonizador terrestre': 110,\n",
       "                           'Sintomas.Qualificado.Equipamento com ruído': 77,\n",
       "                           'Sintomas.Qualificado.Código 13': 81,\n",
       "                           'Sintomas.Qualificado.Travado exceto 200': 61,\n",
       "                           'Sintomas.Qualificado.Legenda não aparece na tela': 252,\n",
       "                           'Sintomas.Qualificado.Ativar closed caption': 24,\n",
       "                           'Sintomas.Genérico.Promessa de oferta': 46,\n",
       "                           'Sintomas.Qualificado.Ausência sinal geral': 77,\n",
       "                           'Sintomas.Qualificado.Áudio atrasado': 23,\n",
       "                           'Sintomas.Qualificado.Lentidão trocar canal': 32,\n",
       "                           'Sintomas.Qualificado.Msg carregando conteúdo': 10,\n",
       "                           'Sintomas.Genérico.Problema com closed caption': 14})})}"
      ]
     },
     "execution_count": 18,
     "metadata": {},
     "output_type": "execute_result"
    }
   ],
   "source": [
    "vars(vocab)"
   ]
  },
  {
   "cell_type": "code",
   "execution_count": 19,
   "metadata": {},
   "outputs": [],
   "source": [
    "num_labels = 121"
   ]
  },
  {
   "cell_type": "code",
   "execution_count": 20,
   "metadata": {},
   "outputs": [],
   "source": [
    "from allennlp.data.iterators import BucketIterator"
   ]
  },
  {
   "cell_type": "code",
   "execution_count": 21,
   "metadata": {},
   "outputs": [],
   "source": [
    "iterator = BucketIterator(batch_size=config.batch_size, \n",
    "                          sorting_keys=[(\"tokens\", \"num_tokens\")],\n",
    "                         )"
   ]
  },
  {
   "cell_type": "code",
   "execution_count": 22,
   "metadata": {},
   "outputs": [],
   "source": [
    "iterator.index_with(vocab)"
   ]
  },
  {
   "cell_type": "code",
   "execution_count": 23,
   "metadata": {},
   "outputs": [],
   "source": [
    "label_dict = vocab.get_index_to_token_vocabulary('tokens')"
   ]
  },
  {
   "cell_type": "code",
   "execution_count": 24,
   "metadata": {},
   "outputs": [],
   "source": [
    "batch = next(iter(iterator(train_dataset)))"
   ]
  },
  {
   "cell_type": "code",
   "execution_count": 25,
   "metadata": {},
   "outputs": [
    {
     "data": {
      "text/plain": [
       "tensor([[[259, 102, 114,  ..., 261, 261, 261]],\n",
       "\n",
       "        [[259, 106, 110,  ..., 261, 261, 261]],\n",
       "\n",
       "        [[259, 100,  98,  ..., 261, 261, 261]],\n",
       "\n",
       "        ...,\n",
       "\n",
       "        [[259, 103, 106,  ..., 261, 261, 261]],\n",
       "\n",
       "        [[259, 101, 102,  ..., 261, 261, 261]],\n",
       "\n",
       "        [[259, 102, 114,  ..., 261, 261, 261]]])"
      ]
     },
     "execution_count": 25,
     "metadata": {},
     "output_type": "execute_result"
    }
   ],
   "source": [
    "batch[\"tokens\"][\"tokens\"]"
   ]
  },
  {
   "cell_type": "code",
   "execution_count": 26,
   "metadata": {},
   "outputs": [],
   "source": [
    "class BaselineModel(Model):\n",
    "    def __init__(self, word_embeddings: TextFieldEmbedder,\n",
    "                 encoder: Seq2VecEncoder,\n",
    "                 out_sz: int):\n",
    "        super().__init__(vocab)\n",
    "        self.word_embeddings = word_embeddings\n",
    "        self.encoder = encoder\n",
    "        self.projection = nn.Linear(self.encoder.get_output_dim(), out_sz)\n",
    "        self.loss = torch.nn.CrossEntropyLoss()\n",
    "        self.metrics = {\n",
    "                \"accuracy\": CategoricalAccuracy()\n",
    "                #,\"accuracy3\": CategoricalAccuracy(top_k=3)\n",
    "        }\n",
    "        \n",
    "    def forward(self, tokens: Dict[str, torch.Tensor],\n",
    "                label: torch.Tensor) -> torch.Tensor:\n",
    "        \n",
    "        mask = get_text_field_mask(tokens)\n",
    "        embeddings = self.word_embeddings(tokens)\n",
    "        state = self.encoder(embeddings, mask)\n",
    "        class_logits = self.projection(state)\n",
    "        class_probabilities = F.softmax(class_logits)\n",
    "        \n",
    "        if label is not None:\n",
    "            if label.shape[0] == 1:\n",
    "                loss = self.loss(class_logits, label)\n",
    "            else:    \n",
    "                loss = self.loss(class_logits, label.squeeze(-1))\n",
    "        \n",
    "            for metric in self.metrics.values():\n",
    "                if label.shape[0] == 1:\n",
    "                    metric(class_logits, label)\n",
    "                else:\n",
    "                    metric(class_logits, label.squeeze(-1))\n",
    "        \n",
    "        output = {\"class_logits\": class_logits, \"class_probabilities\": class_probabilities, \"loss\": loss }\n",
    "        return output"
   ]
  },
  {
   "cell_type": "code",
   "execution_count": 27,
   "metadata": {},
   "outputs": [],
   "source": [
    "options_file = 'https://s3-us-west-2.amazonaws.com/allennlp/models/elmo/contributed/pt/elmo_pt_options.json'\n",
    "weight_file = 'https://s3-us-west-2.amazonaws.com/allennlp/models/elmo/contributed/pt/elmo_pt_weights.hdf5'\n",
    "\n",
    "elmo_embedder = ElmoTokenEmbedder(options_file, weight_file)\n",
    "word_embeddings = BasicTextFieldEmbedder({\"tokens\": elmo_embedder})"
   ]
  },
  {
   "cell_type": "code",
   "execution_count": 28,
   "metadata": {},
   "outputs": [],
   "source": [
    "encoder: Seq2VecEncoder = PytorchSeq2VecWrapper(nn.LSTM(word_embeddings.get_output_dim(), config.hidden_sz, \n",
    "                                                        bidirectional=True, batch_first=True))"
   ]
  },
  {
   "cell_type": "code",
   "execution_count": 29,
   "metadata": {},
   "outputs": [],
   "source": [
    "model = BaselineModel(\n",
    "    word_embeddings, \n",
    "    encoder, num_labels)"
   ]
  },
  {
   "cell_type": "code",
   "execution_count": 30,
   "metadata": {},
   "outputs": [],
   "source": [
    "if USE_GPU: model.cuda(gpu)\n",
    "else: model"
   ]
  },
  {
   "cell_type": "code",
   "execution_count": 31,
   "metadata": {},
   "outputs": [],
   "source": [
    "batch = nn_util.move_to_device(batch, gpu if USE_GPU else -1)"
   ]
  },
  {
   "cell_type": "code",
   "execution_count": 32,
   "metadata": {},
   "outputs": [],
   "source": [
    "tokens = batch[\"tokens\"]\n",
    "labels = batch"
   ]
  },
  {
   "cell_type": "code",
   "execution_count": 33,
   "metadata": {},
   "outputs": [],
   "source": [
    "mask = get_text_field_mask(tokens)"
   ]
  },
  {
   "cell_type": "code",
   "execution_count": 34,
   "metadata": {},
   "outputs": [],
   "source": [
    "embeddings = model.word_embeddings(tokens)\n",
    "state = model.encoder(embeddings, mask)\n",
    "class_logits = model.projection(state)"
   ]
  },
  {
   "cell_type": "code",
   "execution_count": 35,
   "metadata": {},
   "outputs": [
    {
     "data": {
      "text/plain": [
       "torch.Size([512, 1, 1024])"
      ]
     },
     "execution_count": 35,
     "metadata": {},
     "output_type": "execute_result"
    }
   ],
   "source": [
    "embeddings.size()"
   ]
  },
  {
   "cell_type": "code",
   "execution_count": 36,
   "metadata": {},
   "outputs": [
    {
     "data": {
      "text/plain": [
       "tensor([[ 0.0060,  0.0451, -0.1665,  ..., -0.0425,  0.2952, -0.1151],\n",
       "        [-0.0052,  0.0657,  0.1333,  ..., -0.0764,  0.0946,  0.1465],\n",
       "        [-0.0788,  0.0570, -0.0321,  ...,  0.0499,  0.3829, -0.1072],\n",
       "        ...,\n",
       "        [-0.1604,  0.1710, -0.2130,  ..., -0.0664,  0.0458, -0.0040],\n",
       "        [ 0.1012,  0.0011, -0.1315,  ..., -0.0652,  0.2154,  0.1145],\n",
       "        [-0.0641,  0.1374, -0.0768,  ..., -0.0208,  0.2029, -0.0149]],\n",
       "       device='cuda:2', grad_fn=<ViewBackward>)"
      ]
     },
     "execution_count": 36,
     "metadata": {},
     "output_type": "execute_result"
    }
   ],
   "source": [
    "state"
   ]
  },
  {
   "cell_type": "code",
   "execution_count": 37,
   "metadata": {},
   "outputs": [
    {
     "name": "stderr",
     "output_type": "stream",
     "text": [
      "/usr/local/lib/python3.6/dist-packages/ipykernel_launcher.py:22: UserWarning: Implicit dimension choice for softmax has been deprecated. Change the call to include dim=X as an argument.\n"
     ]
    },
    {
     "data": {
      "text/plain": [
       "{'class_logits': tensor([[-0.0897, -0.0763, -0.0892,  ..., -0.0072, -0.1741,  0.0967],\n",
       "         [-0.1738, -0.3325, -0.0613,  ..., -0.0716, -0.0088,  0.0845],\n",
       "         [-0.0331,  0.0664,  0.0095,  ...,  0.1420, -0.0432,  0.0594],\n",
       "         ...,\n",
       "         [-0.0523,  0.0139, -0.0854,  ..., -0.0604, -0.0689,  0.1154],\n",
       "         [-0.0608,  0.0371, -0.0422,  ..., -0.0699, -0.0721,  0.0790],\n",
       "         [-0.0623,  0.0454, -0.0813,  ..., -0.0589, -0.2096,  0.0404]],\n",
       "        device='cuda:2', grad_fn=<AddmmBackward>),\n",
       " 'class_probabilities': tensor([[0.0075, 0.0076, 0.0075,  ..., 0.0081, 0.0069, 0.0090],\n",
       "         [0.0070, 0.0060, 0.0078,  ..., 0.0078, 0.0083, 0.0091],\n",
       "         [0.0079, 0.0087, 0.0083,  ..., 0.0094, 0.0078, 0.0087],\n",
       "         ...,\n",
       "         [0.0079, 0.0084, 0.0076,  ..., 0.0078, 0.0077, 0.0093],\n",
       "         [0.0077, 0.0085, 0.0079,  ..., 0.0077, 0.0077, 0.0089],\n",
       "         [0.0078, 0.0087, 0.0076,  ..., 0.0078, 0.0067, 0.0086]],\n",
       "        device='cuda:2', grad_fn=<SoftmaxBackward>),\n",
       " 'loss': tensor(4.8150, device='cuda:2', grad_fn=<NllLossBackward>)}"
      ]
     },
     "execution_count": 37,
     "metadata": {},
     "output_type": "execute_result"
    }
   ],
   "source": [
    "model(**batch)"
   ]
  },
  {
   "cell_type": "code",
   "execution_count": 38,
   "metadata": {},
   "outputs": [
    {
     "name": "stderr",
     "output_type": "stream",
     "text": [
      "/usr/local/lib/python3.6/dist-packages/ipykernel_launcher.py:22: UserWarning: Implicit dimension choice for softmax has been deprecated. Change the call to include dim=X as an argument.\n"
     ]
    }
   ],
   "source": [
    "loss = model(**batch)[\"loss\"]"
   ]
  },
  {
   "cell_type": "code",
   "execution_count": 39,
   "metadata": {},
   "outputs": [
    {
     "data": {
      "text/plain": [
       "tensor(4.8112, device='cuda:2', grad_fn=<NllLossBackward>)"
      ]
     },
     "execution_count": 39,
     "metadata": {},
     "output_type": "execute_result"
    }
   ],
   "source": [
    "loss"
   ]
  },
  {
   "cell_type": "code",
   "execution_count": 40,
   "metadata": {},
   "outputs": [],
   "source": [
    "loss.backward()"
   ]
  },
  {
   "cell_type": "code",
   "execution_count": 41,
   "metadata": {},
   "outputs": [
    {
     "data": {
      "text/plain": [
       "[tensor([[ 7.3666e-05,  2.3069e-06, -1.0146e-04,  ...,  1.5169e-05,\n",
       "          -1.4795e-04,  1.1037e-04],\n",
       "         [ 2.0416e-04,  8.2249e-05,  2.6574e-04,  ...,  1.2385e-04,\n",
       "          -1.1094e-04, -1.6953e-04],\n",
       "         [ 1.2842e-04,  1.4631e-04,  3.8783e-04,  ...,  8.8625e-05,\n",
       "          -1.6765e-04, -3.8572e-05],\n",
       "         ...,\n",
       "         [-7.3214e-05, -1.7743e-05,  4.3286e-05,  ..., -4.4244e-05,\n",
       "           1.0873e-04, -2.3249e-05],\n",
       "         [ 1.2628e-04,  4.2931e-05,  3.7484e-05,  ...,  1.3265e-04,\n",
       "          -9.6574e-05, -1.9282e-04],\n",
       "         [ 5.0728e-05, -7.2969e-05, -2.4717e-04,  ...,  8.9491e-05,\n",
       "          -1.4963e-05,  6.7783e-05]], device='cuda:2'),\n",
       " tensor([[0., 0., 0.,  ..., 0., 0., 0.],\n",
       "         [0., 0., 0.,  ..., 0., 0., 0.],\n",
       "         [0., 0., 0.,  ..., 0., 0., 0.],\n",
       "         ...,\n",
       "         [0., 0., 0.,  ..., 0., 0., 0.],\n",
       "         [0., 0., 0.,  ..., 0., 0., 0.],\n",
       "         [0., 0., 0.,  ..., 0., 0., 0.]], device='cuda:2'),\n",
       " tensor([ 1.8792e-04, -2.6222e-04, -4.7218e-04,  ..., -1.2869e-04,\n",
       "          8.8469e-05,  5.8200e-04], device='cuda:2'),\n",
       " tensor([ 1.8792e-04, -2.6222e-04, -4.7218e-04,  ..., -1.2869e-04,\n",
       "          8.8469e-05,  5.8200e-04], device='cuda:2'),\n",
       " tensor([[-4.6080e-05,  5.5674e-05,  2.1151e-05,  ...,  7.3041e-05,\n",
       "          -1.1086e-04,  1.7117e-04],\n",
       "         [ 7.8496e-05,  3.0275e-05,  2.4662e-05,  ..., -5.8553e-05,\n",
       "           8.3597e-05, -7.5457e-05],\n",
       "         [-1.0241e-05, -3.3541e-06, -1.2031e-05,  ..., -3.5291e-06,\n",
       "           5.4470e-05,  1.6381e-05],\n",
       "         ...,\n",
       "         [-6.4855e-05, -7.4097e-05, -8.7141e-05,  ..., -5.7360e-05,\n",
       "           2.9936e-04, -2.2282e-04],\n",
       "         [ 1.9856e-04,  5.1458e-05,  2.2865e-04,  ...,  1.6512e-04,\n",
       "          -2.4194e-04, -3.1215e-05],\n",
       "         [-4.8670e-06,  2.6393e-05,  1.1007e-05,  ...,  6.8045e-05,\n",
       "          -6.4031e-05,  6.2374e-05]], device='cuda:2'),\n",
       " tensor([[0., 0., 0.,  ..., 0., 0., 0.],\n",
       "         [0., 0., 0.,  ..., 0., 0., 0.],\n",
       "         [0., 0., 0.,  ..., 0., 0., 0.],\n",
       "         ...,\n",
       "         [0., 0., 0.,  ..., 0., 0., 0.],\n",
       "         [0., 0., 0.,  ..., 0., 0., 0.],\n",
       "         [0., 0., 0.,  ..., 0., 0., 0.]], device='cuda:2'),\n",
       " tensor([ 1.4683e-04, -1.1989e-06,  4.4586e-05,  ..., -1.6510e-04,\n",
       "         -2.5523e-04, -1.6354e-05], device='cuda:2'),\n",
       " tensor([ 1.4683e-04, -1.1989e-06,  4.4586e-05,  ..., -1.6510e-04,\n",
       "         -2.5523e-04, -1.6354e-05], device='cuda:2')]"
      ]
     },
     "execution_count": 41,
     "metadata": {},
     "output_type": "execute_result"
    }
   ],
   "source": [
    "[x.grad for x in list(model.encoder.parameters())]"
   ]
  },
  {
   "cell_type": "markdown",
   "metadata": {},
   "source": [
    "## TRAIN"
   ]
  },
  {
   "cell_type": "code",
   "execution_count": 42,
   "metadata": {},
   "outputs": [],
   "source": [
    "optimizer = optim.Adam(model.parameters(), lr=config.lr)"
   ]
  },
  {
   "cell_type": "code",
   "execution_count": 43,
   "metadata": {},
   "outputs": [],
   "source": [
    "from allennlp.training.trainer import Trainer\n",
    "\n",
    "trainer = Trainer(\n",
    "    model=model,\n",
    "    patience=5,\n",
    "    optimizer=optimizer,\n",
    "    iterator=iterator,\n",
    "    train_dataset=train_dataset,\n",
    "    validation_dataset=val_dataset,\n",
    "    cuda_device=gpu if USE_GPU else -1,\n",
    "    num_epochs=config.epochs,\n",
    ")"
   ]
  },
  {
   "cell_type": "code",
   "execution_count": 44,
   "metadata": {},
   "outputs": [
    {
     "name": "stderr",
     "output_type": "stream",
     "text": [
      "/usr/local/lib/python3.6/dist-packages/torch/nn/modules/container.py:435: UserWarning: Setting attributes on ParameterList is not supported.\n",
      "  warnings.warn(\"Setting attributes on ParameterList is not supported.\")\n",
      "  0%|          | 0/943 [00:00<?, ?it/s]/usr/local/lib/python3.6/dist-packages/ipykernel_launcher.py:22: UserWarning: Implicit dimension choice for softmax has been deprecated. Change the call to include dim=X as an argument.\n",
      "loss: 1.0044 ||: 100%|██████████| 943/943 [11:20<00:00,  1.39it/s]\n",
      "loss: 0.5356 ||: 100%|██████████| 105/105 [01:15<00:00,  1.38it/s]\n",
      "/usr/local/lib/python3.6/dist-packages/torch/nn/modules/container.py:435: UserWarning: Setting attributes on ParameterList is not supported.\n",
      "  warnings.warn(\"Setting attributes on ParameterList is not supported.\")\n",
      "  0%|          | 0/943 [00:00<?, ?it/s]/usr/local/lib/python3.6/dist-packages/ipykernel_launcher.py:22: UserWarning: Implicit dimension choice for softmax has been deprecated. Change the call to include dim=X as an argument.\n",
      "loss: 0.5280 ||: 100%|██████████| 943/943 [10:56<00:00,  1.44it/s]\n",
      "loss: 0.4674 ||: 100%|██████████| 105/105 [00:44<00:00,  2.36it/s]\n",
      "/usr/local/lib/python3.6/dist-packages/torch/nn/modules/container.py:435: UserWarning: Setting attributes on ParameterList is not supported.\n",
      "  warnings.warn(\"Setting attributes on ParameterList is not supported.\")\n",
      "  0%|          | 0/943 [00:00<?, ?it/s]/usr/local/lib/python3.6/dist-packages/ipykernel_launcher.py:22: UserWarning: Implicit dimension choice for softmax has been deprecated. Change the call to include dim=X as an argument.\n",
      "loss: 0.4574 ||: 100%|██████████| 943/943 [11:48<00:00,  1.33it/s]\n",
      "loss: 0.4030 ||: 100%|██████████| 105/105 [00:35<00:00,  2.99it/s]\n",
      "/usr/local/lib/python3.6/dist-packages/torch/nn/modules/container.py:435: UserWarning: Setting attributes on ParameterList is not supported.\n",
      "  warnings.warn(\"Setting attributes on ParameterList is not supported.\")\n",
      "  0%|          | 0/943 [00:00<?, ?it/s]/usr/local/lib/python3.6/dist-packages/ipykernel_launcher.py:22: UserWarning: Implicit dimension choice for softmax has been deprecated. Change the call to include dim=X as an argument.\n",
      "loss: 0.4169 ||: 100%|██████████| 943/943 [11:15<00:00,  1.40it/s]\n",
      "loss: 0.3834 ||: 100%|██████████| 105/105 [01:09<00:00,  1.52it/s]\n",
      "/usr/local/lib/python3.6/dist-packages/torch/nn/modules/container.py:435: UserWarning: Setting attributes on ParameterList is not supported.\n",
      "  warnings.warn(\"Setting attributes on ParameterList is not supported.\")\n",
      "  0%|          | 0/943 [00:00<?, ?it/s]/usr/local/lib/python3.6/dist-packages/ipykernel_launcher.py:22: UserWarning: Implicit dimension choice for softmax has been deprecated. Change the call to include dim=X as an argument.\n",
      "loss: 0.3970 ||: 100%|██████████| 943/943 [10:25<00:00,  1.51it/s]\n",
      "loss: 0.3660 ||: 100%|██████████| 105/105 [01:09<00:00,  1.51it/s]\n",
      "/usr/local/lib/python3.6/dist-packages/torch/nn/modules/container.py:435: UserWarning: Setting attributes on ParameterList is not supported.\n",
      "  warnings.warn(\"Setting attributes on ParameterList is not supported.\")\n",
      "  0%|          | 0/943 [00:00<?, ?it/s]/usr/local/lib/python3.6/dist-packages/ipykernel_launcher.py:22: UserWarning: Implicit dimension choice for softmax has been deprecated. Change the call to include dim=X as an argument.\n",
      "loss: 0.3965 ||: 100%|██████████| 943/943 [10:42<00:00,  1.47it/s]\n",
      "loss: 0.3614 ||: 100%|██████████| 105/105 [00:35<00:00,  2.92it/s]\n",
      "/usr/local/lib/python3.6/dist-packages/torch/nn/modules/container.py:435: UserWarning: Setting attributes on ParameterList is not supported.\n",
      "  warnings.warn(\"Setting attributes on ParameterList is not supported.\")\n",
      "  0%|          | 0/943 [00:00<?, ?it/s]/usr/local/lib/python3.6/dist-packages/ipykernel_launcher.py:22: UserWarning: Implicit dimension choice for softmax has been deprecated. Change the call to include dim=X as an argument.\n",
      "loss: 0.3660 ||: 100%|██████████| 943/943 [11:53<00:00,  1.32it/s]\n",
      "loss: 0.3494 ||: 100%|██████████| 105/105 [00:34<00:00,  3.02it/s]\n",
      "/usr/local/lib/python3.6/dist-packages/torch/nn/modules/container.py:435: UserWarning: Setting attributes on ParameterList is not supported.\n",
      "  warnings.warn(\"Setting attributes on ParameterList is not supported.\")\n",
      "  0%|          | 0/943 [00:00<?, ?it/s]/usr/local/lib/python3.6/dist-packages/ipykernel_launcher.py:22: UserWarning: Implicit dimension choice for softmax has been deprecated. Change the call to include dim=X as an argument.\n",
      "loss: 0.3611 ||: 100%|██████████| 943/943 [11:33<00:00,  1.36it/s]\n",
      "loss: 0.3392 ||: 100%|██████████| 105/105 [01:13<00:00,  1.44it/s]\n",
      "/usr/local/lib/python3.6/dist-packages/torch/nn/modules/container.py:435: UserWarning: Setting attributes on ParameterList is not supported.\n",
      "  warnings.warn(\"Setting attributes on ParameterList is not supported.\")\n",
      "  0%|          | 0/943 [00:00<?, ?it/s]/usr/local/lib/python3.6/dist-packages/ipykernel_launcher.py:22: UserWarning: Implicit dimension choice for softmax has been deprecated. Change the call to include dim=X as an argument.\n",
      "loss: 0.3466 ||: 100%|██████████| 943/943 [10:51<00:00,  1.45it/s]\n",
      "loss: 0.3457 ||: 100%|██████████| 105/105 [01:10<00:00,  1.49it/s]\n",
      "/usr/local/lib/python3.6/dist-packages/torch/nn/modules/container.py:435: UserWarning: Setting attributes on ParameterList is not supported.\n",
      "  warnings.warn(\"Setting attributes on ParameterList is not supported.\")\n",
      "  0%|          | 0/943 [00:00<?, ?it/s]/usr/local/lib/python3.6/dist-packages/ipykernel_launcher.py:22: UserWarning: Implicit dimension choice for softmax has been deprecated. Change the call to include dim=X as an argument.\n",
      "loss: 0.3454 ||: 100%|██████████| 943/943 [10:48<00:00,  1.45it/s]\n",
      "loss: 0.3322 ||: 100%|██████████| 105/105 [01:09<00:00,  1.50it/s]\n",
      "/usr/local/lib/python3.6/dist-packages/torch/nn/modules/container.py:435: UserWarning: Setting attributes on ParameterList is not supported.\n",
      "  warnings.warn(\"Setting attributes on ParameterList is not supported.\")\n",
      "  0%|          | 0/943 [00:00<?, ?it/s]/usr/local/lib/python3.6/dist-packages/ipykernel_launcher.py:22: UserWarning: Implicit dimension choice for softmax has been deprecated. Change the call to include dim=X as an argument.\n",
      "loss: 0.3220 ||: 100%|██████████| 943/943 [11:15<00:00,  1.40it/s]\n",
      "loss: 0.3342 ||: 100%|██████████| 105/105 [00:41<00:00,  2.55it/s]\n",
      "/usr/local/lib/python3.6/dist-packages/torch/nn/modules/container.py:435: UserWarning: Setting attributes on ParameterList is not supported.\n",
      "  warnings.warn(\"Setting attributes on ParameterList is not supported.\")\n",
      "  0%|          | 0/943 [00:00<?, ?it/s]/usr/local/lib/python3.6/dist-packages/ipykernel_launcher.py:22: UserWarning: Implicit dimension choice for softmax has been deprecated. Change the call to include dim=X as an argument.\n",
      "loss: 0.3221 ||: 100%|██████████| 943/943 [11:51<00:00,  1.33it/s]\n",
      "loss: 0.3268 ||: 100%|██████████| 105/105 [00:35<00:00,  2.95it/s]\n",
      "/usr/local/lib/python3.6/dist-packages/torch/nn/modules/container.py:435: UserWarning: Setting attributes on ParameterList is not supported.\n",
      "  warnings.warn(\"Setting attributes on ParameterList is not supported.\")\n",
      "  0%|          | 0/943 [00:00<?, ?it/s]/usr/local/lib/python3.6/dist-packages/ipykernel_launcher.py:22: UserWarning: Implicit dimension choice for softmax has been deprecated. Change the call to include dim=X as an argument.\n",
      "loss: 0.3148 ||: 100%|██████████| 943/943 [11:48<00:00,  1.33it/s]\n",
      "loss: 0.3422 ||: 100%|██████████| 105/105 [00:54<00:00,  1.94it/s]\n",
      "/usr/local/lib/python3.6/dist-packages/torch/nn/modules/container.py:435: UserWarning: Setting attributes on ParameterList is not supported.\n",
      "  warnings.warn(\"Setting attributes on ParameterList is not supported.\")\n",
      "  0%|          | 0/943 [00:00<?, ?it/s]/usr/local/lib/python3.6/dist-packages/ipykernel_launcher.py:22: UserWarning: Implicit dimension choice for softmax has been deprecated. Change the call to include dim=X as an argument.\n",
      "loss: 0.3189 ||: 100%|██████████| 943/943 [11:36<00:00,  1.35it/s]\n",
      "loss: 0.3236 ||: 100%|██████████| 105/105 [01:10<00:00,  1.50it/s]\n",
      "/usr/local/lib/python3.6/dist-packages/torch/nn/modules/container.py:435: UserWarning: Setting attributes on ParameterList is not supported.\n",
      "  warnings.warn(\"Setting attributes on ParameterList is not supported.\")\n"
     ]
    },
    {
     "name": "stderr",
     "output_type": "stream",
     "text": [
      "  0%|          | 0/943 [00:00<?, ?it/s]/usr/local/lib/python3.6/dist-packages/ipykernel_launcher.py:22: UserWarning: Implicit dimension choice for softmax has been deprecated. Change the call to include dim=X as an argument.\n",
      "loss: 0.3175 ||: 100%|██████████| 943/943 [10:36<00:00,  1.48it/s]\n",
      "loss: 0.3293 ||: 100%|██████████| 105/105 [01:10<00:00,  1.48it/s]\n",
      "/usr/local/lib/python3.6/dist-packages/torch/nn/modules/container.py:435: UserWarning: Setting attributes on ParameterList is not supported.\n",
      "  warnings.warn(\"Setting attributes on ParameterList is not supported.\")\n",
      "  0%|          | 0/943 [00:00<?, ?it/s]/usr/local/lib/python3.6/dist-packages/ipykernel_launcher.py:22: UserWarning: Implicit dimension choice for softmax has been deprecated. Change the call to include dim=X as an argument.\n",
      "loss: 0.3086 ||: 100%|██████████| 943/943 [10:57<00:00,  1.43it/s]\n",
      "loss: 0.3222 ||: 100%|██████████| 105/105 [00:36<00:00,  2.87it/s]\n",
      "/usr/local/lib/python3.6/dist-packages/torch/nn/modules/container.py:435: UserWarning: Setting attributes on ParameterList is not supported.\n",
      "  warnings.warn(\"Setting attributes on ParameterList is not supported.\")\n",
      "  0%|          | 0/943 [00:00<?, ?it/s]/usr/local/lib/python3.6/dist-packages/ipykernel_launcher.py:22: UserWarning: Implicit dimension choice for softmax has been deprecated. Change the call to include dim=X as an argument.\n",
      "loss: 0.3057 ||: 100%|██████████| 943/943 [12:13<00:00,  1.29it/s]\n",
      "loss: 0.3278 ||: 100%|██████████| 105/105 [00:36<00:00,  2.86it/s]\n",
      "/usr/local/lib/python3.6/dist-packages/torch/nn/modules/container.py:435: UserWarning: Setting attributes on ParameterList is not supported.\n",
      "  warnings.warn(\"Setting attributes on ParameterList is not supported.\")\n",
      "  0%|          | 0/943 [00:00<?, ?it/s]/usr/local/lib/python3.6/dist-packages/ipykernel_launcher.py:22: UserWarning: Implicit dimension choice for softmax has been deprecated. Change the call to include dim=X as an argument.\n",
      "loss: 0.2998 ||: 100%|██████████| 943/943 [12:02<00:00,  1.30it/s]\n",
      "loss: 0.3259 ||: 100%|██████████| 105/105 [00:50<00:00,  2.09it/s]\n",
      "/usr/local/lib/python3.6/dist-packages/torch/nn/modules/container.py:435: UserWarning: Setting attributes on ParameterList is not supported.\n",
      "  warnings.warn(\"Setting attributes on ParameterList is not supported.\")\n",
      "  0%|          | 0/943 [00:00<?, ?it/s]/usr/local/lib/python3.6/dist-packages/ipykernel_launcher.py:22: UserWarning: Implicit dimension choice for softmax has been deprecated. Change the call to include dim=X as an argument.\n",
      "loss: 0.3111 ||: 100%|██████████| 943/943 [11:33<00:00,  1.36it/s]\n",
      "loss: 0.3228 ||: 100%|██████████| 105/105 [01:13<00:00,  1.43it/s]\n",
      "/usr/local/lib/python3.6/dist-packages/torch/nn/modules/container.py:435: UserWarning: Setting attributes on ParameterList is not supported.\n",
      "  warnings.warn(\"Setting attributes on ParameterList is not supported.\")\n",
      "  0%|          | 0/943 [00:00<?, ?it/s]/usr/local/lib/python3.6/dist-packages/ipykernel_launcher.py:22: UserWarning: Implicit dimension choice for softmax has been deprecated. Change the call to include dim=X as an argument.\n",
      "loss: 0.2936 ||: 100%|██████████| 943/943 [11:17<00:00,  1.39it/s]\n",
      "loss: 0.3405 ||: 100%|██████████| 105/105 [01:10<00:00,  1.48it/s]\n",
      "/usr/local/lib/python3.6/dist-packages/torch/nn/modules/container.py:435: UserWarning: Setting attributes on ParameterList is not supported.\n",
      "  warnings.warn(\"Setting attributes on ParameterList is not supported.\")\n",
      "  0%|          | 0/943 [00:00<?, ?it/s]/usr/local/lib/python3.6/dist-packages/ipykernel_launcher.py:22: UserWarning: Implicit dimension choice for softmax has been deprecated. Change the call to include dim=X as an argument.\n",
      "loss: 0.2952 ||: 100%|██████████| 943/943 [10:56<00:00,  1.44it/s]\n",
      "loss: 0.3417 ||: 100%|██████████| 105/105 [01:09<00:00,  1.51it/s]\n"
     ]
    }
   ],
   "source": [
    "metrics = trainer.train()"
   ]
  },
  {
   "cell_type": "code",
   "execution_count": 45,
   "metadata": {},
   "outputs": [],
   "source": [
    "# Here's how to save the model.\n",
    "with open(ELMO_MODEL_PATH, 'wb+') as f:\n",
    "    torch.save(model.state_dict(), f)\n",
    "\n",
    "vocab.save_to_files(ELMO_VOCAB_PATH)"
   ]
  },
  {
   "cell_type": "code",
   "execution_count": 46,
   "metadata": {},
   "outputs": [],
   "source": [
    "# And here's how to reload the model.\n",
    "vocab2 = Vocabulary.from_files(ELMO_VOCAB_PATH)\n",
    "\n",
    "model = BaselineModel(\n",
    "    word_embeddings, \n",
    "    encoder, num_labels)\n",
    "\n",
    "with open(ELMO_MODEL_PATH, 'rb') as f:\n",
    "    model.load_state_dict(torch.load(f))"
   ]
  },
  {
   "cell_type": "code",
   "execution_count": 47,
   "metadata": {},
   "outputs": [
    {
     "data": {
      "text/plain": [
       "BaselineModel(\n",
       "  (word_embeddings): BasicTextFieldEmbedder(\n",
       "    (token_embedder_tokens): ElmoTokenEmbedder(\n",
       "      (_elmo): Elmo(\n",
       "        (_elmo_lstm): _ElmoBiLm(\n",
       "          (_token_embedder): _ElmoCharacterEncoder(\n",
       "            (char_conv_0): Conv1d(16, 32, kernel_size=(1,), stride=(1,))\n",
       "            (char_conv_1): Conv1d(16, 32, kernel_size=(2,), stride=(1,))\n",
       "            (char_conv_2): Conv1d(16, 64, kernel_size=(3,), stride=(1,))\n",
       "            (char_conv_3): Conv1d(16, 128, kernel_size=(4,), stride=(1,))\n",
       "            (char_conv_4): Conv1d(16, 256, kernel_size=(5,), stride=(1,))\n",
       "            (char_conv_5): Conv1d(16, 512, kernel_size=(6,), stride=(1,))\n",
       "            (char_conv_6): Conv1d(16, 1024, kernel_size=(7,), stride=(1,))\n",
       "            (_highways): Highway(\n",
       "              (_layers): ModuleList(\n",
       "                (0): Linear(in_features=2048, out_features=4096, bias=True)\n",
       "                (1): Linear(in_features=2048, out_features=4096, bias=True)\n",
       "              )\n",
       "            )\n",
       "            (_projection): Linear(in_features=2048, out_features=512, bias=True)\n",
       "          )\n",
       "          (_elmo_lstm): ElmoLstm(\n",
       "            (forward_layer_0): LstmCellWithProjection(\n",
       "              (input_linearity): Linear(in_features=512, out_features=16384, bias=False)\n",
       "              (state_linearity): Linear(in_features=512, out_features=16384, bias=True)\n",
       "              (state_projection): Linear(in_features=4096, out_features=512, bias=False)\n",
       "            )\n",
       "            (backward_layer_0): LstmCellWithProjection(\n",
       "              (input_linearity): Linear(in_features=512, out_features=16384, bias=False)\n",
       "              (state_linearity): Linear(in_features=512, out_features=16384, bias=True)\n",
       "              (state_projection): Linear(in_features=4096, out_features=512, bias=False)\n",
       "            )\n",
       "            (forward_layer_1): LstmCellWithProjection(\n",
       "              (input_linearity): Linear(in_features=512, out_features=16384, bias=False)\n",
       "              (state_linearity): Linear(in_features=512, out_features=16384, bias=True)\n",
       "              (state_projection): Linear(in_features=4096, out_features=512, bias=False)\n",
       "            )\n",
       "            (backward_layer_1): LstmCellWithProjection(\n",
       "              (input_linearity): Linear(in_features=512, out_features=16384, bias=False)\n",
       "              (state_linearity): Linear(in_features=512, out_features=16384, bias=True)\n",
       "              (state_projection): Linear(in_features=4096, out_features=512, bias=False)\n",
       "            )\n",
       "          )\n",
       "        )\n",
       "        (_dropout): Dropout(p=0.5, inplace=False)\n",
       "        (scalar_mix_0): ScalarMix(\n",
       "          (scalar_parameters): ParameterList(\n",
       "              (0): Parameter containing: [torch.cuda.FloatTensor of size 1 (GPU 2)]\n",
       "              (1): Parameter containing: [torch.cuda.FloatTensor of size 1 (GPU 2)]\n",
       "              (2): Parameter containing: [torch.cuda.FloatTensor of size 1 (GPU 2)]\n",
       "          )\n",
       "        )\n",
       "      )\n",
       "    )\n",
       "  )\n",
       "  (encoder): PytorchSeq2VecWrapper(\n",
       "    (_module): LSTM(1024, 300, batch_first=True, bidirectional=True)\n",
       "  )\n",
       "  (projection): Linear(in_features=600, out_features=121, bias=True)\n",
       "  (loss): CrossEntropyLoss()\n",
       ")"
      ]
     },
     "execution_count": 47,
     "metadata": {},
     "output_type": "execute_result"
    }
   ],
   "source": [
    "model.cuda(gpu)"
   ]
  },
  {
   "cell_type": "markdown",
   "metadata": {},
   "source": [
    "### Generating Predictions"
   ]
  },
  {
   "cell_type": "code",
   "execution_count": 48,
   "metadata": {},
   "outputs": [],
   "source": [
    "from tqdm import tqdm\n",
    "from scipy.special import expit # the sigmoid function\n",
    "\n",
    "def tonp(tsr): return tsr.detach().cpu().numpy()\n",
    "\n",
    "class Predictor:\n",
    "    def __init__(self, model: Model, iterator: DataIterator,\n",
    "                 cuda_device: int=-1) -> None:\n",
    "        self.model = model\n",
    "        self.iterator = iterator\n",
    "        self.cuda_device = cuda_device\n",
    "        \n",
    "    def _extract_data(self, batch) -> np.ndarray:\n",
    "        out_dict = self.model(**batch)\n",
    "        return tonp(out_dict[\"class_probabilities\"])\n",
    "    \n",
    "    def predict(self, ds: Iterable[Instance]) -> np.ndarray:\n",
    "        pred_generator = self.iterator(ds, num_epochs=1, shuffle=False)\n",
    "        self.model.eval()\n",
    "        pred_generator_tqdm = tqdm(pred_generator,\n",
    "                                   total=self.iterator.get_num_batches(ds))\n",
    "        preds = []\n",
    "        with torch.no_grad():\n",
    "            for batch in pred_generator_tqdm:\n",
    "                batch = nn_util.move_to_device(batch, self.cuda_device)\n",
    "                preds.append(self._extract_data(batch))\n",
    "        return np.concatenate(preds, axis=0)"
   ]
  },
  {
   "cell_type": "code",
   "execution_count": 49,
   "metadata": {},
   "outputs": [],
   "source": [
    "from allennlp.data.iterators import BasicIterator\n",
    "# iterate over the dataset without changing its order\n",
    "seq_iterator = BasicIterator(batch_size=64)\n",
    "seq_iterator.index_with(vocab)"
   ]
  },
  {
   "cell_type": "code",
   "execution_count": 50,
   "metadata": {},
   "outputs": [
    {
     "name": "stderr",
     "output_type": "stream",
     "text": [
      "  0%|          | 0/2094 [00:00<?, ?it/s]/usr/local/lib/python3.6/dist-packages/ipykernel_launcher.py:22: UserWarning: Implicit dimension choice for softmax has been deprecated. Change the call to include dim=X as an argument.\n",
      "100%|██████████| 2094/2094 [09:11<00:00,  3.79it/s]\n"
     ]
    }
   ],
   "source": [
    "predictor = Predictor(model, seq_iterator, cuda_device=gpu if USE_GPU else -1)\n",
    "test_preds = predictor.predict(test_dataset)"
   ]
  },
  {
   "cell_type": "code",
   "execution_count": 51,
   "metadata": {},
   "outputs": [],
   "source": [
    "Y_pred=test_preds.argmax(axis=1)"
   ]
  },
  {
   "cell_type": "code",
   "execution_count": 52,
   "metadata": {},
   "outputs": [],
   "source": [
    "Y_test = []\n",
    "for x in test_dataset:\n",
    "    Y_test.append(vars(x.fields['label'])['_label_id'])"
   ]
  },
  {
   "cell_type": "code",
   "execution_count": 53,
   "metadata": {},
   "outputs": [],
   "source": [
    "label_dict = model.vocab.get_index_to_token_vocabulary('labels')"
   ]
  },
  {
   "cell_type": "code",
   "execution_count": 54,
   "metadata": {},
   "outputs": [
    {
     "data": {
      "text/plain": [
       "'Sintomas.Genérico.Equipamento quebrado G'"
      ]
     },
     "execution_count": 54,
     "metadata": {},
     "output_type": "execute_result"
    }
   ],
   "source": [
    "label_dict[26]"
   ]
  },
  {
   "cell_type": "code",
   "execution_count": 55,
   "metadata": {},
   "outputs": [
    {
     "name": "stdout",
     "output_type": "stream",
     "text": [
      "              precision    recall  f1-score   support\n",
      "\n",
      "           0      0.942     0.941     0.942     14552\n",
      "           1      0.984     0.985     0.985     10158\n",
      "           2      0.982     0.975     0.979      9645\n",
      "           3      0.926     0.904     0.915      8357\n",
      "           4      0.971     0.958     0.964      8262\n",
      "           5      0.963     0.947     0.955      6605\n",
      "           6      0.851     0.919     0.884      5967\n",
      "           7      0.958     0.957     0.958      3737\n",
      "           8      0.957     0.940     0.948      3547\n",
      "           9      0.957     0.948     0.952      3343\n",
      "          10      0.973     0.981     0.977      2590\n",
      "          11      0.986     0.990     0.988      2501\n",
      "          12      0.921     0.950     0.935      2318\n",
      "          13      0.998     0.995     0.997      2193\n",
      "          14      0.972     0.972     0.972      2106\n",
      "          15      0.855     0.851     0.853      2049\n",
      "          16      0.960     0.922     0.940      1975\n",
      "          17      0.877     0.897     0.887      1926\n",
      "          18      0.866     0.924     0.894      1847\n",
      "          19      0.927     0.955     0.941      1816\n",
      "          20      0.888     0.783     0.832      1694\n",
      "          21      0.784     0.715     0.748      1683\n",
      "          22      0.944     0.890     0.917      1661\n",
      "          23      0.964     0.967     0.965      1558\n",
      "          24      0.857     0.883     0.870      1474\n",
      "          25      0.788     0.830     0.808      1451\n",
      "          26      0.952     0.944     0.948      1441\n",
      "          27      0.775     0.681     0.725      1200\n",
      "          28      0.844     0.876     0.860      1140\n",
      "          29      0.819     0.850     0.834      1094\n",
      "          30      0.868     0.880     0.874      1016\n",
      "          31      0.917     0.941     0.929       997\n",
      "          32      0.752     0.823     0.786       980\n",
      "          33      0.871     0.865     0.868       950\n",
      "          34      0.906     0.863     0.884       910\n",
      "          35      0.768     0.835     0.800       905\n",
      "          36      0.938     0.935     0.936       891\n",
      "          37      0.812     0.862     0.836       861\n",
      "          38      0.979     0.988     0.983       809\n",
      "          39      0.781     0.616     0.689       729\n",
      "          40      0.818     0.884     0.850       697\n",
      "          41      0.826     0.777     0.800       658\n",
      "          42      0.738     0.896     0.809       654\n",
      "          43      0.980     0.977     0.978       647\n",
      "          44      0.981     0.971     0.976       585\n",
      "          45      0.845     0.795     0.819       562\n",
      "          46      0.652     0.743     0.694       506\n",
      "          47      0.804     0.841     0.822       477\n",
      "          48      0.863     0.818     0.840       455\n",
      "          49      0.755     0.723     0.739       440\n",
      "          50      0.807     0.890     0.847       419\n",
      "          51      0.940     0.951     0.945       409\n",
      "          52      0.794     0.863     0.827       380\n",
      "          53      0.975     0.960     0.967       372\n",
      "          54      0.852     0.822     0.836       342\n",
      "          55      0.701     0.655     0.677       322\n",
      "          56      0.923     0.839     0.879       316\n",
      "          57      0.875     0.869     0.872       306\n",
      "          58      0.498     0.510     0.504       304\n",
      "          59      0.921     0.930     0.926       301\n",
      "          60      0.757     0.640     0.694       292\n",
      "          61      0.980     0.990     0.985       291\n",
      "          62      0.718     0.769     0.742       268\n",
      "          63      0.967     0.944     0.956       252\n",
      "          64      0.606     0.816     0.696       234\n",
      "          65      0.664     0.757     0.707       222\n",
      "          66      0.575     0.741     0.647       212\n",
      "          67      0.848     0.873     0.860       204\n",
      "          68      0.851     0.765     0.806       187\n",
      "          69      0.766     0.704     0.734       186\n",
      "          70      0.704     0.728     0.716       147\n",
      "          71      0.653     0.555     0.600       146\n",
      "          72      0.713     0.849     0.775       146\n",
      "          73      0.821     0.855     0.838       145\n",
      "          74      0.675     0.616     0.644       138\n",
      "          75      0.846     0.858     0.852       134\n",
      "          76      0.766     0.854     0.807       130\n",
      "          77      0.675     0.612     0.642       129\n",
      "          78      0.875     0.992     0.930       127\n",
      "          79      0.508     0.736     0.601       125\n",
      "          80      0.943     0.943     0.943       122\n",
      "          81      0.713     0.642     0.675       120\n",
      "          82      0.669     0.722     0.695       115\n",
      "          83      0.779     0.919     0.843       111\n",
      "          84      0.753     0.626     0.684       107\n",
      "          85      0.823     0.782     0.802       101\n",
      "          86      1.000     1.000     1.000        98\n",
      "          87      0.865     0.674     0.757        95\n",
      "          88      0.361     0.280     0.315        93\n",
      "          89      0.879     0.935     0.906        93\n",
      "          90      0.435     0.330     0.375        91\n",
      "          91      0.908     0.967     0.937        92\n",
      "          92      0.818     0.759     0.788        83\n",
      "          93      0.566     0.603     0.584        78\n",
      "          94      0.857     0.947     0.900        76\n",
      "          95      0.757     0.800     0.778        70\n",
      "          96      0.746     0.746     0.746        67\n",
      "          97      0.815     0.791     0.803        67\n",
      "          98      0.919     0.950     0.934        60\n",
      "          99      0.895     0.340     0.493        50\n",
      "         100      0.932     0.837     0.882        49\n",
      "         101      0.778     0.618     0.689        34\n",
      "         102      0.385     0.156     0.222        32\n",
      "         103      0.730     0.871     0.794        31\n",
      "         104      0.688     0.733     0.710        30\n",
      "         105      0.696     0.593     0.640        27\n",
      "         106      0.667     0.348     0.457        23\n",
      "         107      0.889     0.762     0.821        21\n",
      "         108      0.600     0.429     0.500        21\n",
      "         109      0.375     0.450     0.409        20\n",
      "         110      0.385     0.263     0.312        19\n",
      "         111      0.706     0.706     0.706        17\n",
      "         112      0.211     0.235     0.222        17\n",
      "         113      1.000     0.077     0.143        13\n",
      "         114      0.000     0.000     0.000         9\n",
      "         115      0.667     0.250     0.364         8\n",
      "         116      0.000     0.000     0.000         6\n",
      "         117      0.667     0.333     0.444         6\n",
      "         118      1.000     1.000     1.000         4\n",
      "         119      0.000     0.000     0.000         3\n",
      "         120      0.000     0.000     0.000         2\n",
      "\n",
      "    accuracy                          0.916    133986\n",
      "   macro avg      0.780     0.758     0.761    133986\n",
      "weighted avg      0.917     0.916     0.916    133986\n",
      "\n"
     ]
    }
   ],
   "source": [
    "from sklearn.metrics import classification_report\n",
    "print(classification_report(Y_test, Y_pred, digits=3))"
   ]
  },
  {
   "cell_type": "code",
   "execution_count": null,
   "metadata": {},
   "outputs": [],
   "source": []
  }
 ],
 "metadata": {
  "kernelspec": {
   "display_name": "Python 3",
   "language": "python",
   "name": "python3"
  },
  "language_info": {
   "codemirror_mode": {
    "name": "ipython",
    "version": 3
   },
   "file_extension": ".py",
   "mimetype": "text/x-python",
   "name": "python",
   "nbconvert_exporter": "python",
   "pygments_lexer": "ipython3",
   "version": "3.6.9"
  }
 },
 "nbformat": 4,
 "nbformat_minor": 2
}
