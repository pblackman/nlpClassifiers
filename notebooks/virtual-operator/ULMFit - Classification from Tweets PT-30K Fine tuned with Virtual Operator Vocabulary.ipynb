{
 "cells": [
  {
   "cell_type": "code",
   "execution_count": 34,
   "metadata": {},
   "outputs": [],
   "source": [
    "from __future__ import absolute_import\n",
    "from __future__ import division\n",
    "from __future__ import print_function"
   ]
  },
  {
   "cell_type": "code",
   "execution_count": 35,
   "metadata": {},
   "outputs": [
    {
     "name": "stdout",
     "output_type": "stream",
     "text": [
      "The autoreload extension is already loaded. To reload it, use:\n",
      "  %reload_ext autoreload\n"
     ]
    }
   ],
   "source": [
    "%load_ext autoreload\n",
    "%autoreload 2\n",
    "from fastai import *\n",
    "from fastai.text import * \n",
    "from fastai.callbacks import *\n",
    "import pandas as pd\n",
    "from tqdm import tnrange, tqdm_notebook"
   ]
  },
  {
   "cell_type": "code",
   "execution_count": 36,
   "metadata": {},
   "outputs": [
    {
     "name": "stdout",
     "output_type": "stream",
     "text": [
      "Devices available:  8\n",
      "Set device:  7\n",
      "Current device:  7\n"
     ]
    }
   ],
   "source": [
    "# See how many devices are around\n",
    "print('Devices available: ', torch.cuda.device_count())\n",
    "# Set it to a particular device\n",
    "CUDA_DEVICE = 7\n",
    "print('Set device: ', CUDA_DEVICE)\n",
    "torch.cuda.set_device(CUDA_DEVICE)\n",
    "# Check which device you are on\n",
    "print('Current device: ', torch.cuda.current_device())"
   ]
  },
  {
   "cell_type": "code",
   "execution_count": 37,
   "metadata": {},
   "outputs": [],
   "source": [
    "DATA_PATH = '../../data/virtual-operator'\n",
    "TRAIN_DATASET = os.path.join(DATA_PATH, 'train.csv')\n",
    "VAL_DATASET = os.path.join(DATA_PATH, 'val.csv')\n",
    "TEST_DATASET  = os.path.join(DATA_PATH, 'test.csv')"
   ]
  },
  {
   "cell_type": "code",
   "execution_count": 38,
   "metadata": {},
   "outputs": [],
   "source": [
    "LM_PATH=Path('../../models/ulmfit/lm/tweets-pt-pmann/')\n",
    "#LM_PATH.mkdir(exist_ok=True)"
   ]
  },
  {
   "cell_type": "code",
   "execution_count": 39,
   "metadata": {},
   "outputs": [],
   "source": [
    "def read_data(filename):\n",
    "    data = pd.read_csv(filename, sep=\";\", names =['utterance','label'], header=None, dtype={'utterance':str, 'label': str} )\n",
    "    return data"
   ]
  },
  {
   "cell_type": "code",
   "execution_count": 40,
   "metadata": {},
   "outputs": [],
   "source": [
    "train_dataset = read_data(TRAIN_DATASET).dropna()\n",
    "val_dataset = read_data(VAL_DATASET).dropna()\n",
    "test_dataset = read_data(TEST_DATASET).dropna()"
   ]
  },
  {
   "cell_type": "code",
   "execution_count": 41,
   "metadata": {},
   "outputs": [],
   "source": [
    "tokenizer = Tokenizer(lang='pt', n_cpus=10)"
   ]
  },
  {
   "cell_type": "code",
   "execution_count": 42,
   "metadata": {},
   "outputs": [
    {
     "data": {
      "text/html": [],
      "text/plain": [
       "<IPython.core.display.HTML object>"
      ]
     },
     "metadata": {},
     "output_type": "display_data"
    },
    {
     "name": "stderr",
     "output_type": "stream",
     "text": [
      "/usr/local/lib/python3.6/dist-packages/fastai/core.py:302: VisibleDeprecationWarning: Creating an ndarray from ragged nested sequences (which is a list-or-tuple of lists-or-tuples-or ndarrays with different lengths or shapes) is deprecated. If you meant to do this, you must specify 'dtype=object' when creating the ndarray\n",
      "  return np.array(a, dtype=dtype, **kwargs)\n"
     ]
    },
    {
     "data": {
      "text/html": [],
      "text/plain": [
       "<IPython.core.display.HTML object>"
      ]
     },
     "metadata": {},
     "output_type": "display_data"
    }
   ],
   "source": [
    "data_lm = TextLMDataBunch.from_df(LM_PATH, train_df = train_dataset, valid_df = val_dataset,  bs=128, text_cols=0)"
   ]
  },
  {
   "cell_type": "code",
   "execution_count": 43,
   "metadata": {},
   "outputs": [],
   "source": [
    "data_lm.save('data_lm_virtual_operator')"
   ]
  },
  {
   "cell_type": "code",
   "execution_count": 44,
   "metadata": {},
   "outputs": [],
   "source": [
    "data_lm = load_data(LM_PATH, 'data_lm_virtual_operator', bs=128)"
   ]
  },
  {
   "cell_type": "code",
   "execution_count": 45,
   "metadata": {},
   "outputs": [],
   "source": [
    "weights_pretrained = 'tweets-pt-30k-pmann-reduced-lm-step2-best'\n",
    "itos_pretrained = 'tweets_pt_lm_pmann_reduced_30k_itos_vocab'\n",
    "pretained_data = (weights_pretrained, itos_pretrained)"
   ]
  },
  {
   "cell_type": "code",
   "execution_count": 62,
   "metadata": {},
   "outputs": [],
   "source": [
    "learn = language_model_learner(data_lm, AWD_LSTM, pretrained_fnames=pretained_data, drop_mult=0, callback_fns=ShowGraph)\n",
    "learn.freeze()"
   ]
  },
  {
   "cell_type": "code",
   "execution_count": 47,
   "metadata": {},
   "outputs": [
    {
     "data": {
      "text/html": [
       "\n",
       "    <div>\n",
       "        <style>\n",
       "            /* Turns off some styling */\n",
       "            progress {\n",
       "                /* gets rid of default border in Firefox and Opera. */\n",
       "                border: none;\n",
       "                /* Needs to be in here for Safari polyfill so background images work as expected. */\n",
       "                background-size: auto;\n",
       "            }\n",
       "            .progress-bar-interrupted, .progress-bar-interrupted::-webkit-progress-bar {\n",
       "                background: #F44336;\n",
       "            }\n",
       "        </style>\n",
       "      <progress value='0' class='' max='1' style='width:300px; height:20px; vertical-align: middle;'></progress>\n",
       "      0.00% [0/1 00:00<00:00]\n",
       "    </div>\n",
       "    \n",
       "<table border=\"1\" class=\"dataframe\">\n",
       "  <thead>\n",
       "    <tr style=\"text-align: left;\">\n",
       "      <th>epoch</th>\n",
       "      <th>train_loss</th>\n",
       "      <th>valid_loss</th>\n",
       "      <th>accuracy</th>\n",
       "      <th>time</th>\n",
       "    </tr>\n",
       "  </thead>\n",
       "  <tbody>\n",
       "  </tbody>\n",
       "</table><p>\n",
       "\n",
       "    <div>\n",
       "        <style>\n",
       "            /* Turns off some styling */\n",
       "            progress {\n",
       "                /* gets rid of default border in Firefox and Opera. */\n",
       "                border: none;\n",
       "                /* Needs to be in here for Safari polyfill so background images work as expected. */\n",
       "                background-size: auto;\n",
       "            }\n",
       "            .progress-bar-interrupted, .progress-bar-interrupted::-webkit-progress-bar {\n",
       "                background: #F44336;\n",
       "            }\n",
       "        </style>\n",
       "      <progress value='99' class='' max='466' style='width:300px; height:20px; vertical-align: middle;'></progress>\n",
       "      21.24% [99/466 00:19<01:11 7.2573]\n",
       "    </div>\n",
       "    "
      ],
      "text/plain": [
       "<IPython.core.display.HTML object>"
      ]
     },
     "metadata": {},
     "output_type": "display_data"
    },
    {
     "name": "stdout",
     "output_type": "stream",
     "text": [
      "LR Finder is complete, type {learner_name}.recorder.plot() to see the graph.\n",
      "Min numerical gradient: 1.00E-01\n",
      "Min loss divided by 10: 1.32E-01\n"
     ]
    },
    {
     "data": {
      "image/png": "[encoded data removed]",
      "text/plain": [
       "<Figure size 432x288 with 1 Axes>"
      ]
     },
     "metadata": {
      "needs_background": "light"
     },
     "output_type": "display_data"
    }
   ],
   "source": [
    "learn.lr_find()\n",
    "learn.recorder.plot(suggestion=True, skip_start=0)"
   ]
  },
  {
   "cell_type": "code",
   "execution_count": 48,
   "metadata": {},
   "outputs": [
    {
     "data": {
      "text/html": [
       "<table border=\"1\" class=\"dataframe\">\n",
       "  <thead>\n",
       "    <tr style=\"text-align: left;\">\n",
       "      <th>epoch</th>\n",
       "      <th>train_loss</th>\n",
       "      <th>valid_loss</th>\n",
       "      <th>accuracy</th>\n",
       "      <th>time</th>\n",
       "    </tr>\n",
       "  </thead>\n",
       "  <tbody>\n",
       "    <tr>\n",
       "      <td>0</td>\n",
       "      <td>3.139972</td>\n",
       "      <td>3.085280</td>\n",
       "      <td>0.370581</td>\n",
       "      <td>01:23</td>\n",
       "    </tr>\n",
       "    <tr>\n",
       "      <td>1</td>\n",
       "      <td>3.018304</td>\n",
       "      <td>3.008790</td>\n",
       "      <td>0.377440</td>\n",
       "      <td>01:23</td>\n",
       "    </tr>\n",
       "    <tr>\n",
       "      <td>2</td>\n",
       "      <td>2.941831</td>\n",
       "      <td>2.975663</td>\n",
       "      <td>0.381832</td>\n",
       "      <td>01:32</td>\n",
       "    </tr>\n",
       "    <tr>\n",
       "      <td>3</td>\n",
       "      <td>2.870063</td>\n",
       "      <td>2.949810</td>\n",
       "      <td>0.384869</td>\n",
       "      <td>01:34</td>\n",
       "    </tr>\n",
       "    <tr>\n",
       "      <td>4</td>\n",
       "      <td>2.817710</td>\n",
       "      <td>2.943212</td>\n",
       "      <td>0.385916</td>\n",
       "      <td>01:34</td>\n",
       "    </tr>\n",
       "  </tbody>\n",
       "</table>"
      ],
      "text/plain": [
       "<IPython.core.display.HTML object>"
      ]
     },
     "metadata": {},
     "output_type": "display_data"
    },
    {
     "data": {
      "image/png": "[encoded data removed]",
      "text/plain": [
       "<Figure size 432x288 with 1 Axes>"
      ]
     },
     "metadata": {},
     "output_type": "display_data"
    },
    {
     "name": "stdout",
     "output_type": "stream",
     "text": [
      "Better model found at epoch 0 with valid_loss value: 3.085280418395996.\n",
      "Better model found at epoch 1 with valid_loss value: 3.008789539337158.\n",
      "Better model found at epoch 2 with valid_loss value: 2.975663185119629.\n",
      "Better model found at epoch 3 with valid_loss value: 2.949810266494751.\n",
      "Better model found at epoch 4 with valid_loss value: 2.943211555480957.\n"
     ]
    }
   ],
   "source": [
    "learn.fit_one_cycle(5, 2e-2, moms=(0.8,0.7),callbacks=[ShowGraph(learn), SaveModelCallback(learn, name='tweets-pt-25k-FT-virtual-operator-head-best')])"
   ]
  },
  {
   "cell_type": "code",
   "execution_count": 49,
   "metadata": {},
   "outputs": [
    {
     "data": {
      "text/plain": [
       "LanguageLearner(data=TextLMDataBunch;\n",
       "\n",
       "Train: LabelList (482348 items)\n",
       "x: LMTextList\n",
       "xxbos para visita técnica,xxbos instalaçao,xxbos essa minha parabólica tá pegando só um canal os outros com controle remoto nao tá pegando,xxbos falta ausencia de sinal em algum canal do canal 94,xxbos é o aparelho zapper nao tá funcionando\n",
       "y: LMLabelList\n",
       ",,,,\n",
       "Path: ../../models/ulmfit/lm/tweets-pt-pmann;\n",
       "\n",
       "Valid: LabelList (53595 items)\n",
       "x: LMTextList\n",
       "xxbos visita técnica,xxbos falar com atendente,xxbos nao tá funcionando o meu aparelho,xxbos banda larga banda larga,xxbos sinal\n",
       "y: LMLabelList\n",
       ",,,,\n",
       "Path: ../../models/ulmfit/lm/tweets-pt-pmann;\n",
       "\n",
       "Test: None, model=SequentialRNN(\n",
       "  (0): AWD_LSTM(\n",
       "    (encoder): Embedding(11376, 400, padding_idx=1)\n",
       "    (encoder_dp): EmbeddingDropout(\n",
       "      (emb): Embedding(11376, 400, padding_idx=1)\n",
       "    )\n",
       "    (rnns): ModuleList(\n",
       "      (0): WeightDropout(\n",
       "        (module): LSTM(400, 1152, batch_first=True)\n",
       "      )\n",
       "      (1): WeightDropout(\n",
       "        (module): LSTM(1152, 1152, batch_first=True)\n",
       "      )\n",
       "      (2): WeightDropout(\n",
       "        (module): LSTM(1152, 400, batch_first=True)\n",
       "      )\n",
       "    )\n",
       "    (input_dp): RNNDropout()\n",
       "    (hidden_dps): ModuleList(\n",
       "      (0): RNNDropout()\n",
       "      (1): RNNDropout()\n",
       "      (2): RNNDropout()\n",
       "    )\n",
       "  )\n",
       "  (1): LinearDecoder(\n",
       "    (decoder): Linear(in_features=400, out_features=11376, bias=True)\n",
       "    (output_dp): RNNDropout()\n",
       "  )\n",
       "), opt_func=functools.partial(<class 'torch.optim.adam.Adam'>, betas=(0.9, 0.99)), loss_func=FlattenedLoss of CrossEntropyLoss(), metrics=[<function accuracy at 0x7f40a1d63400>], true_wd=True, bn_wd=True, wd=0.01, train_bn=True, path=PosixPath('../../models/ulmfit/lm/tweets-pt-pmann'), model_dir='models', callback_fns=[functools.partial(<class 'fastai.basic_train.Recorder'>, add_time=True, silent=False), <class 'fastai.train.ShowGraph'>], callbacks=[RNNTrainer\n",
       "learn: LanguageLearner(data=TextLMDataBunch;\n",
       "\n",
       "Train: LabelList (482348 items)\n",
       "x: LMTextList\n",
       "xxbos para visita técnica,xxbos instalaçao,xxbos essa minha parabólica tá pegando só um canal os outros com controle remoto nao tá pegando,xxbos falta ausencia de sinal em algum canal do canal 94,xxbos é o aparelho zapper nao tá funcionando\n",
       "y: LMLabelList\n",
       ",,,,\n",
       "Path: ../../models/ulmfit/lm/tweets-pt-pmann;\n",
       "\n",
       "Valid: LabelList (53595 items)\n",
       "x: LMTextList\n",
       "xxbos visita técnica,xxbos falar com atendente,xxbos nao tá funcionando o meu aparelho,xxbos banda larga banda larga,xxbos sinal\n",
       "y: LMLabelList\n",
       ",,,,\n",
       "Path: ../../models/ulmfit/lm/tweets-pt-pmann;\n",
       "\n",
       "Test: None, model=SequentialRNN(\n",
       "  (0): AWD_LSTM(\n",
       "    (encoder): Embedding(11376, 400, padding_idx=1)\n",
       "    (encoder_dp): EmbeddingDropout(\n",
       "      (emb): Embedding(11376, 400, padding_idx=1)\n",
       "    )\n",
       "    (rnns): ModuleList(\n",
       "      (0): WeightDropout(\n",
       "        (module): LSTM(400, 1152, batch_first=True)\n",
       "      )\n",
       "      (1): WeightDropout(\n",
       "        (module): LSTM(1152, 1152, batch_first=True)\n",
       "      )\n",
       "      (2): WeightDropout(\n",
       "        (module): LSTM(1152, 400, batch_first=True)\n",
       "      )\n",
       "    )\n",
       "    (input_dp): RNNDropout()\n",
       "    (hidden_dps): ModuleList(\n",
       "      (0): RNNDropout()\n",
       "      (1): RNNDropout()\n",
       "      (2): RNNDropout()\n",
       "    )\n",
       "  )\n",
       "  (1): LinearDecoder(\n",
       "    (decoder): Linear(in_features=400, out_features=11376, bias=True)\n",
       "    (output_dp): RNNDropout()\n",
       "  )\n",
       "), opt_func=functools.partial(<class 'torch.optim.adam.Adam'>, betas=(0.9, 0.99)), loss_func=FlattenedLoss of CrossEntropyLoss(), metrics=[<function accuracy at 0x7f40a1d63400>], true_wd=True, bn_wd=True, wd=0.01, train_bn=True, path=PosixPath('../../models/ulmfit/lm/tweets-pt-pmann'), model_dir='models', callback_fns=[functools.partial(<class 'fastai.basic_train.Recorder'>, add_time=True, silent=False), <class 'fastai.train.ShowGraph'>], callbacks=[...], layer_groups=[Sequential(\n",
       "  (0): WeightDropout(\n",
       "    (module): LSTM(400, 1152, batch_first=True)\n",
       "  )\n",
       "  (1): RNNDropout()\n",
       "), Sequential(\n",
       "  (0): WeightDropout(\n",
       "    (module): LSTM(1152, 1152, batch_first=True)\n",
       "  )\n",
       "  (1): RNNDropout()\n",
       "), Sequential(\n",
       "  (0): WeightDropout(\n",
       "    (module): LSTM(1152, 400, batch_first=True)\n",
       "  )\n",
       "  (1): RNNDropout()\n",
       "), Sequential(\n",
       "  (0): Embedding(11376, 400, padding_idx=1)\n",
       "  (1): EmbeddingDropout(\n",
       "    (emb): Embedding(11376, 400, padding_idx=1)\n",
       "  )\n",
       "  (2): LinearDecoder(\n",
       "    (decoder): Linear(in_features=400, out_features=11376, bias=True)\n",
       "    (output_dp): RNNDropout()\n",
       "  )\n",
       ")], add_time=True, silent=None)\n",
       "alpha: 2.0\n",
       "beta: 1.0], layer_groups=[Sequential(\n",
       "  (0): WeightDropout(\n",
       "    (module): LSTM(400, 1152, batch_first=True)\n",
       "  )\n",
       "  (1): RNNDropout()\n",
       "), Sequential(\n",
       "  (0): WeightDropout(\n",
       "    (module): LSTM(1152, 1152, batch_first=True)\n",
       "  )\n",
       "  (1): RNNDropout()\n",
       "), Sequential(\n",
       "  (0): WeightDropout(\n",
       "    (module): LSTM(1152, 400, batch_first=True)\n",
       "  )\n",
       "  (1): RNNDropout()\n",
       "), Sequential(\n",
       "  (0): Embedding(11376, 400, padding_idx=1)\n",
       "  (1): EmbeddingDropout(\n",
       "    (emb): Embedding(11376, 400, padding_idx=1)\n",
       "  )\n",
       "  (2): LinearDecoder(\n",
       "    (decoder): Linear(in_features=400, out_features=11376, bias=True)\n",
       "    (output_dp): RNNDropout()\n",
       "  )\n",
       ")], add_time=True, silent=None)"
      ]
     },
     "execution_count": 49,
     "metadata": {},
     "output_type": "execute_result"
    }
   ],
   "source": [
    "learn.purge()\n",
    "learn.load('tweets-pt-25k-FT-virtual-operator-head-best') "
   ]
  },
  {
   "cell_type": "code",
   "execution_count": 50,
   "metadata": {},
   "outputs": [
    {
     "data": {
      "text/html": [
       "<table border=\"1\" class=\"dataframe\">\n",
       "  <thead>\n",
       "    <tr style=\"text-align: left;\">\n",
       "      <th>epoch</th>\n",
       "      <th>train_loss</th>\n",
       "      <th>valid_loss</th>\n",
       "      <th>accuracy</th>\n",
       "      <th>time</th>\n",
       "    </tr>\n",
       "  </thead>\n",
       "  <tbody>\n",
       "    <tr>\n",
       "      <td>0</td>\n",
       "      <td>2.819139</td>\n",
       "      <td>2.904659</td>\n",
       "      <td>0.390138</td>\n",
       "      <td>02:00</td>\n",
       "    </tr>\n",
       "    <tr>\n",
       "      <td>1</td>\n",
       "      <td>2.808465</td>\n",
       "      <td>2.863859</td>\n",
       "      <td>0.396248</td>\n",
       "      <td>01:54</td>\n",
       "    </tr>\n",
       "    <tr>\n",
       "      <td>2</td>\n",
       "      <td>2.707531</td>\n",
       "      <td>2.854954</td>\n",
       "      <td>0.399202</td>\n",
       "      <td>01:50</td>\n",
       "    </tr>\n",
       "    <tr>\n",
       "      <td>3</td>\n",
       "      <td>2.529909</td>\n",
       "      <td>2.886689</td>\n",
       "      <td>0.397918</td>\n",
       "      <td>01:54</td>\n",
       "    </tr>\n",
       "    <tr>\n",
       "      <td>4</td>\n",
       "      <td>2.343079</td>\n",
       "      <td>2.959423</td>\n",
       "      <td>0.393705</td>\n",
       "      <td>01:54</td>\n",
       "    </tr>\n",
       "  </tbody>\n",
       "</table>"
      ],
      "text/plain": [
       "<IPython.core.display.HTML object>"
      ]
     },
     "metadata": {},
     "output_type": "display_data"
    },
    {
     "data": {
      "image/png": "[encoded data removed]",
      "text/plain": [
       "<Figure size 432x288 with 1 Axes>"
      ]
     },
     "metadata": {},
     "output_type": "display_data"
    },
    {
     "name": "stdout",
     "output_type": "stream",
     "text": [
      "Better model found at epoch 0 with valid_loss value: 2.9046590328216553.\n",
      "Better model found at epoch 1 with valid_loss value: 2.863858938217163.\n",
      "Better model found at epoch 2 with valid_loss value: 2.8549535274505615.\n"
     ]
    }
   ],
   "source": [
    "learn.unfreeze()\n",
    "learn.fit_one_cycle(5, 8E-3, moms=(0.8,0.7), callbacks=[ShowGraph(learn), SaveModelCallback(learn, name='tweets-pt-25k-FT-virtual-operator-step2-best')])"
   ]
  },
  {
   "cell_type": "code",
   "execution_count": 51,
   "metadata": {},
   "outputs": [
    {
     "data": {
      "text/plain": [
       "19.286840037609288"
      ]
     },
     "execution_count": 51,
     "metadata": {},
     "output_type": "execute_result"
    }
   ],
   "source": [
    "np.exp(2.959423)"
   ]
  },
  {
   "cell_type": "code",
   "execution_count": 63,
   "metadata": {},
   "outputs": [
    {
     "data": {
      "text/plain": [
       "LanguageLearner(data=TextLMDataBunch;\n",
       "\n",
       "Train: LabelList (482348 items)\n",
       "x: LMTextList\n",
       "xxbos para visita técnica,xxbos instalaçao,xxbos essa minha parabólica tá pegando só um canal os outros com controle remoto nao tá pegando,xxbos falta ausencia de sinal em algum canal do canal 94,xxbos é o aparelho zapper nao tá funcionando\n",
       "y: LMLabelList\n",
       ",,,,\n",
       "Path: ../../models/ulmfit/lm/tweets-pt-pmann;\n",
       "\n",
       "Valid: LabelList (53595 items)\n",
       "x: LMTextList\n",
       "xxbos visita técnica,xxbos falar com atendente,xxbos nao tá funcionando o meu aparelho,xxbos banda larga banda larga,xxbos sinal\n",
       "y: LMLabelList\n",
       ",,,,\n",
       "Path: ../../models/ulmfit/lm/tweets-pt-pmann;\n",
       "\n",
       "Test: None, model=SequentialRNN(\n",
       "  (0): AWD_LSTM(\n",
       "    (encoder): Embedding(11376, 400, padding_idx=1)\n",
       "    (encoder_dp): EmbeddingDropout(\n",
       "      (emb): Embedding(11376, 400, padding_idx=1)\n",
       "    )\n",
       "    (rnns): ModuleList(\n",
       "      (0): WeightDropout(\n",
       "        (module): LSTM(400, 1152, batch_first=True)\n",
       "      )\n",
       "      (1): WeightDropout(\n",
       "        (module): LSTM(1152, 1152, batch_first=True)\n",
       "      )\n",
       "      (2): WeightDropout(\n",
       "        (module): LSTM(1152, 400, batch_first=True)\n",
       "      )\n",
       "    )\n",
       "    (input_dp): RNNDropout()\n",
       "    (hidden_dps): ModuleList(\n",
       "      (0): RNNDropout()\n",
       "      (1): RNNDropout()\n",
       "      (2): RNNDropout()\n",
       "    )\n",
       "  )\n",
       "  (1): LinearDecoder(\n",
       "    (decoder): Linear(in_features=400, out_features=11376, bias=True)\n",
       "    (output_dp): RNNDropout()\n",
       "  )\n",
       "), opt_func=functools.partial(<class 'torch.optim.adam.Adam'>, betas=(0.9, 0.99)), loss_func=FlattenedLoss of CrossEntropyLoss(), metrics=[<function accuracy at 0x7f40a1d63400>], true_wd=True, bn_wd=True, wd=0.01, train_bn=True, path=PosixPath('../../models/ulmfit/lm/tweets-pt-pmann'), model_dir='models', callback_fns=[functools.partial(<class 'fastai.basic_train.Recorder'>, add_time=True, silent=False), <class 'fastai.train.ShowGraph'>], callbacks=[RNNTrainer\n",
       "learn: LanguageLearner(data=TextLMDataBunch;\n",
       "\n",
       "Train: LabelList (482348 items)\n",
       "x: LMTextList\n",
       "xxbos para visita técnica,xxbos instalaçao,xxbos essa minha parabólica tá pegando só um canal os outros com controle remoto nao tá pegando,xxbos falta ausencia de sinal em algum canal do canal 94,xxbos é o aparelho zapper nao tá funcionando\n",
       "y: LMLabelList\n",
       ",,,,\n",
       "Path: ../../models/ulmfit/lm/tweets-pt-pmann;\n",
       "\n",
       "Valid: LabelList (53595 items)\n",
       "x: LMTextList\n",
       "xxbos visita técnica,xxbos falar com atendente,xxbos nao tá funcionando o meu aparelho,xxbos banda larga banda larga,xxbos sinal\n",
       "y: LMLabelList\n",
       ",,,,\n",
       "Path: ../../models/ulmfit/lm/tweets-pt-pmann;\n",
       "\n",
       "Test: None, model=SequentialRNN(\n",
       "  (0): AWD_LSTM(\n",
       "    (encoder): Embedding(11376, 400, padding_idx=1)\n",
       "    (encoder_dp): EmbeddingDropout(\n",
       "      (emb): Embedding(11376, 400, padding_idx=1)\n",
       "    )\n",
       "    (rnns): ModuleList(\n",
       "      (0): WeightDropout(\n",
       "        (module): LSTM(400, 1152, batch_first=True)\n",
       "      )\n",
       "      (1): WeightDropout(\n",
       "        (module): LSTM(1152, 1152, batch_first=True)\n",
       "      )\n",
       "      (2): WeightDropout(\n",
       "        (module): LSTM(1152, 400, batch_first=True)\n",
       "      )\n",
       "    )\n",
       "    (input_dp): RNNDropout()\n",
       "    (hidden_dps): ModuleList(\n",
       "      (0): RNNDropout()\n",
       "      (1): RNNDropout()\n",
       "      (2): RNNDropout()\n",
       "    )\n",
       "  )\n",
       "  (1): LinearDecoder(\n",
       "    (decoder): Linear(in_features=400, out_features=11376, bias=True)\n",
       "    (output_dp): RNNDropout()\n",
       "  )\n",
       "), opt_func=functools.partial(<class 'torch.optim.adam.Adam'>, betas=(0.9, 0.99)), loss_func=FlattenedLoss of CrossEntropyLoss(), metrics=[<function accuracy at 0x7f40a1d63400>], true_wd=True, bn_wd=True, wd=0.01, train_bn=True, path=PosixPath('../../models/ulmfit/lm/tweets-pt-pmann'), model_dir='models', callback_fns=[functools.partial(<class 'fastai.basic_train.Recorder'>, add_time=True, silent=False), <class 'fastai.train.ShowGraph'>], callbacks=[...], layer_groups=[Sequential(\n",
       "  (0): WeightDropout(\n",
       "    (module): LSTM(400, 1152, batch_first=True)\n",
       "  )\n",
       "  (1): RNNDropout()\n",
       "), Sequential(\n",
       "  (0): WeightDropout(\n",
       "    (module): LSTM(1152, 1152, batch_first=True)\n",
       "  )\n",
       "  (1): RNNDropout()\n",
       "), Sequential(\n",
       "  (0): WeightDropout(\n",
       "    (module): LSTM(1152, 400, batch_first=True)\n",
       "  )\n",
       "  (1): RNNDropout()\n",
       "), Sequential(\n",
       "  (0): Embedding(11376, 400, padding_idx=1)\n",
       "  (1): EmbeddingDropout(\n",
       "    (emb): Embedding(11376, 400, padding_idx=1)\n",
       "  )\n",
       "  (2): LinearDecoder(\n",
       "    (decoder): Linear(in_features=400, out_features=11376, bias=True)\n",
       "    (output_dp): RNNDropout()\n",
       "  )\n",
       ")], add_time=True, silent=None)\n",
       "alpha: 2.0\n",
       "beta: 1.0], layer_groups=[Sequential(\n",
       "  (0): WeightDropout(\n",
       "    (module): LSTM(400, 1152, batch_first=True)\n",
       "  )\n",
       "  (1): RNNDropout()\n",
       "), Sequential(\n",
       "  (0): WeightDropout(\n",
       "    (module): LSTM(1152, 1152, batch_first=True)\n",
       "  )\n",
       "  (1): RNNDropout()\n",
       "), Sequential(\n",
       "  (0): WeightDropout(\n",
       "    (module): LSTM(1152, 400, batch_first=True)\n",
       "  )\n",
       "  (1): RNNDropout()\n",
       "), Sequential(\n",
       "  (0): Embedding(11376, 400, padding_idx=1)\n",
       "  (1): EmbeddingDropout(\n",
       "    (emb): Embedding(11376, 400, padding_idx=1)\n",
       "  )\n",
       "  (2): LinearDecoder(\n",
       "    (decoder): Linear(in_features=400, out_features=11376, bias=True)\n",
       "    (output_dp): RNNDropout()\n",
       "  )\n",
       ")], add_time=True, silent=None)"
      ]
     },
     "execution_count": 63,
     "metadata": {},
     "output_type": "execute_result"
    }
   ],
   "source": [
    "learn.purge()\n",
    "learn.load('tweets-pt-25k-FT-virtual-operator-step2-best')"
   ]
  },
  {
   "cell_type": "code",
   "execution_count": 72,
   "metadata": {},
   "outputs": [],
   "source": [
    "learn.save_encoder('tweets-pt30k-FT-virtual-operator-encoder')"
   ]
  },
  {
   "cell_type": "code",
   "execution_count": 74,
   "metadata": {},
   "outputs": [
    {
     "name": "stdout",
     "output_type": "stream",
     "text": [
      "tmp.pth\r\n",
      "tweets-pt-25k-FT-virtual-operator-encoder.pth\r\n",
      "tweets-pt-25k-FT-virtual-operator-head-best.pth\r\n",
      "tweets-pt-25k-FT-virtual-operator-step2-best.pth\r\n",
      "tweets-pt-30k-pmann-reduced-lm-head-best.pth\r\n",
      "tweets-pt-30k-pmann-reduced-lm-step2-best.pth\r\n",
      "tweets-pt30k-FT-virtual-operator-encoder.pth\r\n",
      "tweets_pt_lm_pmann_reduced_30k_encoder.pth\r\n",
      "tweets_pt_lm_pmann_reduced_30k_export\r\n",
      "tweets_pt_lm_pmann_reduced_30k_itos_vocab.pkl\r\n"
     ]
    }
   ],
   "source": [
    "!ls ../../models/ulmfit/lm/tweets-pt-pmann/models/"
   ]
  },
  {
   "cell_type": "code",
   "execution_count": 75,
   "metadata": {},
   "outputs": [],
   "source": [
    "!cp ../../models/ulmfit/lm/tweets-pt-pmann/models/tweets-pt30k-FT-virtual-operator-encoder.pth models/"
   ]
  },
  {
   "cell_type": "code",
   "execution_count": 65,
   "metadata": {},
   "outputs": [
    {
     "data": {
      "text/plain": [
       "'o meu controle está  quebrado meu aparelho'"
      ]
     },
     "execution_count": 65,
     "metadata": {},
     "output_type": "execute_result"
    }
   ],
   "source": [
    "learn.predict('o meu controle está ', 3)"
   ]
  },
  {
   "cell_type": "code",
   "execution_count": 66,
   "metadata": {},
   "outputs": [
    {
     "data": {
      "text/html": [],
      "text/plain": [
       "<IPython.core.display.HTML object>"
      ]
     },
     "metadata": {},
     "output_type": "display_data"
    },
    {
     "name": "stderr",
     "output_type": "stream",
     "text": [
      "/usr/local/lib/python3.6/dist-packages/fastai/core.py:302: VisibleDeprecationWarning: Creating an ndarray from ragged nested sequences (which is a list-or-tuple of lists-or-tuples-or ndarrays with different lengths or shapes) is deprecated. If you meant to do this, you must specify 'dtype=object' when creating the ndarray\n",
      "  return np.array(a, dtype=dtype, **kwargs)\n"
     ]
    },
    {
     "data": {
      "text/html": [],
      "text/plain": [
       "<IPython.core.display.HTML object>"
      ]
     },
     "metadata": {},
     "output_type": "display_data"
    },
    {
     "data": {
      "text/html": [],
      "text/plain": [
       "<IPython.core.display.HTML object>"
      ]
     },
     "metadata": {},
     "output_type": "display_data"
    },
    {
     "name": "stderr",
     "output_type": "stream",
     "text": [
      "/usr/local/lib/python3.6/dist-packages/numpy/core/_asarray.py:83: VisibleDeprecationWarning: Creating an ndarray from ragged nested sequences (which is a list-or-tuple of lists-or-tuples-or ndarrays with different lengths or shapes) is deprecated. If you meant to do this, you must specify 'dtype=object' when creating the ndarray\n",
      "  return array(a, dtype, copy=False, order=order)\n",
      "<string>:6: VisibleDeprecationWarning: Creating an ndarray from ragged nested sequences (which is a list-or-tuple of lists-or-tuples-or ndarrays with different lengths or shapes) is deprecated. If you meant to do this, you must specify 'dtype=object' when creating the ndarray\n"
     ]
    }
   ],
   "source": [
    "data_class = TextClasDataBunch.from_df(path = \"\", train_df = train_dataset, valid_df = val_dataset, test_df = test_dataset,  vocab=data_lm.vocab,tokenizer=tokenizer, bs=128, text_cols=['utterance'], label_cols=['label'])"
   ]
  },
  {
   "cell_type": "code",
   "execution_count": 76,
   "metadata": {},
   "outputs": [],
   "source": [
    "learn = text_classifier_learner(data_class, AWD_LSTM, drop_mult=0.1, callback_fns=ShowGraph)\n",
    "learn.load_encoder('tweets-pt30k-FT-virtual-operator-encoder')\n",
    "learn.freeze()"
   ]
  },
  {
   "cell_type": "code",
   "execution_count": 77,
   "metadata": {
    "scrolled": false
   },
   "outputs": [
    {
     "data": {
      "text/html": [
       "\n",
       "    <div>\n",
       "        <style>\n",
       "            /* Turns off some styling */\n",
       "            progress {\n",
       "                /* gets rid of default border in Firefox and Opera. */\n",
       "                border: none;\n",
       "                /* Needs to be in here for Safari polyfill so background images work as expected. */\n",
       "                background-size: auto;\n",
       "            }\n",
       "            .progress-bar-interrupted, .progress-bar-interrupted::-webkit-progress-bar {\n",
       "                background: #F44336;\n",
       "            }\n",
       "        </style>\n",
       "      <progress value='0' class='' max='1' style='width:300px; height:20px; vertical-align: middle;'></progress>\n",
       "      0.00% [0/1 00:00<00:00]\n",
       "    </div>\n",
       "    \n",
       "<table border=\"1\" class=\"dataframe\">\n",
       "  <thead>\n",
       "    <tr style=\"text-align: left;\">\n",
       "      <th>epoch</th>\n",
       "      <th>train_loss</th>\n",
       "      <th>valid_loss</th>\n",
       "      <th>accuracy</th>\n",
       "      <th>time</th>\n",
       "    </tr>\n",
       "  </thead>\n",
       "  <tbody>\n",
       "  </tbody>\n",
       "</table><p>\n",
       "\n",
       "    <div>\n",
       "        <style>\n",
       "            /* Turns off some styling */\n",
       "            progress {\n",
       "                /* gets rid of default border in Firefox and Opera. */\n",
       "                border: none;\n",
       "                /* Needs to be in here for Safari polyfill so background images work as expected. */\n",
       "                background-size: auto;\n",
       "            }\n",
       "            .progress-bar-interrupted, .progress-bar-interrupted::-webkit-progress-bar {\n",
       "                background: #F44336;\n",
       "            }\n",
       "        </style>\n",
       "      <progress value='95' class='' max='3768' style='width:300px; height:20px; vertical-align: middle;'></progress>\n",
       "      2.52% [95/3768 00:19<12:17 8.2893]\n",
       "    </div>\n",
       "    "
      ],
      "text/plain": [
       "<IPython.core.display.HTML object>"
      ]
     },
     "metadata": {},
     "output_type": "display_data"
    },
    {
     "name": "stdout",
     "output_type": "stream",
     "text": [
      "LR Finder is complete, type {learner_name}.recorder.plot() to see the graph.\n",
      "Min numerical gradient: 8.32E-02\n",
      "Min loss divided by 10: 7.59E-02\n"
     ]
    },
    {
     "data": {
      "image/png": "[encoded data removed]",
      "text/plain": [
       "<Figure size 432x288 with 1 Axes>"
      ]
     },
     "metadata": {
      "needs_background": "light"
     },
     "output_type": "display_data"
    }
   ],
   "source": [
    "learn.lr_find()\n",
    "learn.recorder.plot(suggestion=True, skip_start=0)"
   ]
  },
  {
   "cell_type": "code",
   "execution_count": 78,
   "metadata": {
    "scrolled": true
   },
   "outputs": [
    {
     "data": {
      "text/html": [
       "<table border=\"1\" class=\"dataframe\">\n",
       "  <thead>\n",
       "    <tr style=\"text-align: left;\">\n",
       "      <th>epoch</th>\n",
       "      <th>train_loss</th>\n",
       "      <th>valid_loss</th>\n",
       "      <th>accuracy</th>\n",
       "      <th>time</th>\n",
       "    </tr>\n",
       "  </thead>\n",
       "  <tbody>\n",
       "    <tr>\n",
       "      <td>0</td>\n",
       "      <td>0.788629</td>\n",
       "      <td>0.682335</td>\n",
       "      <td>0.821644</td>\n",
       "      <td>01:30</td>\n",
       "    </tr>\n",
       "    <tr>\n",
       "      <td>1</td>\n",
       "      <td>0.861273</td>\n",
       "      <td>0.678437</td>\n",
       "      <td>0.823976</td>\n",
       "      <td>01:27</td>\n",
       "    </tr>\n",
       "    <tr>\n",
       "      <td>2</td>\n",
       "      <td>0.914595</td>\n",
       "      <td>0.760867</td>\n",
       "      <td>0.801008</td>\n",
       "      <td>01:23</td>\n",
       "    </tr>\n",
       "    <tr>\n",
       "      <td>3</td>\n",
       "      <td>0.894973</td>\n",
       "      <td>0.770631</td>\n",
       "      <td>0.788469</td>\n",
       "      <td>01:31</td>\n",
       "    </tr>\n",
       "    <tr>\n",
       "      <td>4</td>\n",
       "      <td>0.824787</td>\n",
       "      <td>0.673680</td>\n",
       "      <td>0.821495</td>\n",
       "      <td>01:34</td>\n",
       "    </tr>\n",
       "    <tr>\n",
       "      <td>5</td>\n",
       "      <td>0.630127</td>\n",
       "      <td>0.683206</td>\n",
       "      <td>0.812856</td>\n",
       "      <td>01:31</td>\n",
       "    </tr>\n",
       "    <tr>\n",
       "      <td>6</td>\n",
       "      <td>0.694524</td>\n",
       "      <td>0.602396</td>\n",
       "      <td>0.838810</td>\n",
       "      <td>01:44</td>\n",
       "    </tr>\n",
       "    <tr>\n",
       "      <td>7</td>\n",
       "      <td>0.649943</td>\n",
       "      <td>0.546252</td>\n",
       "      <td>0.851068</td>\n",
       "      <td>01:37</td>\n",
       "    </tr>\n",
       "    <tr>\n",
       "      <td>8</td>\n",
       "      <td>0.574416</td>\n",
       "      <td>0.506538</td>\n",
       "      <td>0.860883</td>\n",
       "      <td>01:35</td>\n",
       "    </tr>\n",
       "    <tr>\n",
       "      <td>9</td>\n",
       "      <td>0.603349</td>\n",
       "      <td>0.498699</td>\n",
       "      <td>0.863066</td>\n",
       "      <td>01:22</td>\n",
       "    </tr>\n",
       "  </tbody>\n",
       "</table>"
      ],
      "text/plain": [
       "<IPython.core.display.HTML object>"
      ]
     },
     "metadata": {},
     "output_type": "display_data"
    },
    {
     "name": "stderr",
     "output_type": "stream",
     "text": [
      "/usr/local/lib/python3.6/dist-packages/numpy/core/_asarray.py:83: VisibleDeprecationWarning: Creating an ndarray from ragged nested sequences (which is a list-or-tuple of lists-or-tuples-or ndarrays with different lengths or shapes) is deprecated. If you meant to do this, you must specify 'dtype=object' when creating the ndarray\n",
      "  return array(a, dtype, copy=False, order=order)\n",
      "<string>:6: VisibleDeprecationWarning: Creating an ndarray from ragged nested sequences (which is a list-or-tuple of lists-or-tuples-or ndarrays with different lengths or shapes) is deprecated. If you meant to do this, you must specify 'dtype=object' when creating the ndarray\n"
     ]
    },
    {
     "data": {
      "image/png": "[encoded data removed]",
      "text/plain": [
       "<Figure size 432x288 with 1 Axes>"
      ]
     },
     "metadata": {},
     "output_type": "display_data"
    },
    {
     "name": "stdout",
     "output_type": "stream",
     "text": [
      "Better model found at epoch 0 with valid_loss value: 0.682335376739502.\n"
     ]
    },
    {
     "name": "stderr",
     "output_type": "stream",
     "text": [
      "/usr/local/lib/python3.6/dist-packages/numpy/core/_asarray.py:83: VisibleDeprecationWarning: Creating an ndarray from ragged nested sequences (which is a list-or-tuple of lists-or-tuples-or ndarrays with different lengths or shapes) is deprecated. If you meant to do this, you must specify 'dtype=object' when creating the ndarray\n",
      "  return array(a, dtype, copy=False, order=order)\n",
      "<string>:6: VisibleDeprecationWarning: Creating an ndarray from ragged nested sequences (which is a list-or-tuple of lists-or-tuples-or ndarrays with different lengths or shapes) is deprecated. If you meant to do this, you must specify 'dtype=object' when creating the ndarray\n"
     ]
    },
    {
     "name": "stdout",
     "output_type": "stream",
     "text": [
      "Better model found at epoch 1 with valid_loss value: 0.6784367561340332.\n"
     ]
    },
    {
     "name": "stderr",
     "output_type": "stream",
     "text": [
      "/usr/local/lib/python3.6/dist-packages/numpy/core/_asarray.py:83: VisibleDeprecationWarning: Creating an ndarray from ragged nested sequences (which is a list-or-tuple of lists-or-tuples-or ndarrays with different lengths or shapes) is deprecated. If you meant to do this, you must specify 'dtype=object' when creating the ndarray\n",
      "  return array(a, dtype, copy=False, order=order)\n",
      "<string>:6: VisibleDeprecationWarning: Creating an ndarray from ragged nested sequences (which is a list-or-tuple of lists-or-tuples-or ndarrays with different lengths or shapes) is deprecated. If you meant to do this, you must specify 'dtype=object' when creating the ndarray\n",
      "/usr/local/lib/python3.6/dist-packages/numpy/core/_asarray.py:83: VisibleDeprecationWarning: Creating an ndarray from ragged nested sequences (which is a list-or-tuple of lists-or-tuples-or ndarrays with different lengths or shapes) is deprecated. If you meant to do this, you must specify 'dtype=object' when creating the ndarray\n",
      "  return array(a, dtype, copy=False, order=order)\n",
      "<string>:6: VisibleDeprecationWarning: Creating an ndarray from ragged nested sequences (which is a list-or-tuple of lists-or-tuples-or ndarrays with different lengths or shapes) is deprecated. If you meant to do this, you must specify 'dtype=object' when creating the ndarray\n",
      "/usr/local/lib/python3.6/dist-packages/numpy/core/_asarray.py:83: VisibleDeprecationWarning: Creating an ndarray from ragged nested sequences (which is a list-or-tuple of lists-or-tuples-or ndarrays with different lengths or shapes) is deprecated. If you meant to do this, you must specify 'dtype=object' when creating the ndarray\n",
      "  return array(a, dtype, copy=False, order=order)\n",
      "<string>:6: VisibleDeprecationWarning: Creating an ndarray from ragged nested sequences (which is a list-or-tuple of lists-or-tuples-or ndarrays with different lengths or shapes) is deprecated. If you meant to do this, you must specify 'dtype=object' when creating the ndarray\n"
     ]
    },
    {
     "name": "stdout",
     "output_type": "stream",
     "text": [
      "Better model found at epoch 4 with valid_loss value: 0.6736800670623779.\n"
     ]
    },
    {
     "name": "stderr",
     "output_type": "stream",
     "text": [
      "/usr/local/lib/python3.6/dist-packages/numpy/core/_asarray.py:83: VisibleDeprecationWarning: Creating an ndarray from ragged nested sequences (which is a list-or-tuple of lists-or-tuples-or ndarrays with different lengths or shapes) is deprecated. If you meant to do this, you must specify 'dtype=object' when creating the ndarray\n",
      "  return array(a, dtype, copy=False, order=order)\n",
      "<string>:6: VisibleDeprecationWarning: Creating an ndarray from ragged nested sequences (which is a list-or-tuple of lists-or-tuples-or ndarrays with different lengths or shapes) is deprecated. If you meant to do this, you must specify 'dtype=object' when creating the ndarray\n",
      "/usr/local/lib/python3.6/dist-packages/numpy/core/_asarray.py:83: VisibleDeprecationWarning: Creating an ndarray from ragged nested sequences (which is a list-or-tuple of lists-or-tuples-or ndarrays with different lengths or shapes) is deprecated. If you meant to do this, you must specify 'dtype=object' when creating the ndarray\n",
      "  return array(a, dtype, copy=False, order=order)\n",
      "<string>:6: VisibleDeprecationWarning: Creating an ndarray from ragged nested sequences (which is a list-or-tuple of lists-or-tuples-or ndarrays with different lengths or shapes) is deprecated. If you meant to do this, you must specify 'dtype=object' when creating the ndarray\n"
     ]
    },
    {
     "name": "stdout",
     "output_type": "stream",
     "text": [
      "Better model found at epoch 6 with valid_loss value: 0.6023964285850525.\n"
     ]
    },
    {
     "name": "stderr",
     "output_type": "stream",
     "text": [
      "/usr/local/lib/python3.6/dist-packages/numpy/core/_asarray.py:83: VisibleDeprecationWarning: Creating an ndarray from ragged nested sequences (which is a list-or-tuple of lists-or-tuples-or ndarrays with different lengths or shapes) is deprecated. If you meant to do this, you must specify 'dtype=object' when creating the ndarray\n",
      "  return array(a, dtype, copy=False, order=order)\n",
      "<string>:6: VisibleDeprecationWarning: Creating an ndarray from ragged nested sequences (which is a list-or-tuple of lists-or-tuples-or ndarrays with different lengths or shapes) is deprecated. If you meant to do this, you must specify 'dtype=object' when creating the ndarray\n"
     ]
    },
    {
     "name": "stdout",
     "output_type": "stream",
     "text": [
      "Better model found at epoch 7 with valid_loss value: 0.546252429485321.\n"
     ]
    },
    {
     "name": "stderr",
     "output_type": "stream",
     "text": [
      "/usr/local/lib/python3.6/dist-packages/numpy/core/_asarray.py:83: VisibleDeprecationWarning: Creating an ndarray from ragged nested sequences (which is a list-or-tuple of lists-or-tuples-or ndarrays with different lengths or shapes) is deprecated. If you meant to do this, you must specify 'dtype=object' when creating the ndarray\n",
      "  return array(a, dtype, copy=False, order=order)\n",
      "<string>:6: VisibleDeprecationWarning: Creating an ndarray from ragged nested sequences (which is a list-or-tuple of lists-or-tuples-or ndarrays with different lengths or shapes) is deprecated. If you meant to do this, you must specify 'dtype=object' when creating the ndarray\n"
     ]
    },
    {
     "name": "stdout",
     "output_type": "stream",
     "text": [
      "Better model found at epoch 8 with valid_loss value: 0.506538450717926.\n"
     ]
    },
    {
     "name": "stderr",
     "output_type": "stream",
     "text": [
      "/usr/local/lib/python3.6/dist-packages/numpy/core/_asarray.py:83: VisibleDeprecationWarning: Creating an ndarray from ragged nested sequences (which is a list-or-tuple of lists-or-tuples-or ndarrays with different lengths or shapes) is deprecated. If you meant to do this, you must specify 'dtype=object' when creating the ndarray\n",
      "  return array(a, dtype, copy=False, order=order)\n",
      "<string>:6: VisibleDeprecationWarning: Creating an ndarray from ragged nested sequences (which is a list-or-tuple of lists-or-tuples-or ndarrays with different lengths or shapes) is deprecated. If you meant to do this, you must specify 'dtype=object' when creating the ndarray\n"
     ]
    },
    {
     "name": "stdout",
     "output_type": "stream",
     "text": [
      "Better model found at epoch 9 with valid_loss value: 0.49869945645332336.\n"
     ]
    }
   ],
   "source": [
    "learn.fit_one_cycle(10, 5E-2, moms=(0.8,0.7), callbacks=[ShowGraph(learn), SaveModelCallback(learn, name='tweets-pt-30k-FT-virtual-operator-classifier-head-best')])"
   ]
  },
  {
   "cell_type": "code",
   "execution_count": 79,
   "metadata": {},
   "outputs": [
    {
     "data": {
      "text/plain": [
       "RNNLearner(data=TextClasDataBunch;\n",
       "\n",
       "Train: LabelList (482348 items)\n",
       "x: TextList\n",
       "xxbos para visita técnica,xxbos instalaçao,xxbos essa minha parabólica tá pegando só um canal os outros com controle remoto nao tá pegando,xxbos falta ausencia de sinal em algum canal do canal 94,xxbos é o aparelho zapper nao tá funcionando\n",
       "y: CategoryList\n",
       "Sintomas.Genérico.Sky não funciona,Sintomas.Genérico.Instalação,Sintomas.Genérico.Canal não pega,Sintomas.Genérico.Canal não pega,Sintomas.Genérico.Equipamento não funciona G\n",
       "Path: .;\n",
       "\n",
       "Valid: LabelList (53595 items)\n",
       "x: TextList\n",
       "xxbos visita técnica,xxbos falar com atendente,xxbos nao tá funcionando o meu aparelho,xxbos banda larga banda larga,xxbos sinal\n",
       "y: CategoryList\n",
       "Sintomas.Genérico.Problema com visita técnica,Sintomas.Genérico.Falar com atendente,Sintomas.Genérico.Texto ou código na tela,Sintomas.Qualificado.Banda larga,Sintomas.Genérico.Sem sinal\n",
       "Path: .;\n",
       "\n",
       "Test: LabelList (133986 items)\n",
       "x: TextList\n",
       "xxbos equipamento,xxbos é que eu tô sem sinal no meu no meu segundo ponto só sai no canal do cliente e nao sai do canal do cliente,xxbos aparelho com problema,xxbos equipamento danificado,xxbos quero falar com atendente\n",
       "y: EmptyLabelList\n",
       ",,,,\n",
       "Path: ., model=SequentialRNN(\n",
       "  (0): MultiBatchEncoder(\n",
       "    (module): AWD_LSTM(\n",
       "      (encoder): Embedding(11376, 400, padding_idx=1)\n",
       "      (encoder_dp): EmbeddingDropout(\n",
       "        (emb): Embedding(11376, 400, padding_idx=1)\n",
       "      )\n",
       "      (rnns): ModuleList(\n",
       "        (0): WeightDropout(\n",
       "          (module): LSTM(400, 1152, batch_first=True)\n",
       "        )\n",
       "        (1): WeightDropout(\n",
       "          (module): LSTM(1152, 1152, batch_first=True)\n",
       "        )\n",
       "        (2): WeightDropout(\n",
       "          (module): LSTM(1152, 400, batch_first=True)\n",
       "        )\n",
       "      )\n",
       "      (input_dp): RNNDropout()\n",
       "      (hidden_dps): ModuleList(\n",
       "        (0): RNNDropout()\n",
       "        (1): RNNDropout()\n",
       "        (2): RNNDropout()\n",
       "      )\n",
       "    )\n",
       "  )\n",
       "  (1): PoolingLinearClassifier(\n",
       "    (layers): Sequential(\n",
       "      (0): BatchNorm1d(1200, eps=1e-05, momentum=0.1, affine=True, track_running_stats=True)\n",
       "      (1): Dropout(p=0.04000000000000001, inplace=False)\n",
       "      (2): Linear(in_features=1200, out_features=50, bias=True)\n",
       "      (3): ReLU(inplace=True)\n",
       "      (4): BatchNorm1d(50, eps=1e-05, momentum=0.1, affine=True, track_running_stats=True)\n",
       "      (5): Dropout(p=0.1, inplace=False)\n",
       "      (6): Linear(in_features=50, out_features=121, bias=True)\n",
       "    )\n",
       "  )\n",
       "), opt_func=functools.partial(<class 'torch.optim.adam.Adam'>, betas=(0.9, 0.99)), loss_func=FlattenedLoss of CrossEntropyLoss(), metrics=[<function accuracy at 0x7f40a1d63400>], true_wd=True, bn_wd=True, wd=0.01, train_bn=True, path=PosixPath('.'), model_dir='models', callback_fns=[functools.partial(<class 'fastai.basic_train.Recorder'>, add_time=True, silent=False), <class 'fastai.train.ShowGraph'>], callbacks=[RNNTrainer\n",
       "learn: RNNLearner(data=TextClasDataBunch;\n",
       "\n",
       "Train: LabelList (482348 items)\n",
       "x: TextList\n",
       "xxbos para visita técnica,xxbos instalaçao,xxbos essa minha parabólica tá pegando só um canal os outros com controle remoto nao tá pegando,xxbos falta ausencia de sinal em algum canal do canal 94,xxbos é o aparelho zapper nao tá funcionando\n",
       "y: CategoryList\n",
       "Sintomas.Genérico.Sky não funciona,Sintomas.Genérico.Instalação,Sintomas.Genérico.Canal não pega,Sintomas.Genérico.Canal não pega,Sintomas.Genérico.Equipamento não funciona G\n",
       "Path: .;\n",
       "\n",
       "Valid: LabelList (53595 items)\n",
       "x: TextList\n",
       "xxbos visita técnica,xxbos falar com atendente,xxbos nao tá funcionando o meu aparelho,xxbos banda larga banda larga,xxbos sinal\n",
       "y: CategoryList\n",
       "Sintomas.Genérico.Problema com visita técnica,Sintomas.Genérico.Falar com atendente,Sintomas.Genérico.Texto ou código na tela,Sintomas.Qualificado.Banda larga,Sintomas.Genérico.Sem sinal\n",
       "Path: .;\n",
       "\n",
       "Test: LabelList (133986 items)\n",
       "x: TextList\n",
       "xxbos equipamento,xxbos é que eu tô sem sinal no meu no meu segundo ponto só sai no canal do cliente e nao sai do canal do cliente,xxbos aparelho com problema,xxbos equipamento danificado,xxbos quero falar com atendente\n",
       "y: EmptyLabelList\n",
       ",,,,\n",
       "Path: ., model=SequentialRNN(\n",
       "  (0): MultiBatchEncoder(\n",
       "    (module): AWD_LSTM(\n",
       "      (encoder): Embedding(11376, 400, padding_idx=1)\n",
       "      (encoder_dp): EmbeddingDropout(\n",
       "        (emb): Embedding(11376, 400, padding_idx=1)\n",
       "      )\n",
       "      (rnns): ModuleList(\n",
       "        (0): WeightDropout(\n",
       "          (module): LSTM(400, 1152, batch_first=True)\n",
       "        )\n",
       "        (1): WeightDropout(\n",
       "          (module): LSTM(1152, 1152, batch_first=True)\n",
       "        )\n",
       "        (2): WeightDropout(\n",
       "          (module): LSTM(1152, 400, batch_first=True)\n",
       "        )\n",
       "      )\n",
       "      (input_dp): RNNDropout()\n",
       "      (hidden_dps): ModuleList(\n",
       "        (0): RNNDropout()\n",
       "        (1): RNNDropout()\n",
       "        (2): RNNDropout()\n",
       "      )\n",
       "    )\n",
       "  )\n",
       "  (1): PoolingLinearClassifier(\n",
       "    (layers): Sequential(\n",
       "      (0): BatchNorm1d(1200, eps=1e-05, momentum=0.1, affine=True, track_running_stats=True)\n",
       "      (1): Dropout(p=0.04000000000000001, inplace=False)\n",
       "      (2): Linear(in_features=1200, out_features=50, bias=True)\n",
       "      (3): ReLU(inplace=True)\n",
       "      (4): BatchNorm1d(50, eps=1e-05, momentum=0.1, affine=True, track_running_stats=True)\n",
       "      (5): Dropout(p=0.1, inplace=False)\n",
       "      (6): Linear(in_features=50, out_features=121, bias=True)\n",
       "    )\n",
       "  )\n",
       "), opt_func=functools.partial(<class 'torch.optim.adam.Adam'>, betas=(0.9, 0.99)), loss_func=FlattenedLoss of CrossEntropyLoss(), metrics=[<function accuracy at 0x7f40a1d63400>], true_wd=True, bn_wd=True, wd=0.01, train_bn=True, path=PosixPath('.'), model_dir='models', callback_fns=[functools.partial(<class 'fastai.basic_train.Recorder'>, add_time=True, silent=False), <class 'fastai.train.ShowGraph'>], callbacks=[...], layer_groups=[Sequential(\n",
       "  (0): Embedding(11376, 400, padding_idx=1)\n",
       "  (1): EmbeddingDropout(\n",
       "    (emb): Embedding(11376, 400, padding_idx=1)\n",
       "  )\n",
       "), Sequential(\n",
       "  (0): WeightDropout(\n",
       "    (module): LSTM(400, 1152, batch_first=True)\n",
       "  )\n",
       "  (1): RNNDropout()\n",
       "), Sequential(\n",
       "  (0): WeightDropout(\n",
       "    (module): LSTM(1152, 1152, batch_first=True)\n",
       "  )\n",
       "  (1): RNNDropout()\n",
       "), Sequential(\n",
       "  (0): WeightDropout(\n",
       "    (module): LSTM(1152, 400, batch_first=True)\n",
       "  )\n",
       "  (1): RNNDropout()\n",
       "), Sequential(\n",
       "  (0): PoolingLinearClassifier(\n",
       "    (layers): Sequential(\n",
       "      (0): BatchNorm1d(1200, eps=1e-05, momentum=0.1, affine=True, track_running_stats=True)\n",
       "      (1): Dropout(p=0.04000000000000001, inplace=False)\n",
       "      (2): Linear(in_features=1200, out_features=50, bias=True)\n",
       "      (3): ReLU(inplace=True)\n",
       "      (4): BatchNorm1d(50, eps=1e-05, momentum=0.1, affine=True, track_running_stats=True)\n",
       "      (5): Dropout(p=0.1, inplace=False)\n",
       "      (6): Linear(in_features=50, out_features=121, bias=True)\n",
       "    )\n",
       "  )\n",
       ")], add_time=True, silent=False)\n",
       "alpha: 2.0\n",
       "beta: 1.0], layer_groups=[Sequential(\n",
       "  (0): Embedding(11376, 400, padding_idx=1)\n",
       "  (1): EmbeddingDropout(\n",
       "    (emb): Embedding(11376, 400, padding_idx=1)\n",
       "  )\n",
       "), Sequential(\n",
       "  (0): WeightDropout(\n",
       "    (module): LSTM(400, 1152, batch_first=True)\n",
       "  )\n",
       "  (1): RNNDropout()\n",
       "), Sequential(\n",
       "  (0): WeightDropout(\n",
       "    (module): LSTM(1152, 1152, batch_first=True)\n",
       "  )\n",
       "  (1): RNNDropout()\n",
       "), Sequential(\n",
       "  (0): WeightDropout(\n",
       "    (module): LSTM(1152, 400, batch_first=True)\n",
       "  )\n",
       "  (1): RNNDropout()\n",
       "), Sequential(\n",
       "  (0): PoolingLinearClassifier(\n",
       "    (layers): Sequential(\n",
       "      (0): BatchNorm1d(1200, eps=1e-05, momentum=0.1, affine=True, track_running_stats=True)\n",
       "      (1): Dropout(p=0.04000000000000001, inplace=False)\n",
       "      (2): Linear(in_features=1200, out_features=50, bias=True)\n",
       "      (3): ReLU(inplace=True)\n",
       "      (4): BatchNorm1d(50, eps=1e-05, momentum=0.1, affine=True, track_running_stats=True)\n",
       "      (5): Dropout(p=0.1, inplace=False)\n",
       "      (6): Linear(in_features=50, out_features=121, bias=True)\n",
       "    )\n",
       "  )\n",
       ")], add_time=True, silent=False)"
      ]
     },
     "execution_count": 79,
     "metadata": {},
     "output_type": "execute_result"
    }
   ],
   "source": [
    "learn.load('tweets-pt-30k-FT-virtual-operator-classifier-head-best')"
   ]
  },
  {
   "cell_type": "code",
   "execution_count": 80,
   "metadata": {},
   "outputs": [
    {
     "data": {
      "text/html": [
       "<table border=\"1\" class=\"dataframe\">\n",
       "  <thead>\n",
       "    <tr style=\"text-align: left;\">\n",
       "      <th>epoch</th>\n",
       "      <th>train_loss</th>\n",
       "      <th>valid_loss</th>\n",
       "      <th>accuracy</th>\n",
       "      <th>time</th>\n",
       "    </tr>\n",
       "  </thead>\n",
       "  <tbody>\n",
       "    <tr>\n",
       "      <td>0</td>\n",
       "      <td>0.656121</td>\n",
       "      <td>1.002159</td>\n",
       "      <td>0.848885</td>\n",
       "      <td>01:46</td>\n",
       "    </tr>\n",
       "    <tr>\n",
       "      <td>1</td>\n",
       "      <td>0.345323</td>\n",
       "      <td>1.107817</td>\n",
       "      <td>0.925758</td>\n",
       "      <td>01:44</td>\n",
       "    </tr>\n",
       "  </tbody>\n",
       "</table>"
      ],
      "text/plain": [
       "<IPython.core.display.HTML object>"
      ]
     },
     "metadata": {},
     "output_type": "display_data"
    },
    {
     "name": "stderr",
     "output_type": "stream",
     "text": [
      "/usr/local/lib/python3.6/dist-packages/numpy/core/_asarray.py:83: VisibleDeprecationWarning: Creating an ndarray from ragged nested sequences (which is a list-or-tuple of lists-or-tuples-or ndarrays with different lengths or shapes) is deprecated. If you meant to do this, you must specify 'dtype=object' when creating the ndarray\n",
      "  return array(a, dtype, copy=False, order=order)\n",
      "<string>:6: VisibleDeprecationWarning: Creating an ndarray from ragged nested sequences (which is a list-or-tuple of lists-or-tuples-or ndarrays with different lengths or shapes) is deprecated. If you meant to do this, you must specify 'dtype=object' when creating the ndarray\n"
     ]
    },
    {
     "data": {
      "image/png": "[encoded data removed]",
      "text/plain": [
       "<Figure size 432x288 with 1 Axes>"
      ]
     },
     "metadata": {},
     "output_type": "display_data"
    },
    {
     "name": "stdout",
     "output_type": "stream",
     "text": [
      "Better model found at epoch 0 with valid_loss value: 1.0021586418151855.\n"
     ]
    },
    {
     "name": "stderr",
     "output_type": "stream",
     "text": [
      "/usr/local/lib/python3.6/dist-packages/numpy/core/_asarray.py:83: VisibleDeprecationWarning: Creating an ndarray from ragged nested sequences (which is a list-or-tuple of lists-or-tuples-or ndarrays with different lengths or shapes) is deprecated. If you meant to do this, you must specify 'dtype=object' when creating the ndarray\n",
      "  return array(a, dtype, copy=False, order=order)\n",
      "<string>:6: VisibleDeprecationWarning: Creating an ndarray from ragged nested sequences (which is a list-or-tuple of lists-or-tuples-or ndarrays with different lengths or shapes) is deprecated. If you meant to do this, you must specify 'dtype=object' when creating the ndarray\n"
     ]
    }
   ],
   "source": [
    "learn.freeze_to(-2)\n",
    "learn.fit_one_cycle(2, slice(1e-1/(2.6**4),1e-1), moms=(0.8,0.7), callbacks=[ShowGraph(learn), SaveModelCallback(learn, name='tweets-pt-30k-FT-virtual-operator-classifier-step2')])\n"
   ]
  },
  {
   "cell_type": "code",
   "execution_count": 81,
   "metadata": {},
   "outputs": [
    {
     "data": {
      "text/plain": [
       "RNNLearner(data=TextClasDataBunch;\n",
       "\n",
       "Train: LabelList (482348 items)\n",
       "x: TextList\n",
       "xxbos para visita técnica,xxbos instalaçao,xxbos essa minha parabólica tá pegando só um canal os outros com controle remoto nao tá pegando,xxbos falta ausencia de sinal em algum canal do canal 94,xxbos é o aparelho zapper nao tá funcionando\n",
       "y: CategoryList\n",
       "Sintomas.Genérico.Sky não funciona,Sintomas.Genérico.Instalação,Sintomas.Genérico.Canal não pega,Sintomas.Genérico.Canal não pega,Sintomas.Genérico.Equipamento não funciona G\n",
       "Path: .;\n",
       "\n",
       "Valid: LabelList (53595 items)\n",
       "x: TextList\n",
       "xxbos visita técnica,xxbos falar com atendente,xxbos nao tá funcionando o meu aparelho,xxbos banda larga banda larga,xxbos sinal\n",
       "y: CategoryList\n",
       "Sintomas.Genérico.Problema com visita técnica,Sintomas.Genérico.Falar com atendente,Sintomas.Genérico.Texto ou código na tela,Sintomas.Qualificado.Banda larga,Sintomas.Genérico.Sem sinal\n",
       "Path: .;\n",
       "\n",
       "Test: LabelList (133986 items)\n",
       "x: TextList\n",
       "xxbos equipamento,xxbos é que eu tô sem sinal no meu no meu segundo ponto só sai no canal do cliente e nao sai do canal do cliente,xxbos aparelho com problema,xxbos equipamento danificado,xxbos quero falar com atendente\n",
       "y: EmptyLabelList\n",
       ",,,,\n",
       "Path: ., model=SequentialRNN(\n",
       "  (0): MultiBatchEncoder(\n",
       "    (module): AWD_LSTM(\n",
       "      (encoder): Embedding(11376, 400, padding_idx=1)\n",
       "      (encoder_dp): EmbeddingDropout(\n",
       "        (emb): Embedding(11376, 400, padding_idx=1)\n",
       "      )\n",
       "      (rnns): ModuleList(\n",
       "        (0): WeightDropout(\n",
       "          (module): LSTM(400, 1152, batch_first=True)\n",
       "        )\n",
       "        (1): WeightDropout(\n",
       "          (module): LSTM(1152, 1152, batch_first=True)\n",
       "        )\n",
       "        (2): WeightDropout(\n",
       "          (module): LSTM(1152, 400, batch_first=True)\n",
       "        )\n",
       "      )\n",
       "      (input_dp): RNNDropout()\n",
       "      (hidden_dps): ModuleList(\n",
       "        (0): RNNDropout()\n",
       "        (1): RNNDropout()\n",
       "        (2): RNNDropout()\n",
       "      )\n",
       "    )\n",
       "  )\n",
       "  (1): PoolingLinearClassifier(\n",
       "    (layers): Sequential(\n",
       "      (0): BatchNorm1d(1200, eps=1e-05, momentum=0.1, affine=True, track_running_stats=True)\n",
       "      (1): Dropout(p=0.04000000000000001, inplace=False)\n",
       "      (2): Linear(in_features=1200, out_features=50, bias=True)\n",
       "      (3): ReLU(inplace=True)\n",
       "      (4): BatchNorm1d(50, eps=1e-05, momentum=0.1, affine=True, track_running_stats=True)\n",
       "      (5): Dropout(p=0.1, inplace=False)\n",
       "      (6): Linear(in_features=50, out_features=121, bias=True)\n",
       "    )\n",
       "  )\n",
       "), opt_func=functools.partial(<class 'torch.optim.adam.Adam'>, betas=(0.9, 0.99)), loss_func=FlattenedLoss of CrossEntropyLoss(), metrics=[<function accuracy at 0x7f40a1d63400>], true_wd=True, bn_wd=True, wd=0.01, train_bn=True, path=PosixPath('.'), model_dir='models', callback_fns=[functools.partial(<class 'fastai.basic_train.Recorder'>, add_time=True, silent=False), <class 'fastai.train.ShowGraph'>], callbacks=[RNNTrainer\n",
       "learn: RNNLearner(data=TextClasDataBunch;\n",
       "\n",
       "Train: LabelList (482348 items)\n",
       "x: TextList\n",
       "xxbos para visita técnica,xxbos instalaçao,xxbos essa minha parabólica tá pegando só um canal os outros com controle remoto nao tá pegando,xxbos falta ausencia de sinal em algum canal do canal 94,xxbos é o aparelho zapper nao tá funcionando\n",
       "y: CategoryList\n",
       "Sintomas.Genérico.Sky não funciona,Sintomas.Genérico.Instalação,Sintomas.Genérico.Canal não pega,Sintomas.Genérico.Canal não pega,Sintomas.Genérico.Equipamento não funciona G\n",
       "Path: .;\n",
       "\n",
       "Valid: LabelList (53595 items)\n",
       "x: TextList\n",
       "xxbos visita técnica,xxbos falar com atendente,xxbos nao tá funcionando o meu aparelho,xxbos banda larga banda larga,xxbos sinal\n",
       "y: CategoryList\n",
       "Sintomas.Genérico.Problema com visita técnica,Sintomas.Genérico.Falar com atendente,Sintomas.Genérico.Texto ou código na tela,Sintomas.Qualificado.Banda larga,Sintomas.Genérico.Sem sinal\n",
       "Path: .;\n",
       "\n",
       "Test: LabelList (133986 items)\n",
       "x: TextList\n",
       "xxbos equipamento,xxbos é que eu tô sem sinal no meu no meu segundo ponto só sai no canal do cliente e nao sai do canal do cliente,xxbos aparelho com problema,xxbos equipamento danificado,xxbos quero falar com atendente\n",
       "y: EmptyLabelList\n",
       ",,,,\n",
       "Path: ., model=SequentialRNN(\n",
       "  (0): MultiBatchEncoder(\n",
       "    (module): AWD_LSTM(\n",
       "      (encoder): Embedding(11376, 400, padding_idx=1)\n",
       "      (encoder_dp): EmbeddingDropout(\n",
       "        (emb): Embedding(11376, 400, padding_idx=1)\n",
       "      )\n",
       "      (rnns): ModuleList(\n",
       "        (0): WeightDropout(\n",
       "          (module): LSTM(400, 1152, batch_first=True)\n",
       "        )\n",
       "        (1): WeightDropout(\n",
       "          (module): LSTM(1152, 1152, batch_first=True)\n",
       "        )\n",
       "        (2): WeightDropout(\n",
       "          (module): LSTM(1152, 400, batch_first=True)\n",
       "        )\n",
       "      )\n",
       "      (input_dp): RNNDropout()\n",
       "      (hidden_dps): ModuleList(\n",
       "        (0): RNNDropout()\n",
       "        (1): RNNDropout()\n",
       "        (2): RNNDropout()\n",
       "      )\n",
       "    )\n",
       "  )\n",
       "  (1): PoolingLinearClassifier(\n",
       "    (layers): Sequential(\n",
       "      (0): BatchNorm1d(1200, eps=1e-05, momentum=0.1, affine=True, track_running_stats=True)\n",
       "      (1): Dropout(p=0.04000000000000001, inplace=False)\n",
       "      (2): Linear(in_features=1200, out_features=50, bias=True)\n",
       "      (3): ReLU(inplace=True)\n",
       "      (4): BatchNorm1d(50, eps=1e-05, momentum=0.1, affine=True, track_running_stats=True)\n",
       "      (5): Dropout(p=0.1, inplace=False)\n",
       "      (6): Linear(in_features=50, out_features=121, bias=True)\n",
       "    )\n",
       "  )\n",
       "), opt_func=functools.partial(<class 'torch.optim.adam.Adam'>, betas=(0.9, 0.99)), loss_func=FlattenedLoss of CrossEntropyLoss(), metrics=[<function accuracy at 0x7f40a1d63400>], true_wd=True, bn_wd=True, wd=0.01, train_bn=True, path=PosixPath('.'), model_dir='models', callback_fns=[functools.partial(<class 'fastai.basic_train.Recorder'>, add_time=True, silent=False), <class 'fastai.train.ShowGraph'>], callbacks=[...], layer_groups=[Sequential(\n",
       "  (0): Embedding(11376, 400, padding_idx=1)\n",
       "  (1): EmbeddingDropout(\n",
       "    (emb): Embedding(11376, 400, padding_idx=1)\n",
       "  )\n",
       "), Sequential(\n",
       "  (0): WeightDropout(\n",
       "    (module): LSTM(400, 1152, batch_first=True)\n",
       "  )\n",
       "  (1): RNNDropout()\n",
       "), Sequential(\n",
       "  (0): WeightDropout(\n",
       "    (module): LSTM(1152, 1152, batch_first=True)\n",
       "  )\n",
       "  (1): RNNDropout()\n",
       "), Sequential(\n",
       "  (0): WeightDropout(\n",
       "    (module): LSTM(1152, 400, batch_first=True)\n",
       "  )\n",
       "  (1): RNNDropout()\n",
       "), Sequential(\n",
       "  (0): PoolingLinearClassifier(\n",
       "    (layers): Sequential(\n",
       "      (0): BatchNorm1d(1200, eps=1e-05, momentum=0.1, affine=True, track_running_stats=True)\n",
       "      (1): Dropout(p=0.04000000000000001, inplace=False)\n",
       "      (2): Linear(in_features=1200, out_features=50, bias=True)\n",
       "      (3): ReLU(inplace=True)\n",
       "      (4): BatchNorm1d(50, eps=1e-05, momentum=0.1, affine=True, track_running_stats=True)\n",
       "      (5): Dropout(p=0.1, inplace=False)\n",
       "      (6): Linear(in_features=50, out_features=121, bias=True)\n",
       "    )\n",
       "  )\n",
       ")], add_time=True, silent=False)\n",
       "alpha: 2.0\n",
       "beta: 1.0], layer_groups=[Sequential(\n",
       "  (0): Embedding(11376, 400, padding_idx=1)\n",
       "  (1): EmbeddingDropout(\n",
       "    (emb): Embedding(11376, 400, padding_idx=1)\n",
       "  )\n",
       "), Sequential(\n",
       "  (0): WeightDropout(\n",
       "    (module): LSTM(400, 1152, batch_first=True)\n",
       "  )\n",
       "  (1): RNNDropout()\n",
       "), Sequential(\n",
       "  (0): WeightDropout(\n",
       "    (module): LSTM(1152, 1152, batch_first=True)\n",
       "  )\n",
       "  (1): RNNDropout()\n",
       "), Sequential(\n",
       "  (0): WeightDropout(\n",
       "    (module): LSTM(1152, 400, batch_first=True)\n",
       "  )\n",
       "  (1): RNNDropout()\n",
       "), Sequential(\n",
       "  (0): PoolingLinearClassifier(\n",
       "    (layers): Sequential(\n",
       "      (0): BatchNorm1d(1200, eps=1e-05, momentum=0.1, affine=True, track_running_stats=True)\n",
       "      (1): Dropout(p=0.04000000000000001, inplace=False)\n",
       "      (2): Linear(in_features=1200, out_features=50, bias=True)\n",
       "      (3): ReLU(inplace=True)\n",
       "      (4): BatchNorm1d(50, eps=1e-05, momentum=0.1, affine=True, track_running_stats=True)\n",
       "      (5): Dropout(p=0.1, inplace=False)\n",
       "      (6): Linear(in_features=50, out_features=121, bias=True)\n",
       "    )\n",
       "  )\n",
       ")], add_time=True, silent=False)"
      ]
     },
     "execution_count": 81,
     "metadata": {},
     "output_type": "execute_result"
    }
   ],
   "source": [
    "learn.load('tweets-pt-30k-FT-virtual-operator-classifier-step2')"
   ]
  },
  {
   "cell_type": "code",
   "execution_count": 82,
   "metadata": {},
   "outputs": [
    {
     "data": {
      "text/html": [
       "<table border=\"1\" class=\"dataframe\">\n",
       "  <thead>\n",
       "    <tr style=\"text-align: left;\">\n",
       "      <th>epoch</th>\n",
       "      <th>train_loss</th>\n",
       "      <th>valid_loss</th>\n",
       "      <th>accuracy</th>\n",
       "      <th>time</th>\n",
       "    </tr>\n",
       "  </thead>\n",
       "  <tbody>\n",
       "    <tr>\n",
       "      <td>0</td>\n",
       "      <td>0.456938</td>\n",
       "      <td>22.053902</td>\n",
       "      <td>0.894897</td>\n",
       "      <td>02:33</td>\n",
       "    </tr>\n",
       "    <tr>\n",
       "      <td>1</td>\n",
       "      <td>0.372386</td>\n",
       "      <td>0.747461</td>\n",
       "      <td>0.924340</td>\n",
       "      <td>02:18</td>\n",
       "    </tr>\n",
       "    <tr>\n",
       "      <td>2</td>\n",
       "      <td>0.218420</td>\n",
       "      <td>0.627413</td>\n",
       "      <td>0.952384</td>\n",
       "      <td>02:12</td>\n",
       "    </tr>\n",
       "    <tr>\n",
       "      <td>3</td>\n",
       "      <td>0.121068</td>\n",
       "      <td>0.176668</td>\n",
       "      <td>0.962646</td>\n",
       "      <td>02:13</td>\n",
       "    </tr>\n",
       "  </tbody>\n",
       "</table>"
      ],
      "text/plain": [
       "<IPython.core.display.HTML object>"
      ]
     },
     "metadata": {},
     "output_type": "display_data"
    },
    {
     "name": "stderr",
     "output_type": "stream",
     "text": [
      "/usr/local/lib/python3.6/dist-packages/numpy/core/_asarray.py:83: VisibleDeprecationWarning: Creating an ndarray from ragged nested sequences (which is a list-or-tuple of lists-or-tuples-or ndarrays with different lengths or shapes) is deprecated. If you meant to do this, you must specify 'dtype=object' when creating the ndarray\n",
      "  return array(a, dtype, copy=False, order=order)\n",
      "<string>:6: VisibleDeprecationWarning: Creating an ndarray from ragged nested sequences (which is a list-or-tuple of lists-or-tuples-or ndarrays with different lengths or shapes) is deprecated. If you meant to do this, you must specify 'dtype=object' when creating the ndarray\n"
     ]
    },
    {
     "data": {
      "image/png": "[encoded data removed]",
      "text/plain": [
       "<Figure size 432x288 with 1 Axes>"
      ]
     },
     "metadata": {},
     "output_type": "display_data"
    },
    {
     "name": "stdout",
     "output_type": "stream",
     "text": [
      "Better model found at epoch 0 with valid_loss value: 22.05390167236328.\n"
     ]
    },
    {
     "name": "stderr",
     "output_type": "stream",
     "text": [
      "/usr/local/lib/python3.6/dist-packages/numpy/core/_asarray.py:83: VisibleDeprecationWarning: Creating an ndarray from ragged nested sequences (which is a list-or-tuple of lists-or-tuples-or ndarrays with different lengths or shapes) is deprecated. If you meant to do this, you must specify 'dtype=object' when creating the ndarray\n",
      "  return array(a, dtype, copy=False, order=order)\n",
      "<string>:6: VisibleDeprecationWarning: Creating an ndarray from ragged nested sequences (which is a list-or-tuple of lists-or-tuples-or ndarrays with different lengths or shapes) is deprecated. If you meant to do this, you must specify 'dtype=object' when creating the ndarray\n"
     ]
    },
    {
     "name": "stdout",
     "output_type": "stream",
     "text": [
      "Better model found at epoch 1 with valid_loss value: 0.7474610805511475.\n"
     ]
    },
    {
     "name": "stderr",
     "output_type": "stream",
     "text": [
      "/usr/local/lib/python3.6/dist-packages/numpy/core/_asarray.py:83: VisibleDeprecationWarning: Creating an ndarray from ragged nested sequences (which is a list-or-tuple of lists-or-tuples-or ndarrays with different lengths or shapes) is deprecated. If you meant to do this, you must specify 'dtype=object' when creating the ndarray\n",
      "  return array(a, dtype, copy=False, order=order)\n",
      "<string>:6: VisibleDeprecationWarning: Creating an ndarray from ragged nested sequences (which is a list-or-tuple of lists-or-tuples-or ndarrays with different lengths or shapes) is deprecated. If you meant to do this, you must specify 'dtype=object' when creating the ndarray\n"
     ]
    },
    {
     "name": "stdout",
     "output_type": "stream",
     "text": [
      "Better model found at epoch 2 with valid_loss value: 0.6274127960205078.\n"
     ]
    },
    {
     "name": "stderr",
     "output_type": "stream",
     "text": [
      "/usr/local/lib/python3.6/dist-packages/numpy/core/_asarray.py:83: VisibleDeprecationWarning: Creating an ndarray from ragged nested sequences (which is a list-or-tuple of lists-or-tuples-or ndarrays with different lengths or shapes) is deprecated. If you meant to do this, you must specify 'dtype=object' when creating the ndarray\n",
      "  return array(a, dtype, copy=False, order=order)\n",
      "<string>:6: VisibleDeprecationWarning: Creating an ndarray from ragged nested sequences (which is a list-or-tuple of lists-or-tuples-or ndarrays with different lengths or shapes) is deprecated. If you meant to do this, you must specify 'dtype=object' when creating the ndarray\n"
     ]
    },
    {
     "name": "stdout",
     "output_type": "stream",
     "text": [
      "Better model found at epoch 3 with valid_loss value: 0.17666774988174438.\n"
     ]
    }
   ],
   "source": [
    "learn.freeze_to(-3)\n",
    "learn.fit_one_cycle(4, slice(5e-2/(2.6**4),5e-2), moms=(0.8,0.7), callbacks=[ShowGraph(learn), SaveModelCallback(learn, name='tweets-pt-30k-FT-virtual-operator-classifier-step3')])\n"
   ]
  },
  {
   "cell_type": "code",
   "execution_count": 83,
   "metadata": {},
   "outputs": [
    {
     "data": {
      "text/plain": [
       "RNNLearner(data=TextClasDataBunch;\n",
       "\n",
       "Train: LabelList (482348 items)\n",
       "x: TextList\n",
       "xxbos para visita técnica,xxbos instalaçao,xxbos essa minha parabólica tá pegando só um canal os outros com controle remoto nao tá pegando,xxbos falta ausencia de sinal em algum canal do canal 94,xxbos é o aparelho zapper nao tá funcionando\n",
       "y: CategoryList\n",
       "Sintomas.Genérico.Sky não funciona,Sintomas.Genérico.Instalação,Sintomas.Genérico.Canal não pega,Sintomas.Genérico.Canal não pega,Sintomas.Genérico.Equipamento não funciona G\n",
       "Path: .;\n",
       "\n",
       "Valid: LabelList (53595 items)\n",
       "x: TextList\n",
       "xxbos visita técnica,xxbos falar com atendente,xxbos nao tá funcionando o meu aparelho,xxbos banda larga banda larga,xxbos sinal\n",
       "y: CategoryList\n",
       "Sintomas.Genérico.Problema com visita técnica,Sintomas.Genérico.Falar com atendente,Sintomas.Genérico.Texto ou código na tela,Sintomas.Qualificado.Banda larga,Sintomas.Genérico.Sem sinal\n",
       "Path: .;\n",
       "\n",
       "Test: LabelList (133986 items)\n",
       "x: TextList\n",
       "xxbos equipamento,xxbos é que eu tô sem sinal no meu no meu segundo ponto só sai no canal do cliente e nao sai do canal do cliente,xxbos aparelho com problema,xxbos equipamento danificado,xxbos quero falar com atendente\n",
       "y: EmptyLabelList\n",
       ",,,,\n",
       "Path: ., model=SequentialRNN(\n",
       "  (0): MultiBatchEncoder(\n",
       "    (module): AWD_LSTM(\n",
       "      (encoder): Embedding(11376, 400, padding_idx=1)\n",
       "      (encoder_dp): EmbeddingDropout(\n",
       "        (emb): Embedding(11376, 400, padding_idx=1)\n",
       "      )\n",
       "      (rnns): ModuleList(\n",
       "        (0): WeightDropout(\n",
       "          (module): LSTM(400, 1152, batch_first=True)\n",
       "        )\n",
       "        (1): WeightDropout(\n",
       "          (module): LSTM(1152, 1152, batch_first=True)\n",
       "        )\n",
       "        (2): WeightDropout(\n",
       "          (module): LSTM(1152, 400, batch_first=True)\n",
       "        )\n",
       "      )\n",
       "      (input_dp): RNNDropout()\n",
       "      (hidden_dps): ModuleList(\n",
       "        (0): RNNDropout()\n",
       "        (1): RNNDropout()\n",
       "        (2): RNNDropout()\n",
       "      )\n",
       "    )\n",
       "  )\n",
       "  (1): PoolingLinearClassifier(\n",
       "    (layers): Sequential(\n",
       "      (0): BatchNorm1d(1200, eps=1e-05, momentum=0.1, affine=True, track_running_stats=True)\n",
       "      (1): Dropout(p=0.04000000000000001, inplace=False)\n",
       "      (2): Linear(in_features=1200, out_features=50, bias=True)\n",
       "      (3): ReLU(inplace=True)\n",
       "      (4): BatchNorm1d(50, eps=1e-05, momentum=0.1, affine=True, track_running_stats=True)\n",
       "      (5): Dropout(p=0.1, inplace=False)\n",
       "      (6): Linear(in_features=50, out_features=121, bias=True)\n",
       "    )\n",
       "  )\n",
       "), opt_func=functools.partial(<class 'torch.optim.adam.Adam'>, betas=(0.9, 0.99)), loss_func=FlattenedLoss of CrossEntropyLoss(), metrics=[<function accuracy at 0x7f40a1d63400>], true_wd=True, bn_wd=True, wd=0.01, train_bn=True, path=PosixPath('.'), model_dir='models', callback_fns=[functools.partial(<class 'fastai.basic_train.Recorder'>, add_time=True, silent=False), <class 'fastai.train.ShowGraph'>], callbacks=[RNNTrainer\n",
       "learn: RNNLearner(data=TextClasDataBunch;\n",
       "\n",
       "Train: LabelList (482348 items)\n",
       "x: TextList\n",
       "xxbos para visita técnica,xxbos instalaçao,xxbos essa minha parabólica tá pegando só um canal os outros com controle remoto nao tá pegando,xxbos falta ausencia de sinal em algum canal do canal 94,xxbos é o aparelho zapper nao tá funcionando\n",
       "y: CategoryList\n",
       "Sintomas.Genérico.Sky não funciona,Sintomas.Genérico.Instalação,Sintomas.Genérico.Canal não pega,Sintomas.Genérico.Canal não pega,Sintomas.Genérico.Equipamento não funciona G\n",
       "Path: .;\n",
       "\n",
       "Valid: LabelList (53595 items)\n",
       "x: TextList\n",
       "xxbos visita técnica,xxbos falar com atendente,xxbos nao tá funcionando o meu aparelho,xxbos banda larga banda larga,xxbos sinal\n",
       "y: CategoryList\n",
       "Sintomas.Genérico.Problema com visita técnica,Sintomas.Genérico.Falar com atendente,Sintomas.Genérico.Texto ou código na tela,Sintomas.Qualificado.Banda larga,Sintomas.Genérico.Sem sinal\n",
       "Path: .;\n",
       "\n",
       "Test: LabelList (133986 items)\n",
       "x: TextList\n",
       "xxbos equipamento,xxbos é que eu tô sem sinal no meu no meu segundo ponto só sai no canal do cliente e nao sai do canal do cliente,xxbos aparelho com problema,xxbos equipamento danificado,xxbos quero falar com atendente\n",
       "y: EmptyLabelList\n",
       ",,,,\n",
       "Path: ., model=SequentialRNN(\n",
       "  (0): MultiBatchEncoder(\n",
       "    (module): AWD_LSTM(\n",
       "      (encoder): Embedding(11376, 400, padding_idx=1)\n",
       "      (encoder_dp): EmbeddingDropout(\n",
       "        (emb): Embedding(11376, 400, padding_idx=1)\n",
       "      )\n",
       "      (rnns): ModuleList(\n",
       "        (0): WeightDropout(\n",
       "          (module): LSTM(400, 1152, batch_first=True)\n",
       "        )\n",
       "        (1): WeightDropout(\n",
       "          (module): LSTM(1152, 1152, batch_first=True)\n",
       "        )\n",
       "        (2): WeightDropout(\n",
       "          (module): LSTM(1152, 400, batch_first=True)\n",
       "        )\n",
       "      )\n",
       "      (input_dp): RNNDropout()\n",
       "      (hidden_dps): ModuleList(\n",
       "        (0): RNNDropout()\n",
       "        (1): RNNDropout()\n",
       "        (2): RNNDropout()\n",
       "      )\n",
       "    )\n",
       "  )\n",
       "  (1): PoolingLinearClassifier(\n",
       "    (layers): Sequential(\n",
       "      (0): BatchNorm1d(1200, eps=1e-05, momentum=0.1, affine=True, track_running_stats=True)\n",
       "      (1): Dropout(p=0.04000000000000001, inplace=False)\n",
       "      (2): Linear(in_features=1200, out_features=50, bias=True)\n",
       "      (3): ReLU(inplace=True)\n",
       "      (4): BatchNorm1d(50, eps=1e-05, momentum=0.1, affine=True, track_running_stats=True)\n",
       "      (5): Dropout(p=0.1, inplace=False)\n",
       "      (6): Linear(in_features=50, out_features=121, bias=True)\n",
       "    )\n",
       "  )\n",
       "), opt_func=functools.partial(<class 'torch.optim.adam.Adam'>, betas=(0.9, 0.99)), loss_func=FlattenedLoss of CrossEntropyLoss(), metrics=[<function accuracy at 0x7f40a1d63400>], true_wd=True, bn_wd=True, wd=0.01, train_bn=True, path=PosixPath('.'), model_dir='models', callback_fns=[functools.partial(<class 'fastai.basic_train.Recorder'>, add_time=True, silent=False), <class 'fastai.train.ShowGraph'>], callbacks=[...], layer_groups=[Sequential(\n",
       "  (0): Embedding(11376, 400, padding_idx=1)\n",
       "  (1): EmbeddingDropout(\n",
       "    (emb): Embedding(11376, 400, padding_idx=1)\n",
       "  )\n",
       "), Sequential(\n",
       "  (0): WeightDropout(\n",
       "    (module): LSTM(400, 1152, batch_first=True)\n",
       "  )\n",
       "  (1): RNNDropout()\n",
       "), Sequential(\n",
       "  (0): WeightDropout(\n",
       "    (module): LSTM(1152, 1152, batch_first=True)\n",
       "  )\n",
       "  (1): RNNDropout()\n",
       "), Sequential(\n",
       "  (0): WeightDropout(\n",
       "    (module): LSTM(1152, 400, batch_first=True)\n",
       "  )\n",
       "  (1): RNNDropout()\n",
       "), Sequential(\n",
       "  (0): PoolingLinearClassifier(\n",
       "    (layers): Sequential(\n",
       "      (0): BatchNorm1d(1200, eps=1e-05, momentum=0.1, affine=True, track_running_stats=True)\n",
       "      (1): Dropout(p=0.04000000000000001, inplace=False)\n",
       "      (2): Linear(in_features=1200, out_features=50, bias=True)\n",
       "      (3): ReLU(inplace=True)\n",
       "      (4): BatchNorm1d(50, eps=1e-05, momentum=0.1, affine=True, track_running_stats=True)\n",
       "      (5): Dropout(p=0.1, inplace=False)\n",
       "      (6): Linear(in_features=50, out_features=121, bias=True)\n",
       "    )\n",
       "  )\n",
       ")], add_time=True, silent=None)\n",
       "alpha: 2.0\n",
       "beta: 1.0], layer_groups=[Sequential(\n",
       "  (0): Embedding(11376, 400, padding_idx=1)\n",
       "  (1): EmbeddingDropout(\n",
       "    (emb): Embedding(11376, 400, padding_idx=1)\n",
       "  )\n",
       "), Sequential(\n",
       "  (0): WeightDropout(\n",
       "    (module): LSTM(400, 1152, batch_first=True)\n",
       "  )\n",
       "  (1): RNNDropout()\n",
       "), Sequential(\n",
       "  (0): WeightDropout(\n",
       "    (module): LSTM(1152, 1152, batch_first=True)\n",
       "  )\n",
       "  (1): RNNDropout()\n",
       "), Sequential(\n",
       "  (0): WeightDropout(\n",
       "    (module): LSTM(1152, 400, batch_first=True)\n",
       "  )\n",
       "  (1): RNNDropout()\n",
       "), Sequential(\n",
       "  (0): PoolingLinearClassifier(\n",
       "    (layers): Sequential(\n",
       "      (0): BatchNorm1d(1200, eps=1e-05, momentum=0.1, affine=True, track_running_stats=True)\n",
       "      (1): Dropout(p=0.04000000000000001, inplace=False)\n",
       "      (2): Linear(in_features=1200, out_features=50, bias=True)\n",
       "      (3): ReLU(inplace=True)\n",
       "      (4): BatchNorm1d(50, eps=1e-05, momentum=0.1, affine=True, track_running_stats=True)\n",
       "      (5): Dropout(p=0.1, inplace=False)\n",
       "      (6): Linear(in_features=50, out_features=121, bias=True)\n",
       "    )\n",
       "  )\n",
       ")], add_time=True, silent=None)"
      ]
     },
     "execution_count": 83,
     "metadata": {},
     "output_type": "execute_result"
    }
   ],
   "source": [
    "learn.purge()"
   ]
  },
  {
   "cell_type": "code",
   "execution_count": 84,
   "metadata": {},
   "outputs": [
    {
     "data": {
      "text/plain": [
       "RNNLearner(data=TextClasDataBunch;\n",
       "\n",
       "Train: LabelList (482348 items)\n",
       "x: TextList\n",
       "xxbos para visita técnica,xxbos instalaçao,xxbos essa minha parabólica tá pegando só um canal os outros com controle remoto nao tá pegando,xxbos falta ausencia de sinal em algum canal do canal 94,xxbos é o aparelho zapper nao tá funcionando\n",
       "y: CategoryList\n",
       "Sintomas.Genérico.Sky não funciona,Sintomas.Genérico.Instalação,Sintomas.Genérico.Canal não pega,Sintomas.Genérico.Canal não pega,Sintomas.Genérico.Equipamento não funciona G\n",
       "Path: .;\n",
       "\n",
       "Valid: LabelList (53595 items)\n",
       "x: TextList\n",
       "xxbos visita técnica,xxbos falar com atendente,xxbos nao tá funcionando o meu aparelho,xxbos banda larga banda larga,xxbos sinal\n",
       "y: CategoryList\n",
       "Sintomas.Genérico.Problema com visita técnica,Sintomas.Genérico.Falar com atendente,Sintomas.Genérico.Texto ou código na tela,Sintomas.Qualificado.Banda larga,Sintomas.Genérico.Sem sinal\n",
       "Path: .;\n",
       "\n",
       "Test: LabelList (133986 items)\n",
       "x: TextList\n",
       "xxbos equipamento,xxbos é que eu tô sem sinal no meu no meu segundo ponto só sai no canal do cliente e nao sai do canal do cliente,xxbos aparelho com problema,xxbos equipamento danificado,xxbos quero falar com atendente\n",
       "y: EmptyLabelList\n",
       ",,,,\n",
       "Path: ., model=SequentialRNN(\n",
       "  (0): MultiBatchEncoder(\n",
       "    (module): AWD_LSTM(\n",
       "      (encoder): Embedding(11376, 400, padding_idx=1)\n",
       "      (encoder_dp): EmbeddingDropout(\n",
       "        (emb): Embedding(11376, 400, padding_idx=1)\n",
       "      )\n",
       "      (rnns): ModuleList(\n",
       "        (0): WeightDropout(\n",
       "          (module): LSTM(400, 1152, batch_first=True)\n",
       "        )\n",
       "        (1): WeightDropout(\n",
       "          (module): LSTM(1152, 1152, batch_first=True)\n",
       "        )\n",
       "        (2): WeightDropout(\n",
       "          (module): LSTM(1152, 400, batch_first=True)\n",
       "        )\n",
       "      )\n",
       "      (input_dp): RNNDropout()\n",
       "      (hidden_dps): ModuleList(\n",
       "        (0): RNNDropout()\n",
       "        (1): RNNDropout()\n",
       "        (2): RNNDropout()\n",
       "      )\n",
       "    )\n",
       "  )\n",
       "  (1): PoolingLinearClassifier(\n",
       "    (layers): Sequential(\n",
       "      (0): BatchNorm1d(1200, eps=1e-05, momentum=0.1, affine=True, track_running_stats=True)\n",
       "      (1): Dropout(p=0.04000000000000001, inplace=False)\n",
       "      (2): Linear(in_features=1200, out_features=50, bias=True)\n",
       "      (3): ReLU(inplace=True)\n",
       "      (4): BatchNorm1d(50, eps=1e-05, momentum=0.1, affine=True, track_running_stats=True)\n",
       "      (5): Dropout(p=0.1, inplace=False)\n",
       "      (6): Linear(in_features=50, out_features=121, bias=True)\n",
       "    )\n",
       "  )\n",
       "), opt_func=functools.partial(<class 'torch.optim.adam.Adam'>, betas=(0.9, 0.99)), loss_func=FlattenedLoss of CrossEntropyLoss(), metrics=[<function accuracy at 0x7f40a1d63400>], true_wd=True, bn_wd=True, wd=0.01, train_bn=True, path=PosixPath('.'), model_dir='models', callback_fns=[functools.partial(<class 'fastai.basic_train.Recorder'>, add_time=True, silent=False), <class 'fastai.train.ShowGraph'>], callbacks=[RNNTrainer\n",
       "learn: RNNLearner(data=TextClasDataBunch;\n",
       "\n",
       "Train: LabelList (482348 items)\n",
       "x: TextList\n",
       "xxbos para visita técnica,xxbos instalaçao,xxbos essa minha parabólica tá pegando só um canal os outros com controle remoto nao tá pegando,xxbos falta ausencia de sinal em algum canal do canal 94,xxbos é o aparelho zapper nao tá funcionando\n",
       "y: CategoryList\n",
       "Sintomas.Genérico.Sky não funciona,Sintomas.Genérico.Instalação,Sintomas.Genérico.Canal não pega,Sintomas.Genérico.Canal não pega,Sintomas.Genérico.Equipamento não funciona G\n",
       "Path: .;\n",
       "\n",
       "Valid: LabelList (53595 items)\n",
       "x: TextList\n",
       "xxbos visita técnica,xxbos falar com atendente,xxbos nao tá funcionando o meu aparelho,xxbos banda larga banda larga,xxbos sinal\n",
       "y: CategoryList\n",
       "Sintomas.Genérico.Problema com visita técnica,Sintomas.Genérico.Falar com atendente,Sintomas.Genérico.Texto ou código na tela,Sintomas.Qualificado.Banda larga,Sintomas.Genérico.Sem sinal\n",
       "Path: .;\n",
       "\n",
       "Test: LabelList (133986 items)\n",
       "x: TextList\n",
       "xxbos equipamento,xxbos é que eu tô sem sinal no meu no meu segundo ponto só sai no canal do cliente e nao sai do canal do cliente,xxbos aparelho com problema,xxbos equipamento danificado,xxbos quero falar com atendente\n",
       "y: EmptyLabelList\n",
       ",,,,\n",
       "Path: ., model=SequentialRNN(\n",
       "  (0): MultiBatchEncoder(\n",
       "    (module): AWD_LSTM(\n",
       "      (encoder): Embedding(11376, 400, padding_idx=1)\n",
       "      (encoder_dp): EmbeddingDropout(\n",
       "        (emb): Embedding(11376, 400, padding_idx=1)\n",
       "      )\n",
       "      (rnns): ModuleList(\n",
       "        (0): WeightDropout(\n",
       "          (module): LSTM(400, 1152, batch_first=True)\n",
       "        )\n",
       "        (1): WeightDropout(\n",
       "          (module): LSTM(1152, 1152, batch_first=True)\n",
       "        )\n",
       "        (2): WeightDropout(\n",
       "          (module): LSTM(1152, 400, batch_first=True)\n",
       "        )\n",
       "      )\n",
       "      (input_dp): RNNDropout()\n",
       "      (hidden_dps): ModuleList(\n",
       "        (0): RNNDropout()\n",
       "        (1): RNNDropout()\n",
       "        (2): RNNDropout()\n",
       "      )\n",
       "    )\n",
       "  )\n",
       "  (1): PoolingLinearClassifier(\n",
       "    (layers): Sequential(\n",
       "      (0): BatchNorm1d(1200, eps=1e-05, momentum=0.1, affine=True, track_running_stats=True)\n",
       "      (1): Dropout(p=0.04000000000000001, inplace=False)\n",
       "      (2): Linear(in_features=1200, out_features=50, bias=True)\n",
       "      (3): ReLU(inplace=True)\n",
       "      (4): BatchNorm1d(50, eps=1e-05, momentum=0.1, affine=True, track_running_stats=True)\n",
       "      (5): Dropout(p=0.1, inplace=False)\n",
       "      (6): Linear(in_features=50, out_features=121, bias=True)\n",
       "    )\n",
       "  )\n",
       "), opt_func=functools.partial(<class 'torch.optim.adam.Adam'>, betas=(0.9, 0.99)), loss_func=FlattenedLoss of CrossEntropyLoss(), metrics=[<function accuracy at 0x7f40a1d63400>], true_wd=True, bn_wd=True, wd=0.01, train_bn=True, path=PosixPath('.'), model_dir='models', callback_fns=[functools.partial(<class 'fastai.basic_train.Recorder'>, add_time=True, silent=False), <class 'fastai.train.ShowGraph'>], callbacks=[...], layer_groups=[Sequential(\n",
       "  (0): Embedding(11376, 400, padding_idx=1)\n",
       "  (1): EmbeddingDropout(\n",
       "    (emb): Embedding(11376, 400, padding_idx=1)\n",
       "  )\n",
       "), Sequential(\n",
       "  (0): WeightDropout(\n",
       "    (module): LSTM(400, 1152, batch_first=True)\n",
       "  )\n",
       "  (1): RNNDropout()\n",
       "), Sequential(\n",
       "  (0): WeightDropout(\n",
       "    (module): LSTM(1152, 1152, batch_first=True)\n",
       "  )\n",
       "  (1): RNNDropout()\n",
       "), Sequential(\n",
       "  (0): WeightDropout(\n",
       "    (module): LSTM(1152, 400, batch_first=True)\n",
       "  )\n",
       "  (1): RNNDropout()\n",
       "), Sequential(\n",
       "  (0): PoolingLinearClassifier(\n",
       "    (layers): Sequential(\n",
       "      (0): BatchNorm1d(1200, eps=1e-05, momentum=0.1, affine=True, track_running_stats=True)\n",
       "      (1): Dropout(p=0.04000000000000001, inplace=False)\n",
       "      (2): Linear(in_features=1200, out_features=50, bias=True)\n",
       "      (3): ReLU(inplace=True)\n",
       "      (4): BatchNorm1d(50, eps=1e-05, momentum=0.1, affine=True, track_running_stats=True)\n",
       "      (5): Dropout(p=0.1, inplace=False)\n",
       "      (6): Linear(in_features=50, out_features=121, bias=True)\n",
       "    )\n",
       "  )\n",
       ")], add_time=True, silent=None)\n",
       "alpha: 2.0\n",
       "beta: 1.0], layer_groups=[Sequential(\n",
       "  (0): Embedding(11376, 400, padding_idx=1)\n",
       "  (1): EmbeddingDropout(\n",
       "    (emb): Embedding(11376, 400, padding_idx=1)\n",
       "  )\n",
       "), Sequential(\n",
       "  (0): WeightDropout(\n",
       "    (module): LSTM(400, 1152, batch_first=True)\n",
       "  )\n",
       "  (1): RNNDropout()\n",
       "), Sequential(\n",
       "  (0): WeightDropout(\n",
       "    (module): LSTM(1152, 1152, batch_first=True)\n",
       "  )\n",
       "  (1): RNNDropout()\n",
       "), Sequential(\n",
       "  (0): WeightDropout(\n",
       "    (module): LSTM(1152, 400, batch_first=True)\n",
       "  )\n",
       "  (1): RNNDropout()\n",
       "), Sequential(\n",
       "  (0): PoolingLinearClassifier(\n",
       "    (layers): Sequential(\n",
       "      (0): BatchNorm1d(1200, eps=1e-05, momentum=0.1, affine=True, track_running_stats=True)\n",
       "      (1): Dropout(p=0.04000000000000001, inplace=False)\n",
       "      (2): Linear(in_features=1200, out_features=50, bias=True)\n",
       "      (3): ReLU(inplace=True)\n",
       "      (4): BatchNorm1d(50, eps=1e-05, momentum=0.1, affine=True, track_running_stats=True)\n",
       "      (5): Dropout(p=0.1, inplace=False)\n",
       "      (6): Linear(in_features=50, out_features=121, bias=True)\n",
       "    )\n",
       "  )\n",
       ")], add_time=True, silent=None)"
      ]
     },
     "execution_count": 84,
     "metadata": {},
     "output_type": "execute_result"
    }
   ],
   "source": [
    "learn.load('tweets-pt-30k-FT-virtual-operator-classifier-step3')"
   ]
  },
  {
   "cell_type": "code",
   "execution_count": 85,
   "metadata": {},
   "outputs": [
    {
     "data": {
      "text/html": [
       "<table border=\"1\" class=\"dataframe\">\n",
       "  <thead>\n",
       "    <tr style=\"text-align: left;\">\n",
       "      <th>epoch</th>\n",
       "      <th>train_loss</th>\n",
       "      <th>valid_loss</th>\n",
       "      <th>accuracy</th>\n",
       "      <th>time</th>\n",
       "    </tr>\n",
       "  </thead>\n",
       "  <tbody>\n",
       "    <tr>\n",
       "      <td>0</td>\n",
       "      <td>0.088481</td>\n",
       "      <td>0.179402</td>\n",
       "      <td>0.962851</td>\n",
       "      <td>02:59</td>\n",
       "    </tr>\n",
       "    <tr>\n",
       "      <td>1</td>\n",
       "      <td>0.069721</td>\n",
       "      <td>3.270021</td>\n",
       "      <td>0.960836</td>\n",
       "      <td>03:10</td>\n",
       "    </tr>\n",
       "    <tr>\n",
       "      <td>2</td>\n",
       "      <td>0.071974</td>\n",
       "      <td>0.221303</td>\n",
       "      <td>0.963523</td>\n",
       "      <td>02:50</td>\n",
       "    </tr>\n",
       "    <tr>\n",
       "      <td>3</td>\n",
       "      <td>0.092529</td>\n",
       "      <td>0.156814</td>\n",
       "      <td>0.964250</td>\n",
       "      <td>03:03</td>\n",
       "    </tr>\n",
       "  </tbody>\n",
       "</table>"
      ],
      "text/plain": [
       "<IPython.core.display.HTML object>"
      ]
     },
     "metadata": {},
     "output_type": "display_data"
    },
    {
     "name": "stderr",
     "output_type": "stream",
     "text": [
      "/usr/local/lib/python3.6/dist-packages/numpy/core/_asarray.py:83: VisibleDeprecationWarning: Creating an ndarray from ragged nested sequences (which is a list-or-tuple of lists-or-tuples-or ndarrays with different lengths or shapes) is deprecated. If you meant to do this, you must specify 'dtype=object' when creating the ndarray\n",
      "  return array(a, dtype, copy=False, order=order)\n",
      "<string>:6: VisibleDeprecationWarning: Creating an ndarray from ragged nested sequences (which is a list-or-tuple of lists-or-tuples-or ndarrays with different lengths or shapes) is deprecated. If you meant to do this, you must specify 'dtype=object' when creating the ndarray\n"
     ]
    },
    {
     "data": {
      "image/png": "[encoded data removed]",
      "text/plain": [
       "<Figure size 432x288 with 1 Axes>"
      ]
     },
     "metadata": {},
     "output_type": "display_data"
    },
    {
     "name": "stdout",
     "output_type": "stream",
     "text": [
      "Better model found at epoch 0 with valid_loss value: 0.17940224707126617.\n"
     ]
    },
    {
     "name": "stderr",
     "output_type": "stream",
     "text": [
      "/usr/local/lib/python3.6/dist-packages/numpy/core/_asarray.py:83: VisibleDeprecationWarning: Creating an ndarray from ragged nested sequences (which is a list-or-tuple of lists-or-tuples-or ndarrays with different lengths or shapes) is deprecated. If you meant to do this, you must specify 'dtype=object' when creating the ndarray\n",
      "  return array(a, dtype, copy=False, order=order)\n",
      "<string>:6: VisibleDeprecationWarning: Creating an ndarray from ragged nested sequences (which is a list-or-tuple of lists-or-tuples-or ndarrays with different lengths or shapes) is deprecated. If you meant to do this, you must specify 'dtype=object' when creating the ndarray\n",
      "/usr/local/lib/python3.6/dist-packages/numpy/core/_asarray.py:83: VisibleDeprecationWarning: Creating an ndarray from ragged nested sequences (which is a list-or-tuple of lists-or-tuples-or ndarrays with different lengths or shapes) is deprecated. If you meant to do this, you must specify 'dtype=object' when creating the ndarray\n",
      "  return array(a, dtype, copy=False, order=order)\n",
      "<string>:6: VisibleDeprecationWarning: Creating an ndarray from ragged nested sequences (which is a list-or-tuple of lists-or-tuples-or ndarrays with different lengths or shapes) is deprecated. If you meant to do this, you must specify 'dtype=object' when creating the ndarray\n",
      "/usr/local/lib/python3.6/dist-packages/numpy/core/_asarray.py:83: VisibleDeprecationWarning: Creating an ndarray from ragged nested sequences (which is a list-or-tuple of lists-or-tuples-or ndarrays with different lengths or shapes) is deprecated. If you meant to do this, you must specify 'dtype=object' when creating the ndarray\n",
      "  return array(a, dtype, copy=False, order=order)\n",
      "<string>:6: VisibleDeprecationWarning: Creating an ndarray from ragged nested sequences (which is a list-or-tuple of lists-or-tuples-or ndarrays with different lengths or shapes) is deprecated. If you meant to do this, you must specify 'dtype=object' when creating the ndarray\n"
     ]
    },
    {
     "name": "stdout",
     "output_type": "stream",
     "text": [
      "Better model found at epoch 3 with valid_loss value: 0.15681441128253937.\n"
     ]
    }
   ],
   "source": [
    "learn.unfreeze()\n",
    "learn.fit_one_cycle(4, slice(1e-3/(2.6**4),1e-3), moms=(0.8,0.7), callbacks=[ShowGraph(learn), SaveModelCallback(learn, name='tweets-pt-30k-FT-virtual-operator-classifier-step4')])"
   ]
  },
  {
   "cell_type": "code",
   "execution_count": 86,
   "metadata": {},
   "outputs": [
    {
     "data": {
      "text/plain": [
       "RNNLearner(data=TextClasDataBunch;\n",
       "\n",
       "Train: LabelList (482348 items)\n",
       "x: TextList\n",
       "xxbos para visita técnica,xxbos instalaçao,xxbos essa minha parabólica tá pegando só um canal os outros com controle remoto nao tá pegando,xxbos falta ausencia de sinal em algum canal do canal 94,xxbos é o aparelho zapper nao tá funcionando\n",
       "y: CategoryList\n",
       "Sintomas.Genérico.Sky não funciona,Sintomas.Genérico.Instalação,Sintomas.Genérico.Canal não pega,Sintomas.Genérico.Canal não pega,Sintomas.Genérico.Equipamento não funciona G\n",
       "Path: .;\n",
       "\n",
       "Valid: LabelList (53595 items)\n",
       "x: TextList\n",
       "xxbos visita técnica,xxbos falar com atendente,xxbos nao tá funcionando o meu aparelho,xxbos banda larga banda larga,xxbos sinal\n",
       "y: CategoryList\n",
       "Sintomas.Genérico.Problema com visita técnica,Sintomas.Genérico.Falar com atendente,Sintomas.Genérico.Texto ou código na tela,Sintomas.Qualificado.Banda larga,Sintomas.Genérico.Sem sinal\n",
       "Path: .;\n",
       "\n",
       "Test: LabelList (133986 items)\n",
       "x: TextList\n",
       "xxbos equipamento,xxbos é que eu tô sem sinal no meu no meu segundo ponto só sai no canal do cliente e nao sai do canal do cliente,xxbos aparelho com problema,xxbos equipamento danificado,xxbos quero falar com atendente\n",
       "y: EmptyLabelList\n",
       ",,,,\n",
       "Path: ., model=SequentialRNN(\n",
       "  (0): MultiBatchEncoder(\n",
       "    (module): AWD_LSTM(\n",
       "      (encoder): Embedding(11376, 400, padding_idx=1)\n",
       "      (encoder_dp): EmbeddingDropout(\n",
       "        (emb): Embedding(11376, 400, padding_idx=1)\n",
       "      )\n",
       "      (rnns): ModuleList(\n",
       "        (0): WeightDropout(\n",
       "          (module): LSTM(400, 1152, batch_first=True)\n",
       "        )\n",
       "        (1): WeightDropout(\n",
       "          (module): LSTM(1152, 1152, batch_first=True)\n",
       "        )\n",
       "        (2): WeightDropout(\n",
       "          (module): LSTM(1152, 400, batch_first=True)\n",
       "        )\n",
       "      )\n",
       "      (input_dp): RNNDropout()\n",
       "      (hidden_dps): ModuleList(\n",
       "        (0): RNNDropout()\n",
       "        (1): RNNDropout()\n",
       "        (2): RNNDropout()\n",
       "      )\n",
       "    )\n",
       "  )\n",
       "  (1): PoolingLinearClassifier(\n",
       "    (layers): Sequential(\n",
       "      (0): BatchNorm1d(1200, eps=1e-05, momentum=0.1, affine=True, track_running_stats=True)\n",
       "      (1): Dropout(p=0.04000000000000001, inplace=False)\n",
       "      (2): Linear(in_features=1200, out_features=50, bias=True)\n",
       "      (3): ReLU(inplace=True)\n",
       "      (4): BatchNorm1d(50, eps=1e-05, momentum=0.1, affine=True, track_running_stats=True)\n",
       "      (5): Dropout(p=0.1, inplace=False)\n",
       "      (6): Linear(in_features=50, out_features=121, bias=True)\n",
       "    )\n",
       "  )\n",
       "), opt_func=functools.partial(<class 'torch.optim.adam.Adam'>, betas=(0.9, 0.99)), loss_func=FlattenedLoss of CrossEntropyLoss(), metrics=[<function accuracy at 0x7f40a1d63400>], true_wd=True, bn_wd=True, wd=0.01, train_bn=True, path=PosixPath('.'), model_dir='models', callback_fns=[functools.partial(<class 'fastai.basic_train.Recorder'>, add_time=True, silent=False), <class 'fastai.train.ShowGraph'>], callbacks=[RNNTrainer\n",
       "learn: RNNLearner(data=TextClasDataBunch;\n",
       "\n",
       "Train: LabelList (482348 items)\n",
       "x: TextList\n",
       "xxbos para visita técnica,xxbos instalaçao,xxbos essa minha parabólica tá pegando só um canal os outros com controle remoto nao tá pegando,xxbos falta ausencia de sinal em algum canal do canal 94,xxbos é o aparelho zapper nao tá funcionando\n",
       "y: CategoryList\n",
       "Sintomas.Genérico.Sky não funciona,Sintomas.Genérico.Instalação,Sintomas.Genérico.Canal não pega,Sintomas.Genérico.Canal não pega,Sintomas.Genérico.Equipamento não funciona G\n",
       "Path: .;\n",
       "\n",
       "Valid: LabelList (53595 items)\n",
       "x: TextList\n",
       "xxbos visita técnica,xxbos falar com atendente,xxbos nao tá funcionando o meu aparelho,xxbos banda larga banda larga,xxbos sinal\n",
       "y: CategoryList\n",
       "Sintomas.Genérico.Problema com visita técnica,Sintomas.Genérico.Falar com atendente,Sintomas.Genérico.Texto ou código na tela,Sintomas.Qualificado.Banda larga,Sintomas.Genérico.Sem sinal\n",
       "Path: .;\n",
       "\n",
       "Test: LabelList (133986 items)\n",
       "x: TextList\n",
       "xxbos equipamento,xxbos é que eu tô sem sinal no meu no meu segundo ponto só sai no canal do cliente e nao sai do canal do cliente,xxbos aparelho com problema,xxbos equipamento danificado,xxbos quero falar com atendente\n",
       "y: EmptyLabelList\n",
       ",,,,\n",
       "Path: ., model=SequentialRNN(\n",
       "  (0): MultiBatchEncoder(\n",
       "    (module): AWD_LSTM(\n",
       "      (encoder): Embedding(11376, 400, padding_idx=1)\n",
       "      (encoder_dp): EmbeddingDropout(\n",
       "        (emb): Embedding(11376, 400, padding_idx=1)\n",
       "      )\n",
       "      (rnns): ModuleList(\n",
       "        (0): WeightDropout(\n",
       "          (module): LSTM(400, 1152, batch_first=True)\n",
       "        )\n",
       "        (1): WeightDropout(\n",
       "          (module): LSTM(1152, 1152, batch_first=True)\n",
       "        )\n",
       "        (2): WeightDropout(\n",
       "          (module): LSTM(1152, 400, batch_first=True)\n",
       "        )\n",
       "      )\n",
       "      (input_dp): RNNDropout()\n",
       "      (hidden_dps): ModuleList(\n",
       "        (0): RNNDropout()\n",
       "        (1): RNNDropout()\n",
       "        (2): RNNDropout()\n",
       "      )\n",
       "    )\n",
       "  )\n",
       "  (1): PoolingLinearClassifier(\n",
       "    (layers): Sequential(\n",
       "      (0): BatchNorm1d(1200, eps=1e-05, momentum=0.1, affine=True, track_running_stats=True)\n",
       "      (1): Dropout(p=0.04000000000000001, inplace=False)\n",
       "      (2): Linear(in_features=1200, out_features=50, bias=True)\n",
       "      (3): ReLU(inplace=True)\n",
       "      (4): BatchNorm1d(50, eps=1e-05, momentum=0.1, affine=True, track_running_stats=True)\n",
       "      (5): Dropout(p=0.1, inplace=False)\n",
       "      (6): Linear(in_features=50, out_features=121, bias=True)\n",
       "    )\n",
       "  )\n",
       "), opt_func=functools.partial(<class 'torch.optim.adam.Adam'>, betas=(0.9, 0.99)), loss_func=FlattenedLoss of CrossEntropyLoss(), metrics=[<function accuracy at 0x7f40a1d63400>], true_wd=True, bn_wd=True, wd=0.01, train_bn=True, path=PosixPath('.'), model_dir='models', callback_fns=[functools.partial(<class 'fastai.basic_train.Recorder'>, add_time=True, silent=False), <class 'fastai.train.ShowGraph'>], callbacks=[...], layer_groups=[Sequential(\n",
       "  (0): Embedding(11376, 400, padding_idx=1)\n",
       "  (1): EmbeddingDropout(\n",
       "    (emb): Embedding(11376, 400, padding_idx=1)\n",
       "  )\n",
       "), Sequential(\n",
       "  (0): WeightDropout(\n",
       "    (module): LSTM(400, 1152, batch_first=True)\n",
       "  )\n",
       "  (1): RNNDropout()\n",
       "), Sequential(\n",
       "  (0): WeightDropout(\n",
       "    (module): LSTM(1152, 1152, batch_first=True)\n",
       "  )\n",
       "  (1): RNNDropout()\n",
       "), Sequential(\n",
       "  (0): WeightDropout(\n",
       "    (module): LSTM(1152, 400, batch_first=True)\n",
       "  )\n",
       "  (1): RNNDropout()\n",
       "), Sequential(\n",
       "  (0): PoolingLinearClassifier(\n",
       "    (layers): Sequential(\n",
       "      (0): BatchNorm1d(1200, eps=1e-05, momentum=0.1, affine=True, track_running_stats=True)\n",
       "      (1): Dropout(p=0.04000000000000001, inplace=False)\n",
       "      (2): Linear(in_features=1200, out_features=50, bias=True)\n",
       "      (3): ReLU(inplace=True)\n",
       "      (4): BatchNorm1d(50, eps=1e-05, momentum=0.1, affine=True, track_running_stats=True)\n",
       "      (5): Dropout(p=0.1, inplace=False)\n",
       "      (6): Linear(in_features=50, out_features=121, bias=True)\n",
       "    )\n",
       "  )\n",
       ")], add_time=True, silent=None)\n",
       "alpha: 2.0\n",
       "beta: 1.0], layer_groups=[Sequential(\n",
       "  (0): Embedding(11376, 400, padding_idx=1)\n",
       "  (1): EmbeddingDropout(\n",
       "    (emb): Embedding(11376, 400, padding_idx=1)\n",
       "  )\n",
       "), Sequential(\n",
       "  (0): WeightDropout(\n",
       "    (module): LSTM(400, 1152, batch_first=True)\n",
       "  )\n",
       "  (1): RNNDropout()\n",
       "), Sequential(\n",
       "  (0): WeightDropout(\n",
       "    (module): LSTM(1152, 1152, batch_first=True)\n",
       "  )\n",
       "  (1): RNNDropout()\n",
       "), Sequential(\n",
       "  (0): WeightDropout(\n",
       "    (module): LSTM(1152, 400, batch_first=True)\n",
       "  )\n",
       "  (1): RNNDropout()\n",
       "), Sequential(\n",
       "  (0): PoolingLinearClassifier(\n",
       "    (layers): Sequential(\n",
       "      (0): BatchNorm1d(1200, eps=1e-05, momentum=0.1, affine=True, track_running_stats=True)\n",
       "      (1): Dropout(p=0.04000000000000001, inplace=False)\n",
       "      (2): Linear(in_features=1200, out_features=50, bias=True)\n",
       "      (3): ReLU(inplace=True)\n",
       "      (4): BatchNorm1d(50, eps=1e-05, momentum=0.1, affine=True, track_running_stats=True)\n",
       "      (5): Dropout(p=0.1, inplace=False)\n",
       "      (6): Linear(in_features=50, out_features=121, bias=True)\n",
       "    )\n",
       "  )\n",
       ")], add_time=True, silent=None)"
      ]
     },
     "execution_count": 86,
     "metadata": {},
     "output_type": "execute_result"
    }
   ],
   "source": [
    "learn.load('tweets-pt-30k-FT-virtual-operator-classifier-step4')"
   ]
  },
  {
   "cell_type": "code",
   "execution_count": 87,
   "metadata": {},
   "outputs": [],
   "source": [
    "y = []\n",
    "for item in test_dataset.itertuples():\n",
    "    label = item[2]\n",
    "    label_id = learn.data.classes.index(label)\n",
    "    y.append(label_id)"
   ]
  },
  {
   "cell_type": "code",
   "execution_count": 88,
   "metadata": {},
   "outputs": [
    {
     "data": {
      "text/html": [],
      "text/plain": [
       "<IPython.core.display.HTML object>"
      ]
     },
     "metadata": {},
     "output_type": "display_data"
    }
   ],
   "source": [
    "preds_test = learn.get_preds(ds_type = DatasetType.Test, ordered=True)"
   ]
  },
  {
   "cell_type": "code",
   "execution_count": 89,
   "metadata": {},
   "outputs": [],
   "source": [
    "y_hat = torch.argmax(preds_test[0], dim=1)"
   ]
  },
  {
   "cell_type": "code",
   "execution_count": 91,
   "metadata": {},
   "outputs": [
    {
     "name": "stderr",
     "output_type": "stream",
     "text": [
      "/usr/local/lib/python3.6/dist-packages/sklearn/metrics/_classification.py:1245: UndefinedMetricWarning: Precision and F-score are ill-defined and being set to 0.0 in labels with no predicted samples. Use `zero_division` parameter to control this behavior.\n",
      "  _warn_prf(average, modifier, msg_start, len(result))\n",
      "/usr/local/lib/python3.6/dist-packages/sklearn/metrics/_classification.py:1245: UndefinedMetricWarning: Precision and F-score are ill-defined and being set to 0.0 in labels with no predicted samples. Use `zero_division` parameter to control this behavior.\n",
      "  _warn_prf(average, modifier, msg_start, len(result))\n"
     ]
    },
    {
     "name": "stdout",
     "output_type": "stream",
     "text": [
      "                                                                  precision    recall  f1-score   support\n",
      "\n",
      "                     Sintomas.Genérico.Atualização de endereço G      0.950     1.000     0.974        76\n",
      "                          Sintomas.Genérico.Canal Globo não pega      0.744     0.803     0.772       304\n",
      "                           Sintomas.Genérico.Canal HD não pega G      0.927     0.945     0.936       697\n",
      "                     Sintomas.Genérico.Canal adulto não pega (G)      0.694     0.735     0.714        34\n",
      "                      Sintomas.Genérico.Canal comum não pega (G)      0.889     0.871     0.880      1200\n",
      "                                Sintomas.Genérico.Canal não pega      0.953     0.959     0.956      5967\n",
      "                       Sintomas.Genérico.Canal opcional não pega      0.848     0.829     0.838       222\n",
      "                                 Sintomas.Genérico.Canal travado      0.866     0.945     0.904       477\n",
      "                                    Sintomas.Genérico.Código sim      0.922     0.881     0.901        67\n",
      "                           Sintomas.Genérico.Entendimento errado      0.871     0.922     0.896       322\n",
      "                    Sintomas.Genérico.Equipamento não funciona G      0.963     0.979     0.971      2318\n",
      "                        Sintomas.Genérico.Equipamento quebrado G      0.963     0.969     0.966      1441\n",
      "                        Sintomas.Genérico.Equipamento queimado G      0.984     0.990     0.987      2106\n",
      "                           Sintomas.Genérico.Falar com atendente      0.989     0.989     0.989      8262\n",
      "                                    Sintomas.Genérico.Instalação      0.998     0.986     0.992       647\n",
      "                                       Sintomas.Genérico.Mudança      0.971     0.951     0.961       891\n",
      "                             Sintomas.Genérico.Mudança de antena      0.989     0.995     0.992       372\n",
      "                         Sintomas.Genérico.Mudança de endereço G      0.996     0.996     0.996      2501\n",
      "                         Sintomas.Genérico.Mudança de instalação      1.000     1.000     1.000        98\n",
      "                                       Sintomas.Genérico.Não sei      0.856     0.918     0.886       440\n",
      "                            Sintomas.Genérico.Problema Controle2      0.959     0.958     0.958      1661\n",
      "                            Sintomas.Genérico.Problema com canal      0.977     0.979     0.978      3547\n",
      "                   Sintomas.Genérico.Problema com closed caption      1.000     1.000     1.000         4\n",
      "                      Sintomas.Genérico.Problema com equipamento      0.990     0.989     0.990      9645\n",
      "                           Sintomas.Genérico.Problema com imagem      0.982     0.983     0.982      6605\n",
      "                          Sintomas.Genérico.Problema com legenda      0.984     0.984     0.984       252\n",
      "                            Sintomas.Genérico.Problema com senha      0.993     0.997     0.995       291\n",
      "                   Sintomas.Genérico.Problema com troca de canal      0.800     0.211     0.333        19\n",
      "                   Sintomas.Genérico.Problema com visita técnica      0.997     0.999     0.998      2193\n",
      "                            Sintomas.Genérico.Problema com áudio      0.935     0.960     0.948       301\n",
      "                            Sintomas.Genérico.Problema de antena      0.906     0.928     0.917        83\n",
      "                            Sintomas.Genérico.Promessa de oferta      0.000     0.000     0.000        13\n",
      "                                     Sintomas.Genérico.Sem sinal      0.974     0.974     0.974     14552\n",
      "                          Sintomas.Genérico.Sem sinal nem código      0.788     0.842     0.815       146\n",
      "                              Sintomas.Genérico.Sky não funciona      0.968     0.962     0.965      8357\n",
      "                            Sintomas.Genérico.Tela monocromática      0.917     0.829     0.871       187\n",
      "                       Sintomas.Genérico.Texto ou código na tela      0.906     0.922     0.914      1694\n",
      "                          Sintomas.Genérico.Troca de equipamento      0.985     0.974     0.980      3737\n",
      "                     Sintomas.Qualificado.Agendar visita técnica      0.983     0.930     0.956       316\n",
      "                              Sintomas.Qualificado.Alterar áudio      0.909     0.931     0.920       204\n",
      "                   Sintomas.Qualificado.Apenas imagem, sem áudio      0.948     0.941     0.945       562\n",
      "                             Sintomas.Qualificado.Aplicativo Sky      0.994     0.995     0.994       809\n",
      "                      Sintomas.Qualificado.Ativar closed caption      0.000     0.000     0.000         6\n",
      "            Sintomas.Qualificado.Atualização crítica de endereço      0.800     0.706     0.750        17\n",
      "                          Sintomas.Qualificado.Ausência de sinal      0.994     0.993     0.994     10158\n",
      "                       Sintomas.Qualificado.Ausência sinal geral      0.750     0.714     0.732        21\n",
      "                                Sintomas.Qualificado.Banda larga      0.964     0.961     0.963      2590\n",
      "                         Sintomas.Qualificado.Cabos e conectores      0.987     0.989     0.988      1558\n",
      "              Sintomas.Qualificado.Canal PPV não está disponível      0.962     0.960     0.961      1016\n",
      "                        Sintomas.Qualificado.Canal fora da grade      0.913     0.915     0.914       342\n",
      "                               Sintomas.Qualificado.Cancelamento      0.964     0.976     0.970      1847\n",
      "                               Sintomas.Qualificado.Cancelar Sky      0.944     0.680     0.791        50\n",
      "                        Sintomas.Qualificado.Chip do equipamento      0.938     0.978     0.957        92\n",
      "                         Sintomas.Qualificado.Cliente está longe      0.667     0.188     0.293        32\n",
      "             Sintomas.Qualificado.Controle não funciona para sky      0.763     0.696     0.728       125\n",
      "              Sintomas.Qualificado.Controle não funciona para tv      0.821     0.897     0.857       107\n",
      "                           Sintomas.Qualificado.Controle perdido      0.970     0.954     0.962       306\n",
      "                          Sintomas.Qualificado.Controle quebrado      0.813     0.819     0.816       138\n",
      "                         Sintomas.Qualificado.Criar senha padrão      1.000     0.800     0.889        20\n",
      "                              Sintomas.Qualificado.Código 1-2-25      0.957     0.948     0.953       658\n",
      "                                 Sintomas.Qualificado.Código 109      1.000     0.989     0.995        93\n",
      "                                  Sintomas.Qualificado.Código 13      1.000     0.957     0.978        23\n",
      "                                  Sintomas.Qualificado.Código 14      0.965     0.991     0.978       111\n",
      "                                  Sintomas.Qualificado.Código 19      0.979     0.959     0.969        49\n",
      "                                   Sintomas.Qualificado.Código 4      0.937     0.951     0.944       980\n",
      "                                  Sintomas.Qualificado.Código 56      0.993     0.995     0.994       585\n",
      "                                   Sintomas.Qualificado.Código 6      0.924     0.941     0.933       905\n",
      "                                  Sintomas.Qualificado.Código 77      0.928     0.965     0.946      1094\n",
      "                                   Sintomas.Qualificado.Código 9      1.000     0.889     0.941         9\n",
      "                         Sintomas.Qualificado.Código diagnóstico      0.984     0.984     0.984       122\n",
      "                      Sintomas.Qualificado.Equipamento com ruído      0.909     0.952     0.930        21\n",
      "         Sintomas.Qualificado.Equipamento liga e desliga sozinho      0.947     0.947     0.947       455\n",
      "                       Sintomas.Qualificado.Equipamento não liga      0.981     0.980     0.981      1816\n",
      "                       Sintomas.Qualificado.Equipamento queimado      0.897     0.884     0.890       147\n",
      "                  Sintomas.Qualificado.Equipamento superaquecido      0.923     0.896     0.909        67\n",
      "                        Sintomas.Qualificado.Equipamento travado      0.768     0.677     0.720        93\n",
      "                        Sintomas.Qualificado.Evento indisponível      0.953     0.938     0.946       130\n",
      "                                   Sintomas.Qualificado.Gravação      0.967     0.985     0.976       997\n",
      "                        Sintomas.Qualificado.Guia de programação      0.971     0.990     0.981       409\n",
      "                 Sintomas.Qualificado.Habilitar recurso de senha      0.833     0.833     0.833        78\n",
      "                      Sintomas.Qualificado.Imagem preto e branco      0.895     0.895     0.895        95\n",
      "Sintomas.Qualificado.Informações e confirmação de visita técnica      0.973     0.959     0.966       910\n",
      "                        Sintomas.Qualificado.Irritação ou Anatel      0.984     0.975     0.979       950\n",
      "                          Sintomas.Qualificado.Legenda incorreta      0.962     0.833     0.893        30\n",
      "                Sintomas.Qualificado.Legenda não aparece na tela      0.859     0.871     0.865        70\n",
      "                      Sintomas.Qualificado.Lentidão trocar canal      0.800     0.500     0.615         8\n",
      "                    Sintomas.Qualificado.Msg carregando conteúdo      0.000     0.000     0.000         3\n",
      "                          Sintomas.Qualificado.Mudança de cômodo      0.971     0.967     0.969      1975\n",
      "                        Sintomas.Qualificado.Mudança de endereço      0.988     0.985     0.987      3343\n",
      "                  Sintomas.Qualificado.Mudança de posição antena      0.939     0.916     0.927       654\n",
      "                       Sintomas.Qualificado.Novo Controle Pedido      0.942     0.890     0.915       146\n",
      "                             Sintomas.Qualificado.Numeração nova      0.958     0.901     0.929       101\n",
      "                     Sintomas.Qualificado.NãoTéc ponto adicional      0.935     0.951     0.943      2049\n",
      "                           Sintomas.Qualificado.NãoTéc sky livre      0.934     1.000     0.966       127\n",
      "                          Sintomas.Qualificado.NãoTéc upgrade hd      0.931     0.931     0.931       419\n",
      "                            Sintomas.Qualificado.NãoTéc_cadastro      0.884     0.860     0.872       292\n",
      "                              Sintomas.Qualificado.NãoTéc_compra      0.894     0.915     0.904       129\n",
      "                              Sintomas.Qualificado.NãoTéc_fatura      0.930     0.937     0.933      1451\n",
      "                              Sintomas.Qualificado.NãoTéc_outros      0.935     0.844     0.887       186\n",
      "                               Sintomas.Qualificado.NãoTéc_plano      0.905     0.867     0.885      1683\n",
      "                               Sintomas.Qualificado.Número da OS      0.000     0.000     0.000         2\n",
      "                           Sintomas.Qualificado.Outros problemas      0.909     0.845     0.876       729\n",
      "                      Sintomas.Qualificado.Priorizar atendimento      0.961     0.959     0.960      1140\n",
      "                              Sintomas.Qualificado.Problema tudo      0.958     0.938     0.948       145\n",
      "    Sintomas.Qualificado.Procurando sinal sintonizador terrestre      0.853     0.935     0.892        31\n",
      "                          Sintomas.Qualificado.Programação local      0.923     0.950     0.936       380\n",
      "                       Sintomas.Qualificado.Reativar programação      0.968     1.000     0.984        60\n",
      "                                    Sintomas.Qualificado.Recarga      0.857     0.889     0.873        27\n",
      "                      Sintomas.Qualificado.Reset de senha padrão      0.893     0.870     0.881       115\n",
      "                Sintomas.Qualificado.Resolvido com sinal booster      0.849     0.901     0.874       212\n",
      "                             Sintomas.Qualificado.Senha - padrão      0.806     0.833     0.820       120\n",
      "                                 Sintomas.Qualificado.Sky Online      0.950     0.963     0.956      1926\n",
      "                      Sintomas.Qualificado.TV é HD, mas Sky é SD      0.933     0.933     0.933       268\n",
      "                                  Sintomas.Qualificado.Tela azul      0.890     0.963     0.925       134\n",
      "                          Sintomas.Qualificado.Tela com chuvisco      0.833     0.897     0.864       234\n",
      "                                 Sintomas.Qualificado.Tela preta      0.937     0.911     0.923       861\n",
      "                         Sintomas.Qualificado.Travado exceto 200      0.733     0.647     0.688        17\n",
      "                Sintomas.Qualificado.Travado no canal do cliente      0.872     0.915     0.893       506\n",
      "                       Sintomas.Qualificado.Técnico não resolveu      0.718     0.615     0.663        91\n",
      "                           Sintomas.Qualificado.Técnico não veio      0.951     0.952     0.952      1474\n",
      "                             Sintomas.Qualificado.Áudio atrasado      0.000     0.000     0.000         6\n",
      "\n",
      "                                                        accuracy                          0.966    133986\n",
      "                                                       macro avg      0.882     0.866     0.870    133986\n",
      "                                                    weighted avg      0.965     0.966     0.965    133986\n",
      "\n"
     ]
    },
    {
     "name": "stderr",
     "output_type": "stream",
     "text": [
      "/usr/local/lib/python3.6/dist-packages/sklearn/metrics/_classification.py:1245: UndefinedMetricWarning: Precision and F-score are ill-defined and being set to 0.0 in labels with no predicted samples. Use `zero_division` parameter to control this behavior.\n",
      "  _warn_prf(average, modifier, msg_start, len(result))\n"
     ]
    }
   ],
   "source": [
    "from sklearn.metrics import classification_report\n",
    "print(classification_report(y, y_hat, target_names=learn.data.classes, digits=3))"
   ]
  },
  {
   "cell_type": "code",
   "execution_count": 92,
   "metadata": {},
   "outputs": [
    {
     "data": {
      "text/html": [
       "<div>\n",
       "<style scoped>\n",
       "    .dataframe tbody tr th:only-of-type {\n",
       "        vertical-align: middle;\n",
       "    }\n",
       "\n",
       "    .dataframe tbody tr th {\n",
       "        vertical-align: top;\n",
       "    }\n",
       "\n",
       "    .dataframe thead th {\n",
       "        text-align: right;\n",
       "    }\n",
       "</style>\n",
       "<table border=\"1\" class=\"dataframe\">\n",
       "  <thead>\n",
       "    <tr style=\"text-align: right;\">\n",
       "      <th></th>\n",
       "      <th>utterance</th>\n",
       "      <th>label</th>\n",
       "    </tr>\n",
       "  </thead>\n",
       "  <tbody>\n",
       "    <tr>\n",
       "      <th>0</th>\n",
       "      <td>equipamento</td>\n",
       "      <td>Sintomas.Genérico.Problema com equipamento</td>\n",
       "    </tr>\n",
       "    <tr>\n",
       "      <th>1</th>\n",
       "      <td>é que eu tô sem sinal no meu no meu segundo po...</td>\n",
       "      <td>Sintomas.Qualificado.NãoTéc ponto adicional</td>\n",
       "    </tr>\n",
       "    <tr>\n",
       "      <th>2</th>\n",
       "      <td>aparelho com problema</td>\n",
       "      <td>Sintomas.Genérico.Equipamento quebrado G</td>\n",
       "    </tr>\n",
       "    <tr>\n",
       "      <th>3</th>\n",
       "      <td>equipamento danificado</td>\n",
       "      <td>Sintomas.Genérico.Equipamento quebrado G</td>\n",
       "    </tr>\n",
       "    <tr>\n",
       "      <th>4</th>\n",
       "      <td>quero falar com atendente</td>\n",
       "      <td>Sintomas.Genérico.Falar com atendente</td>\n",
       "    </tr>\n",
       "  </tbody>\n",
       "</table>\n",
       "</div>"
      ],
      "text/plain": [
       "                                           utterance  \\\n",
       "0                                        equipamento   \n",
       "1  é que eu tô sem sinal no meu no meu segundo po...   \n",
       "2                              aparelho com problema   \n",
       "3                             equipamento danificado   \n",
       "4                          quero falar com atendente   \n",
       "\n",
       "                                         label  \n",
       "0   Sintomas.Genérico.Problema com equipamento  \n",
       "1  Sintomas.Qualificado.NãoTéc ponto adicional  \n",
       "2     Sintomas.Genérico.Equipamento quebrado G  \n",
       "3     Sintomas.Genérico.Equipamento quebrado G  \n",
       "4        Sintomas.Genérico.Falar com atendente  "
      ]
     },
     "execution_count": 92,
     "metadata": {},
     "output_type": "execute_result"
    }
   ],
   "source": [
    "test_dataset.head()"
   ]
  },
  {
   "cell_type": "code",
   "execution_count": 16,
   "metadata": {},
   "outputs": [
    {
     "name": "stdout",
     "output_type": "stream",
     "text": [
      "Sintomas.Genérico.Problema com equipamento;2.700466562986003\n",
      "Sintomas.Qualificado.NãoTéc ponto adicional;12.348462664714495\n",
      "Sintomas.Genérico.Equipamento quebrado G;5.0631505898681475\n",
      "Sintomas.Genérico.Falar com atendente;6.140764947954491\n",
      "Sintomas.Qualificado.Ausência de sinal;6.539279385705847\n",
      "Sintomas.Genérico.Canal não pega;9.367353779118485\n",
      "Sintomas.Genérico.Sem sinal;5.69564321055525\n",
      "Sintomas.Genérico.Mudança de endereço G;3.788484606157537\n",
      "Sintomas.Qualificado.Cancelamento;9.429886302111532\n",
      "Sintomas.Qualificado.Banda larga;8.706177606177606\n",
      "Sintomas.Genérico.Equipamento queimado G;5.076923076923077\n",
      "Sintomas.Qualificado.Sky Online;7.43613707165109\n",
      "Sintomas.Qualificado.Canal PPV não está disponível;12.21259842519685\n",
      "Sintomas.Genérico.Texto ou código na tela;9.043093270365997\n",
      "Sintomas.Genérico.Problema com canal;2.961093882153933\n",
      "Sintomas.Qualificado.Travado no canal do cliente;19.152173913043477\n",
      "Sintomas.Genérico.Problema com imagem;4.102952308856927\n",
      "Sintomas.Qualificado.NãoTéc_plano;11.999405822935234\n",
      "Sintomas.Genérico.Sky não funciona;6.533325355988992\n",
      "Sintomas.Qualificado.Técnico não veio;13.776797829036635\n",
      "Sintomas.Qualificado.Priorizar atendimento;11.492105263157894\n",
      "Sintomas.Genérico.Não sei;18.475\n",
      "Sintomas.Qualificado.Chip do equipamento;13.847826086956522\n",
      "Sintomas.Genérico.Equipamento não funciona G;7.663934426229508\n",
      "Sintomas.Qualificado.Mudança de posição antena;14.03211009174312\n",
      "Sintomas.Qualificado.Código 4;13.597959183673469\n",
      "Sintomas.Qualificado.Mudança de endereço;9.411307209093629\n",
      "Sintomas.Qualificado.Equipamento não liga;8.747797356828194\n",
      "Sintomas.Qualificado.Cabos e conectores;17.72849807445443\n",
      "Sintomas.Qualificado.Canal fora da grade;8.552631578947368\n",
      "Sintomas.Genérico.Canal Globo não pega;17.898026315789473\n",
      "Sintomas.Qualificado.Ativar closed caption;20.166666666666668\n",
      "Sintomas.Genérico.Troca de equipamento;4.803050575327803\n",
      "Sintomas.Qualificado.Gravação;9.728184553660983\n",
      "Sintomas.Qualificado.Tela preta;14.59349593495935\n",
      "Sintomas.Genérico.Instalação;2.8145285935085007\n",
      "Sintomas.Qualificado.Código 56;9.793162393162394\n",
      "Sintomas.Qualificado.Programação local;12.83157894736842\n",
      "Sintomas.Genérico.Mudança de antena;3.4919354838709675\n",
      "Sintomas.Qualificado.Informações e confirmação de visita técnica;15.134065934065934\n",
      "Sintomas.Qualificado.NãoTéc_fatura;11.911784975878705\n",
      "Sintomas.Qualificado.Mudança de cômodo;6.249620253164557\n",
      "Sintomas.Qualificado.Outros problemas;13.532235939643346\n",
      "Sintomas.Qualificado.Alterar áudio;16.82843137254902\n",
      "Sintomas.Genérico.Canal travado;7.664570230607967\n",
      "Sintomas.Qualificado.Código 1-2-25;14.030395136778116\n",
      "Sintomas.Qualificado.NãoTéc_outros;10.704301075268818\n",
      "Sintomas.Qualificado.Apenas imagem, sem áudio;12.644128113879004\n",
      "Sintomas.Qualificado.Código 6;9.518232044198895\n",
      "Sintomas.Genérico.Problema com visita técnica;2.017783857729138\n",
      "Sintomas.Qualificado.Agendar visita técnica;7.9113924050632916\n",
      "Sintomas.Qualificado.NãoTéc upgrade hd;11.780429594272077\n",
      "Sintomas.Qualificado.Código 77;19.10511882998172\n",
      "Sintomas.Genérico.Canal comum não pega (G);10.519166666666667\n",
      "Sintomas.Genérico.Mudança de instalação;1.0204081632653061\n",
      "Sintomas.Qualificado.Código 14;9.45945945945946\n",
      "Sintomas.Genérico.Problema Controle2;6.018663455749548\n",
      "Sintomas.Qualificado.Equipamento queimado;14.83673469387755\n",
      "Sintomas.Genérico.Canal HD não pega G;12.510760401721665\n",
      "Sintomas.Genérico.Canal opcional não pega;10.342342342342342\n",
      "Sintomas.Qualificado.Equipamento travado;19.032258064516128\n",
      "Sintomas.Qualificado.Controle não funciona para tv;14.037383177570094\n",
      "Sintomas.Qualificado.Cancelar Sky;21.32\n",
      "Sintomas.Qualificado.Tela com chuvisco;17.525641025641026\n",
      "Sintomas.Qualificado.NãoTéc_compra;9.69767441860465\n",
      "Sintomas.Qualificado.Código 109;9.46236559139785\n",
      "Sintomas.Qualificado.Equipamento liga e desliga sozinho;14.736263736263735\n",
      "Sintomas.Genérico.Problema com áudio;3.514950166112957\n",
      "Sintomas.Qualificado.TV é HD, mas Sky é SD;10.861940298507463\n",
      "Sintomas.Qualificado.NãoTéc sky livre;15.220472440944881\n",
      "Sintomas.Genérico.Problema com senha;1.5463917525773196\n",
      "Sintomas.Qualificado.Resolvido com sinal booster;19.943396226415093\n",
      "Sintomas.Qualificado.Senha - padrão;11.066666666666666\n",
      "Sintomas.Genérico.Mudança;2.857463524130191\n",
      "Sintomas.Qualificado.Irritação ou Anatel;10.770526315789473\n",
      "Sintomas.Qualificado.Guia de programação;17.08312958435208\n",
      "Sintomas.Qualificado.Problema tudo;6.682758620689655\n",
      "Sintomas.Genérico.Código sim;15.746268656716419\n",
      "Sintomas.Qualificado.Controle não funciona para sky;16.352\n",
      "Sintomas.Qualificado.Legenda incorreta;16.166666666666668\n",
      "Sintomas.Qualificado.Reset de senha padrão;10.91304347826087\n",
      "Sintomas.Qualificado.NãoTéc_cadastro;9.126712328767123\n",
      "Sintomas.Qualificado.Controle perdido;9.372549019607844\n",
      "Sintomas.Qualificado.Aplicativo Sky;12.583436341161928\n",
      "Sintomas.Genérico.Entendimento errado;13.183229813664596\n",
      "Sintomas.Genérico.Problema com legenda;2.3412698412698414\n",
      "Sintomas.Qualificado.Novo Controle Pedido;13.157534246575343\n",
      "Sintomas.Genérico.Atualização de endereço G;4.855263157894737\n",
      "Sintomas.Qualificado.Tela azul;13.074626865671641\n",
      "Sintomas.Qualificado.Imagem preto e branco;13.210526315789474\n",
      "Sintomas.Genérico.Canal adulto não pega (G);9.147058823529411\n",
      "Sintomas.Qualificado.Equipamento superaquecido;8.686567164179104\n",
      "Sintomas.Qualificado.Código 19;10.16326530612245\n",
      "Sintomas.Qualificado.Legenda não aparece na tela;13.0\n",
      "Sintomas.Genérico.Tela monocromática;6.518716577540107\n",
      "Sintomas.Qualificado.Técnico não resolveu;22.604395604395606\n",
      "Sintomas.Qualificado.Habilitar recurso de senha;10.025641025641026\n",
      "Sintomas.Qualificado.Cliente está longe;16.375\n",
      "Sintomas.Qualificado.Numeração nova;15.366336633663366\n",
      "Sintomas.Qualificado.Evento indisponível;11.792307692307693\n",
      "Sintomas.Qualificado.Código diagnóstico;10.254098360655737\n",
      "Sintomas.Genérico.Problema de antena;8.614457831325302\n",
      "Sintomas.Genérico.Sem sinal nem código;16.08219178082192\n",
      "Sintomas.Qualificado.Procurando sinal sintonizador terrestre;15.35483870967742\n",
      "Sintomas.Qualificado.Código 13;9.130434782608695\n",
      "Sintomas.Qualificado.Reativar programação;10.333333333333334\n",
      "Sintomas.Qualificado.Controle quebrado;12.557971014492754\n",
      "Sintomas.Qualificado.Equipamento com ruído;11.285714285714286\n",
      "Sintomas.Genérico.Problema com troca de canal;17.05263157894737\n",
      "Sintomas.Qualificado.Msg carregando conteúdo;21.666666666666668\n",
      "Sintomas.Qualificado.Criar senha padrão;13.9\n",
      "Sintomas.Qualificado.Ausência sinal geral;13.523809523809524\n",
      "Sintomas.Qualificado.Atualização crítica de endereço;6.9411764705882355\n",
      "Sintomas.Qualificado.Travado exceto 200;23.529411764705884\n",
      "Sintomas.Qualificado.Áudio atrasado;12.5\n",
      "Sintomas.Qualificado.Lentidão trocar canal;19.125\n",
      "Sintomas.Qualificado.Recarga;21.40740740740741\n",
      "Sintomas.Genérico.Promessa de oferta;21.53846153846154\n",
      "Sintomas.Qualificado.Código 9;9.0\n",
      "Sintomas.Genérico.Problema com closed caption;1.0\n",
      "Sintomas.Qualificado.Número da OS;21.5\n"
     ]
    }
   ],
   "source": [
    "classes = {}\n",
    "\n",
    "for index, row in test_dataset.iterrows():\n",
    "    try:\n",
    "        symptom_label = row['label']\n",
    "        utterance = row['utterance']\n",
    "        utt_arr = utterance.split()\n",
    "        utt_count = len(utt_arr)\n",
    "        if symptom_label not in classes:\n",
    "            classes[symptom_label] = {'tokens': utt_count, 'utterances': 1, 'avg': utt_count }\n",
    "        else:\n",
    "            classes[symptom_label]['tokens'] += utt_count\n",
    "            classes[symptom_label]['utterances'] += 1\n",
    "            classes[symptom_label]['avg'] = classes[symptom_label]['tokens']/classes[symptom_label]['utterances']\n",
    "\n",
    "    except:\n",
    "        print(json_line)\n",
    "\n",
    "for c in classes:\n",
    "    print(c + ';' + str(classes[c]['avg']))\n",
    "    \n",
    "    \n",
    "    \n",
    "    "
   ]
  },
  {
   "cell_type": "code",
   "execution_count": null,
   "metadata": {},
   "outputs": [],
   "source": [
    "outF = open(\"classes_tokens\", \"w\")\n",
    "for line in textList:\n",
    "  # write line to output file\n",
    "  outF.write(line)\n",
    "  outF.write(\"\\n\")\n",
    "outF.close()"
   ]
  }
 ],
 "metadata": {
  "kernelspec": {
   "display_name": "Python 3",
   "language": "python",
   "name": "python3"
  },
  "language_info": {
   "codemirror_mode": {
    "name": "ipython",
    "version": 3
   },
   "file_extension": ".py",
   "mimetype": "text/x-python",
   "name": "python",
   "nbconvert_exporter": "python",
   "pygments_lexer": "ipython3",
   "version": "3.6.9"
  }
 },
 "nbformat": 4,
 "nbformat_minor": 2
}
