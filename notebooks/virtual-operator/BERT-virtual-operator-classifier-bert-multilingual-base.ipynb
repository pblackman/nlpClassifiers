{
 "cells": [
  {
   "cell_type": "markdown",
   "metadata": {},
   "source": [
    "#### Based on https://medium.com/swlh/painless-fine-tuning-of-bert-in-pytorch-b91c14912caa\n",
    "https://github.com/aniruddhachoudhury/BERT-Tutorials/blob/master/Blog%202/BERT_Fine_Tuning_Sentence_Classification.ipynb"
   ]
  },
  {
   "cell_type": "code",
   "execution_count": 1,
   "metadata": {},
   "outputs": [],
   "source": [
    "%load_ext autoreload\n",
    "%autoreload 2"
   ]
  },
  {
   "cell_type": "code",
   "execution_count": 2,
   "metadata": {},
   "outputs": [
    {
     "name": "stderr",
     "output_type": "stream",
     "text": [
      "\u001b[34m\u001b[1mwandb\u001b[0m: \u001b[33mWARNING\u001b[0m W&B installed but not logged in.  Run `wandb login` or set the WANDB_API_KEY env variable.\n"
     ]
    }
   ],
   "source": [
    "import matplotlib.pyplot as plt\n",
    "import torch.nn as nn\n",
    "from os.path import join\n",
    "import torch\n",
    "from nlpClassifiers.data.dataset  import NLPDataset\n",
    "#from torch.optim import AdamW, SGD\n",
    "from torch.utils.data import DataLoader, SequentialSampler, RandomSampler\n",
    "from transformers import BertForSequenceClassification, AdamW, BertConfig\n",
    "from transformers import get_linear_schedule_with_warmup\n",
    "from torch.nn import LayerNorm as BertLayerNorm\n",
    "import numpy as np\n",
    "import time\n",
    "import logging\n",
    "import datetime\n",
    "import random\n",
    "import pandas as pd\n",
    "import argparse\n",
    "import pickle as pk\n",
    "import itertools\n",
    "import os\n",
    "import shutil\n",
    "from pathlib import Path\n",
    "import copy\n",
    "import wandb\n",
    "import re\n",
    "from nlpClassifiers import settings\n",
    "from scipy.special import expit\n",
    "from sklearn.metrics import classification_report"
   ]
  },
  {
   "cell_type": "code",
   "execution_count": 3,
   "metadata": {},
   "outputs": [],
   "source": [
    "def predict(\n",
    "    model_path: Path,\n",
    "    dataset: str,\n",
    "    batch_size: int,\n",
    "    labels_dict,\n",
    "    device: torch.device\n",
    "):\n",
    "       \n",
    "    print(f\"====Loading dataset for testing\")\n",
    "    test_corpus = NLPDataset(dataset, \"test\", sentence_max_len, bert_path, labels_dict)\n",
    "    test_dataloader = DataLoader(\n",
    "        test_corpus,\n",
    "        batch_size=batch_size,\n",
    "        sampler = RandomSampler(test_corpus),\n",
    "        pin_memory=True,\n",
    "        num_workers=0,\n",
    "        drop_last=True\n",
    "    )\n",
    "\n",
    "    print(f\"====Loading model for testing\")\n",
    "    model = BertForSequenceClassification.from_pretrained(\n",
    "        model_path,\n",
    "        num_labels = test_corpus.num_labels,\n",
    "        output_attentions = False,\n",
    "        output_hidden_states = True,\n",
    "    )\n",
    "    model.to(device)\n",
    "    model.eval()\n",
    "  #  cm = ConfusionMatrix([0,1])\n",
    "    pred_labels = []\n",
    "    test_labels = []\n",
    "    logits_list = []\n",
    "\n",
    "    def _list_from_tensor(tensor):\n",
    "        if tensor.numel() == 1:\n",
    "            return [tensor.item()]\n",
    "        return list(tensor.cpu().detach().numpy())\n",
    "\n",
    "    print(\"====Testing model...\")\n",
    "    for batch in test_dataloader:\n",
    "        batch = tuple(t.to(device) for t in batch)\n",
    "        b_input_ids, b_segment_ids, b_input_mask, b_labels = batch\n",
    "        with torch.no_grad():\n",
    "            loss, logits, *_ =  model(b_input_ids, b_input_mask, token_type_ids=None, labels=b_labels)\n",
    "\n",
    "            preds = np.argmax(logits.cpu(), axis=1) # Convert one-hot to index\n",
    "            b_labels = b_labels.int()\n",
    "            pred_labels.extend(_list_from_tensor(preds))\n",
    "            test_labels.extend(_list_from_tensor(b_labels))\n",
    "        logits_list.extend(_list_from_tensor(logits))\n",
    "    print(classification_report(test_labels, pred_labels, labels=list(labels_dict.values()), target_names=np.array(list(labels_dict.keys())), digits=3))\n",
    "    logits_list = expit(logits_list)\n",
    "    del model\n",
    "    torch.cuda.empty_cache()\n",
    "\n"
   ]
  },
  {
   "cell_type": "code",
   "execution_count": 4,
   "metadata": {},
   "outputs": [],
   "source": [
    "def get_accuracy_from_logits(logits, labels):\n",
    "    acc = (labels.cpu() == logits.cpu().argmax(-1)).float().detach().numpy()\n",
    "    return float(100 * acc.sum() / len(acc))"
   ]
  },
  {
   "cell_type": "code",
   "execution_count": 5,
   "metadata": {},
   "outputs": [],
   "source": [
    "DATA_PATH = '../../data/virtual-operator'\n",
    "MODELS_PATH = '../../models/virtual-operator/bert-base-portuguese-tapt-classifier/'\n",
    "PATH_TO_BERT = '../../models/virtual-operator/bertimbau-adaptive-base-finetuned/'\n",
    "TRAIN_DATASET = os.path.join(DATA_PATH, 'train.csv')\n",
    "VAL_DATASET = os.path.join(DATA_PATH, 'val.csv')\n",
    "TEST_DATASET  = os.path.join(DATA_PATH, 'test.csv')\n",
    "PATH_TO_VIRTUAL_OPERATOR_MODELS =  \"../../models/virtual-operator\"\n",
    "PATH_TO_AGENT_BENCHMARK_MODELS = \"../../models/agent-benchmark\"\n",
    "PATH_TO_ML_PT_MODELS = \"../../models/mercado-livre-pt-only\""
   ]
  },
  {
   "cell_type": "code",
   "execution_count": 6,
   "metadata": {},
   "outputs": [],
   "source": [
    "gpu = 0\n",
    "dataset = 'virtual-operator'\n",
    "save_name = 'virtual-operator-100-epochs-early-stop-reset-now-wandb-multilingual'\n",
    "bert_path = 'bert-base-multilingual-cased'\n",
    "batch_size = 16\n",
    "sentence_max_len = 30"
   ]
  },
  {
   "cell_type": "code",
   "execution_count": 7,
   "metadata": {},
   "outputs": [],
   "source": [
    "BASE_PATH_TO_MODELS = {\"virtual-operator\": PATH_TO_VIRTUAL_OPERATOR_MODELS, \"agent-benchmark\": PATH_TO_AGENT_BENCHMARK_MODELS, \"mercado-livre-pt\": PATH_TO_ML_PT_MODELS}\n",
    "FULL_PATH_TO_MODELS = join(BASE_PATH_TO_MODELS[dataset], \"bert-base-portuguese-tapt-classifier\")"
   ]
  },
  {
   "cell_type": "code",
   "execution_count": 8,
   "metadata": {},
   "outputs": [],
   "source": [
    "device = torch.device(f\"cuda:{gpu}\")\n"
   ]
  },
  {
   "cell_type": "code",
   "execution_count": 9,
   "metadata": {},
   "outputs": [],
   "source": [
    "model_path = Path(\n",
    "    FULL_PATH_TO_MODELS, \n",
    "    f\"base-dataset-{dataset}-{save_name}\"\n",
    ")\n",
    "last_saved_model = model_path"
   ]
  },
  {
   "cell_type": "code",
   "execution_count": 10,
   "metadata": {},
   "outputs": [],
   "source": [
    "train_corpus = NLPDataset(dataset, \"train\", sentence_max_len, bert_path)\n",
    "labels_dict = train_corpus.labels_dict"
   ]
  },
  {
   "cell_type": "code",
   "execution_count": 11,
   "metadata": {},
   "outputs": [
    {
     "name": "stdout",
     "output_type": "stream",
     "text": [
      "====Loading dataset for testing\n",
      "====Loading model for testing\n",
      "====Testing model...\n"
     ]
    },
    {
     "name": "stderr",
     "output_type": "stream",
     "text": [
      "/usr/local/lib/python3.6/dist-packages/sklearn/metrics/_classification.py:1221: UndefinedMetricWarning: Precision and F-score are ill-defined and being set to 0.0 in labels with no predicted samples. Use `zero_division` parameter to control this behavior.\n",
      "  _warn_prf(average, modifier, msg_start, len(result))\n"
     ]
    },
    {
     "name": "stdout",
     "output_type": "stream",
     "text": [
      "                                                                  precision    recall  f1-score   support\n",
      "\n",
      "                              Sintomas.Genérico.Sky não funciona      0.932     0.943     0.938      8357\n",
      "                                    Sintomas.Genérico.Instalação      0.988     0.992     0.990       647\n",
      "                                Sintomas.Genérico.Canal não pega      0.935     0.919     0.927      5967\n",
      "                    Sintomas.Genérico.Equipamento não funciona G      0.970     0.954     0.962      2318\n",
      "                                     Sintomas.Genérico.Sem sinal      0.958     0.960     0.959     14552\n",
      "                               Sintomas.Qualificado.Cancelamento      0.952     0.921     0.936      1847\n",
      "                           Sintomas.Qualificado.Outros problemas      0.833     0.796     0.814       729\n",
      "                              Sintomas.Qualificado.NãoTéc_fatura      0.906     0.876     0.891      1451\n",
      "                          Sintomas.Qualificado.Mudança de cômodo      0.977     0.959     0.968      1975\n",
      "                        Sintomas.Genérico.Equipamento queimado G      0.975     0.987     0.981      2106\n",
      "                      Sintomas.Genérico.Problema com equipamento      0.989     0.988     0.988      9645\n",
      "                        Sintomas.Genérico.Equipamento quebrado G      0.960     0.985     0.972      1441\n",
      "              Sintomas.Qualificado.Controle não funciona para tv      0.798     0.850     0.824       107\n",
      "                           Sintomas.Genérico.Falar com atendente      0.965     0.979     0.972      8262\n",
      "                            Sintomas.Genérico.Problema com canal      0.979     0.973     0.976      3547\n",
      "                       Sintomas.Qualificado.Técnico não resolveu      0.444     0.484     0.463        91\n",
      "                          Sintomas.Genérico.Troca de equipamento      0.978     0.965     0.972      3737\n",
      "                              Sintomas.Qualificado.NãoTéc_outros      0.824     0.833     0.829       186\n",
      "                                Sintomas.Qualificado.Banda larga      0.966     0.971     0.968      2590\n",
      "                                       Sintomas.Genérico.Mudança      0.988     0.956     0.972       891\n",
      "                          Sintomas.Qualificado.Ausência de sinal      0.978     0.979     0.979     10158\n",
      "                         Sintomas.Qualificado.Cabos e conectores      0.921     0.886     0.903      1558\n",
      "                           Sintomas.Qualificado.Técnico não veio      0.906     0.879     0.892      1474\n",
      "                     Sintomas.Qualificado.NãoTéc ponto adicional      0.879     0.913     0.896      2049\n",
      "                        Sintomas.Qualificado.Mudança de endereço      0.970     0.972     0.971      3343\n",
      "                          Sintomas.Genérico.Canal Globo não pega      0.652     0.707     0.678       304\n",
      "                           Sintomas.Qualificado.Controle perdido      0.935     0.948     0.942       306\n",
      "                          Sintomas.Qualificado.Tela com chuvisco      0.819     0.833     0.826       234\n",
      "                         Sintomas.Genérico.Mudança de endereço G      0.994     0.995     0.994      2501\n",
      "                           Sintomas.Genérico.Problema com imagem      0.967     0.972     0.969      6605\n",
      "         Sintomas.Qualificado.Equipamento liga e desliga sozinho      0.792     0.905     0.845       455\n",
      "                                   Sintomas.Qualificado.Código 6      0.844     0.929     0.884       905\n",
      "                       Sintomas.Qualificado.Equipamento não liga      0.950     0.965     0.957      1816\n",
      "                               Sintomas.Qualificado.NãoTéc_plano      0.856     0.846     0.851      1682\n",
      "                          Sintomas.Qualificado.Programação local      0.887     0.887     0.887       380\n",
      "                                   Sintomas.Qualificado.Gravação      0.968     0.937     0.952       997\n",
      "                                 Sintomas.Qualificado.Sky Online      0.946     0.922     0.934      1926\n",
      "                      Sintomas.Genérico.Canal comum não pega (G)      0.824     0.892     0.857      1200\n",
      "                   Sintomas.Genérico.Problema com visita técnica      0.999     0.999     0.999      2193\n",
      "                       Sintomas.Genérico.Texto ou código na tela      0.842     0.874     0.858      1694\n",
      "                              Sintomas.Qualificado.Código 1-2-25      0.939     0.884     0.911       658\n",
      "                                 Sintomas.Qualificado.Tela preta      0.882     0.842     0.862       861\n",
      "                Sintomas.Qualificado.Travado no canal do cliente      0.807     0.787     0.797       506\n",
      "             Sintomas.Qualificado.Controle não funciona para sky      0.766     0.656     0.707       125\n",
      "                   Sintomas.Qualificado.Apenas imagem, sem áudio      0.925     0.851     0.886       562\n",
      "              Sintomas.Qualificado.Canal PPV não está disponível      0.937     0.953     0.945      1016\n",
      "                        Sintomas.Qualificado.Evento indisponível      0.914     0.815     0.862       130\n",
      "                                  Sintomas.Qualificado.Código 56      0.976     0.968     0.972       585\n",
      "                      Sintomas.Qualificado.Priorizar atendimento      0.904     0.911     0.908      1140\n",
      "                            Sintomas.Genérico.Problema Controle2      0.914     0.952     0.932      1661\n",
      "                           Sintomas.Genérico.Canal HD não pega G      0.889     0.849     0.869       697\n",
      "                       Sintomas.Qualificado.Reativar programação      0.921     0.967     0.943        60\n",
      "                                  Sintomas.Qualificado.Código 77      0.839     0.882     0.860      1094\n",
      "                          Sintomas.Qualificado.NãoTéc upgrade hd      0.830     0.919     0.872       419\n",
      "Sintomas.Qualificado.Informações e confirmação de visita técnica      0.904     0.885     0.894       910\n",
      "                                   Sintomas.Qualificado.Código 4      0.864     0.874     0.869       980\n",
      "                     Sintomas.Qualificado.Agendar visita técnica      0.955     0.940     0.947       316\n",
      "                        Sintomas.Qualificado.Chip do equipamento      0.923     0.913     0.918        92\n",
      "                  Sintomas.Qualificado.Equipamento superaquecido      0.887     0.955     0.920        66\n",
      "                        Sintomas.Qualificado.Irritação ou Anatel      0.958     0.931     0.944       950\n",
      "                         Sintomas.Qualificado.Código diagnóstico      0.936     0.959     0.947       122\n",
      "                            Sintomas.Genérico.Tela monocromática      0.860     0.824     0.842       187\n",
      "                           Sintomas.Genérico.Entendimento errado      0.875     0.761     0.814       322\n",
      "                                       Sintomas.Genérico.Não sei      0.786     0.718     0.751       440\n",
      "                                    Sintomas.Genérico.Código sim      0.746     0.791     0.768        67\n",
      "            Sintomas.Qualificado.Atualização crítica de endereço      0.750     0.706     0.727        17\n",
      "                            Sintomas.Genérico.Problema com áudio      0.960     0.963     0.962       301\n",
      "                             Sintomas.Qualificado.Senha - padrão      0.912     0.692     0.787       120\n",
      "                                  Sintomas.Qualificado.Tela azul      0.917     0.903     0.910       134\n",
      "                  Sintomas.Qualificado.Mudança de posição antena      0.882     0.879     0.881       654\n",
      "                            Sintomas.Genérico.Problema de antena      0.920     0.831     0.873        83\n",
      "                             Sintomas.Qualificado.Aplicativo Sky      0.973     0.967     0.970       809\n",
      "                                 Sintomas.Genérico.Canal travado      0.889     0.904     0.896       477\n",
      "                Sintomas.Qualificado.Resolvido com sinal booster      0.813     0.656     0.726       212\n",
      "                          Sintomas.Qualificado.Legenda incorreta      0.684     0.867     0.765        30\n",
      "                                 Sintomas.Qualificado.Código 109      0.929     0.989     0.958        93\n",
      "                        Sintomas.Qualificado.Equipamento travado      0.641     0.634     0.638        93\n",
      "                         Sintomas.Genérico.Mudança de instalação      1.000     1.000     1.000        98\n",
      "                       Sintomas.Genérico.Canal opcional não pega      0.806     0.824     0.815       222\n",
      "                                  Sintomas.Qualificado.Código 19      0.958     0.939     0.948        49\n",
      "                             Sintomas.Genérico.Mudança de antena      0.994     0.968     0.981       372\n",
      "                              Sintomas.Qualificado.NãoTéc_compra      0.875     0.922     0.898       129\n",
      "                           Sintomas.Qualificado.NãoTéc sky livre      0.893     0.921     0.907       127\n",
      "                      Sintomas.Qualificado.Reset de senha padrão      0.884     0.861     0.872       115\n",
      "                          Sintomas.Qualificado.Controle quebrado      0.782     0.804     0.793       138\n",
      "                                  Sintomas.Qualificado.Código 14      0.932     0.982     0.956       111\n",
      "                        Sintomas.Qualificado.Guia de programação      0.930     0.907     0.918       409\n",
      "                             Sintomas.Qualificado.Numeração nova      0.946     0.861     0.902       101\n",
      "                      Sintomas.Qualificado.TV é HD, mas Sky é SD      0.896     0.903     0.900       268\n",
      "                          Sintomas.Genérico.Sem sinal nem código      0.817     0.644     0.720       146\n",
      "                               Sintomas.Qualificado.Cancelar Sky      0.893     0.500     0.641        50\n",
      "                                    Sintomas.Qualificado.Recarga      0.667     0.741     0.702        27\n",
      "                       Sintomas.Qualificado.Novo Controle Pedido      0.963     0.890     0.925       146\n",
      "                       Sintomas.Qualificado.Equipamento queimado      0.887     0.803     0.843       147\n",
      "                            Sintomas.Genérico.Problema com senha      0.986     0.997     0.991       291\n",
      "                            Sintomas.Qualificado.NãoTéc_cadastro      0.830     0.884     0.856       292\n",
      "                         Sintomas.Qualificado.Criar senha padrão      0.944     0.850     0.895        20\n",
      "                              Sintomas.Qualificado.Alterar áudio      0.885     0.907     0.896       204\n",
      "                        Sintomas.Qualificado.Canal fora da grade      0.808     0.921     0.861       342\n",
      "                          Sintomas.Genérico.Problema com legenda      0.965     0.984     0.974       252\n",
      "                              Sintomas.Qualificado.Problema tudo      0.950     0.917     0.933       145\n",
      "                                   Sintomas.Qualificado.Código 9      0.889     0.889     0.889         9\n",
      "                      Sintomas.Qualificado.Imagem preto e branco      0.850     0.895     0.872        95\n",
      "                               Sintomas.Qualificado.Número da OS      0.000     0.000     0.000         2\n",
      "                     Sintomas.Genérico.Atualização de endereço G      0.962     0.987     0.974        76\n",
      "                 Sintomas.Qualificado.Habilitar recurso de senha      0.788     0.859     0.822        78\n",
      "                     Sintomas.Genérico.Canal adulto não pega (G)      0.721     0.912     0.805        34\n",
      "                   Sintomas.Genérico.Problema com troca de canal      0.545     0.316     0.400        19\n",
      "                         Sintomas.Qualificado.Cliente está longe      0.583     0.219     0.318        32\n",
      "    Sintomas.Qualificado.Procurando sinal sintonizador terrestre      0.824     0.903     0.862        31\n",
      "                      Sintomas.Qualificado.Equipamento com ruído      1.000     0.952     0.976        21\n",
      "                                  Sintomas.Qualificado.Código 13      0.917     0.957     0.936        23\n",
      "                         Sintomas.Qualificado.Travado exceto 200      0.533     0.471     0.500        17\n",
      "                Sintomas.Qualificado.Legenda não aparece na tela      0.871     0.871     0.871        70\n",
      "                      Sintomas.Qualificado.Ativar closed caption      0.000     0.000     0.000         6\n",
      "                            Sintomas.Genérico.Promessa de oferta      0.500     0.077     0.133        13\n",
      "                       Sintomas.Qualificado.Ausência sinal geral      0.667     0.571     0.615        21\n",
      "                             Sintomas.Qualificado.Áudio atrasado      0.600     0.500     0.545         6\n",
      "                      Sintomas.Qualificado.Lentidão trocar canal      0.500     0.750     0.600         8\n",
      "                    Sintomas.Qualificado.Msg carregando conteúdo      1.000     0.667     0.800         3\n",
      "                   Sintomas.Genérico.Problema com closed caption      1.000     1.000     1.000         4\n",
      "\n",
      "                                                        accuracy                          0.943    133984\n",
      "                                                       macro avg      0.859     0.843     0.847    133984\n",
      "                                                    weighted avg      0.943     0.943     0.943    133984\n",
      "\n"
     ]
    }
   ],
   "source": [
    "predict(last_saved_model, dataset, batch_size, labels_dict, device)"
   ]
  }
 ],
 "metadata": {
  "kernelspec": {
   "display_name": "Python 3",
   "language": "python",
   "name": "python3"
  },
  "language_info": {
   "codemirror_mode": {
    "name": "ipython",
    "version": 3
   },
   "file_extension": ".py",
   "mimetype": "text/x-python",
   "name": "python",
   "nbconvert_exporter": "python",
   "pygments_lexer": "ipython3",
   "version": "3.6.9"
  }
 },
 "nbformat": 4,
 "nbformat_minor": 2
}
