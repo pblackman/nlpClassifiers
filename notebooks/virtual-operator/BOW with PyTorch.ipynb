{
 "cells": [
  {
   "cell_type": "markdown",
   "metadata": {
    "colab_type": "text",
    "id": "jlgpJnZ5dYLG"
   },
   "source": [
    "**SEQUENCE LABELING OF UTTERANCES TAKEN FROM SKY'S DATASET**\n",
    "\n",
    "\n",
    "Based on https://github.com/tensorflow/workshops/blob/master/extras/keras-bag-of-words/keras-bow-model.ipynb"
   ]
  },
  {
   "cell_type": "code",
   "execution_count": 13,
   "metadata": {
    "colab": {},
    "colab_type": "code",
    "id": "DuMw4lR_Tq5t"
   },
   "outputs": [],
   "source": [
    "from __future__ import absolute_import\n",
    "from __future__ import division\n",
    "from __future__ import print_function"
   ]
  },
  {
   "cell_type": "code",
   "execution_count": 14,
   "metadata": {
    "colab": {},
    "colab_type": "code",
    "id": "Ygqcz2bgTvAw"
   },
   "outputs": [],
   "source": [
    "%matplotlib inline\n",
    "import matplotlib.pyplot as plt\n",
    "import torch.nn as nn\n",
    "from os.path import join\n",
    "import torch\n",
    "from nlpClassifiers.data.dataset  import NLPDataset, Vocabulary\n",
    "from nlpClassifiers.models.models import BOWClassifier\n",
    "from torch.optim import SGD\n",
    "from torch.utils.data import DataLoader, SequentialSampler, RandomSampler\n",
    "from torch.optim import Adam\n",
    "from transformers import get_linear_schedule_with_warmup\n",
    "from torch.optim.lr_scheduler import ReduceLROnPlateau\n",
    "import numpy as np\n",
    "import torch.nn.functional as F\n",
    "import time\n",
    "import logging\n",
    "import datetime\n",
    "import random\n",
    "import pandas as pd\n",
    "import argparse\n",
    "import pickle as pk\n",
    "import itertools\n",
    "import os\n",
    "import shutil\n",
    "from pathlib import Path\n",
    "import copy\n",
    "import wandb\n",
    "import re\n",
    "from nlpClassifiers import settings\n",
    "from scipy.special import expit\n",
    "from sklearn.metrics import classification_report"
   ]
  },
  {
   "cell_type": "code",
   "execution_count": 57,
   "metadata": {},
   "outputs": [],
   "source": [
    "ROOT = '../../'\n",
    "PATH_TO_VIRTUAL_OPERATOR_DATA = join(ROOT, \"data/virtual-operator\")\n",
    "PATH_TO_AGENT_BENCHMARK_DATA = join(ROOT, \"data/agent-benchmark\")\n",
    "PATH_TO_ML_PT_DATA = join(ROOT, \"data/mercado-livre-pt-only\")\n",
    "\n",
    "PATH_TO_VIRTUAL_OPERATOR_MODELS = join(ROOT, \"models/virtual-operator\")\n",
    "PATH_TO_AGENT_BENCHMARK_MODELS = join(ROOT, \"models/agent-benchmark\")\n",
    "PATH_TO_ML_PT_MODELS = join(ROOT, \"models/mercado-livre-pt-only\")\n",
    "\n",
    "dataset = 'virtual-operator'\n",
    "model_name = 'virtual-operator-bow-classifier'\n",
    "sentence_max_len = 82\n",
    "batch_size = 16\n",
    "max_vocab_size = 0\n",
    "stopwords_lang = None\n",
    "gpu=0"
   ]
  },
  {
   "cell_type": "code",
   "execution_count": 34,
   "metadata": {},
   "outputs": [],
   "source": [
    "BASE_PATH_TO_MODELS = {\"virtual-operator\": PATH_TO_VIRTUAL_OPERATOR_MODELS, \"agent-benchmark\": PATH_TO_AGENT_BENCHMARK_MODELS, \"mercado-livre-pt\": PATH_TO_ML_PT_MODELS}\n",
    "FULL_PATH_TO_MODELS = join(BASE_PATH_TO_MODELS[dataset], \"bow-classifier\")"
   ]
  },
  {
   "cell_type": "code",
   "execution_count": 35,
   "metadata": {},
   "outputs": [],
   "source": [
    "model_path = Path(\n",
    "            FULL_PATH_TO_MODELS,\n",
    "            f\"base-dataset-{dataset}-{model_name}\"\n",
    "        )"
   ]
  },
  {
   "cell_type": "code",
   "execution_count": 52,
   "metadata": {},
   "outputs": [],
   "source": [
    "def predict(\n",
    "    model_path: Path,\n",
    "    dataset: str,\n",
    "    batch_size: int,\n",
    "    labels_dict,\n",
    "    device: torch.device\n",
    "):\n",
    "\n",
    "    print(f\"====Loading dataset for testing\")\n",
    "    test_corpus = NLPDataset(dataset, \"test\", sentence_max_len, labels_dict = labels_dict, vocab= voc, one_hot=True)\n",
    "\n",
    "    test_dataloader = DataLoader(\n",
    "        test_corpus,\n",
    "        batch_size=batch_size,\n",
    "        #sampler = RandomSampler(test_corpus),\n",
    "        pin_memory=True,\n",
    "        num_workers=0,\n",
    "        drop_last=False\n",
    "    )\n",
    "\n",
    "    print(f\"====Loading model for testing\")\n",
    "    model = torch.load(join(model_path, \"best-model.pth\"))\n",
    "    model.to(device)\n",
    "    model.eval()\n",
    "    pred_labels = []\n",
    "    test_labels = []\n",
    "    logits_list = []\n",
    "\n",
    "    def _list_from_tensor(tensor):\n",
    "        if tensor.numel() == 1:\n",
    "            return [tensor.item()]\n",
    "        return list(tensor.cpu().detach().numpy())\n",
    "\n",
    "    print(\"====Testing model...\")\n",
    "    for batch in test_dataloader:\n",
    "        bow_vector = batch[0].to(device)\n",
    "        b_labels = batch[1].to(device)\n",
    "        with torch.no_grad():\n",
    "            loss, logits= model(bow_vector, b_labels)\n",
    "            preds = np.argmax(logits.cpu(), axis=1) # Convert one-hot to index\n",
    "            b_labels = b_labels.int()\n",
    "            pred_labels.extend(_list_from_tensor(preds))\n",
    "            test_labels.extend(_list_from_tensor(b_labels))\n",
    "        logits_list.extend(_list_from_tensor(logits))\n",
    "    logits_list = expit(logits_list)\n",
    "    del model\n",
    "    torch.cuda.empty_cache()\n",
    "    return test_labels, pred_labels"
   ]
  },
  {
   "cell_type": "code",
   "execution_count": 44,
   "metadata": {},
   "outputs": [],
   "source": [
    "def read_data(dataset, subset):\n",
    "    BASE_PATH_TO_DATASET = {\"virtual-operator\": PATH_TO_VIRTUAL_OPERATOR_DATA, \"agent-benchmark\": PATH_TO_AGENT_BENCHMARK_DATA, \"mercado-livre-pt\": PATH_TO_ML_PT_DATA}\n",
    "    BASE_PATH_TO_DATASET = {\"train\": join(BASE_PATH_TO_DATASET[dataset], \"train.csv\"), \"val\": join(BASE_PATH_TO_DATASET[dataset], \"val.csv\"), \"test\": join(BASE_PATH_TO_DATASET[dataset], \"test.csv\")}\n",
    "    FULL_PATH_TO_DATASET = BASE_PATH_TO_DATASET[subset]\n",
    "    \n",
    "    if dataset == \"mercado-livre-pt\":\n",
    "        sep=\",\"\n",
    "    else:\n",
    "        sep=\";\"\n",
    "    data = pd.read_csv(FULL_PATH_TO_DATASET, sep=sep, names =['utterance','label'], header=None, dtype={'utterance':str, 'label': str} )\n",
    "    return data"
   ]
  },
  {
   "cell_type": "code",
   "execution_count": 45,
   "metadata": {},
   "outputs": [],
   "source": [
    "if voc.num_words < max_vocab_size or max_vocab_size == 0:\n",
    "    max_vocab_size = voc.num_words"
   ]
  },
  {
   "cell_type": "code",
   "execution_count": 46,
   "metadata": {},
   "outputs": [],
   "source": [
    "train_df = read_data(dataset, \"train\")\n",
    "val_df = read_data(dataset, \"val\")\n",
    "\n",
    "voc = Vocabulary('BOW', stopwords_lang)\n",
    "voc.build_vocab(train_df['utterance'].tolist() +  val_df['utterance'].tolist(), max_vocab_size)"
   ]
  },
  {
   "cell_type": "code",
   "execution_count": 47,
   "metadata": {},
   "outputs": [],
   "source": [
    "voc = Vocabulary('BOW', stopwords_lang)\n",
    "voc.build_vocab(train_df['utterance'].tolist() +  val_df['utterance'].tolist(), max_vocab_size)"
   ]
  },
  {
   "cell_type": "code",
   "execution_count": 48,
   "metadata": {},
   "outputs": [],
   "source": [
    "train_corpus = NLPDataset(dataset, \"train\", sentence_max_len, vocab= voc, one_hot=True)\n",
    "labels_dict = train_corpus.labels_dict"
   ]
  },
  {
   "cell_type": "code",
   "execution_count": 53,
   "metadata": {},
   "outputs": [
    {
     "name": "stdout",
     "output_type": "stream",
     "text": [
      "====Loading dataset for testing\n",
      "====Loading model for testing\n"
     ]
    },
    {
     "name": "stderr",
     "output_type": "stream",
     "text": [
      "/usr/local/lib/python3.6/dist-packages/torch/serialization.py:658: SourceChangeWarning: source code of class 'torch.nn.modules.linear.Linear' has changed. you can retrieve the original source code by accessing the object's source attribute or set `torch.nn.Module.dump_patches = True` and use the patch tool to revert the changes.\n",
      "  warnings.warn(msg, SourceChangeWarning)\n",
      "/usr/local/lib/python3.6/dist-packages/torch/serialization.py:658: SourceChangeWarning: source code of class 'torch.nn.modules.activation.ReLU' has changed. you can retrieve the original source code by accessing the object's source attribute or set `torch.nn.Module.dump_patches = True` and use the patch tool to revert the changes.\n",
      "  warnings.warn(msg, SourceChangeWarning)\n",
      "/usr/local/lib/python3.6/dist-packages/torch/serialization.py:658: SourceChangeWarning: source code of class 'torch.nn.modules.dropout.Dropout' has changed. you can retrieve the original source code by accessing the object's source attribute or set `torch.nn.Module.dump_patches = True` and use the patch tool to revert the changes.\n",
      "  warnings.warn(msg, SourceChangeWarning)\n",
      "/usr/local/lib/python3.6/dist-packages/torch/serialization.py:658: SourceChangeWarning: source code of class 'torch.nn.modules.activation.Softmax' has changed. you can retrieve the original source code by accessing the object's source attribute or set `torch.nn.Module.dump_patches = True` and use the patch tool to revert the changes.\n",
      "  warnings.warn(msg, SourceChangeWarning)\n",
      "/usr/local/lib/python3.6/dist-packages/torch/serialization.py:658: SourceChangeWarning: source code of class 'torch.nn.modules.loss.CrossEntropyLoss' has changed. you can retrieve the original source code by accessing the object's source attribute or set `torch.nn.Module.dump_patches = True` and use the patch tool to revert the changes.\n",
      "  warnings.warn(msg, SourceChangeWarning)\n"
     ]
    },
    {
     "name": "stdout",
     "output_type": "stream",
     "text": [
      "====Testing model...\n"
     ]
    }
   ],
   "source": [
    "test_labels, pred_labels = predict(model_path, dataset, batch_size, labels_dict, gpu)"
   ]
  },
  {
   "cell_type": "code",
   "execution_count": 54,
   "metadata": {},
   "outputs": [
    {
     "name": "stderr",
     "output_type": "stream",
     "text": [
      "/usr/local/lib/python3.6/dist-packages/sklearn/metrics/_classification.py:1245: UndefinedMetricWarning: Precision and F-score are ill-defined and being set to 0.0 in labels with no predicted samples. Use `zero_division` parameter to control this behavior.\n",
      "  _warn_prf(average, modifier, msg_start, len(result))\n",
      "/usr/local/lib/python3.6/dist-packages/sklearn/metrics/_classification.py:1245: UndefinedMetricWarning: Precision and F-score are ill-defined and being set to 0.0 in labels with no predicted samples. Use `zero_division` parameter to control this behavior.\n",
      "  _warn_prf(average, modifier, msg_start, len(result))\n",
      "/usr/local/lib/python3.6/dist-packages/sklearn/metrics/_classification.py:1245: UndefinedMetricWarning: Precision and F-score are ill-defined and being set to 0.0 in labels with no predicted samples. Use `zero_division` parameter to control this behavior.\n",
      "  _warn_prf(average, modifier, msg_start, len(result))\n"
     ]
    },
    {
     "data": {
      "text/plain": [
       "'                                                                  precision    recall  f1-score   support\\n\\n                              Sintomas.Genérico.Sky não funciona      0.901     0.902     0.902      8357\\n                                    Sintomas.Genérico.Instalação      0.965     0.968     0.966       647\\n                                Sintomas.Genérico.Canal não pega      0.863     0.898     0.880      5967\\n                    Sintomas.Genérico.Equipamento não funciona G      0.885     0.920     0.902      2318\\n                                     Sintomas.Genérico.Sem sinal      0.924     0.924     0.924     14552\\n                               Sintomas.Qualificado.Cancelamento      0.897     0.922     0.909      1847\\n                           Sintomas.Qualificado.Outros problemas      0.786     0.661     0.718       729\\n                              Sintomas.Qualificado.NãoTéc_fatura      0.824     0.835     0.829      1451\\n                          Sintomas.Qualificado.Mudança de cômodo      0.928     0.933     0.931      1975\\n                        Sintomas.Genérico.Equipamento queimado G      0.959     0.971     0.965      2106\\n                      Sintomas.Genérico.Problema com equipamento      0.948     0.945     0.946      9645\\n                        Sintomas.Genérico.Equipamento quebrado G      0.866     0.851     0.859      1441\\n              Sintomas.Qualificado.Controle não funciona para tv      0.698     0.692     0.695       107\\n                           Sintomas.Genérico.Falar com atendente      0.961     0.965     0.963      8262\\n                            Sintomas.Genérico.Problema com canal      0.946     0.926     0.936      3547\\n                       Sintomas.Qualificado.Técnico não resolveu      0.627     0.462     0.532        91\\n                          Sintomas.Genérico.Troca de equipamento      0.945     0.952     0.949      3737\\n                              Sintomas.Qualificado.NãoTéc_outros      0.857     0.742     0.795       186\\n                                Sintomas.Qualificado.Banda larga      0.985     0.986     0.985      2590\\n                                       Sintomas.Genérico.Mudança      0.960     0.955     0.958       891\\n                          Sintomas.Qualificado.Ausência de sinal      0.973     0.984     0.978     10158\\n                         Sintomas.Qualificado.Cabos e conectores      0.979     0.983     0.981      1558\\n                           Sintomas.Qualificado.Técnico não veio      0.870     0.883     0.876      1474\\n                     Sintomas.Qualificado.NãoTéc ponto adicional      0.822     0.837     0.829      2049\\n                        Sintomas.Qualificado.Mudança de endereço      0.950     0.950     0.950      3343\\n                          Sintomas.Genérico.Canal Globo não pega      0.569     0.487     0.525       304\\n                           Sintomas.Qualificado.Controle perdido      0.817     0.873     0.844       306\\n                          Sintomas.Qualificado.Tela com chuvisco      0.834     0.838     0.836       234\\n                         Sintomas.Genérico.Mudança de endereço G      0.985     0.984     0.984      2501\\n                           Sintomas.Genérico.Problema com imagem      0.930     0.926     0.928      6605\\n         Sintomas.Qualificado.Equipamento liga e desliga sozinho      0.810     0.815     0.813       455\\n                                   Sintomas.Qualificado.Código 6      0.845     0.842     0.843       905\\n                       Sintomas.Qualificado.Equipamento não liga      0.921     0.943     0.932      1816\\n                               Sintomas.Qualificado.NãoTéc_plano      0.780     0.780     0.780      1683\\n                          Sintomas.Qualificado.Programação local      0.830     0.876     0.853       380\\n                                   Sintomas.Qualificado.Gravação      0.935     0.931     0.933       997\\n                                 Sintomas.Qualificado.Sky Online      0.895     0.917     0.906      1926\\n                      Sintomas.Genérico.Canal comum não pega (G)      0.744     0.779     0.761      1200\\n                   Sintomas.Genérico.Problema com visita técnica      0.992     0.995     0.993      2193\\n                       Sintomas.Genérico.Texto ou código na tela      0.818     0.783     0.800      1694\\n                              Sintomas.Qualificado.Código 1-2-25      0.861     0.802     0.831       658\\n                                 Sintomas.Qualificado.Tela preta      0.838     0.843     0.841       861\\n                Sintomas.Qualificado.Travado no canal do cliente      0.712     0.723     0.718       506\\n             Sintomas.Qualificado.Controle não funciona para sky      0.661     0.592     0.624       125\\n                   Sintomas.Qualificado.Apenas imagem, sem áudio      0.853     0.826     0.839       562\\n              Sintomas.Qualificado.Canal PPV não está disponível      0.889     0.903     0.896      1016\\n                        Sintomas.Qualificado.Evento indisponível      0.831     0.869     0.850       130\\n                                  Sintomas.Qualificado.Código 56      0.960     0.985     0.972       585\\n                      Sintomas.Qualificado.Priorizar atendimento      0.829     0.806     0.817      1140\\n                            Sintomas.Genérico.Problema Controle2      0.886     0.902     0.894      1661\\n                           Sintomas.Genérico.Canal HD não pega G      0.808     0.825     0.816       697\\n                       Sintomas.Qualificado.Reativar programação      0.937     0.983     0.959        60\\n                                  Sintomas.Qualificado.Código 77      0.804     0.878     0.840      1094\\n                          Sintomas.Qualificado.NãoTéc upgrade hd      0.881     0.866     0.874       419\\nSintomas.Qualificado.Informações e confirmação de visita técnica      0.883     0.854     0.868       910\\n                                   Sintomas.Qualificado.Código 4      0.827     0.837     0.832       980\\n                     Sintomas.Qualificado.Agendar visita técnica      0.924     0.880     0.901       316\\n                        Sintomas.Qualificado.Chip do equipamento      0.938     0.989     0.963        92\\n                  Sintomas.Qualificado.Equipamento superaquecido      0.859     0.910     0.884        67\\n                        Sintomas.Qualificado.Irritação ou Anatel      0.940     0.946     0.943       950\\n                         Sintomas.Qualificado.Código diagnóstico      0.944     0.975     0.960       122\\n                            Sintomas.Genérico.Tela monocromática      0.877     0.684     0.769       187\\n                           Sintomas.Genérico.Entendimento errado      0.794     0.671     0.727       322\\n                                       Sintomas.Genérico.Não sei      0.765     0.732     0.748       440\\n                                    Sintomas.Genérico.Código sim      0.600     0.358     0.449        67\\n            Sintomas.Qualificado.Atualização crítica de endereço      0.750     0.706     0.727        17\\n                            Sintomas.Genérico.Problema com áudio      0.924     0.930     0.927       301\\n                             Sintomas.Qualificado.Senha - padrão      0.740     0.783     0.761       120\\n                                  Sintomas.Qualificado.Tela azul      0.804     0.888     0.844       134\\n                  Sintomas.Qualificado.Mudança de posição antena      0.855     0.821     0.838       654\\n                            Sintomas.Genérico.Problema de antena      0.873     0.831     0.852        83\\n                             Sintomas.Qualificado.Aplicativo Sky      0.994     0.993     0.993       809\\n                                 Sintomas.Genérico.Canal travado      0.842     0.860     0.851       477\\n                Sintomas.Qualificado.Resolvido com sinal booster      0.646     0.646     0.646       212\\n                          Sintomas.Qualificado.Legenda incorreta      0.688     0.733     0.710        30\\n                                 Sintomas.Qualificado.Código 109      0.938     0.968     0.952        93\\n                        Sintomas.Qualificado.Equipamento travado      0.600     0.419     0.494        93\\n                         Sintomas.Genérico.Mudança de instalação      0.990     1.000     0.995        98\\n                       Sintomas.Genérico.Canal opcional não pega      0.709     0.734     0.721       222\\n                                  Sintomas.Qualificado.Código 19      0.978     0.918     0.947        49\\n                             Sintomas.Genérico.Mudança de antena      0.965     0.954     0.959       372\\n                              Sintomas.Qualificado.NãoTéc_compra      0.871     0.682     0.765       129\\n                           Sintomas.Qualificado.NãoTéc sky livre      0.890     0.953     0.920       127\\n                      Sintomas.Qualificado.Reset de senha padrão      0.860     0.800     0.829       115\\n                          Sintomas.Qualificado.Controle quebrado      0.806     0.601     0.689       138\\n                                  Sintomas.Qualificado.Código 14      0.945     0.937     0.941       111\\n                        Sintomas.Qualificado.Guia de programação      0.961     0.963     0.962       409\\n                             Sintomas.Qualificado.Numeração nova      0.771     0.634     0.696       101\\n                      Sintomas.Qualificado.TV é HD, mas Sky é SD      0.834     0.769     0.800       268\\n                          Sintomas.Genérico.Sem sinal nem código      0.613     0.500     0.551       146\\n                               Sintomas.Qualificado.Cancelar Sky      0.565     0.260     0.356        50\\n                                    Sintomas.Qualificado.Recarga      0.783     0.667     0.720        27\\n                       Sintomas.Qualificado.Novo Controle Pedido      0.826     0.815     0.821       146\\n                       Sintomas.Qualificado.Equipamento queimado      0.744     0.673     0.707       147\\n                            Sintomas.Genérico.Problema com senha      0.993     0.993     0.993       291\\n                            Sintomas.Qualificado.NãoTéc_cadastro      0.800     0.740     0.769       292\\n                         Sintomas.Qualificado.Criar senha padrão      0.909     0.500     0.645        20\\n                              Sintomas.Qualificado.Alterar áudio      0.920     0.902     0.911       204\\n                        Sintomas.Qualificado.Canal fora da grade      0.809     0.778     0.793       342\\n                          Sintomas.Genérico.Problema com legenda      0.979     0.940     0.960       252\\n                              Sintomas.Qualificado.Problema tudo      0.868     0.772     0.818       145\\n                                   Sintomas.Qualificado.Código 9      0.857     0.667     0.750         9\\n                      Sintomas.Qualificado.Imagem preto e branco      0.849     0.768     0.807        95\\n                               Sintomas.Qualificado.Número da OS      0.000     0.000     0.000         2\\n                     Sintomas.Genérico.Atualização de endereço G      0.958     0.908     0.932        76\\n                 Sintomas.Qualificado.Habilitar recurso de senha      0.810     0.821     0.815        78\\n                     Sintomas.Genérico.Canal adulto não pega (G)      0.765     0.765     0.765        34\\n                   Sintomas.Genérico.Problema com troca de canal      0.667     0.211     0.320        19\\n                         Sintomas.Qualificado.Cliente está longe      0.571     0.250     0.348        32\\n    Sintomas.Qualificado.Procurando sinal sintonizador terrestre      0.848     0.903     0.875        31\\n                      Sintomas.Qualificado.Equipamento com ruído      0.933     0.667     0.778        21\\n                                  Sintomas.Qualificado.Código 13      0.944     0.739     0.829        23\\n                         Sintomas.Qualificado.Travado exceto 200      0.429     0.176     0.250        17\\n                Sintomas.Qualificado.Legenda não aparece na tela      0.800     0.857     0.828        70\\n                      Sintomas.Qualificado.Ativar closed caption      0.000     0.000     0.000         6\\n                            Sintomas.Genérico.Promessa de oferta      0.000     0.000     0.000        13\\n                       Sintomas.Qualificado.Ausência sinal geral      0.900     0.429     0.581        21\\n                             Sintomas.Qualificado.Áudio atrasado      1.000     0.500     0.667         6\\n                      Sintomas.Qualificado.Lentidão trocar canal      0.667     0.500     0.571         8\\n                    Sintomas.Qualificado.Msg carregando conteúdo      1.000     1.000     1.000         3\\n                   Sintomas.Genérico.Problema com closed caption      1.000     1.000     1.000         4\\n\\n                                                        accuracy                          0.911    133986\\n                                                       macro avg      0.828     0.782     0.799    133986\\n                                                    weighted avg      0.910     0.911     0.910    133986\\n'"
      ]
     },
     "execution_count": 54,
     "metadata": {},
     "output_type": "execute_result"
    }
   ],
   "source": [
    "classification_report(test_labels, pred_labels, labels=list(labels_dict.values()), target_names=np.array(list(labels_dict.keys())), digits=3, dictio)"
   ]
  },
  {
   "cell_type": "code",
   "execution_count": 60,
   "metadata": {},
   "outputs": [],
   "source": [
    "from captum.attr import IntegratedGradients\n",
    "from captum.attr import LayerConductance\n",
    "from captum.attr import NeuronConductance"
   ]
  },
  {
   "cell_type": "code",
   "execution_count": 58,
   "metadata": {},
   "outputs": [
    {
     "data": {
      "text/plain": [
       "BOWClassifier(\n",
       "  (hidden): Linear(in_features=22417, out_features=1000, bias=True)\n",
       "  (act1): ReLU()\n",
       "  (dropout): Dropout(p=0.5, inplace=False)\n",
       "  (output): Linear(in_features=1000, out_features=121, bias=True)\n",
       "  (act2): Softmax(dim=None)\n",
       "  (criterion): CrossEntropyLoss()\n",
       ")"
      ]
     },
     "execution_count": 58,
     "metadata": {},
     "output_type": "execute_result"
    }
   ],
   "source": [
    "model = torch.load(join(model_path, \"best-model.pth\"))\n",
    "model.to(gpu)\n",
    "model.eval()"
   ]
  },
  {
   "cell_type": "code",
   "execution_count": null,
   "metadata": {},
   "outputs": [],
   "source": [
    "test_input_tensor = torch.from_numpy(test_features).type(torch.FloatTensor)\n",
    "out_probs = net(test_input_tensor).detach().numpy()\n",
    "out_classes = np.argmax(out_probs, axis=1)\n",
    "print(\"Test Accuracy:\", sum(out_classes == test_labels) / len(test_labels))"
   ]
  },
  {
   "cell_type": "code",
   "execution_count": 61,
   "metadata": {},
   "outputs": [],
   "source": [
    "ig = IntegratedGradients(model)"
   ]
  }
 ],
 "metadata": {
  "accelerator": "GPU",
  "colab": {
   "collapsed_sections": [],
   "name": "SKY - Classification with Keras - BOW NEW",
   "provenance": [
    {
     "file_id": "1lB64b9ur1bad8XuR1dOoezT52LazJAfA",
     "timestamp": 1559268064487
    },
    {
     "file_id": "15IysDwwSV1xOduxHtO7G7zzn8WZqnxaj",
     "timestamp": 1559156692622
    }
   ],
   "version": "0.3.2"
  },
  "kernelspec": {
   "display_name": "Python 3",
   "language": "python",
   "name": "python3"
  },
  "language_info": {
   "codemirror_mode": {
    "name": "ipython",
    "version": 3
   },
   "file_extension": ".py",
   "mimetype": "text/x-python",
   "name": "python",
   "nbconvert_exporter": "python",
   "pygments_lexer": "ipython3",
   "version": "3.6.9"
  }
 },
 "nbformat": 4,
 "nbformat_minor": 1
}
