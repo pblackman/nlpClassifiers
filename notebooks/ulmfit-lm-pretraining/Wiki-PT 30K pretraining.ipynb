{
 "cells": [
  {
   "cell_type": "code",
   "execution_count": 1,
   "metadata": {
    "collapsed": true
   },
   "outputs": [],
   "source": [
    "%load_ext autoreload\n",
    "%autoreload 2\n",
    "from fastai import *\n",
    "from fastai.text import * \n",
    "from fastai.callbacks import *\n",
    "import pandas as pd\n",
    "import json\n",
    "import pathlib\n",
    "import sklearn\n",
    "from sklearn import model_selection\n",
    "import numpy as np\n",
    "import html"
   ]
  },
  {
   "cell_type": "code",
   "execution_count": 13,
   "metadata": {},
   "outputs": [
    {
     "name": "stdout",
     "output_type": "stream",
     "text": [
      "--2019-09-08 22:51:22--  https://dumps.wikimedia.org/ptwiki/20190901/ptwiki-20190901-pages-articles-multistream.xml.bz2\n",
      "Resolving dumps.wikimedia.org (dumps.wikimedia.org)... 208.80.154.7, 2620:0:861:1:208:80:154:7\n",
      "Connecting to dumps.wikimedia.org (dumps.wikimedia.org)|208.80.154.7|:443... connected.\n",
      "HTTP request sent, awaiting response... 200 OK\n",
      "Length: 1762344577 (1.6G) [application/octet-stream]\n",
      "Saving to: ‘../../data/wiki-pt/ptwiki-20190901-pages-articles-multistream.xml.bz2’\n",
      "\n",
      "../../data/wiki-pt/ 100%[===================>]   1.64G  1.86MB/s    in 15m 2s  \n",
      "\n",
      "2019-09-08 23:06:25 (1.86 MB/s) - ‘../../data/wiki-pt/ptwiki-20190901-pages-articles-multistream.xml.bz2’ saved [1762344577/1762344577]\n",
      "\n"
     ]
    }
   ],
   "source": [
    "!wget 'https://dumps.wikimedia.org/ptwiki/20190901/ptwiki-20190901-pages-articles-multistream.xml.bz2' \\\n",
    "-O ../../data/wiki-pt/ptwiki-20190901-pages-articles-multistream.xml.bz2"
   ]
  },
  {
   "cell_type": "code",
   "execution_count": 14,
   "metadata": {},
   "outputs": [
    {
     "name": "stdout",
     "output_type": "stream",
     "text": [
      "--2019-09-08 23:06:34--  https://github.com/attardi/wikiextractor/raw/master/WikiExtractor.py\n",
      "Resolving github.com (github.com)... 192.30.253.112\n",
      "Connecting to github.com (github.com)|192.30.253.112|:443... connected.\n",
      "HTTP request sent, awaiting response... 302 Found\n",
      "Location: https://raw.githubusercontent.com/attardi/wikiextractor/master/WikiExtractor.py [following]\n",
      "--2019-09-08 23:06:34--  https://raw.githubusercontent.com/attardi/wikiextractor/master/WikiExtractor.py\n",
      "Resolving raw.githubusercontent.com (raw.githubusercontent.com)... 151.101.176.133\n",
      "Connecting to raw.githubusercontent.com (raw.githubusercontent.com)|151.101.176.133|:443... connected.\n",
      "HTTP request sent, awaiting response... 200 OK\n",
      "Length: 119222 (116K) [text/plain]\n",
      "Saving to: ‘../../scripts/WikiExtractor.py’\n",
      "\n",
      "../../scripts/WikiE 100%[===================>] 116.43K  --.-KB/s    in 0.007s  \n",
      "\n",
      "2019-09-08 23:06:35 (15.6 MB/s) - ‘../../scripts/WikiExtractor.py’ saved [119222/119222]\n",
      "\n"
     ]
    }
   ],
   "source": [
    "!wget https://github.com/attardi/wikiextractor/raw/master/WikiExtractor.py -O ../../scripts/WikiExtractor.py"
   ]
  },
  {
   "cell_type": "code",
   "execution_count": null,
   "metadata": {
    "collapsed": true
   },
   "outputs": [],
   "source": [
    "!bzip2 -d ../../data/wiki-pt/ptwiki-20190901-pages-articles-multistream.xml.bz2"
   ]
  },
  {
   "cell_type": "markdown",
   "metadata": {},
   "source": [
    "### run on the terminal:\n",
    "python ../../scripts/WikiExtractor.py -o ../../data/wiki-pt/json ../../data/wiki-pt/ptwiki-20190901-pages-articles-multistream.xml -s --json"
   ]
  },
  {
   "cell_type": "code",
   "execution_count": 2,
   "metadata": {
    "collapsed": true
   },
   "outputs": [],
   "source": [
    "LM_PATH=Path('../../models/ulmfit/lm/wiki-pt')\n",
    "DATA_PATH=Path('../../data/wiki-pt/')\n",
    "LM_PATH.mkdir(exist_ok=True)"
   ]
  },
  {
   "cell_type": "code",
   "execution_count": 3,
   "metadata": {},
   "outputs": [
    {
     "name": "stdout",
     "output_type": "stream",
     "text": [
      "Devices available:  8\n",
      "Set device:  6\n",
      "Current device:  6\n"
     ]
    }
   ],
   "source": [
    "# See how many devices are around\n",
    "print('Devices available: ', torch.cuda.device_count())\n",
    "# Set it to a particular device\n",
    "CUDA_DEVICE = 6\n",
    "print('Set device: ', CUDA_DEVICE)\n",
    "torch.cuda.set_device(CUDA_DEVICE)\n",
    "# Check which device you are on\n",
    "print('Current device: ', torch.cuda.current_device())"
   ]
  },
  {
   "cell_type": "code",
   "execution_count": 6,
   "metadata": {},
   "outputs": [
    {
     "name": "stdout",
     "output_type": "stream",
     "text": [
      "1676\n"
     ]
    },
    {
     "data": {
      "text/plain": [
       "['../../data/wiki-pt/json/AI/wiki_32',\n",
       " '../../data/wiki-pt/json/AI/wiki_54',\n",
       " '../../data/wiki-pt/json/AI/wiki_45',\n",
       " '../../data/wiki-pt/json/AI/wiki_66',\n",
       " '../../data/wiki-pt/json/AI/wiki_61']"
      ]
     },
     "execution_count": 6,
     "metadata": {},
     "output_type": "execute_result"
    }
   ],
   "source": [
    "LANG_FILENAMES = [str(f) for f in pathlib.Path(f\"{DATA_PATH}/json/\").rglob(\"*/wiki_*\")]\n",
    "print(len(LANG_FILENAMES))\n",
    "LANG_FILENAMES[0:5]"
   ]
  },
  {
   "cell_type": "code",
   "execution_count": 31,
   "metadata": {
    "collapsed": true
   },
   "outputs": [],
   "source": [
    "LANG_TEXT = []\n",
    "for i in LANG_FILENAMES:\n",
    "    for line in open(i, encoding=\"utf-8\"):\n",
    "        LANG_TEXT.append(json.loads(line))\n",
    "LANG_TEXT = pd.DataFrame(LANG_TEXT)"
   ]
  },
  {
   "cell_type": "code",
   "execution_count": 32,
   "metadata": {
    "collapsed": true
   },
   "outputs": [],
   "source": [
    "s = LANG_TEXT.text.str.len().sort_values(ascending=False).index\n",
    "LANG_TEXT = LANG_TEXT.reindex(s)\n",
    "LANG_TEXT = LANG_TEXT.reset_index(drop=True)"
   ]
  },
  {
   "cell_type": "code",
   "execution_count": 34,
   "metadata": {
    "collapsed": true
   },
   "outputs": [],
   "source": [
    "LANG_TEXT = LANG_TEXT[0:LANG_TEXT.shape[0]//24]"
   ]
  },
  {
   "cell_type": "code",
   "execution_count": 35,
   "metadata": {
    "collapsed": true
   },
   "outputs": [],
   "source": [
    "LANG_TEXT.to_csv(f\"{DATA_PATH}/Wiki_PT_Corpus.csv\", index=False)"
   ]
  },
  {
   "cell_type": "code",
   "execution_count": 36,
   "metadata": {
    "collapsed": true
   },
   "outputs": [],
   "source": [
    "# Getting rid of the title name in the text field\n",
    "def split_title_from_text(text):\n",
    "    words = text.split(\"\\n\\n\")\n",
    "    if len(words) >= 2:\n",
    "        return ''.join(words[1:])\n",
    "    else:\n",
    "        return ''.join(words)\n",
    "    \n",
    "LANG_TEXT['text'] = LANG_TEXT['text'].apply(lambda x: split_title_from_text(x))"
   ]
  },
  {
   "cell_type": "code",
   "execution_count": 37,
   "metadata": {},
   "outputs": [
    {
     "data": {
      "text/html": [
       "<div>\n",
       "<style scoped>\n",
       "    .dataframe tbody tr th:only-of-type {\n",
       "        vertical-align: middle;\n",
       "    }\n",
       "\n",
       "    .dataframe tbody tr th {\n",
       "        vertical-align: top;\n",
       "    }\n",
       "\n",
       "    .dataframe thead th {\n",
       "        text-align: right;\n",
       "    }\n",
       "</style>\n",
       "<table border=\"1\" class=\"dataframe\">\n",
       "  <thead>\n",
       "    <tr style=\"text-align: right;\">\n",
       "      <th></th>\n",
       "      <th>id</th>\n",
       "      <th>text</th>\n",
       "      <th>title</th>\n",
       "      <th>url</th>\n",
       "    </tr>\n",
       "  </thead>\n",
       "  <tbody>\n",
       "    <tr>\n",
       "      <th>0</th>\n",
       "      <td>1018503</td>\n",
       "      <td>Na lista a seguir encontram-se os vilões da sé...</td>\n",
       "      <td>Lista de vilões de Ben 10</td>\n",
       "      <td>https://pt.wikipedia.org/wiki?curid=1018503</td>\n",
       "    </tr>\n",
       "    <tr>\n",
       "      <th>1</th>\n",
       "      <td>2737450</td>\n",
       "      <td>A história da televisão no Brasil tem início c...</td>\n",
       "      <td>História da televisão no Brasil</td>\n",
       "      <td>https://pt.wikipedia.org/wiki?curid=2737450</td>\n",
       "    </tr>\n",
       "    <tr>\n",
       "      <th>2</th>\n",
       "      <td>31862</td>\n",
       "      <td>Em física e demais ciências naturais, magnetis...</td>\n",
       "      <td>Magnetismo</td>\n",
       "      <td>https://pt.wikipedia.org/wiki?curid=31862</td>\n",
       "    </tr>\n",
       "    <tr>\n",
       "      <th>3</th>\n",
       "      <td>198795</td>\n",
       "      <td>Wally West é um personagem de histórias em qua...</td>\n",
       "      <td>Wally West</td>\n",
       "      <td>https://pt.wikipedia.org/wiki?curid=198795</td>\n",
       "    </tr>\n",
       "    <tr>\n",
       "      <th>4</th>\n",
       "      <td>182603</td>\n",
       "      <td>A foi um conflito militar travado entre o Irã ...</td>\n",
       "      <td>Guerra Irã-Iraque</td>\n",
       "      <td>https://pt.wikipedia.org/wiki?curid=182603</td>\n",
       "    </tr>\n",
       "  </tbody>\n",
       "</table>\n",
       "</div>"
      ],
      "text/plain": [
       "        id                                               text  \\\n",
       "0  1018503  Na lista a seguir encontram-se os vilões da sé...   \n",
       "1  2737450  A história da televisão no Brasil tem início c...   \n",
       "2    31862  Em física e demais ciências naturais, magnetis...   \n",
       "3   198795  Wally West é um personagem de histórias em qua...   \n",
       "4   182603  A foi um conflito militar travado entre o Irã ...   \n",
       "\n",
       "                             title  \\\n",
       "0        Lista de vilões de Ben 10   \n",
       "1  História da televisão no Brasil   \n",
       "2                       Magnetismo   \n",
       "3                       Wally West   \n",
       "4                Guerra Irã-Iraque   \n",
       "\n",
       "                                           url  \n",
       "0  https://pt.wikipedia.org/wiki?curid=1018503  \n",
       "1  https://pt.wikipedia.org/wiki?curid=2737450  \n",
       "2    https://pt.wikipedia.org/wiki?curid=31862  \n",
       "3   https://pt.wikipedia.org/wiki?curid=198795  \n",
       "4   https://pt.wikipedia.org/wiki?curid=182603  "
      ]
     },
     "execution_count": 37,
     "metadata": {},
     "output_type": "execute_result"
    }
   ],
   "source": [
    "LANG_TEXT.head()"
   ]
  },
  {
   "cell_type": "code",
   "execution_count": 38,
   "metadata": {
    "collapsed": true
   },
   "outputs": [],
   "source": [
    "re1 = re.compile(r'  +')\n",
    "\n",
    "def fixup(x):\n",
    "    x = x.replace('#39;', \"'\").replace('amp;', '&').replace('#146;', \"'\").replace(\n",
    "        'nbsp;', ' ').replace('#36;', '$').replace('\\\\n', \"\\n\").replace('quot;', \"'\").replace(\n",
    "        '<br />', \"\\n\").replace('\\\\\"', '\"').replace('<unk>','u_n').replace(' @.@ ','.').replace(\n",
    "        ' @-@ ','-').replace('\\\\', ' \\\\ ')\n",
    "    return re1.sub(' ', html.unescape(x))"
   ]
  },
  {
   "cell_type": "code",
   "execution_count": 39,
   "metadata": {
    "collapsed": true
   },
   "outputs": [],
   "source": [
    "LANG_TEXT['text'] = LANG_TEXT['text'].apply(lambda x: fixup(x))"
   ]
  },
  {
   "cell_type": "code",
   "execution_count": 40,
   "metadata": {},
   "outputs": [
    {
     "data": {
      "text/plain": [
       "100681446"
      ]
     },
     "execution_count": 40,
     "metadata": {},
     "output_type": "execute_result"
    }
   ],
   "source": [
    "LANG_TEXT['text'].apply(lambda x: len(x.split(\" \"))).sum()"
   ]
  },
  {
   "cell_type": "code",
   "execution_count": 41,
   "metadata": {},
   "outputs": [
    {
     "data": {
      "text/plain": [
       "3845205"
      ]
     },
     "execution_count": 41,
     "metadata": {},
     "output_type": "execute_result"
    }
   ],
   "source": [
    "len(set(''.join(LANG_TEXT['text'].values).split(\" \")))"
   ]
  },
  {
   "cell_type": "code",
   "execution_count": 42,
   "metadata": {
    "collapsed": true
   },
   "outputs": [],
   "source": [
    "(LANG_TEXT.to_csv(f\"{DATA_PATH}/Wiki_PT_Corpus2.csv\", columns=[\"text\"], header=None, index=False))"
   ]
  },
  {
   "cell_type": "code",
   "execution_count": 4,
   "metadata": {
    "collapsed": true
   },
   "outputs": [],
   "source": [
    "LANG_TEXT = pd.read_csv(f\"{DATA_PATH}/Wiki_PT_Corpus2.csv\")"
   ]
  },
  {
   "cell_type": "code",
   "execution_count": 5,
   "metadata": {},
   "outputs": [
    {
     "data": {
      "text/plain": [
       "(42207, 1)"
      ]
     },
     "execution_count": 5,
     "metadata": {},
     "output_type": "execute_result"
    }
   ],
   "source": [
    "LANG_TEXT.shape"
   ]
  },
  {
   "cell_type": "code",
   "execution_count": 6,
   "metadata": {
    "collapsed": true
   },
   "outputs": [],
   "source": [
    "txt_proc = [\n",
    "    TokenizeProcessor(tokenizer=Tokenizer(lang='pt') ),\n",
    "    NumericalizeProcessor(min_freq=3, max_vocab=30000 )\n",
    "]"
   ]
  },
  {
   "cell_type": "code",
   "execution_count": 7,
   "metadata": {
    "collapsed": true
   },
   "outputs": [],
   "source": [
    "data_lm = (TextList\n",
    "           .from_csv(DATA_PATH, 'Wiki_PT_Corpus2.csv', cols=0, processor=txt_proc)\n",
    "           #Where are the text? Column 'text' of texts.csv\n",
    "           .split_by_rand_pct()\n",
    "           #How to split it? Randomly with the default 20% in valid\n",
    "           .label_for_lm()\n",
    "           #Label it for a language model\n",
    "           .databunch(num_workers=10))\n",
    "           #Finally we convert to a DataBunch"
   ]
  },
  {
   "cell_type": "code",
   "execution_count": 8,
   "metadata": {},
   "outputs": [
    {
     "data": {
      "text/plain": [
       "30005"
      ]
     },
     "execution_count": 8,
     "metadata": {},
     "output_type": "execute_result"
    }
   ],
   "source": [
    "len(data_lm.train_ds.vocab.itos)"
   ]
  },
  {
   "cell_type": "code",
   "execution_count": 9,
   "metadata": {},
   "outputs": [
    {
     "data": {
      "text/html": [
       "<table border=\"1\" class=\"dataframe\">\n",
       "  <thead>\n",
       "    <tr style=\"text-align: right;\">\n",
       "      <th>idx</th>\n",
       "      <th>text</th>\n",
       "    </tr>\n",
       "  </thead>\n",
       "  <tbody>\n",
       "    <tr>\n",
       "      <td>0</td>\n",
       "      <td>tupi xxmaj rio de xxmaj janeiro . xxmaj desde então a televisão cresceu no país e hoje representa um fator importante na cultura popular moderna da sociedade brasileira . xxmaj em 1955 é inaugurada a xxup tv xxmaj rio , xxunk à xxup tv xxmaj record , inaugurada em 1953 , à s xxmaj emissoras xxmaj unidas . xxmaj em agosto de 1957 inicia-se as transmissões entre cidades no</td>\n",
       "    </tr>\n",
       "    <tr>\n",
       "      <td>1</td>\n",
       "      <td>obstante as disputas referidas xxunk , formavam um bloco xxunk . xxmaj um exemplo d isto é o facto de o rei , depois da morte do xxmaj secretário de xxmaj estado , xxmaj diogo de xxmaj mendonça xxunk , antigo diplomata , em 1736 , ter escolhido para o cargo um cardeal da xxmaj igreja , xxup d. xxmaj joão da xxmaj mota e xxmaj silva , que</td>\n",
       "    </tr>\n",
       "    <tr>\n",
       "      <td>2</td>\n",
       "      <td>cantora apresentou-se no v xxmaj festival com o grupo xxmaj the xxmaj xxunk . xxmaj no entanto , as suas aparições nos próximos meses seriam esporádicas . xxmaj em outubro , ela participou do programa \" xxmaj xxunk xxmaj come xxmaj dancing \" , da xxup bbc xxmaj one , no qual se apresentou como vocal de apoio , durante estreia de xxmaj xxunk em um programa televisivo ,</td>\n",
       "    </tr>\n",
       "    <tr>\n",
       "      <td>3</td>\n",
       "      <td>dia 12 de xxmaj maio de 2009 , dia da 1.ª xxmaj semifinal do xxmaj festival xxmaj eurovisão da xxmaj canção 2009 , todos os países a concorrer n esta semifinal voltaram a ensaiar pela última vez antes do espetáculo , à s xxunk xxup xxunk . xxmaj mais tarde , à s xxunk ( xxup xxunk ) deu-se a 1.ª semifinal . xxmaj posteriormente à final , os</td>\n",
       "    </tr>\n",
       "    <tr>\n",
       "      <td>4</td>\n",
       "      <td>comumente por grandes artistas como xxmaj xxunk ou xxmaj xxunk . xxmaj publicado por xxmaj xxunk , o trabalho de xxmaj xxunk encontrou resistência e , em 1795 , sua entrega cessou tão misteriosamente quanto surgiu , sendo sua identidade real até hoje desconhecida . xxmaj xxunk xxmaj xxunk ( 1769 – 1825 ) produzia retratos do xxunk em um estilo mais acessível e foi melhor recebido pela comunidade</td>\n",
       "    </tr>\n",
       "  </tbody>\n",
       "</table>"
      ],
      "text/plain": [
       "<IPython.core.display.HTML object>"
      ]
     },
     "metadata": {},
     "output_type": "display_data"
    }
   ],
   "source": [
    "data_lm.show_batch()"
   ]
  },
  {
   "cell_type": "code",
   "execution_count": 10,
   "metadata": {
    "collapsed": true
   },
   "outputs": [],
   "source": [
    "data_lm.save(\"wiki_pt_data_lm_30k\")"
   ]
  },
  {
   "cell_type": "code",
   "execution_count": 11,
   "metadata": {},
   "outputs": [
    {
     "data": {
      "text/plain": [
       "1271576"
      ]
     },
     "execution_count": 11,
     "metadata": {},
     "output_type": "execute_result"
    }
   ],
   "source": [
    "len(data_lm.vocab.stoi)"
   ]
  },
  {
   "cell_type": "code",
   "execution_count": 7,
   "metadata": {
    "collapsed": true
   },
   "outputs": [],
   "source": [
    "data_lm = load_data(DATA_PATH, \"wiki_pt_data_lm_30k\")"
   ]
  },
  {
   "cell_type": "code",
   "execution_count": 12,
   "metadata": {
    "collapsed": true
   },
   "outputs": [],
   "source": [
    "learn = language_model_learner(data_lm, AWD_LSTM, drop_mult=0.05, pretrained=False, callback_fns=ShowGraph)"
   ]
  },
  {
   "cell_type": "code",
   "execution_count": 13,
   "metadata": {},
   "outputs": [
    {
     "data": {
      "text/html": [],
      "text/plain": [
       "<IPython.core.display.HTML object>"
      ]
     },
     "metadata": {},
     "output_type": "display_data"
    },
    {
     "name": "stdout",
     "output_type": "stream",
     "text": [
      "LR Finder is complete, type {learner_name}.recorder.plot() to see the graph.\n"
     ]
    },
    {
     "data": {
      "image/png": "[encoded data removed]",
      "text/plain": [
       "<Figure size 432x288 with 1 Axes>"
      ]
     },
     "metadata": {
      "needs_background": "light"
     },
     "output_type": "display_data"
    }
   ],
   "source": [
    "learn.lr_find()\n",
    "learn.recorder.plot(skip_start=0)"
   ]
  },
  {
   "cell_type": "code",
   "execution_count": 14,
   "metadata": {},
   "outputs": [
    {
     "data": {
      "text/html": [
       "<table border=\"1\" class=\"dataframe\">\n",
       "  <thead>\n",
       "    <tr style=\"text-align: left;\">\n",
       "      <th>epoch</th>\n",
       "      <th>train_loss</th>\n",
       "      <th>valid_loss</th>\n",
       "      <th>accuracy</th>\n",
       "      <th>time</th>\n",
       "    </tr>\n",
       "  </thead>\n",
       "  <tbody>\n",
       "    <tr>\n",
       "      <td>0</td>\n",
       "      <td>3.447388</td>\n",
       "      <td>3.571142</td>\n",
       "      <td>0.335145</td>\n",
       "      <td>1:14:17</td>\n",
       "    </tr>\n",
       "    <tr>\n",
       "      <td>1</td>\n",
       "      <td>3.415538</td>\n",
       "      <td>3.508792</td>\n",
       "      <td>0.338025</td>\n",
       "      <td>1:14:10</td>\n",
       "    </tr>\n",
       "    <tr>\n",
       "      <td>2</td>\n",
       "      <td>3.401456</td>\n",
       "      <td>3.496067</td>\n",
       "      <td>0.338629</td>\n",
       "      <td>1:14:16</td>\n",
       "    </tr>\n",
       "    <tr>\n",
       "      <td>3</td>\n",
       "      <td>3.259071</td>\n",
       "      <td>3.447059</td>\n",
       "      <td>0.344379</td>\n",
       "      <td>1:14:10</td>\n",
       "    </tr>\n",
       "    <tr>\n",
       "      <td>4</td>\n",
       "      <td>3.247761</td>\n",
       "      <td>3.391809</td>\n",
       "      <td>0.349188</td>\n",
       "      <td>1:14:15</td>\n",
       "    </tr>\n",
       "    <tr>\n",
       "      <td>5</td>\n",
       "      <td>3.227204</td>\n",
       "      <td>3.323898</td>\n",
       "      <td>0.356667</td>\n",
       "      <td>1:14:13</td>\n",
       "    </tr>\n",
       "    <tr>\n",
       "      <td>6</td>\n",
       "      <td>3.209018</td>\n",
       "      <td>3.253901</td>\n",
       "      <td>0.364136</td>\n",
       "      <td>1:14:16</td>\n",
       "    </tr>\n",
       "    <tr>\n",
       "      <td>7</td>\n",
       "      <td>3.120736</td>\n",
       "      <td>3.179726</td>\n",
       "      <td>0.373113</td>\n",
       "      <td>1:14:13</td>\n",
       "    </tr>\n",
       "    <tr>\n",
       "      <td>8</td>\n",
       "      <td>3.036091</td>\n",
       "      <td>3.123514</td>\n",
       "      <td>0.380693</td>\n",
       "      <td>1:14:12</td>\n",
       "    </tr>\n",
       "    <tr>\n",
       "      <td>9</td>\n",
       "      <td>3.050626</td>\n",
       "      <td>3.106447</td>\n",
       "      <td>0.383134</td>\n",
       "      <td>1:14:04</td>\n",
       "    </tr>\n",
       "  </tbody>\n",
       "</table>"
      ],
      "text/plain": [
       "<IPython.core.display.HTML object>"
      ]
     },
     "metadata": {},
     "output_type": "display_data"
    },
    {
     "data": {
      "image/png": "[encoded data removed]",
      "text/plain": [
       "<Figure size 432x288 with 1 Axes>"
      ]
     },
     "metadata": {},
     "output_type": "display_data"
    },
    {
     "name": "stdout",
     "output_type": "stream",
     "text": [
      "Better model found at epoch 0 with val_loss value: 3.5711421966552734.\n",
      "Better model found at epoch 1 with val_loss value: 3.50879168510437.\n",
      "Better model found at epoch 2 with val_loss value: 3.4960672855377197.\n",
      "Better model found at epoch 3 with val_loss value: 3.447059154510498.\n",
      "Better model found at epoch 4 with val_loss value: 3.39180850982666.\n",
      "Better model found at epoch 5 with val_loss value: 3.3238980770111084.\n",
      "Better model found at epoch 6 with val_loss value: 3.253901243209839.\n",
      "Better model found at epoch 7 with val_loss value: 3.1797256469726562.\n",
      "Better model found at epoch 8 with val_loss value: 3.123513698577881.\n",
      "Better model found at epoch 9 with val_loss value: 3.1064469814300537.\n"
     ]
    }
   ],
   "source": [
    "learn.fit_one_cycle(10, 5e-3, moms=(0.8,0.7), callbacks=[ShowGraph(learn),  SaveModelCallback(learn, name='wiki-pt-lm-30k-head-best')])"
   ]
  },
  {
   "cell_type": "code",
   "execution_count": null,
   "metadata": {
    "collapsed": true
   },
   "outputs": [],
   "source": [
    "learn.load(\"wiki-pt-lm-30k-head-best\")"
   ]
  },
  {
   "cell_type": "code",
   "execution_count": 17,
   "metadata": {
    "collapsed": true
   },
   "outputs": [],
   "source": [
    "learn.unfreeze()"
   ]
  },
  {
   "cell_type": "code",
   "execution_count": 18,
   "metadata": {},
   "outputs": [
    {
     "data": {
      "text/html": [
       "<table border=\"1\" class=\"dataframe\">\n",
       "  <thead>\n",
       "    <tr style=\"text-align: left;\">\n",
       "      <th>epoch</th>\n",
       "      <th>train_loss</th>\n",
       "      <th>valid_loss</th>\n",
       "      <th>accuracy</th>\n",
       "      <th>time</th>\n",
       "    </tr>\n",
       "  </thead>\n",
       "  <tbody>\n",
       "    <tr>\n",
       "      <td>0</td>\n",
       "      <td>3.023425</td>\n",
       "      <td>3.133007</td>\n",
       "      <td>0.379855</td>\n",
       "      <td>1:13:58</td>\n",
       "    </tr>\n",
       "    <tr>\n",
       "      <td>1</td>\n",
       "      <td>3.050706</td>\n",
       "      <td>3.138383</td>\n",
       "      <td>0.378844</td>\n",
       "      <td>1:13:55</td>\n",
       "    </tr>\n",
       "    <tr>\n",
       "      <td>2</td>\n",
       "      <td>3.016838</td>\n",
       "      <td>3.122000</td>\n",
       "      <td>0.380999</td>\n",
       "      <td>1:13:56</td>\n",
       "    </tr>\n",
       "    <tr>\n",
       "      <td>3</td>\n",
       "      <td>3.023969</td>\n",
       "      <td>3.104743</td>\n",
       "      <td>0.383602</td>\n",
       "      <td>1:13:54</td>\n",
       "    </tr>\n",
       "    <tr>\n",
       "      <td>4</td>\n",
       "      <td>2.999915</td>\n",
       "      <td>3.098463</td>\n",
       "      <td>0.384465</td>\n",
       "      <td>1:14:08</td>\n",
       "    </tr>\n",
       "  </tbody>\n",
       "</table>"
      ],
      "text/plain": [
       "<IPython.core.display.HTML object>"
      ]
     },
     "metadata": {},
     "output_type": "display_data"
    },
    {
     "data": {
      "image/png": "[encoded data removed]",
      "text/plain": [
       "<Figure size 432x288 with 1 Axes>"
      ]
     },
     "metadata": {},
     "output_type": "display_data"
    },
    {
     "name": "stdout",
     "output_type": "stream",
     "text": [
      "Better model found at epoch 0 with val_loss value: 3.1330065727233887.\n",
      "Better model found at epoch 2 with val_loss value: 3.1220004558563232.\n",
      "Better model found at epoch 3 with val_loss value: 3.104743480682373.\n",
      "Better model found at epoch 4 with val_loss value: 3.098463296890259.\n"
     ]
    }
   ],
   "source": [
    "learn.fit_one_cycle(5, 5e-4, moms=(0.8,0.7), callbacks=[ShowGraph(learn),  SaveModelCallback(learn, name='wiki-pt-lm-30k-step3-best')])"
   ]
  },
  {
   "cell_type": "code",
   "execution_count": 13,
   "metadata": {},
   "outputs": [
    {
     "data": {
      "text/plain": [
       "36.038723026668926"
      ]
     },
     "execution_count": 13,
     "metadata": {},
     "output_type": "execute_result"
    }
   ],
   "source": [
    "np.exp(3.584594)"
   ]
  },
  {
   "cell_type": "code",
   "execution_count": null,
   "metadata": {
    "collapsed": true
   },
   "outputs": [],
   "source": [
    "learn.fit_one_cycle(5, 7e-4, moms=(0.8,0.7), callbacks=[ShowGraph(learn),  SaveModelCallback(learn, name='wiki-pt-lm-30k-step4-best')])"
   ]
  },
  {
   "cell_type": "code",
   "execution_count": 20,
   "metadata": {
    "collapsed": true
   },
   "outputs": [],
   "source": [
    "learn.save('wiki_pt_lm_30k_best')"
   ]
  },
  {
   "cell_type": "code",
   "execution_count": 19,
   "metadata": {},
   "outputs": [
    {
     "data": {
      "text/plain": [
       "22.16385923676989"
      ]
     },
     "execution_count": 19,
     "metadata": {},
     "output_type": "execute_result"
    }
   ],
   "source": [
    "np.exp(3.098463)"
   ]
  },
  {
   "cell_type": "code",
   "execution_count": 31,
   "metadata": {
    "collapsed": true
   },
   "outputs": [],
   "source": [
    "learn.save_encoder('wiki_pt_lm_30k_encoder')"
   ]
  },
  {
   "cell_type": "code",
   "execution_count": 32,
   "metadata": {
    "collapsed": true
   },
   "outputs": [],
   "source": [
    "learn.export('wiki_pt_lm_30k_export')"
   ]
  },
  {
   "cell_type": "code",
   "execution_count": 21,
   "metadata": {
    "collapsed": true
   },
   "outputs": [],
   "source": [
    "data_lm.vocab.save(pathlib.Path(f\"{DATA_PATH}/wiki_pt_lm_30k_itos_vocab.pkl\"))"
   ]
  },
  {
   "cell_type": "code",
   "execution_count": 22,
   "metadata": {
    "collapsed": true
   },
   "outputs": [],
   "source": [
    "!cp ../../data/wiki-pt/models/wiki_pt_lm_30k_best.pth ../../data/mercado-livre/models/"
   ]
  },
  {
   "cell_type": "code",
   "execution_count": null,
   "metadata": {
    "collapsed": true
   },
   "outputs": [],
   "source": []
  }
 ],
 "metadata": {
  "kernelspec": {
   "display_name": "Python 2",
   "language": "python",
   "name": "python2"
  },
  "language_info": {
   "codemirror_mode": {
    "name": "ipython",
    "version": 2
   },
   "file_extension": ".py",
   "mimetype": "text/x-python",
   "name": "python",
   "nbconvert_exporter": "python",
   "pygments_lexer": "ipython2",
   "version": "2.7.12"
  }
 },
 "nbformat": 4,
 "nbformat_minor": 2
}
