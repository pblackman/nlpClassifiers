{
 "cells": [
  {
   "cell_type": "code",
   "execution_count": 1,
   "metadata": {},
   "outputs": [],
   "source": [
    "from __future__ import absolute_import\n",
    "from __future__ import division\n",
    "from __future__ import print_function"
   ]
  },
  {
   "cell_type": "code",
   "execution_count": 2,
   "metadata": {},
   "outputs": [],
   "source": [
    "%load_ext autoreload\n",
    "%autoreload 2\n",
    "from fastai import *\n",
    "from fastai.text import * \n",
    "from fastai.callbacks import *\n",
    "import pandas as pd\n",
    "from tqdm import tnrange, tqdm_notebook"
   ]
  },
  {
   "cell_type": "code",
   "execution_count": 3,
   "metadata": {},
   "outputs": [
    {
     "name": "stdout",
     "output_type": "stream",
     "text": [
      "Devices available:  8\n",
      "Set device:  6\n",
      "Current device:  6\n"
     ]
    }
   ],
   "source": [
    "# See how many devices are around\n",
    "print('Devices available: ', torch.cuda.device_count())\n",
    "# Set it to a particular device\n",
    "CUDA_DEVICE = 6\n",
    "print('Set device: ', CUDA_DEVICE)\n",
    "torch.cuda.set_device(CUDA_DEVICE)\n",
    "# Check which device you are on\n",
    "print('Current device: ', torch.cuda.current_device())"
   ]
  },
  {
   "cell_type": "code",
   "execution_count": 4,
   "metadata": {},
   "outputs": [],
   "source": [
    "DATA_PATH = '../../data/agent-benchmark'\n",
    "TRAIN_DATASET = os.path.join(DATA_PATH, 'train.csv')\n",
    "VAL_DATASET = os.path.join(DATA_PATH, 'val.csv')\n",
    "TEST_DATASET  = os.path.join(DATA_PATH, 'test.csv')"
   ]
  },
  {
   "cell_type": "code",
   "execution_count": 5,
   "metadata": {},
   "outputs": [],
   "source": [
    "LM_PATH=Path('../../models/ulmfit/lm/agent-benchmark')\n",
    "LM_PATH.mkdir(exist_ok=True)"
   ]
  },
  {
   "cell_type": "code",
   "execution_count": 6,
   "metadata": {},
   "outputs": [],
   "source": [
    "def read_data(filename):\n",
    "    data = pd.read_csv(filename, sep=\";\", names =['utterance','label'], header=None, dtype={'utterance':str, 'label': str} )\n",
    "    return data"
   ]
  },
  {
   "cell_type": "code",
   "execution_count": 7,
   "metadata": {},
   "outputs": [],
   "source": [
    "train_dataset = read_data(TRAIN_DATASET).dropna()\n",
    "val_dataset = read_data(VAL_DATASET).dropna()\n",
    "test_dataset = read_data(TEST_DATASET).dropna()"
   ]
  },
  {
   "cell_type": "code",
   "execution_count": 55,
   "metadata": {},
   "outputs": [],
   "source": [
    "tokenizer = Tokenizer(lang='en', n_cpus=10)"
   ]
  },
  {
   "cell_type": "code",
   "execution_count": 56,
   "metadata": {},
   "outputs": [],
   "source": [
    "data_lm = TextLMDataBunch.from_df(LM_PATH, train_df = train_dataset, valid_df = val_dataset,  bs=128, text_cols=0)"
   ]
  },
  {
   "cell_type": "code",
   "execution_count": 57,
   "metadata": {},
   "outputs": [],
   "source": [
    "data_lm.save('data_lm_agent-benchmark')"
   ]
  },
  {
   "cell_type": "code",
   "execution_count": 58,
   "metadata": {},
   "outputs": [],
   "source": [
    "data_lm = load_data(LM_PATH, 'data_lm_agent-benchmark', bs=64)"
   ]
  },
  {
   "cell_type": "code",
   "execution_count": 150,
   "metadata": {},
   "outputs": [],
   "source": [
    "learn = language_model_learner(data_lm, AWD_LSTM, drop_mult=0, callback_fns=ShowGraph)\n",
    "learn.freeze()"
   ]
  },
  {
   "cell_type": "code",
   "execution_count": 60,
   "metadata": {},
   "outputs": [
    {
     "data": {
      "text/html": [],
      "text/plain": [
       "<IPython.core.display.HTML object>"
      ]
     },
     "metadata": {},
     "output_type": "display_data"
    },
    {
     "name": "stdout",
     "output_type": "stream",
     "text": [
      "LR Finder is complete, type {learner_name}.recorder.plot() to see the graph.\n",
      "Min numerical gradient: 3.98E-02\n"
     ]
    },
    {
     "data": {
      "image/png": "[encoded data removed]",
      "text/plain": [
       "<Figure size 432x288 with 1 Axes>"
      ]
     },
     "metadata": {
      "needs_background": "light"
     },
     "output_type": "display_data"
    }
   ],
   "source": [
    "learn.lr_find()\n",
    "learn.recorder.plot(suggestion=True, skip_start=0)"
   ]
  },
  {
   "cell_type": "code",
   "execution_count": 61,
   "metadata": {},
   "outputs": [
    {
     "data": {
      "text/html": [
       "<table border=\"1\" class=\"dataframe\">\n",
       "  <thead>\n",
       "    <tr style=\"text-align: left;\">\n",
       "      <th>epoch</th>\n",
       "      <th>train_loss</th>\n",
       "      <th>valid_loss</th>\n",
       "      <th>accuracy</th>\n",
       "      <th>time</th>\n",
       "    </tr>\n",
       "  </thead>\n",
       "  <tbody>\n",
       "    <tr>\n",
       "      <td>0</td>\n",
       "      <td>6.185343</td>\n",
       "      <td>4.096468</td>\n",
       "      <td>0.269364</td>\n",
       "      <td>00:03</td>\n",
       "    </tr>\n",
       "    <tr>\n",
       "      <td>1</td>\n",
       "      <td>4.575740</td>\n",
       "      <td>3.530401</td>\n",
       "      <td>0.331027</td>\n",
       "      <td>00:03</td>\n",
       "    </tr>\n",
       "    <tr>\n",
       "      <td>2</td>\n",
       "      <td>3.818509</td>\n",
       "      <td>3.369839</td>\n",
       "      <td>0.352232</td>\n",
       "      <td>00:03</td>\n",
       "    </tr>\n",
       "    <tr>\n",
       "      <td>3</td>\n",
       "      <td>3.332387</td>\n",
       "      <td>3.312397</td>\n",
       "      <td>0.360435</td>\n",
       "      <td>00:03</td>\n",
       "    </tr>\n",
       "    <tr>\n",
       "      <td>4</td>\n",
       "      <td>3.004106</td>\n",
       "      <td>3.303550</td>\n",
       "      <td>0.360491</td>\n",
       "      <td>00:03</td>\n",
       "    </tr>\n",
       "  </tbody>\n",
       "</table>"
      ],
      "text/plain": [
       "<IPython.core.display.HTML object>"
      ]
     },
     "metadata": {},
     "output_type": "display_data"
    },
    {
     "data": {
      "image/png": "[encoded data removed]",
      "text/plain": [
       "<Figure size 432x288 with 1 Axes>"
      ]
     },
     "metadata": {},
     "output_type": "display_data"
    },
    {
     "name": "stdout",
     "output_type": "stream",
     "text": [
      "Better model found at epoch 0 with val_loss value: 4.096467971801758.\n",
      "Better model found at epoch 1 with val_loss value: 3.5304012298583984.\n",
      "Better model found at epoch 2 with val_loss value: 3.3698391914367676.\n",
      "Better model found at epoch 3 with val_loss value: 3.3123972415924072.\n",
      "Better model found at epoch 4 with val_loss value: 3.3035500049591064.\n"
     ]
    }
   ],
   "source": [
    "learn.fit_one_cycle(5, 3e-2, moms=(0.8,0.7),callbacks=[ShowGraph(learn), SaveModelCallback(learn, name='wiki-en-FT-dataset-head-best')])"
   ]
  },
  {
   "cell_type": "code",
   "execution_count": null,
   "metadata": {},
   "outputs": [],
   "source": [
    "learn.load('wiki-en-FT-dataset-head-best') "
   ]
  },
  {
   "cell_type": "code",
   "execution_count": 152,
   "metadata": {},
   "outputs": [
    {
     "data": {
      "text/html": [
       "<table border=\"1\" class=\"dataframe\">\n",
       "  <thead>\n",
       "    <tr style=\"text-align: left;\">\n",
       "      <th>epoch</th>\n",
       "      <th>train_loss</th>\n",
       "      <th>valid_loss</th>\n",
       "      <th>accuracy</th>\n",
       "      <th>time</th>\n",
       "    </tr>\n",
       "  </thead>\n",
       "  <tbody>\n",
       "    <tr>\n",
       "      <td>0</td>\n",
       "      <td>2.999609</td>\n",
       "      <td>3.787731</td>\n",
       "      <td>0.260212</td>\n",
       "      <td>00:03</td>\n",
       "    </tr>\n",
       "    <tr>\n",
       "      <td>1</td>\n",
       "      <td>3.060439</td>\n",
       "      <td>3.245954</td>\n",
       "      <td>0.366462</td>\n",
       "      <td>00:03</td>\n",
       "    </tr>\n",
       "    <tr>\n",
       "      <td>2</td>\n",
       "      <td>2.808640</td>\n",
       "      <td>3.193988</td>\n",
       "      <td>0.376451</td>\n",
       "      <td>00:03</td>\n",
       "    </tr>\n",
       "    <tr>\n",
       "      <td>3</td>\n",
       "      <td>2.423686</td>\n",
       "      <td>3.234649</td>\n",
       "      <td>0.384208</td>\n",
       "      <td>00:03</td>\n",
       "    </tr>\n",
       "    <tr>\n",
       "      <td>4</td>\n",
       "      <td>2.036407</td>\n",
       "      <td>3.305608</td>\n",
       "      <td>0.385491</td>\n",
       "      <td>00:03</td>\n",
       "    </tr>\n",
       "  </tbody>\n",
       "</table>"
      ],
      "text/plain": [
       "<IPython.core.display.HTML object>"
      ]
     },
     "metadata": {},
     "output_type": "display_data"
    },
    {
     "data": {
      "image/png": "[encoded data removed]",
      "text/plain": [
       "<Figure size 432x288 with 1 Axes>"
      ]
     },
     "metadata": {},
     "output_type": "display_data"
    },
    {
     "name": "stdout",
     "output_type": "stream",
     "text": [
      "Better model found at epoch 0 with val_loss value: 3.787731409072876.\n",
      "Better model found at epoch 1 with val_loss value: 3.2459542751312256.\n",
      "Better model found at epoch 2 with val_loss value: 3.1939876079559326.\n"
     ]
    }
   ],
   "source": [
    "learn.unfreeze()\n",
    "learn.fit_one_cycle(5, 3e-2, moms=(0.8,0.7), callbacks=[ShowGraph(learn), SaveModelCallback(learn, name='wiki-en-FT-dataset-step2-best')])"
   ]
  },
  {
   "cell_type": "code",
   "execution_count": 153,
   "metadata": {},
   "outputs": [
    {
     "data": {
      "text/plain": [
       "24.385483092069457"
      ]
     },
     "execution_count": 153,
     "metadata": {},
     "output_type": "execute_result"
    }
   ],
   "source": [
    "np.exp(3.193988)"
   ]
  },
  {
   "cell_type": "code",
   "execution_count": null,
   "metadata": {},
   "outputs": [],
   "source": [
    "learn.purge()\n",
    "learn.load('wiki-en-FT-dataset-step2-best')"
   ]
  },
  {
   "cell_type": "code",
   "execution_count": 155,
   "metadata": {},
   "outputs": [],
   "source": [
    "learn.save_encoder('wikien-FT-dataset-en-encoder')"
   ]
  },
  {
   "cell_type": "code",
   "execution_count": 156,
   "metadata": {},
   "outputs": [],
   "source": [
    "!cp ../../models/ulmfit/lm/agent-benchmark/models/wikien-FT-dataset-en-encoder.pth models/"
   ]
  },
  {
   "cell_type": "code",
   "execution_count": 157,
   "metadata": {},
   "outputs": [
    {
     "data": {
      "text/plain": [
       "'increase  the volume xxbos'"
      ]
     },
     "execution_count": 157,
     "metadata": {},
     "output_type": "execute_result"
    }
   ],
   "source": [
    "learn.predict('increase ', 3)"
   ]
  },
  {
   "cell_type": "code",
   "execution_count": 158,
   "metadata": {},
   "outputs": [],
   "source": [
    "data_class = TextClasDataBunch.from_df(path = \"\", train_df = train_dataset, valid_df = val_dataset, test_df = test_dataset,  vocab=data_lm.train_ds.vocab,tokenizer=tokenizer, bs=128, text_cols=['utterance'], label_cols=['label'])"
   ]
  },
  {
   "cell_type": "code",
   "execution_count": 198,
   "metadata": {},
   "outputs": [
    {
     "name": "stderr",
     "output_type": "stream",
     "text": [
      "/opt/conda/envs/fastai/lib/python3.6/site-packages/fastai/datasets.py:164: YAMLLoadWarning: calling yaml.load() without Loader=... is deprecated, as the default Loader is unsafe. Please read https://msg.pyyaml.org/load for full details.\n",
      "  with open(fpath, 'r') as yaml_file: return yaml.load(yaml_file)\n"
     ]
    }
   ],
   "source": [
    "learn = text_classifier_learner(data_class, AWD_LSTM, drop_mult=0.5, callback_fns=ShowGraph)\n",
    "learn.load_encoder('wikien-FT-dataset-en-encoder')\n",
    "learn.freeze()"
   ]
  },
  {
   "cell_type": "code",
   "execution_count": 199,
   "metadata": {
    "scrolled": false
   },
   "outputs": [
    {
     "data": {
      "text/html": [],
      "text/plain": [
       "<IPython.core.display.HTML object>"
      ]
     },
     "metadata": {},
     "output_type": "display_data"
    },
    {
     "name": "stdout",
     "output_type": "stream",
     "text": [
      "LR Finder is complete, type {learner_name}.recorder.plot() to see the graph.\n",
      "Min numerical gradient: 8.32E-02\n"
     ]
    },
    {
     "data": {
      "image/png": "[encoded data removed]",
      "text/plain": [
       "<Figure size 432x288 with 1 Axes>"
      ]
     },
     "metadata": {
      "needs_background": "light"
     },
     "output_type": "display_data"
    }
   ],
   "source": [
    "learn.lr_find()\n",
    "learn.recorder.plot(suggestion=True, skip_start=0)"
   ]
  },
  {
   "cell_type": "code",
   "execution_count": 200,
   "metadata": {
    "scrolled": true
   },
   "outputs": [
    {
     "data": {
      "text/html": [
       "<table border=\"1\" class=\"dataframe\">\n",
       "  <thead>\n",
       "    <tr style=\"text-align: left;\">\n",
       "      <th>epoch</th>\n",
       "      <th>train_loss</th>\n",
       "      <th>valid_loss</th>\n",
       "      <th>accuracy</th>\n",
       "      <th>time</th>\n",
       "    </tr>\n",
       "  </thead>\n",
       "  <tbody>\n",
       "    <tr>\n",
       "      <td>0</td>\n",
       "      <td>1.952661</td>\n",
       "      <td>1.448793</td>\n",
       "      <td>0.615046</td>\n",
       "      <td>00:04</td>\n",
       "    </tr>\n",
       "    <tr>\n",
       "      <td>1</td>\n",
       "      <td>1.727294</td>\n",
       "      <td>1.422722</td>\n",
       "      <td>0.609184</td>\n",
       "      <td>00:04</td>\n",
       "    </tr>\n",
       "    <tr>\n",
       "      <td>2</td>\n",
       "      <td>1.647359</td>\n",
       "      <td>1.302106</td>\n",
       "      <td>0.637030</td>\n",
       "      <td>00:04</td>\n",
       "    </tr>\n",
       "    <tr>\n",
       "      <td>3</td>\n",
       "      <td>1.532743</td>\n",
       "      <td>1.263427</td>\n",
       "      <td>0.653151</td>\n",
       "      <td>00:04</td>\n",
       "    </tr>\n",
       "    <tr>\n",
       "      <td>4</td>\n",
       "      <td>1.410064</td>\n",
       "      <td>1.128933</td>\n",
       "      <td>0.693210</td>\n",
       "      <td>00:04</td>\n",
       "    </tr>\n",
       "    <tr>\n",
       "      <td>5</td>\n",
       "      <td>1.305788</td>\n",
       "      <td>1.075014</td>\n",
       "      <td>0.702980</td>\n",
       "      <td>00:04</td>\n",
       "    </tr>\n",
       "    <tr>\n",
       "      <td>6</td>\n",
       "      <td>1.235571</td>\n",
       "      <td>1.069350</td>\n",
       "      <td>0.712750</td>\n",
       "      <td>00:04</td>\n",
       "    </tr>\n",
       "  </tbody>\n",
       "</table>"
      ],
      "text/plain": [
       "<IPython.core.display.HTML object>"
      ]
     },
     "metadata": {},
     "output_type": "display_data"
    },
    {
     "data": {
      "image/png": "[encoded data removed]",
      "text/plain": [
       "<Figure size 432x288 with 1 Axes>"
      ]
     },
     "metadata": {},
     "output_type": "display_data"
    },
    {
     "name": "stdout",
     "output_type": "stream",
     "text": [
      "Better model found at epoch 0 with val_loss value: 1.4487931728363037.\n",
      "Better model found at epoch 1 with val_loss value: 1.4227217435836792.\n",
      "Better model found at epoch 2 with val_loss value: 1.302106499671936.\n",
      "Better model found at epoch 3 with val_loss value: 1.2634267807006836.\n",
      "Better model found at epoch 4 with val_loss value: 1.128933310508728.\n",
      "Better model found at epoch 5 with val_loss value: 1.0750141143798828.\n",
      "Better model found at epoch 6 with val_loss value: 1.069350242614746.\n"
     ]
    }
   ],
   "source": [
    "learn.fit_one_cycle(7, 6E-02, moms=(0.8,0.7), callbacks=[ShowGraph(learn), SaveModelCallback(learn, name='wiki-en-FT-agent-benchmark-classifier-head-best')])"
   ]
  },
  {
   "cell_type": "code",
   "execution_count": null,
   "metadata": {},
   "outputs": [],
   "source": [
    "learn.load('wiki-en-FT-agent-benchmark-classifier-head-best')"
   ]
  },
  {
   "cell_type": "code",
   "execution_count": 202,
   "metadata": {},
   "outputs": [
    {
     "data": {
      "text/html": [
       "<table border=\"1\" class=\"dataframe\">\n",
       "  <thead>\n",
       "    <tr style=\"text-align: left;\">\n",
       "      <th>epoch</th>\n",
       "      <th>train_loss</th>\n",
       "      <th>valid_loss</th>\n",
       "      <th>accuracy</th>\n",
       "      <th>time</th>\n",
       "    </tr>\n",
       "  </thead>\n",
       "  <tbody>\n",
       "    <tr>\n",
       "      <td>0</td>\n",
       "      <td>1.219342</td>\n",
       "      <td>1.018276</td>\n",
       "      <td>0.719590</td>\n",
       "      <td>00:04</td>\n",
       "    </tr>\n",
       "    <tr>\n",
       "      <td>1</td>\n",
       "      <td>1.073093</td>\n",
       "      <td>0.974925</td>\n",
       "      <td>0.728383</td>\n",
       "      <td>00:04</td>\n",
       "    </tr>\n",
       "  </tbody>\n",
       "</table>"
      ],
      "text/plain": [
       "<IPython.core.display.HTML object>"
      ]
     },
     "metadata": {},
     "output_type": "display_data"
    },
    {
     "data": {
      "image/png": "[encoded data removed]",
      "text/plain": [
       "<Figure size 432x288 with 1 Axes>"
      ]
     },
     "metadata": {},
     "output_type": "display_data"
    },
    {
     "name": "stdout",
     "output_type": "stream",
     "text": [
      "Better model found at epoch 0 with val_loss value: 1.0182760953903198.\n",
      "Better model found at epoch 1 with val_loss value: 0.9749254584312439.\n"
     ]
    }
   ],
   "source": [
    "learn.freeze_to(-2)\n",
    "learn.fit_one_cycle(2, slice(7E-03/(2.6**4),7E-03), moms=(0.8,0.7), callbacks=[ShowGraph(learn), SaveModelCallback(learn, name='wiki-en-FT-agent-benchmark-classifier-step2-best')])\n"
   ]
  },
  {
   "cell_type": "code",
   "execution_count": null,
   "metadata": {},
   "outputs": [],
   "source": [
    "learn.load('wiki-en-FT-agent-benchmark-classifier-step2-best')"
   ]
  },
  {
   "cell_type": "code",
   "execution_count": 204,
   "metadata": {},
   "outputs": [
    {
     "data": {
      "text/html": [
       "<table border=\"1\" class=\"dataframe\">\n",
       "  <thead>\n",
       "    <tr style=\"text-align: left;\">\n",
       "      <th>epoch</th>\n",
       "      <th>train_loss</th>\n",
       "      <th>valid_loss</th>\n",
       "      <th>accuracy</th>\n",
       "      <th>time</th>\n",
       "    </tr>\n",
       "  </thead>\n",
       "  <tbody>\n",
       "    <tr>\n",
       "      <td>0</td>\n",
       "      <td>1.024845</td>\n",
       "      <td>0.973265</td>\n",
       "      <td>0.735222</td>\n",
       "      <td>00:06</td>\n",
       "    </tr>\n",
       "    <tr>\n",
       "      <td>1</td>\n",
       "      <td>1.029304</td>\n",
       "      <td>0.928229</td>\n",
       "      <td>0.733757</td>\n",
       "      <td>00:06</td>\n",
       "    </tr>\n",
       "    <tr>\n",
       "      <td>2</td>\n",
       "      <td>0.907393</td>\n",
       "      <td>0.907930</td>\n",
       "      <td>0.749878</td>\n",
       "      <td>00:06</td>\n",
       "    </tr>\n",
       "    <tr>\n",
       "      <td>3</td>\n",
       "      <td>0.825273</td>\n",
       "      <td>0.899693</td>\n",
       "      <td>0.749878</td>\n",
       "      <td>00:06</td>\n",
       "    </tr>\n",
       "  </tbody>\n",
       "</table>"
      ],
      "text/plain": [
       "<IPython.core.display.HTML object>"
      ]
     },
     "metadata": {},
     "output_type": "display_data"
    },
    {
     "data": {
      "image/png": "[encoded data removed]",
      "text/plain": [
       "<Figure size 432x288 with 1 Axes>"
      ]
     },
     "metadata": {},
     "output_type": "display_data"
    },
    {
     "name": "stdout",
     "output_type": "stream",
     "text": [
      "Better model found at epoch 0 with val_loss value: 0.9732652902603149.\n",
      "Better model found at epoch 1 with val_loss value: 0.9282287359237671.\n",
      "Better model found at epoch 2 with val_loss value: 0.9079296588897705.\n",
      "Better model found at epoch 3 with val_loss value: 0.8996928334236145.\n"
     ]
    }
   ],
   "source": [
    "learn.freeze_to(-3)\n",
    "learn.fit_one_cycle(4, slice(7E-03/(2.6**4),7E-03), moms=(0.8,0.7), callbacks=[ShowGraph(learn), SaveModelCallback(learn, name='wiki-en-FT-agent-benchmark-classifier-step3-best')])\n"
   ]
  },
  {
   "cell_type": "code",
   "execution_count": null,
   "metadata": {},
   "outputs": [],
   "source": [
    "learn.load('wiki-en-FT-agent-benchmark-classifier-step3-best')"
   ]
  },
  {
   "cell_type": "code",
   "execution_count": 216,
   "metadata": {},
   "outputs": [
    {
     "data": {
      "text/html": [
       "<table border=\"1\" class=\"dataframe\">\n",
       "  <thead>\n",
       "    <tr style=\"text-align: left;\">\n",
       "      <th>epoch</th>\n",
       "      <th>train_loss</th>\n",
       "      <th>valid_loss</th>\n",
       "      <th>accuracy</th>\n",
       "      <th>time</th>\n",
       "    </tr>\n",
       "  </thead>\n",
       "  <tbody>\n",
       "    <tr>\n",
       "      <td>0</td>\n",
       "      <td>0.803971</td>\n",
       "      <td>0.901848</td>\n",
       "      <td>0.746947</td>\n",
       "      <td>00:07</td>\n",
       "    </tr>\n",
       "    <tr>\n",
       "      <td>1</td>\n",
       "      <td>0.800126</td>\n",
       "      <td>0.900410</td>\n",
       "      <td>0.748412</td>\n",
       "      <td>00:07</td>\n",
       "    </tr>\n",
       "    <tr>\n",
       "      <td>2</td>\n",
       "      <td>0.773678</td>\n",
       "      <td>0.896063</td>\n",
       "      <td>0.750855</td>\n",
       "      <td>00:07</td>\n",
       "    </tr>\n",
       "    <tr>\n",
       "      <td>3</td>\n",
       "      <td>0.806699</td>\n",
       "      <td>0.895540</td>\n",
       "      <td>0.750855</td>\n",
       "      <td>00:07</td>\n",
       "    </tr>\n",
       "    <tr>\n",
       "      <td>4</td>\n",
       "      <td>0.815186</td>\n",
       "      <td>0.904674</td>\n",
       "      <td>0.751343</td>\n",
       "      <td>00:07</td>\n",
       "    </tr>\n",
       "  </tbody>\n",
       "</table>"
      ],
      "text/plain": [
       "<IPython.core.display.HTML object>"
      ]
     },
     "metadata": {},
     "output_type": "display_data"
    },
    {
     "data": {
      "image/png": "[encoded data removed]",
      "text/plain": [
       "<Figure size 432x288 with 1 Axes>"
      ]
     },
     "metadata": {},
     "output_type": "display_data"
    },
    {
     "name": "stdout",
     "output_type": "stream",
     "text": [
      "Better model found at epoch 0 with val_loss value: 0.9018479585647583.\n",
      "Better model found at epoch 1 with val_loss value: 0.9004099369049072.\n",
      "Better model found at epoch 2 with val_loss value: 0.8960630297660828.\n",
      "Better model found at epoch 3 with val_loss value: 0.8955395817756653.\n"
     ]
    }
   ],
   "source": [
    "learn.unfreeze()\n",
    "learn.fit_one_cycle(5, slice(1E-04/(2.6**4),1E-04), moms=(0.8,0.7), callbacks=[ShowGraph(learn), SaveModelCallback(learn, name='wiki-en-FT-agent-benchmark-classifier-step4-best')])"
   ]
  },
  {
   "cell_type": "code",
   "execution_count": null,
   "metadata": {},
   "outputs": [],
   "source": [
    "learn.load('wiki-en-FT-agent-benchmark-classifier-step4-best')"
   ]
  },
  {
   "cell_type": "code",
   "execution_count": 218,
   "metadata": {},
   "outputs": [],
   "source": [
    "y = []\n",
    "for item in test_dataset.itertuples():\n",
    "    label = item[2]\n",
    "    label_id = learn.data.classes.index(label)\n",
    "    y.append(label_id)"
   ]
  },
  {
   "cell_type": "code",
   "execution_count": 219,
   "metadata": {},
   "outputs": [],
   "source": [
    "preds_test = learn.get_preds(ds_type = DatasetType.Test, ordered=True)"
   ]
  },
  {
   "cell_type": "code",
   "execution_count": 220,
   "metadata": {},
   "outputs": [],
   "source": [
    "y_hat = torch.argmax(preds_test[0], dim=1)"
   ]
  },
  {
   "cell_type": "code",
   "execution_count": 221,
   "metadata": {},
   "outputs": [
    {
     "name": "stdout",
     "output_type": "stream",
     "text": [
      "                           precision    recall  f1-score   support\n",
      "\n",
      "             IOT_cleaning      0.955     0.875     0.913        48\n",
      "               IOT_coffee      0.936     0.880     0.907        50\n",
      "                  IOT_hue      0.907     0.958     0.932       214\n",
      "                 IOT_wemo      0.854     0.854     0.854        41\n",
      "             QA_celebrity      0.796     0.759     0.777       108\n",
      "            QA_definition      0.831     0.871     0.850       124\n",
      "               QA_factoid      0.746     0.754     0.750       195\n",
      "                 QA_maths      0.775     0.816     0.795        38\n",
      "            QA_open_query      0.465     0.392     0.425       120\n",
      "                 QA_stock      0.902     0.920     0.911        50\n",
      "              alarm_query      0.659     0.730     0.692        37\n",
      "             alarm_remove      0.697     0.575     0.630        40\n",
      "                alarm_set      0.746     0.917     0.822        48\n",
      "               audio_mute      0.774     0.632     0.696        38\n",
      "             audio_volume      0.727     0.784     0.755        51\n",
      "           audiobook_play      0.833     0.727     0.777        55\n",
      "    calendar_delete_event      0.853     0.836     0.844       146\n",
      "    calendar_notification      0.464     0.289     0.356        45\n",
      "     calendar_query_event      0.583     0.664     0.621       122\n",
      "        calendar_question      0.587     0.643     0.614        42\n",
      "       calendar_set_event      0.806     0.865     0.834       192\n",
      "           contacts_query      0.872     0.642     0.739        53\n",
      "         cooking_question      0.643     0.600     0.621        45\n",
      "           cooking_recipe      0.667     0.711     0.688        45\n",
      "         datetime_convert      0.677     0.600     0.636        35\n",
      "           datetime_query      0.855     0.874     0.864       135\n",
      "        datetime_question      0.794     0.628     0.701        43\n",
      "              email_query      0.896     0.972     0.932       177\n",
      "              email_reply      0.895     0.791     0.840        43\n",
      "         email_send_email      0.828     0.914     0.869       116\n",
      "                game_play      0.769     0.714     0.741        56\n",
      "     general_confirmation      0.647     0.256     0.367        43\n",
      "        general_confusion      0.643     0.735     0.686        49\n",
      "     general_conversation      0.527     0.582     0.553       165\n",
      "         general_feedback      0.683     0.698     0.690       139\n",
      "             general_joke      0.857     0.933     0.894        45\n",
      "          general_mistake      0.581     0.510     0.543        49\n",
      "             lists_adding      0.815     0.647     0.721        34\n",
      "           lists_creating      1.000     0.833     0.909        42\n",
      "              lists_query      0.802     0.853     0.827        95\n",
      "             lists_remove      0.910     0.877     0.893        81\n",
      "               music_play      0.753     0.873     0.808       244\n",
      "        music_preferences      0.848     0.675     0.752        83\n",
      "           music_question      0.680     0.773     0.723        44\n",
      "           music_settings      0.759     0.440     0.557        50\n",
      "               news_query      0.673     0.774     0.720       146\n",
      "    news_set_notification      0.731     0.452     0.559        42\n",
      "            podcasts_play      0.919     0.823     0.868        96\n",
      "               radio_play      0.872     0.835     0.853       139\n",
      "   recommendation_events       0.564     0.512     0.537        43\n",
      "recommendation_locations       0.640     0.744     0.688        43\n",
      "    recommendation_movies      0.659     0.674     0.667        43\n",
      "           reminder_query      0.784     0.630     0.699        46\n",
      "             reminder_set      0.595     0.635     0.614        74\n",
      "              social_post      0.907     0.922     0.915       116\n",
      "             social_query      0.778     0.761     0.769        46\n",
      "           takeaway_order      0.740     0.841     0.787        44\n",
      "           takeaway_query      0.880     0.936     0.907        47\n",
      "     transport_directions      0.714     0.610     0.658        41\n",
      "           transport_taxi      0.952     0.976     0.964        41\n",
      "        transport_traffic      0.844     0.884     0.864        43\n",
      "          transport_train      0.825     0.895     0.859        95\n",
      "         weather_question      0.722     0.591     0.650        88\n",
      "          weather_request      0.714     0.786     0.748       168\n",
      "\n",
      "                micro avg      0.768     0.768     0.768      5116\n",
      "                macro avg      0.763     0.737     0.744      5116\n",
      "             weighted avg      0.768     0.768     0.764      5116\n",
      "\n"
     ]
    }
   ],
   "source": [
    "from sklearn.metrics import classification_report\n",
    "print(classification_report(y, y_hat, target_names=learn.data.classes, digits=3))"
   ]
  },
  {
   "cell_type": "code",
   "execution_count": 8,
   "metadata": {},
   "outputs": [
    {
     "name": "stdout",
     "output_type": "stream",
     "text": [
      "cooking_recipe;6.844444444444444\n",
      "alarm_set;7.604166666666667\n",
      "recommendation_movies;7.209302325581396\n",
      "transport_traffic;6.627906976744186\n",
      "email_query;6.7175141242937855\n",
      "calendar_set_event;9.239583333333334\n",
      "QA_maths;7.0\n",
      "general_feedback;3.661870503597122\n",
      "podcasts_play;5.395833333333333\n",
      "transport_taxi;6.780487804878049\n",
      "general_confirmation;4.558139534883721\n",
      "news_set_notification;7.190476190476191\n",
      "transport_train;8.74736842105263\n",
      "calendar_delete_event;6.02054794520548\n",
      "datetime_query;5.2444444444444445\n",
      "IOT_coffee;5.68\n",
      "weather_request;6.946428571428571\n",
      "general_conversation;4.745454545454545\n",
      "QA_celebrity;5.703703703703703\n",
      "music_play;5.39344262295082\n",
      "general_confusion;4.142857142857143\n",
      "QA_factoid;6.938461538461539\n",
      "QA_stock;6.9\n",
      "IOT_hue;5.219626168224299\n",
      "social_post;7.379310344827586\n",
      "music_question;5.7727272727272725\n",
      "lists_remove;5.08641975308642\n",
      "weather_question;6.3522727272727275\n",
      "QA_open_query;9.783333333333333\n",
      "music_settings;4.7\n",
      "IOT_wemo;5.341463414634147\n",
      "lists_query;5.463157894736842\n",
      "email_reply;6.651162790697675\n",
      "news_query;6.568493150684931\n",
      "alarm_query;6.756756756756757\n",
      "reminder_set;8.35135135135135\n",
      "datetime_convert;7.942857142857143\n",
      "calendar_notification;8.4\n",
      "general_joke;4.777777777777778\n",
      "transport_directions;7.7073170731707314\n",
      "takeaway_query;5.914893617021277\n",
      "email_send_email;7.879310344827586\n",
      "contacts_query;6.716981132075472\n",
      "radio_play;5.654676258992806\n",
      "takeaway_order;7.704545454545454\n",
      "lists_creating;6.0476190476190474\n",
      "audio_volume;4.235294117647059\n",
      "reminder_query;6.260869565217392\n",
      "calendar_query_event;7.483606557377049\n",
      "social_query;6.326086956521739\n",
      "QA_definition;4.75\n",
      "game_play;4.589285714285714\n",
      "calendar_question;7.214285714285714\n",
      "lists_adding;6.411764705882353\n",
      "recommendation_locations ;6.767441860465116\n",
      "music_preferences;5.9397590361445785\n",
      "general_mistake;5.3061224489795915\n",
      "audiobook_play;6.345454545454546\n",
      "cooking_question;7.444444444444445\n",
      "datetime_question;7.372093023255814\n",
      "recommendation_events ;8.348837209302326\n",
      "audio_mute;3.710526315789474\n",
      "IOT_cleaning;5.125\n",
      "alarm_remove;5.875\n"
     ]
    }
   ],
   "source": [
    "classes = {}\n",
    "\n",
    "for index, row in test_dataset.iterrows():\n",
    "    try:\n",
    "        symptom_label = row['label']\n",
    "        utterance = row['utterance']\n",
    "        utt_arr = utterance.split()\n",
    "        utt_count = len(utt_arr)\n",
    "        if symptom_label not in classes:\n",
    "            classes[symptom_label] = {'tokens': utt_count, 'utterances': 1, 'avg': utt_count }\n",
    "        else:\n",
    "            classes[symptom_label]['tokens'] += utt_count\n",
    "            classes[symptom_label]['utterances'] += 1\n",
    "            classes[symptom_label]['avg'] = classes[symptom_label]['tokens']/classes[symptom_label]['utterances']\n",
    "\n",
    "    except:\n",
    "        print(json_line)\n",
    "\n",
    "for c in classes:\n",
    "    print(c + ';' + str(classes[c]['avg']))"
   ]
  },
  {
   "cell_type": "code",
   "execution_count": null,
   "metadata": {},
   "outputs": [],
   "source": []
  }
 ],
 "metadata": {
  "kernelspec": {
   "display_name": "Python 3",
   "language": "python",
   "name": "python3"
  },
  "language_info": {
   "codemirror_mode": {
    "name": "ipython",
    "version": 3
   },
   "file_extension": ".py",
   "mimetype": "text/x-python",
   "name": "python",
   "nbconvert_exporter": "python",
   "pygments_lexer": "ipython3",
   "version": "3.6.9"
  }
 },
 "nbformat": 4,
 "nbformat_minor": 2
}
