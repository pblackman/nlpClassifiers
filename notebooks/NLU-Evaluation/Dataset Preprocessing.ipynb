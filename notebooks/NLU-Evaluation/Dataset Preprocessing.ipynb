{
 "cells": [
  {
   "cell_type": "code",
   "execution_count": 151,
   "metadata": {},
   "outputs": [],
   "source": [
    "from __future__ import absolute_import\n",
    "from __future__ import division\n",
    "from __future__ import print_function"
   ]
  },
  {
   "cell_type": "code",
   "execution_count": 152,
   "metadata": {},
   "outputs": [],
   "source": [
    "%matplotlib inline\n",
    "import glob\n",
    "import os\n",
    "import pandas as pd\n",
    "import matplotlib.pyplot as plt\n",
    "from sklearn import model_selection\n",
    "from sklearn.model_selection import train_test_split\n",
    "import seaborn as sns\n",
    "import numpy as np"
   ]
  },
  {
   "cell_type": "code",
   "execution_count": 156,
   "metadata": {},
   "outputs": [],
   "source": [
    "DATA_PATH = '../../data/agent-benchmark/'\n",
    "ORIGINAL_DATASET = os.path.join(DATA_PATH, 'paraphrases_and_intents_26k.csv')\n",
    "POST_PROC_DATASET = os.path.join(DATA_PATH, 'nlu-data-home-domain-post-proc.csv')\n",
    "TRAIN_DATASET = os.path.join(DATA_PATH, 'train.csv')\n",
    "VAL_DATASET = os.path.join(DATA_PATH, 'val.csv')\n",
    "TEST_DATASET  = os.path.join(DATA_PATH, 'test.csv')"
   ]
  },
  {
   "cell_type": "code",
   "execution_count": 157,
   "metadata": {},
   "outputs": [],
   "source": [
    "data = pd.read_csv(ORIGINAL_DATASET, header=2, index_col=False, sep=';', engine='python', names=['utterance','label'])"
   ]
  },
  {
   "cell_type": "code",
   "execution_count": 158,
   "metadata": {},
   "outputs": [
    {
     "data": {
      "text/html": [
       "<div>\n",
       "<style scoped>\n",
       "    .dataframe tbody tr th:only-of-type {\n",
       "        vertical-align: middle;\n",
       "    }\n",
       "\n",
       "    .dataframe tbody tr th {\n",
       "        vertical-align: top;\n",
       "    }\n",
       "\n",
       "    .dataframe thead th {\n",
       "        text-align: right;\n",
       "    }\n",
       "</style>\n",
       "<table border=\"1\" class=\"dataframe\">\n",
       "  <thead>\n",
       "    <tr style=\"text-align: right;\">\n",
       "      <th></th>\n",
       "      <th>utterance</th>\n",
       "      <th>label</th>\n",
       "    </tr>\n",
       "  </thead>\n",
       "  <tbody>\n",
       "    <tr>\n",
       "      <th>0</th>\n",
       "      <td>set an alarm for two hours from now</td>\n",
       "      <td>alarm_set</td>\n",
       "    </tr>\n",
       "    <tr>\n",
       "      <th>1</th>\n",
       "      <td>cancel business meeting on wednesday</td>\n",
       "      <td>calendar_delete_event</td>\n",
       "    </tr>\n",
       "    <tr>\n",
       "      <th>2</th>\n",
       "      <td>delete the richard's wedding event next year</td>\n",
       "      <td>calendar_delete_event</td>\n",
       "    </tr>\n",
       "    <tr>\n",
       "      <th>3</th>\n",
       "      <td>remove standup on friday at ten am</td>\n",
       "      <td>calendar_delete_event</td>\n",
       "    </tr>\n",
       "    <tr>\n",
       "      <th>4</th>\n",
       "      <td>add new email to anna</td>\n",
       "      <td>email_send_email</td>\n",
       "    </tr>\n",
       "  </tbody>\n",
       "</table>\n",
       "</div>"
      ],
      "text/plain": [
       "                                      utterance                  label\n",
       "0           set an alarm for two hours from now              alarm_set\n",
       "1          cancel business meeting on wednesday  calendar_delete_event\n",
       "2  delete the richard's wedding event next year  calendar_delete_event\n",
       "3            remove standup on friday at ten am  calendar_delete_event\n",
       "4                         add new email to anna       email_send_email"
      ]
     },
     "execution_count": 158,
     "metadata": {},
     "output_type": "execute_result"
    }
   ],
   "source": [
    "labels = data['label']\n",
    "data.head()"
   ]
  },
  {
   "cell_type": "code",
   "execution_count": 159,
   "metadata": {},
   "outputs": [
    {
     "name": "stdout",
     "output_type": "stream",
     "text": [
      "      utterance                   label\n",
      "3614        NaN        email_send_email\n",
      "3615        NaN        email_send_email\n",
      "4532        NaN              radio_play\n",
      "7263        NaN        email_send_email\n",
      "7264        NaN        email_send_email\n",
      "11449       NaN  recommendation_events \n",
      "11450       NaN  recommendation_events \n",
      "12382       NaN             lists_query\n",
      "13966       NaN        email_send_email\n",
      "19313       NaN              audio_mute\n"
     ]
    }
   ],
   "source": [
    "pd.set_option('display.max_rows', 130)\n",
    "pd.set_option('display.max_colwidth', None)\n",
    "null_columns=data.columns[data.isnull().any()]\n",
    "print(data[data.isnull().any(axis=1)])"
   ]
  },
  {
   "cell_type": "markdown",
   "metadata": {},
   "source": [
    "## Check for null Values"
   ]
  },
  {
   "cell_type": "code",
   "execution_count": 162,
   "metadata": {},
   "outputs": [
    {
     "name": "stdout",
     "output_type": "stream",
     "text": [
      "Empty DataFrame\n",
      "Columns: [utterance, label]\n",
      "Index: []\n"
     ]
    }
   ],
   "source": [
    "null_columns=data.columns[data.isnull().any()]\n",
    "print(data[data.isnull().any(axis=1)])"
   ]
  },
  {
   "cell_type": "code",
   "execution_count": 163,
   "metadata": {},
   "outputs": [],
   "source": [
    "data = data.dropna()"
   ]
  },
  {
   "cell_type": "code",
   "execution_count": 166,
   "metadata": {},
   "outputs": [
    {
     "name": "stdout",
     "output_type": "stream",
     "text": [
      "                           utterance\n",
      "label                               \n",
      "music_play                      1218\n",
      "IOT_hue                         1068\n",
      "QA_factoid                       973\n",
      "calendar_set_event               959\n",
      "email_query                      887\n",
      "weather_request                  839\n",
      "general_conversation             824\n",
      "calendar_delete_event            729\n",
      "news_query                       729\n",
      "radio_play                       697\n",
      "general_feedback                 696\n",
      "datetime_query                   674\n",
      "QA_definition                    618\n",
      "calendar_query_event             610\n",
      "QA_open_query                    599\n",
      "email_send_email                 582\n",
      "social_post                      581\n",
      "QA_celebrity                     539\n",
      "podcasts_play                    480\n",
      "lists_query                      477\n",
      "transport_train                  477\n",
      "weather_question                 439\n",
      "music_preferences                416\n",
      "lists_remove                     403\n",
      "reminder_set                     372\n",
      "game_play                        279\n",
      "audiobook_play                   273\n",
      "contacts_query                   267\n",
      "audio_volume                     255\n",
      "QA_stock                         252\n",
      "music_settings                   252\n",
      "IOT_coffee                       248\n",
      "general_confusion                244\n",
      "general_mistake                  243\n",
      "alarm_set                        241\n",
      "IOT_cleaning                     240\n",
      "takeaway_query                   233\n",
      "social_query                     229\n",
      "reminder_query                   228\n",
      "general_joke                     225\n",
      "cooking_recipe                   225\n",
      "cooking_question                 225\n",
      "calendar_notification            225\n",
      "music_question                   220\n",
      "takeaway_order                   220\n",
      "recommendation_events            217\n",
      "datetime_question                216\n",
      "recommendation_movies            216\n",
      "transport_traffic                215\n",
      "recommendation_locations         215\n",
      "email_reply                      213\n",
      "general_confirmation             213\n",
      "news_set_notification            210\n",
      "calendar_question                210\n",
      "lists_creating                   209\n",
      "transport_taxi                   208\n",
      "IOT_wemo                         205\n",
      "transport_directions             204\n",
      "alarm_remove                     203\n",
      "audio_mute                       191\n",
      "QA_maths                         189\n",
      "alarm_query                      186\n",
      "datetime_convert                 177\n",
      "lists_adding                     171\n"
     ]
    }
   ],
   "source": [
    "pd.set_option('display.max_rows', 130)\n",
    "pd.set_option('display.max_colwidth', None)\n",
    "bytag = data.groupby('label').aggregate(np.count_nonzero)\n",
    "print(bytag.sort_values(by='utterance', ascending=False))"
   ]
  },
  {
   "cell_type": "code",
   "execution_count": 167,
   "metadata": {},
   "outputs": [
    {
     "name": "stdout",
     "output_type": "stream",
     "text": [
      "                           utterance\n",
      "label                               \n",
      "music_play                      1218\n",
      "IOT_hue                         1068\n",
      "QA_factoid                       973\n",
      "calendar_set_event               959\n",
      "email_query                      887\n",
      "weather_request                  839\n",
      "general_conversation             824\n",
      "calendar_delete_event            729\n",
      "news_query                       729\n",
      "radio_play                       697\n",
      "general_feedback                 696\n",
      "datetime_query                   674\n",
      "QA_definition                    618\n",
      "calendar_query_event             610\n",
      "QA_open_query                    599\n",
      "email_send_email                 582\n",
      "social_post                      581\n",
      "QA_celebrity                     539\n",
      "podcasts_play                    480\n",
      "lists_query                      477\n",
      "transport_train                  477\n",
      "weather_question                 439\n",
      "music_preferences                416\n",
      "lists_remove                     403\n",
      "reminder_set                     372\n",
      "game_play                        279\n",
      "audiobook_play                   273\n",
      "contacts_query                   267\n",
      "audio_volume                     255\n",
      "QA_stock                         252\n",
      "music_settings                   252\n",
      "IOT_coffee                       248\n",
      "general_confusion                244\n",
      "general_mistake                  243\n",
      "alarm_set                        241\n",
      "IOT_cleaning                     240\n",
      "takeaway_query                   233\n",
      "social_query                     229\n",
      "reminder_query                   228\n",
      "general_joke                     225\n",
      "cooking_recipe                   225\n",
      "cooking_question                 225\n",
      "calendar_notification            225\n",
      "music_question                   220\n",
      "takeaway_order                   220\n",
      "recommendation_events            217\n",
      "datetime_question                216\n",
      "recommendation_movies            216\n",
      "transport_traffic                215\n",
      "recommendation_locations         215\n",
      "email_reply                      213\n",
      "general_confirmation             213\n",
      "news_set_notification            210\n",
      "calendar_question                210\n",
      "lists_creating                   209\n",
      "transport_taxi                   208\n",
      "IOT_wemo                         205\n",
      "transport_directions             204\n",
      "alarm_remove                     203\n",
      "audio_mute                       191\n",
      "QA_maths                         189\n",
      "alarm_query                      186\n",
      "datetime_convert                 177\n",
      "lists_adding                     171\n"
     ]
    }
   ],
   "source": [
    "bytag = data.groupby('label').aggregate(np.count_nonzero)\n",
    "print(bytag.sort_values(by='utterance', ascending=False))"
   ]
  },
  {
   "cell_type": "code",
   "execution_count": 9,
   "metadata": {},
   "outputs": [
    {
     "data": {
      "text/plain": [
       "<matplotlib.axes._subplots.AxesSubplot at 0x7f4660b8eeb8>"
      ]
     },
     "execution_count": 9,
     "metadata": {},
     "output_type": "execute_result"
    },
    {
     "data": {
      "image/png": "[encoded data removed]",
      "text/plain": [
       "<Figure size 576x288 with 1 Axes>"
      ]
     },
     "metadata": {
      "needs_background": "light"
     },
     "output_type": "display_data"
    }
   ],
   "source": [
    "data.label.value_counts().plot.bar(figsize=(8,4))"
   ]
  },
  {
   "cell_type": "code",
   "execution_count": 10,
   "metadata": {
    "scrolled": true
   },
   "outputs": [
    {
     "data": {
      "image/png": "[encoded data removed]",
      "text/plain": [
       "<Figure size 576x288 with 1 Axes>"
      ]
     },
     "metadata": {
      "needs_background": "light"
     },
     "output_type": "display_data"
    }
   ],
   "source": [
    "largest_qtys = [1218,1068,973,959,887] \n",
    "smallest_qtys = [171,177,186,189,191]\n",
    "index = [1,2,3,4,5]\n",
    "df2 = pd.DataFrame({'largest': largest_qtys, 'smallest': smallest_qtys}, index = index)\n",
    "ax = df2.plot.bar(figsize=(8,4),rot=0)\n",
    "x_offset = 0\n",
    "y_offset = 0.2\n",
    "for p in ax.patches:\n",
    "    b = p.get_bbox()\n",
    "    val = \"{:.0f}\".format(b.y1 + b.y0)        \n",
    "    ax.annotate(val, ((b.x0 + b.x1)/2 + x_offset, b.y1 + y_offset))"
   ]
  },
  {
   "cell_type": "markdown",
   "metadata": {},
   "source": [
    "### Splits dataset into train, test and validation sets"
   ]
  },
  {
   "cell_type": "code",
   "execution_count": 11,
   "metadata": {},
   "outputs": [],
   "source": [
    "train_posts, test_posts, train_tags, test_tags = train_test_split(data['utterance'], data['label'],\n",
    "                                                    stratify=data['label'], shuffle=True,\n",
    "                                                    test_size=0.20)\n",
    "\n",
    "train_posts, val_posts, train_tags, val_tags = train_test_split(train_posts, train_tags,\n",
    "                                                    stratify=train_tags, shuffle=True,\n",
    "                                                    test_size=0.10)\n",
    "\n"
   ]
  },
  {
   "cell_type": "code",
   "execution_count": 12,
   "metadata": {},
   "outputs": [],
   "source": [
    "train_posts = train_posts.values.reshape(train_posts.shape[0], 1)\n",
    "val_posts = val_posts.values.reshape(val_posts.shape[0], 1)\n",
    "test_posts = test_posts.values.reshape(test_posts.shape[0], 1)\n",
    "\n",
    "train_tags = train_tags.values.reshape(train_tags.shape[0], 1)\n",
    "val_tags = val_tags.values.reshape(val_tags.shape[0], 1)\n",
    "test_tags = test_tags.values.reshape(test_tags.shape[0], 1)\n",
    "\n",
    "train_dataset = np.hstack([train_posts, train_tags])\n",
    "val_dataset = np.hstack([val_posts, val_tags])\n",
    "test_dataset = np.hstack([test_posts, test_tags])"
   ]
  },
  {
   "cell_type": "code",
   "execution_count": 13,
   "metadata": {},
   "outputs": [
    {
     "name": "stdout",
     "output_type": "stream",
     "text": [
      "train_posts shape: (18415, 1)\n",
      "train_tags shape: (18415, 1)\n",
      "val_posts shape: (2047, 1)\n",
      "val_tags shape: (2047, 1)\n",
      "test_posts shape: (5116, 1)\n",
      "test_tags shape: (5116, 1)\n",
      "train_dataset shape: (18415, 2)\n",
      "val_dataset shape: (2047, 2)\n",
      "test_dataset shape: (5116, 2)\n"
     ]
    }
   ],
   "source": [
    "print('train_posts shape: ' + str(train_posts.shape))\n",
    "print('train_tags shape: ' + str(train_posts.shape))\n",
    "print('val_posts shape: ' + str(val_posts.shape))\n",
    "print('val_tags shape: ' + str(val_posts.shape))\n",
    "print('test_posts shape: ' + str(test_posts.shape))\n",
    "print('test_tags shape: ' + str(test_tags.shape))\n",
    "print('train_dataset shape: ' + str(train_dataset.shape))\n",
    "print('val_dataset shape: ' + str(val_dataset.shape))\n",
    "print('test_dataset shape: ' + str(test_dataset.shape))"
   ]
  },
  {
   "cell_type": "code",
   "execution_count": 14,
   "metadata": {},
   "outputs": [],
   "source": [
    "np.savetxt(TRAIN_DATASET, train_dataset,fmt=\"%s\", delimiter=\";\")\n",
    "np.savetxt(VAL_DATASET, val_dataset,fmt=\"%s\", delimiter=\";\")\n",
    "np.savetxt(TEST_DATASET, test_dataset,fmt=\"%s\", delimiter=\";\")"
   ]
  },
  {
   "cell_type": "markdown",
   "metadata": {},
   "source": [
    "###  Sentence size (token number) distribution"
   ]
  },
  {
   "cell_type": "code",
   "execution_count": 168,
   "metadata": {},
   "outputs": [
    {
     "name": "stderr",
     "output_type": "stream",
     "text": [
      "/usr/local/lib/python3.6/dist-packages/seaborn/distributions.py:2557: FutureWarning: `distplot` is a deprecated function and will be removed in a future version. Please adapt your code to use either `displot` (a figure-level function with similar flexibility) or `histplot` (an axes-level function for histograms).\n",
      "  warnings.warn(msg, FutureWarning)\n",
      "No handles with labels found to put in legend.\n"
     ]
    },
    {
     "data": {
      "image/png": "[encoded data removed]",
      "text/plain": [
       "<Figure size 432x288 with 1 Axes>"
      ]
     },
     "metadata": {},
     "output_type": "display_data"
    }
   ],
   "source": [
    "def getSentenceLen(str):\n",
    "    import re\n",
    "    try:\n",
    "        return len(re.findall(r'\\w+', str))\n",
    "    except:\n",
    "        return 0\n",
    "\n",
    "sns.set_style(\"whitegrid\")\n",
    "length_checker = np.vectorize(getSentenceLen) \n",
    "sentence_len = length_checker(data) \n",
    "sns.distplot(sentence_len,bins= 30, hist=True, kde=False, color='b')\n",
    "#plt.axvline(x=max_seq_len, color='k', linestyle='--', label='max len')\n",
    "plt.title('sentence length'); plt.legend()\n",
    "plt.show()\n"
   ]
  },
  {
   "cell_type": "code",
   "execution_count": 169,
   "metadata": {},
   "outputs": [
    {
     "name": "stdout",
     "output_type": "stream",
     "text": [
      "max seq len  61\n",
      "mean  3.734830713894753\n",
      "std dev  3.6180481579301205\n"
     ]
    }
   ],
   "source": [
    "print('max seq len ', sentence_len.max())\n",
    "print('mean ', sentence_len.mean())\n",
    "print('std dev ', sentence_len.std())"
   ]
  },
  {
   "cell_type": "code",
   "execution_count": null,
   "metadata": {},
   "outputs": [],
   "source": []
  }
 ],
 "metadata": {
  "kernelspec": {
   "display_name": "Python 3",
   "language": "python",
   "name": "python3"
  },
  "language_info": {
   "codemirror_mode": {
    "name": "ipython",
    "version": 3
   },
   "file_extension": ".py",
   "mimetype": "text/x-python",
   "name": "python",
   "nbconvert_exporter": "python",
   "pygments_lexer": "ipython3",
   "version": "3.6.9"
  }
 },
 "nbformat": 4,
 "nbformat_minor": 2
}
