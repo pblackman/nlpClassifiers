{
 "cells": [
  {
   "cell_type": "markdown",
   "metadata": {},
   "source": [
    "#### Based on https://medium.com/swlh/painless-fine-tuning-of-bert-in-pytorch-b91c14912caa\n",
    "https://github.com/aniruddhachoudhury/BERT-Tutorials/blob/master/Blog%202/BERT_Fine_Tuning_Sentence_Classification.ipynb"
   ]
  },
  {
   "cell_type": "code",
   "execution_count": 1,
   "metadata": {},
   "outputs": [],
   "source": [
    "%load_ext autoreload\n",
    "%autoreload 2"
   ]
  },
  {
   "cell_type": "code",
   "execution_count": 2,
   "metadata": {},
   "outputs": [],
   "source": [
    "import matplotlib.pyplot as plt\n",
    "import torch.nn as nn\n",
    "from os.path import join\n",
    "import torch\n",
    "from nlpClassifiers.data.dataset  import NLPDataset\n",
    "#from torch.optim import AdamW, SGD\n",
    "from torch.utils.data import DataLoader, SequentialSampler, RandomSampler\n",
    "from transformers import BertForSequenceClassification, AdamW, BertConfig\n",
    "from transformers import get_linear_schedule_with_warmup\n",
    "from torch.nn import LayerNorm as BertLayerNorm\n",
    "import numpy as np\n",
    "import time\n",
    "import logging\n",
    "import datetime\n",
    "import random\n",
    "import pandas as pd\n",
    "import argparse\n",
    "import pickle as pk\n",
    "import itertools\n",
    "import os\n",
    "import shutil\n",
    "from pathlib import Path\n",
    "import copy\n",
    "import wandb\n",
    "import re\n",
    "from nlpClassifiers import settings\n",
    "from scipy.special import expit\n",
    "from sklearn.metrics import classification_report"
   ]
  },
  {
   "cell_type": "code",
   "execution_count": 49,
   "metadata": {},
   "outputs": [],
   "source": [
    "def predict(\n",
    "    model_path: Path,\n",
    "    dataset: str,\n",
    "    batch_size: int,\n",
    "    labels_dict,\n",
    "    device: torch.device\n",
    "):\n",
    "       \n",
    "    print(f\"====Loading dataset for testing\")\n",
    "    test_corpus = NLPDataset(dataset, \"test\", sentence_max_len, bert_path, labels_dict)\n",
    "    test_dataloader = DataLoader(\n",
    "        test_corpus,\n",
    "        batch_size=batch_size,\n",
    "        #sampler = RandomSampler(test_corpus),\n",
    "        pin_memory=True,\n",
    "        num_workers=0,\n",
    "        drop_last=False\n",
    "    )\n",
    "\n",
    "    print(f\"====Loading model for testing\")\n",
    "    model = BertForSequenceClassification.from_pretrained(\n",
    "        model_path,\n",
    "        num_labels = train_corpus.num_labels,\n",
    "        output_attentions = False,\n",
    "        output_hidden_states = True,\n",
    "    )\n",
    "    model.to(device)\n",
    "    model.eval()\n",
    "  #  cm = ConfusionMatrix([0,1])\n",
    "    pred_labels = []\n",
    "    test_labels = []\n",
    "    logits_list = []\n",
    "\n",
    "    def _list_from_tensor(tensor):\n",
    "        if tensor.numel() == 1:\n",
    "            return [tensor.item()]\n",
    "        return list(tensor.cpu().detach().numpy())\n",
    "\n",
    "    print(\"====Testing model...\")\n",
    "    for batch in test_dataloader:\n",
    "        batch = tuple(t.to(device) for t in batch)\n",
    "        b_input_ids, b_segment_ids, b_input_mask, b_labels = batch\n",
    "        with torch.no_grad():\n",
    "            loss, logits, *_ =  model(b_input_ids, b_input_mask, token_type_ids=None, labels=b_labels)\n",
    "\n",
    "            preds = np.argmax(logits.cpu(), axis=1) # Convert one-hot to index\n",
    "            b_labels = b_labels.int()\n",
    "            pred_labels.extend(_list_from_tensor(preds))\n",
    "            test_labels.extend(_list_from_tensor(b_labels))\n",
    "        logits_list.extend(_list_from_tensor(logits))\n",
    "    print(classification_report(test_labels, pred_labels, labels=list(labels_dict.values()), target_names=np.array(list(labels_dict.keys())), digits=3))\n",
    "    logits_list = expit(logits_list)\n",
    "    del model\n",
    "    torch.cuda.empty_cache()\n",
    "\n"
   ]
  },
  {
   "cell_type": "code",
   "execution_count": 50,
   "metadata": {},
   "outputs": [],
   "source": [
    "def get_accuracy_from_logits(logits, labels):\n",
    "    acc = (labels.cpu() == logits.cpu().argmax(-1)).float().detach().numpy()\n",
    "    return float(100 * acc.sum() / len(acc))"
   ]
  },
  {
   "cell_type": "code",
   "execution_count": 51,
   "metadata": {},
   "outputs": [],
   "source": [
    "DATA_PATH = '../../data/agent-benchmark'\n",
    "MODELS_PATH = '../../models/agent-benchmark/bert-base-portuguese-tapt-classifier/'\n",
    "PATH_TO_BERT = '../../models/agent-benchmark/bertimbau-adaptive-base-finetuned/'\n",
    "TRAIN_DATASET = os.path.join(DATA_PATH, 'train.csv')\n",
    "VAL_DATASET = os.path.join(DATA_PATH, 'val.csv')\n",
    "TEST_DATASET  = os.path.join(DATA_PATH, 'test.csv')\n",
    "PATH_TO_VIRTUAL_OPERATOR_MODELS =  \"../../models/virtual-operator\"\n",
    "PATH_TO_AGENT_BENCHMARK_MODELS = \"../../models/agent-benchmark\"\n",
    "PATH_TO_ML_PT_MODELS = \"../../models/mercado-livre-pt-only\""
   ]
  },
  {
   "cell_type": "code",
   "execution_count": 52,
   "metadata": {},
   "outputs": [],
   "source": [
    "gpu = 0\n",
    "dataset = 'agent-benchmark'\n",
    "save_name = 'agent-benchmark-100-epochs-early-stop-reset-3-tapt-bert-base-cased'\n",
    "bert_path = '../../models/agent-benchmark/bert-adaptive-base-finetuned/'\n",
    "batch_size = 16\n",
    "sentence_max_len = 30"
   ]
  },
  {
   "cell_type": "code",
   "execution_count": 53,
   "metadata": {},
   "outputs": [],
   "source": [
    "BASE_PATH_TO_MODELS = {\"virtual-operator\": PATH_TO_VIRTUAL_OPERATOR_MODELS, \"agent-benchmark\": PATH_TO_AGENT_BENCHMARK_MODELS, \"mercado-livre-pt\": PATH_TO_ML_PT_MODELS}\n",
    "FULL_PATH_TO_MODELS = join(BASE_PATH_TO_MODELS[dataset], \"bert-base-portuguese-tapt-classifier\")"
   ]
  },
  {
   "cell_type": "code",
   "execution_count": 54,
   "metadata": {},
   "outputs": [],
   "source": [
    "device = torch.device(f\"cuda:{gpu}\")\n"
   ]
  },
  {
   "cell_type": "code",
   "execution_count": 55,
   "metadata": {},
   "outputs": [],
   "source": [
    "model_path = Path(\n",
    "    FULL_PATH_TO_MODELS, \n",
    "    f\"base-dataset-{dataset}-{save_name}\"\n",
    ")\n",
    "last_saved_model = model_path"
   ]
  },
  {
   "cell_type": "code",
   "execution_count": 56,
   "metadata": {},
   "outputs": [],
   "source": [
    "train_corpus = NLPDataset(dataset, \"train\", sentence_max_len, bert_path)\n",
    "labels_dict = train_corpus.labels_dict"
   ]
  },
  {
   "cell_type": "code",
   "execution_count": 57,
   "metadata": {},
   "outputs": [
    {
     "name": "stdout",
     "output_type": "stream",
     "text": [
      "====Loading dataset for testing\n",
      "====Loading model for testing\n",
      "====Testing model...\n",
      "                           precision    recall  f1-score   support\n",
      "\n",
      "    calendar_notification      0.302     0.422     0.352        45\n",
      "     transport_directions      0.759     0.537     0.629        41\n",
      "           cooking_recipe      0.806     0.644     0.716        45\n",
      "               radio_play      0.852     0.827     0.839       139\n",
      "             lists_remove      0.943     0.815     0.874        81\n",
      "               news_query      0.805     0.678     0.736       146\n",
      "         cooking_question      0.571     0.622     0.596        45\n",
      "           contacts_query      0.841     0.698     0.763        53\n",
      "             general_joke      0.913     0.933     0.923        45\n",
      "               audio_mute      0.769     0.789     0.779        38\n",
      "            QA_open_query      0.463     0.475     0.469       120\n",
      "          transport_train      0.814     0.968     0.885        95\n",
      "         weather_question      0.711     0.727     0.719        88\n",
      "           music_question      0.821     0.523     0.639        44\n",
      "               QA_factoid      0.817     0.779     0.798       195\n",
      "              email_query      0.964     0.904     0.933       177\n",
      "              lists_query      0.931     0.853     0.890        95\n",
      "     general_conversation      0.629     0.636     0.633       165\n",
      "recommendation_locations       0.739     0.791     0.764        43\n",
      "       calendar_set_event      0.875     0.839     0.856       192\n",
      "          weather_request      0.758     0.804     0.780       168\n",
      "            QA_definition      0.879     0.879     0.879       124\n",
      "           takeaway_query      0.976     0.851     0.909        47\n",
      "                  IOT_hue      0.972     0.986     0.979       214\n",
      "           datetime_query      0.867     0.822     0.844       135\n",
      "              email_reply      0.919     0.791     0.850        43\n",
      "                 QA_maths      0.732     0.789     0.759        38\n",
      "             lists_adding      0.897     0.765     0.825        34\n",
      "             QA_celebrity      0.822     0.769     0.794       108\n",
      "               music_play      0.747     0.861     0.800       244\n",
      "                game_play      0.879     0.911     0.895        56\n",
      "                 IOT_wemo      0.949     0.902     0.925        41\n",
      "          general_mistake      0.547     0.592     0.569        49\n",
      "           music_settings      0.593     0.700     0.642        50\n",
      "              alarm_query      0.744     0.865     0.800        37\n",
      "    recommendation_movies      0.900     0.419     0.571        43\n",
      "    calendar_delete_event      0.859     0.918     0.887       146\n",
      "             social_query      0.867     0.848     0.857        46\n",
      "           takeaway_order      0.783     0.818     0.800        44\n",
      "        transport_traffic      0.851     0.930     0.889        43\n",
      "           audiobook_play      0.913     0.764     0.832        55\n",
      "         email_send_email      0.846     0.948     0.894       116\n",
      "         general_feedback      0.810     0.734     0.770       139\n",
      "               IOT_coffee      0.925     0.980     0.951        50\n",
      "            podcasts_play      0.949     0.771     0.851        96\n",
      "             alarm_remove      0.897     0.650     0.754        40\n",
      "                alarm_set      0.833     0.833     0.833        48\n",
      "           reminder_query      0.829     0.630     0.716        46\n",
      "              social_post      0.933     0.957     0.945       116\n",
      "           lists_creating      0.800     0.857     0.828        42\n",
      "        datetime_question      0.659     0.674     0.667        43\n",
      "                 QA_stock      0.920     0.920     0.920        50\n",
      "        general_confusion      0.606     0.878     0.717        49\n",
      "        calendar_question      0.806     0.690     0.744        42\n",
      "             audio_volume      0.707     0.804     0.752        51\n",
      "    news_set_notification      0.443     0.643     0.524        42\n",
      "   recommendation_events       0.547     0.814     0.654        43\n",
      "        music_preferences      0.648     0.687     0.667        83\n",
      "             IOT_cleaning      0.938     0.938     0.938        48\n",
      "     general_confirmation      0.485     0.372     0.421        43\n",
      "     calendar_query_event      0.667     0.721     0.693       122\n",
      "           transport_taxi      1.000     0.902     0.949        41\n",
      "             reminder_set      0.533     0.541     0.537        74\n",
      "         datetime_convert      0.651     0.800     0.718        35\n",
      "\n",
      "                 accuracy                          0.789      5116\n",
      "                macro avg      0.784     0.769     0.771      5116\n",
      "             weighted avg      0.798     0.789     0.790      5116\n",
      "\n"
     ]
    }
   ],
   "source": [
    "predict(last_saved_model, dataset, batch_size, labels_dict, device)"
   ]
  },
  {
   "cell_type": "code",
   "execution_count": 58,
   "metadata": {},
   "outputs": [],
   "source": [
    "torch.cuda.empty_cache()"
   ]
  }
 ],
 "metadata": {
  "kernelspec": {
   "display_name": "Python 3",
   "language": "python",
   "name": "python3"
  },
  "language_info": {
   "codemirror_mode": {
    "name": "ipython",
    "version": 3
   },
   "file_extension": ".py",
   "mimetype": "text/x-python",
   "name": "python",
   "nbconvert_exporter": "python",
   "pygments_lexer": "ipython3",
   "version": "3.6.9"
  }
 },
 "nbformat": 4,
 "nbformat_minor": 2
}
