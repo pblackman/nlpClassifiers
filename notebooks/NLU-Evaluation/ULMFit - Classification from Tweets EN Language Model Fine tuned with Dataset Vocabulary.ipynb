{
 "cells": [
  {
   "cell_type": "code",
   "execution_count": 80,
   "metadata": {},
   "outputs": [],
   "source": [
    "from __future__ import absolute_import\n",
    "from __future__ import division\n",
    "from __future__ import print_function"
   ]
  },
  {
   "cell_type": "code",
   "execution_count": 81,
   "metadata": {},
   "outputs": [
    {
     "name": "stdout",
     "output_type": "stream",
     "text": [
      "The autoreload extension is already loaded. To reload it, use:\n",
      "  %reload_ext autoreload\n"
     ]
    }
   ],
   "source": [
    "%load_ext autoreload\n",
    "%autoreload 2\n",
    "from fastai import *\n",
    "from fastai.text import * \n",
    "from fastai.callbacks import *\n",
    "import pandas as pd\n",
    "from tqdm import tnrange, tqdm_notebook"
   ]
  },
  {
   "cell_type": "code",
   "execution_count": 82,
   "metadata": {},
   "outputs": [
    {
     "name": "stdout",
     "output_type": "stream",
     "text": [
      "Devices available:  8\n",
      "Set device:  5\n",
      "Current device:  5\n"
     ]
    }
   ],
   "source": [
    "# See how many devices are around\n",
    "print('Devices available: ', torch.cuda.device_count())\n",
    "# Set it to a particular device\n",
    "CUDA_DEVICE = 5\n",
    "print('Set device: ', CUDA_DEVICE)\n",
    "torch.cuda.set_device(CUDA_DEVICE)\n",
    "# Check which device you are on\n",
    "print('Current device: ', torch.cuda.current_device())"
   ]
  },
  {
   "cell_type": "code",
   "execution_count": 87,
   "metadata": {},
   "outputs": [],
   "source": [
    "DATA_PATH = '../../data/agent-benchmark'\n",
    "TRAIN_DATASET = os.path.join(DATA_PATH, 'train.csv')\n",
    "VAL_DATASET = os.path.join(DATA_PATH, 'val.csv')\n",
    "TEST_DATASET  = os.path.join(DATA_PATH, 'test.csv')"
   ]
  },
  {
   "cell_type": "code",
   "execution_count": 88,
   "metadata": {},
   "outputs": [],
   "source": [
    "LM_PATH=Path('../../models/ulmfit/lm/twitter-en')\n",
    "LM_PATH.mkdir(exist_ok=True)"
   ]
  },
  {
   "cell_type": "code",
   "execution_count": 89,
   "metadata": {},
   "outputs": [],
   "source": [
    "def read_data(filename):\n",
    "    data = pd.read_csv(filename, sep=\";\", names =['utterance','label'], header=None, dtype={'utterance':str, 'label': str} )\n",
    "    return data"
   ]
  },
  {
   "cell_type": "code",
   "execution_count": 90,
   "metadata": {},
   "outputs": [],
   "source": [
    "train_dataset = read_data(TRAIN_DATASET).dropna()\n",
    "val_dataset = read_data(VAL_DATASET).dropna()\n",
    "test_dataset = read_data(TEST_DATASET).dropna()"
   ]
  },
  {
   "cell_type": "code",
   "execution_count": 91,
   "metadata": {},
   "outputs": [],
   "source": [
    "tokenizer = Tokenizer(lang='en', n_cpus=10)"
   ]
  },
  {
   "cell_type": "code",
   "execution_count": 92,
   "metadata": {},
   "outputs": [],
   "source": [
    "data_lm = TextLMDataBunch.from_df(LM_PATH, train_df = train_dataset, valid_df = val_dataset,  bs=128, text_cols=0)"
   ]
  },
  {
   "cell_type": "code",
   "execution_count": 93,
   "metadata": {},
   "outputs": [],
   "source": [
    "weights_pretrained = 'tweets-en-30k-lm-step4-best'\n",
    "itos_pretrained = 'tweets_en_lm_30k_itos_vocab'\n",
    "pretained_data = (weights_pretrained, itos_pretrained)"
   ]
  },
  {
   "cell_type": "code",
   "execution_count": 103,
   "metadata": {},
   "outputs": [],
   "source": [
    "learn = language_model_learner(data_lm, AWD_LSTM, pretrained_fnames=pretained_data, pretrained=False, drop_mult=0.4, callback_fns=ShowGraph)\n",
    "learn.freeze()"
   ]
  },
  {
   "cell_type": "code",
   "execution_count": 95,
   "metadata": {},
   "outputs": [
    {
     "data": {
      "text/html": [],
      "text/plain": [
       "<IPython.core.display.HTML object>"
      ]
     },
     "metadata": {},
     "output_type": "display_data"
    },
    {
     "name": "stdout",
     "output_type": "stream",
     "text": [
      "LR Finder is complete, type {learner_name}.recorder.plot() to see the graph.\n",
      "Min numerical gradient: 2.09E-01\n"
     ]
    },
    {
     "data": {
      "image/png": "[encoded data removed]",
      "text/plain": [
       "<Figure size 432x288 with 1 Axes>"
      ]
     },
     "metadata": {
      "needs_background": "light"
     },
     "output_type": "display_data"
    }
   ],
   "source": [
    "learn.lr_find()\n",
    "learn.recorder.plot(suggestion=True, skip_start=0)"
   ]
  },
  {
   "cell_type": "code",
   "execution_count": 104,
   "metadata": {},
   "outputs": [
    {
     "data": {
      "text/html": [
       "<table border=\"1\" class=\"dataframe\">\n",
       "  <thead>\n",
       "    <tr style=\"text-align: left;\">\n",
       "      <th>epoch</th>\n",
       "      <th>train_loss</th>\n",
       "      <th>valid_loss</th>\n",
       "      <th>accuracy</th>\n",
       "      <th>time</th>\n",
       "    </tr>\n",
       "  </thead>\n",
       "  <tbody>\n",
       "    <tr>\n",
       "      <td>0</td>\n",
       "      <td>6.067546</td>\n",
       "      <td>5.424788</td>\n",
       "      <td>0.149219</td>\n",
       "      <td>00:02</td>\n",
       "    </tr>\n",
       "    <tr>\n",
       "      <td>1</td>\n",
       "      <td>5.521550</td>\n",
       "      <td>4.336784</td>\n",
       "      <td>0.261830</td>\n",
       "      <td>00:02</td>\n",
       "    </tr>\n",
       "    <tr>\n",
       "      <td>2</td>\n",
       "      <td>5.009984</td>\n",
       "      <td>3.860590</td>\n",
       "      <td>0.318304</td>\n",
       "      <td>00:02</td>\n",
       "    </tr>\n",
       "    <tr>\n",
       "      <td>3</td>\n",
       "      <td>4.581547</td>\n",
       "      <td>3.667623</td>\n",
       "      <td>0.338728</td>\n",
       "      <td>00:02</td>\n",
       "    </tr>\n",
       "    <tr>\n",
       "      <td>4</td>\n",
       "      <td>4.268157</td>\n",
       "      <td>3.578147</td>\n",
       "      <td>0.344531</td>\n",
       "      <td>00:02</td>\n",
       "    </tr>\n",
       "    <tr>\n",
       "      <td>5</td>\n",
       "      <td>4.044318</td>\n",
       "      <td>3.545285</td>\n",
       "      <td>0.346540</td>\n",
       "      <td>00:02</td>\n",
       "    </tr>\n",
       "    <tr>\n",
       "      <td>6</td>\n",
       "      <td>3.896308</td>\n",
       "      <td>3.539961</td>\n",
       "      <td>0.348214</td>\n",
       "      <td>00:02</td>\n",
       "    </tr>\n",
       "  </tbody>\n",
       "</table>"
      ],
      "text/plain": [
       "<IPython.core.display.HTML object>"
      ]
     },
     "metadata": {},
     "output_type": "display_data"
    },
    {
     "data": {
      "image/png": "[encoded data removed]",
      "text/plain": [
       "<Figure size 432x288 with 1 Axes>"
      ]
     },
     "metadata": {},
     "output_type": "display_data"
    },
    {
     "name": "stdout",
     "output_type": "stream",
     "text": [
      "Better model found at epoch 0 with val_loss value: 5.424788475036621.\n",
      "Better model found at epoch 1 with val_loss value: 4.3367838859558105.\n",
      "Better model found at epoch 2 with val_loss value: 3.8605895042419434.\n",
      "Better model found at epoch 3 with val_loss value: 3.6676225662231445.\n",
      "Better model found at epoch 4 with val_loss value: 3.5781466960906982.\n",
      "Better model found at epoch 5 with val_loss value: 3.5452847480773926.\n",
      "Better model found at epoch 6 with val_loss value: 3.539961338043213.\n"
     ]
    }
   ],
   "source": [
    "learn.fit_one_cycle(7, 1E-2, moms=(0.8,0.7),callbacks=[ShowGraph(learn), SaveModelCallback(learn, name='tweets-en-25k-FT-agent-benchmark-head-best')])"
   ]
  },
  {
   "cell_type": "code",
   "execution_count": null,
   "metadata": {},
   "outputs": [],
   "source": [
    "learn.load('tweets-en-25k-FT-agent-benchmark-head-best') "
   ]
  },
  {
   "cell_type": "code",
   "execution_count": 106,
   "metadata": {},
   "outputs": [
    {
     "data": {
      "text/html": [
       "<table border=\"1\" class=\"dataframe\">\n",
       "  <thead>\n",
       "    <tr style=\"text-align: left;\">\n",
       "      <th>epoch</th>\n",
       "      <th>train_loss</th>\n",
       "      <th>valid_loss</th>\n",
       "      <th>accuracy</th>\n",
       "      <th>time</th>\n",
       "    </tr>\n",
       "  </thead>\n",
       "  <tbody>\n",
       "    <tr>\n",
       "      <td>0</td>\n",
       "      <td>3.454523</td>\n",
       "      <td>3.330768</td>\n",
       "      <td>0.362221</td>\n",
       "      <td>00:03</td>\n",
       "    </tr>\n",
       "    <tr>\n",
       "      <td>1</td>\n",
       "      <td>3.290497</td>\n",
       "      <td>3.201487</td>\n",
       "      <td>0.377846</td>\n",
       "      <td>00:03</td>\n",
       "    </tr>\n",
       "    <tr>\n",
       "      <td>2</td>\n",
       "      <td>3.101746</td>\n",
       "      <td>3.152594</td>\n",
       "      <td>0.382701</td>\n",
       "      <td>00:03</td>\n",
       "    </tr>\n",
       "    <tr>\n",
       "      <td>3</td>\n",
       "      <td>2.913609</td>\n",
       "      <td>3.137646</td>\n",
       "      <td>0.386496</td>\n",
       "      <td>00:03</td>\n",
       "    </tr>\n",
       "    <tr>\n",
       "      <td>4</td>\n",
       "      <td>2.753238</td>\n",
       "      <td>3.154669</td>\n",
       "      <td>0.389788</td>\n",
       "      <td>00:03</td>\n",
       "    </tr>\n",
       "  </tbody>\n",
       "</table>"
      ],
      "text/plain": [
       "<IPython.core.display.HTML object>"
      ]
     },
     "metadata": {},
     "output_type": "display_data"
    },
    {
     "data": {
      "image/png": "[encoded data removed]",
      "text/plain": [
       "<Figure size 432x288 with 1 Axes>"
      ]
     },
     "metadata": {},
     "output_type": "display_data"
    },
    {
     "name": "stdout",
     "output_type": "stream",
     "text": [
      "Better model found at epoch 0 with val_loss value: 3.330768346786499.\n",
      "Better model found at epoch 1 with val_loss value: 3.2014870643615723.\n",
      "Better model found at epoch 2 with val_loss value: 3.1525936126708984.\n",
      "Better model found at epoch 3 with val_loss value: 3.137646198272705.\n"
     ]
    }
   ],
   "source": [
    "learn.unfreeze()\n",
    "learn.fit_one_cycle(5,  5E-03, moms=(0.8,0.7), callbacks=[ShowGraph(learn), SaveModelCallback(learn, name='tweets-en-25k-FT-agent-benchmark-step2-best')])"
   ]
  },
  {
   "cell_type": "code",
   "execution_count": 107,
   "metadata": {},
   "outputs": [
    {
     "data": {
      "text/plain": [
       "23.049544318851044"
      ]
     },
     "execution_count": 107,
     "metadata": {},
     "output_type": "execute_result"
    }
   ],
   "source": [
    "np.exp(3.137646)"
   ]
  },
  {
   "cell_type": "code",
   "execution_count": null,
   "metadata": {},
   "outputs": [],
   "source": [
    "learn.load('tweets-en-25k-FT-agent-benchmark-step2-best')"
   ]
  },
  {
   "cell_type": "code",
   "execution_count": 109,
   "metadata": {},
   "outputs": [],
   "source": [
    "learn.save_encoder('tweets-en-25k-FT-agent-benchmark-encoder')"
   ]
  },
  {
   "cell_type": "code",
   "execution_count": 110,
   "metadata": {},
   "outputs": [],
   "source": [
    "!cp ../../models/ulmfit/lm/twitter-en/models/tweets-en-25k-FT-agent-benchmark-encoder.pth models/"
   ]
  },
  {
   "cell_type": "code",
   "execution_count": 111,
   "metadata": {},
   "outputs": [
    {
     "data": {
      "text/plain": [
       "'please   enter the email'"
      ]
     },
     "execution_count": 111,
     "metadata": {},
     "output_type": "execute_result"
    }
   ],
   "source": [
    "learn.predict('please  ', 3)"
   ]
  },
  {
   "cell_type": "code",
   "execution_count": 112,
   "metadata": {},
   "outputs": [],
   "source": [
    "data_class = TextClasDataBunch.from_df(path = \"\", train_df = train_dataset, valid_df = val_dataset, test_df = test_dataset,  vocab=data_lm.train_ds.vocab,tokenizer=tokenizer, bs=128, text_cols=['utterance'], label_cols=['label'])"
   ]
  },
  {
   "cell_type": "code",
   "execution_count": 115,
   "metadata": {},
   "outputs": [],
   "source": [
    "learn = text_classifier_learner(data_class, AWD_LSTM, drop_mult=0.5, callback_fns=ShowGraph)\n",
    "learn.load_encoder('tweets-en-25k-FT-agent-benchmark-encoder')\n",
    "learn.freeze()"
   ]
  },
  {
   "cell_type": "code",
   "execution_count": 116,
   "metadata": {
    "scrolled": false
   },
   "outputs": [
    {
     "data": {
      "text/html": [],
      "text/plain": [
       "<IPython.core.display.HTML object>"
      ]
     },
     "metadata": {},
     "output_type": "display_data"
    },
    {
     "name": "stdout",
     "output_type": "stream",
     "text": [
      "LR Finder is complete, type {learner_name}.recorder.plot() to see the graph.\n",
      "Min numerical gradient: 5.75E-02\n"
     ]
    },
    {
     "data": {
      "image/png": "[encoded data removed]",
      "text/plain": [
       "<Figure size 432x288 with 1 Axes>"
      ]
     },
     "metadata": {
      "needs_background": "light"
     },
     "output_type": "display_data"
    }
   ],
   "source": [
    "learn.lr_find()\n",
    "learn.recorder.plot(suggestion=True, skip_start=0)"
   ]
  },
  {
   "cell_type": "code",
   "execution_count": 117,
   "metadata": {
    "scrolled": true
   },
   "outputs": [
    {
     "data": {
      "text/html": [
       "<table border=\"1\" class=\"dataframe\">\n",
       "  <thead>\n",
       "    <tr style=\"text-align: left;\">\n",
       "      <th>epoch</th>\n",
       "      <th>train_loss</th>\n",
       "      <th>valid_loss</th>\n",
       "      <th>accuracy</th>\n",
       "      <th>time</th>\n",
       "    </tr>\n",
       "  </thead>\n",
       "  <tbody>\n",
       "    <tr>\n",
       "      <td>0</td>\n",
       "      <td>2.023107</td>\n",
       "      <td>1.473188</td>\n",
       "      <td>0.595017</td>\n",
       "      <td>00:04</td>\n",
       "    </tr>\n",
       "    <tr>\n",
       "      <td>1</td>\n",
       "      <td>1.718889</td>\n",
       "      <td>1.365911</td>\n",
       "      <td>0.622374</td>\n",
       "      <td>00:04</td>\n",
       "    </tr>\n",
       "    <tr>\n",
       "      <td>2</td>\n",
       "      <td>1.683925</td>\n",
       "      <td>1.341965</td>\n",
       "      <td>0.627748</td>\n",
       "      <td>00:04</td>\n",
       "    </tr>\n",
       "    <tr>\n",
       "      <td>3</td>\n",
       "      <td>1.623058</td>\n",
       "      <td>1.308368</td>\n",
       "      <td>0.631656</td>\n",
       "      <td>00:04</td>\n",
       "    </tr>\n",
       "    <tr>\n",
       "      <td>4</td>\n",
       "      <td>1.558791</td>\n",
       "      <td>1.237787</td>\n",
       "      <td>0.647289</td>\n",
       "      <td>00:04</td>\n",
       "    </tr>\n",
       "    <tr>\n",
       "      <td>5</td>\n",
       "      <td>1.488084</td>\n",
       "      <td>1.140758</td>\n",
       "      <td>0.684416</td>\n",
       "      <td>00:04</td>\n",
       "    </tr>\n",
       "    <tr>\n",
       "      <td>6</td>\n",
       "      <td>1.430857</td>\n",
       "      <td>1.113765</td>\n",
       "      <td>0.694675</td>\n",
       "      <td>00:04</td>\n",
       "    </tr>\n",
       "    <tr>\n",
       "      <td>7</td>\n",
       "      <td>1.348491</td>\n",
       "      <td>1.089823</td>\n",
       "      <td>0.705423</td>\n",
       "      <td>00:04</td>\n",
       "    </tr>\n",
       "    <tr>\n",
       "      <td>8</td>\n",
       "      <td>1.318234</td>\n",
       "      <td>1.039136</td>\n",
       "      <td>0.715681</td>\n",
       "      <td>00:04</td>\n",
       "    </tr>\n",
       "    <tr>\n",
       "      <td>9</td>\n",
       "      <td>1.241683</td>\n",
       "      <td>1.037840</td>\n",
       "      <td>0.720078</td>\n",
       "      <td>00:04</td>\n",
       "    </tr>\n",
       "  </tbody>\n",
       "</table>"
      ],
      "text/plain": [
       "<IPython.core.display.HTML object>"
      ]
     },
     "metadata": {},
     "output_type": "display_data"
    },
    {
     "data": {
      "image/png": "[encoded data removed]",
      "text/plain": [
       "<Figure size 432x288 with 1 Axes>"
      ]
     },
     "metadata": {},
     "output_type": "display_data"
    },
    {
     "name": "stdout",
     "output_type": "stream",
     "text": [
      "Better model found at epoch 0 with val_loss value: 1.4731876850128174.\n",
      "Better model found at epoch 1 with val_loss value: 1.3659108877182007.\n",
      "Better model found at epoch 2 with val_loss value: 1.341964840888977.\n",
      "Better model found at epoch 3 with val_loss value: 1.3083676099777222.\n",
      "Better model found at epoch 4 with val_loss value: 1.2377872467041016.\n",
      "Better model found at epoch 5 with val_loss value: 1.1407577991485596.\n",
      "Better model found at epoch 6 with val_loss value: 1.113765001296997.\n",
      "Better model found at epoch 7 with val_loss value: 1.0898233652114868.\n",
      "Better model found at epoch 8 with val_loss value: 1.0391359329223633.\n",
      "Better model found at epoch 9 with val_loss value: 1.0378397703170776.\n"
     ]
    }
   ],
   "source": [
    "learn.fit_one_cycle(10, 5E-2, moms=(0.8,0.7), callbacks=[ShowGraph(learn), SaveModelCallback(learn, name='tweets-en-25k-FT-agent-benchmark-classifier-head-best')])"
   ]
  },
  {
   "cell_type": "code",
   "execution_count": null,
   "metadata": {},
   "outputs": [],
   "source": [
    "learn.load('tweets-en-25k-FT-agent-benchmark-classifier-head-best')"
   ]
  },
  {
   "cell_type": "code",
   "execution_count": 119,
   "metadata": {},
   "outputs": [
    {
     "data": {
      "text/html": [
       "<table border=\"1\" class=\"dataframe\">\n",
       "  <thead>\n",
       "    <tr style=\"text-align: left;\">\n",
       "      <th>epoch</th>\n",
       "      <th>train_loss</th>\n",
       "      <th>valid_loss</th>\n",
       "      <th>accuracy</th>\n",
       "      <th>time</th>\n",
       "    </tr>\n",
       "  </thead>\n",
       "  <tbody>\n",
       "    <tr>\n",
       "      <td>0</td>\n",
       "      <td>1.284343</td>\n",
       "      <td>0.991826</td>\n",
       "      <td>0.725452</td>\n",
       "      <td>00:04</td>\n",
       "    </tr>\n",
       "    <tr>\n",
       "      <td>1</td>\n",
       "      <td>1.099689</td>\n",
       "      <td>0.953775</td>\n",
       "      <td>0.736688</td>\n",
       "      <td>00:04</td>\n",
       "    </tr>\n",
       "  </tbody>\n",
       "</table>"
      ],
      "text/plain": [
       "<IPython.core.display.HTML object>"
      ]
     },
     "metadata": {},
     "output_type": "display_data"
    },
    {
     "data": {
      "image/png": "[encoded data removed]",
      "text/plain": [
       "<Figure size 432x288 with 1 Axes>"
      ]
     },
     "metadata": {},
     "output_type": "display_data"
    },
    {
     "name": "stdout",
     "output_type": "stream",
     "text": [
      "Better model found at epoch 0 with val_loss value: 0.9918259978294373.\n",
      "Better model found at epoch 1 with val_loss value: 0.9537747502326965.\n"
     ]
    }
   ],
   "source": [
    "learn.freeze_to(-2)\n",
    "learn.fit_one_cycle(2, slice(1E-2/(2.6**4),1E-2), moms=(0.8,0.7), callbacks=[ShowGraph(learn), SaveModelCallback(learn, name='tweets-en-25k-FT-agent-benchmark-classifier-step2-best')])\n"
   ]
  },
  {
   "cell_type": "code",
   "execution_count": null,
   "metadata": {},
   "outputs": [],
   "source": [
    "learn.load('tweets-en-25k-FT-agent-benchmark-classifier-step2-best')"
   ]
  },
  {
   "cell_type": "code",
   "execution_count": 121,
   "metadata": {},
   "outputs": [
    {
     "data": {
      "text/html": [
       "<table border=\"1\" class=\"dataframe\">\n",
       "  <thead>\n",
       "    <tr style=\"text-align: left;\">\n",
       "      <th>epoch</th>\n",
       "      <th>train_loss</th>\n",
       "      <th>valid_loss</th>\n",
       "      <th>accuracy</th>\n",
       "      <th>time</th>\n",
       "    </tr>\n",
       "  </thead>\n",
       "  <tbody>\n",
       "    <tr>\n",
       "      <td>0</td>\n",
       "      <td>1.058416</td>\n",
       "      <td>0.937152</td>\n",
       "      <td>0.740107</td>\n",
       "      <td>00:06</td>\n",
       "    </tr>\n",
       "    <tr>\n",
       "      <td>1</td>\n",
       "      <td>0.979025</td>\n",
       "      <td>0.883562</td>\n",
       "      <td>0.754275</td>\n",
       "      <td>00:05</td>\n",
       "    </tr>\n",
       "    <tr>\n",
       "      <td>2</td>\n",
       "      <td>0.866114</td>\n",
       "      <td>0.853845</td>\n",
       "      <td>0.774304</td>\n",
       "      <td>00:05</td>\n",
       "    </tr>\n",
       "    <tr>\n",
       "      <td>3</td>\n",
       "      <td>0.725289</td>\n",
       "      <td>0.840671</td>\n",
       "      <td>0.780166</td>\n",
       "      <td>00:06</td>\n",
       "    </tr>\n",
       "  </tbody>\n",
       "</table>"
      ],
      "text/plain": [
       "<IPython.core.display.HTML object>"
      ]
     },
     "metadata": {},
     "output_type": "display_data"
    },
    {
     "data": {
      "image/png": "[encoded data removed]",
      "text/plain": [
       "<Figure size 432x288 with 1 Axes>"
      ]
     },
     "metadata": {},
     "output_type": "display_data"
    },
    {
     "name": "stdout",
     "output_type": "stream",
     "text": [
      "Better model found at epoch 0 with val_loss value: 0.9371519684791565.\n",
      "Better model found at epoch 1 with val_loss value: 0.8835616111755371.\n",
      "Better model found at epoch 2 with val_loss value: 0.8538448810577393.\n",
      "Better model found at epoch 3 with val_loss value: 0.8406707644462585.\n"
     ]
    }
   ],
   "source": [
    "learn.freeze_to(-3)\n",
    "learn.fit_one_cycle(4, slice(8E-3/(2.6**4),8E-3), moms=(0.8,0.7), callbacks=[ShowGraph(learn), SaveModelCallback(learn, name='tweets-en-25k-FT-agent-benchmark-classifier-step3-best')])\n"
   ]
  },
  {
   "cell_type": "code",
   "execution_count": null,
   "metadata": {},
   "outputs": [],
   "source": [
    "learn.load('tweets-en-25k-FT-agent-benchmark-classifier-step3-best')"
   ]
  },
  {
   "cell_type": "code",
   "execution_count": 123,
   "metadata": {},
   "outputs": [
    {
     "data": {
      "text/html": [
       "<table border=\"1\" class=\"dataframe\">\n",
       "  <thead>\n",
       "    <tr style=\"text-align: left;\">\n",
       "      <th>epoch</th>\n",
       "      <th>train_loss</th>\n",
       "      <th>valid_loss</th>\n",
       "      <th>accuracy</th>\n",
       "      <th>time</th>\n",
       "    </tr>\n",
       "  </thead>\n",
       "  <tbody>\n",
       "    <tr>\n",
       "      <td>0</td>\n",
       "      <td>0.745019</td>\n",
       "      <td>0.847757</td>\n",
       "      <td>0.771861</td>\n",
       "      <td>00:07</td>\n",
       "    </tr>\n",
       "    <tr>\n",
       "      <td>1</td>\n",
       "      <td>0.715903</td>\n",
       "      <td>0.826752</td>\n",
       "      <td>0.785051</td>\n",
       "      <td>00:07</td>\n",
       "    </tr>\n",
       "    <tr>\n",
       "      <td>2</td>\n",
       "      <td>0.658012</td>\n",
       "      <td>0.833296</td>\n",
       "      <td>0.776746</td>\n",
       "      <td>00:07</td>\n",
       "    </tr>\n",
       "    <tr>\n",
       "      <td>3</td>\n",
       "      <td>0.569085</td>\n",
       "      <td>0.834841</td>\n",
       "      <td>0.781143</td>\n",
       "      <td>00:07</td>\n",
       "    </tr>\n",
       "  </tbody>\n",
       "</table>"
      ],
      "text/plain": [
       "<IPython.core.display.HTML object>"
      ]
     },
     "metadata": {},
     "output_type": "display_data"
    },
    {
     "data": {
      "image/png": "[encoded data removed]",
      "text/plain": [
       "<Figure size 432x288 with 1 Axes>"
      ]
     },
     "metadata": {},
     "output_type": "display_data"
    },
    {
     "name": "stdout",
     "output_type": "stream",
     "text": [
      "Better model found at epoch 0 with val_loss value: 0.8477574586868286.\n",
      "Better model found at epoch 1 with val_loss value: 0.8267515301704407.\n"
     ]
    }
   ],
   "source": [
    "learn.unfreeze()\n",
    "learn.fit_one_cycle(4, slice(4e-3/(2.6**4),4e-3), moms=(0.8,0.7), callbacks=[ShowGraph(learn), SaveModelCallback(learn, name='tweets-en-25k-FT-agent-benchmark-classifier-step4-best')])"
   ]
  },
  {
   "cell_type": "code",
   "execution_count": null,
   "metadata": {},
   "outputs": [],
   "source": [
    "learn.load('tweets-en-25k-FT-agent-benchmark-classifier-step4-best')"
   ]
  },
  {
   "cell_type": "code",
   "execution_count": 125,
   "metadata": {},
   "outputs": [],
   "source": [
    "y = []\n",
    "for item in test_dataset.itertuples():\n",
    "    label = item[2]\n",
    "    label_id = learn.data.classes.index(label)\n",
    "    y.append(label_id)"
   ]
  },
  {
   "cell_type": "code",
   "execution_count": 126,
   "metadata": {},
   "outputs": [],
   "source": [
    "preds_test = learn.get_preds(ds_type = DatasetType.Test, ordered=True)"
   ]
  },
  {
   "cell_type": "code",
   "execution_count": 127,
   "metadata": {},
   "outputs": [],
   "source": [
    "y_hat = torch.argmax(preds_test[0], dim=1)"
   ]
  },
  {
   "cell_type": "code",
   "execution_count": 128,
   "metadata": {},
   "outputs": [
    {
     "name": "stdout",
     "output_type": "stream",
     "text": [
      "                           precision    recall  f1-score   support\n",
      "\n",
      "             IOT_cleaning      0.978     0.938     0.957        48\n",
      "               IOT_coffee      0.918     0.900     0.909        50\n",
      "                  IOT_hue      0.910     0.949     0.929       214\n",
      "                 IOT_wemo      0.833     0.854     0.843        41\n",
      "             QA_celebrity      0.748     0.796     0.771       108\n",
      "            QA_definition      0.866     0.887     0.876       124\n",
      "               QA_factoid      0.756     0.779     0.768       195\n",
      "                 QA_maths      0.780     0.842     0.810        38\n",
      "            QA_open_query      0.551     0.408     0.469       120\n",
      "                 QA_stock      0.849     0.900     0.874        50\n",
      "              alarm_query      0.683     0.757     0.718        37\n",
      "             alarm_remove      0.781     0.625     0.694        40\n",
      "                alarm_set      0.782     0.896     0.835        48\n",
      "               audio_mute      0.610     0.658     0.633        38\n",
      "             audio_volume      0.778     0.686     0.729        51\n",
      "           audiobook_play      0.765     0.709     0.736        55\n",
      "    calendar_delete_event      0.848     0.842     0.845       146\n",
      "    calendar_notification      0.500     0.444     0.471        45\n",
      "     calendar_query_event      0.615     0.656     0.635       122\n",
      "        calendar_question      0.608     0.738     0.667        42\n",
      "       calendar_set_event      0.813     0.839     0.826       192\n",
      "           contacts_query      0.800     0.679     0.735        53\n",
      "         cooking_question      0.581     0.556     0.568        45\n",
      "           cooking_recipe      0.615     0.711     0.660        45\n",
      "         datetime_convert      0.758     0.714     0.735        35\n",
      "           datetime_query      0.864     0.844     0.854       135\n",
      "        datetime_question      0.725     0.674     0.699        43\n",
      "              email_query      0.887     0.977     0.930       177\n",
      "              email_reply      0.921     0.814     0.864        43\n",
      "         email_send_email      0.847     0.905     0.875       116\n",
      "                game_play      0.808     0.750     0.778        56\n",
      "     general_confirmation      0.812     0.302     0.441        43\n",
      "        general_confusion      0.695     0.837     0.759        49\n",
      "     general_conversation      0.674     0.564     0.614       165\n",
      "         general_feedback      0.654     0.763     0.704       139\n",
      "             general_joke      0.878     0.956     0.915        45\n",
      "          general_mistake      0.596     0.633     0.614        49\n",
      "             lists_adding      0.846     0.647     0.733        34\n",
      "           lists_creating      0.923     0.857     0.889        42\n",
      "              lists_query      0.823     0.832     0.827        95\n",
      "             lists_remove      0.934     0.877     0.904        81\n",
      "               music_play      0.786     0.873     0.827       244\n",
      "        music_preferences      0.778     0.590     0.671        83\n",
      "           music_question      0.727     0.727     0.727        44\n",
      "           music_settings      0.500     0.540     0.519        50\n",
      "               news_query      0.750     0.760     0.755       146\n",
      "    news_set_notification      0.680     0.405     0.507        42\n",
      "            podcasts_play      0.920     0.844     0.880        96\n",
      "               radio_play      0.870     0.863     0.866       139\n",
      "   recommendation_events       0.667     0.698     0.682        43\n",
      "recommendation_locations       0.667     0.837     0.742        43\n",
      "    recommendation_movies      0.614     0.628     0.621        43\n",
      "           reminder_query      0.882     0.652     0.750        46\n",
      "             reminder_set      0.575     0.622     0.597        74\n",
      "              social_post      0.926     0.966     0.945       116\n",
      "             social_query      0.795     0.761     0.778        46\n",
      "           takeaway_order      0.826     0.864     0.844        44\n",
      "           takeaway_query      0.896     0.915     0.905        47\n",
      "     transport_directions      0.708     0.415     0.523        41\n",
      "           transport_taxi      1.000     1.000     1.000        41\n",
      "        transport_traffic      0.818     0.837     0.828        43\n",
      "          transport_train      0.826     0.947     0.882        95\n",
      "         weather_question      0.740     0.648     0.691        88\n",
      "          weather_request      0.724     0.827     0.772       168\n",
      "\n",
      "                micro avg      0.780     0.780     0.780      5116\n",
      "                macro avg      0.770     0.753     0.756      5116\n",
      "             weighted avg      0.780     0.780     0.776      5116\n",
      "\n"
     ]
    }
   ],
   "source": [
    "from sklearn.metrics import classification_report\n",
    "print(classification_report(y, y_hat, target_names=learn.data.classes, digits=3))"
   ]
  },
  {
   "cell_type": "code",
   "execution_count": null,
   "metadata": {},
   "outputs": [],
   "source": []
  }
 ],
 "metadata": {
  "kernelspec": {
   "display_name": "Python 3",
   "language": "python",
   "name": "python3"
  },
  "language_info": {
   "codemirror_mode": {
    "name": "ipython",
    "version": 3
   },
   "file_extension": ".py",
   "mimetype": "text/x-python",
   "name": "python",
   "nbconvert_exporter": "python",
   "pygments_lexer": "ipython3",
   "version": "3.6.9"
  }
 },
 "nbformat": 4,
 "nbformat_minor": 2
}
