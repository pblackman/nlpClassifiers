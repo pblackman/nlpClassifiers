{
 "cells": [
  {
   "cell_type": "code",
   "execution_count": null,
   "metadata": {},
   "outputs": [],
   "source": [
    "#!pip install nltk \n",
    "#!pip install pyldavis \n",
    "#!pip install stanza\n",
    "#!pip install wordcloud \n",
    "#!pip install openturns\n",
    "!pip install -U setuptools\n",
    "!pip install reliability\n",
    "#!apt update && apt install -y libsm6 libxext6"
   ]
  },
  {
   "cell_type": "code",
   "execution_count": null,
   "metadata": {},
   "outputs": [],
   "source": [
    "#https://towardsdatascience.com/exploratory-data-analysis-for-natural-language-processing-ff0046ab3571"
   ]
  },
  {
   "cell_type": "code",
   "execution_count": 1,
   "metadata": {},
   "outputs": [],
   "source": [
    "from __future__ import absolute_import\n",
    "from __future__ import division\n",
    "from __future__ import print_function"
   ]
  },
  {
   "cell_type": "code",
   "execution_count": 2,
   "metadata": {},
   "outputs": [],
   "source": [
    "import os\n",
    "\n",
    "%matplotlib inline\n",
    "import matplotlib.pyplot as plt\n",
    "import numpy as np\n",
    "import pandas as pd\n",
    "import seaborn as sns\n",
    "from sklearn.model_selection import train_test_split"
   ]
  },
  {
   "cell_type": "code",
   "execution_count": 56,
   "metadata": {},
   "outputs": [],
   "source": [
    "DATA_PATH = '../../data/agent-benchmark'\n",
    "TRAIN_DATASET = os.path.join(DATA_PATH, 'train.csv')\n",
    "VAL_DATASET = os.path.join(DATA_PATH, 'val.csv')\n",
    "TEST_DATASET  = os.path.join(DATA_PATH, 'test.csv')"
   ]
  },
  {
   "cell_type": "code",
   "execution_count": 57,
   "metadata": {},
   "outputs": [],
   "source": [
    "def read_data(filename):\n",
    "    data = pd.read_csv(filename, sep=\";\", names =['utterance','label'], header=None, dtype={'utterance':str, 'label': str} )\n",
    "    return data"
   ]
  },
  {
   "cell_type": "code",
   "execution_count": 58,
   "metadata": {},
   "outputs": [
    {
     "data": {
      "text/html": [
       "<div>\n",
       "<style scoped>\n",
       "    .dataframe tbody tr th:only-of-type {\n",
       "        vertical-align: middle;\n",
       "    }\n",
       "\n",
       "    .dataframe tbody tr th {\n",
       "        vertical-align: top;\n",
       "    }\n",
       "\n",
       "    .dataframe thead th {\n",
       "        text-align: right;\n",
       "    }\n",
       "</style>\n",
       "<table border=\"1\" class=\"dataframe\">\n",
       "  <thead>\n",
       "    <tr style=\"text-align: right;\">\n",
       "      <th></th>\n",
       "      <th>utterance</th>\n",
       "      <th>label</th>\n",
       "    </tr>\n",
       "  </thead>\n",
       "  <tbody>\n",
       "    <tr>\n",
       "      <th>0</th>\n",
       "      <td>where is my meeting today located</td>\n",
       "      <td>calendar_notification</td>\n",
       "    </tr>\n",
       "    <tr>\n",
       "      <th>1</th>\n",
       "      <td>please purchase me a train ticket to atlanta</td>\n",
       "      <td>transport_directions</td>\n",
       "    </tr>\n",
       "    <tr>\n",
       "      <th>2</th>\n",
       "      <td>i want a recipe for a burrito</td>\n",
       "      <td>cooking_recipe</td>\n",
       "    </tr>\n",
       "    <tr>\n",
       "      <th>3</th>\n",
       "      <td>play some radio</td>\n",
       "      <td>radio_play</td>\n",
       "    </tr>\n",
       "    <tr>\n",
       "      <th>4</th>\n",
       "      <td>i don't want eggs</td>\n",
       "      <td>lists_remove</td>\n",
       "    </tr>\n",
       "  </tbody>\n",
       "</table>\n",
       "</div>"
      ],
      "text/plain": [
       "                                      utterance                  label\n",
       "0             where is my meeting today located  calendar_notification\n",
       "1  please purchase me a train ticket to atlanta   transport_directions\n",
       "2                 i want a recipe for a burrito         cooking_recipe\n",
       "3                               play some radio             radio_play\n",
       "4                             i don't want eggs           lists_remove"
      ]
     },
     "execution_count": 58,
     "metadata": {},
     "output_type": "execute_result"
    }
   ],
   "source": [
    "train_data = read_data(TRAIN_DATASET)\n",
    "val_data = read_data(VAL_DATASET)\n",
    "test_data = read_data(TEST_DATASET)\n",
    "full_dataset = pd.concat([train_data, val_data, test_data], ignore_index=True)\n",
    "full_dataset.head()"
   ]
  },
  {
   "cell_type": "code",
   "execution_count": 59,
   "metadata": {},
   "outputs": [
    {
     "name": "stdout",
     "output_type": "stream",
     "text": [
      "18415\n",
      "2047\n",
      "5116\n"
     ]
    }
   ],
   "source": [
    "print(len(train_data))\n",
    "print(len(val_data))\n",
    "print(len(test_data))"
   ]
  },
  {
   "cell_type": "code",
   "execution_count": 60,
   "metadata": {},
   "outputs": [
    {
     "data": {
      "text/plain": [
       "25578"
      ]
     },
     "execution_count": 60,
     "metadata": {},
     "output_type": "execute_result"
    }
   ],
   "source": [
    "len(full_dataset)"
   ]
  },
  {
   "cell_type": "code",
   "execution_count": 96,
   "metadata": {},
   "outputs": [
    {
     "name": "stdout",
     "output_type": "stream",
     "text": [
      "                                        utterance                  label\n",
      "0               where is my meeting today located  calendar_notification\n",
      "1    please purchase me a train ticket to atlanta   transport_directions\n",
      "2                   i want a recipe for a burrito         cooking_recipe\n",
      "3                                 play some radio             radio_play\n",
      "4                               i don't want eggs           lists_remove\n",
      "..                                            ...                    ...\n",
      "995     send wedding invites to all wedding party        weather_request\n",
      "996             tell me the music that is playing         music_question\n",
      "997                   what is on my shopping list            lists_query\n",
      "998                           who is singing this         music_question\n",
      "999                               next one please          podcasts_play\n",
      "\n",
      "[1000 rows x 2 columns]\n"
     ]
    }
   ],
   "source": [
    "pd.set_option('display.max_rows', 130)\n",
    "pd.set_option('display.max_colwidth', None)\n",
    "print(full_dataset.head(1000))"
   ]
  },
  {
   "cell_type": "markdown",
   "metadata": {},
   "source": [
    "### Remove data from labels containing less then 10 examples:"
   ]
  },
  {
   "cell_type": "code",
   "execution_count": 61,
   "metadata": {},
   "outputs": [
    {
     "name": "stdout",
     "output_type": "stream",
     "text": [
      "                           utterance\n",
      "label                               \n",
      "music_play                      1218\n",
      "IOT_hue                         1068\n",
      "QA_factoid                       973\n",
      "calendar_set_event               959\n",
      "email_query                      887\n",
      "weather_request                  839\n",
      "general_conversation             824\n",
      "calendar_delete_event            729\n",
      "news_query                       729\n",
      "radio_play                       697\n",
      "general_feedback                 696\n",
      "datetime_query                   674\n",
      "QA_definition                    618\n",
      "calendar_query_event             610\n",
      "QA_open_query                    599\n",
      "email_send_email                 582\n",
      "social_post                      581\n",
      "QA_celebrity                     539\n",
      "podcasts_play                    480\n",
      "lists_query                      477\n",
      "transport_train                  477\n",
      "weather_question                 439\n",
      "music_preferences                416\n",
      "lists_remove                     403\n",
      "reminder_set                     372\n",
      "game_play                        279\n",
      "audiobook_play                   273\n",
      "contacts_query                   267\n",
      "audio_volume                     255\n",
      "QA_stock                         252\n",
      "music_settings                   252\n",
      "IOT_coffee                       248\n",
      "general_confusion                244\n",
      "general_mistake                  243\n",
      "alarm_set                        241\n",
      "IOT_cleaning                     240\n",
      "takeaway_query                   233\n",
      "social_query                     229\n",
      "reminder_query                   228\n",
      "general_joke                     225\n",
      "cooking_recipe                   225\n",
      "cooking_question                 225\n",
      "calendar_notification            225\n",
      "music_question                   220\n",
      "takeaway_order                   220\n",
      "recommendation_events            217\n",
      "datetime_question                216\n",
      "recommendation_movies            216\n",
      "transport_traffic                215\n",
      "recommendation_locations         215\n",
      "email_reply                      213\n",
      "general_confirmation             213\n",
      "news_set_notification            210\n",
      "calendar_question                210\n",
      "lists_creating                   209\n",
      "transport_taxi                   208\n",
      "IOT_wemo                         205\n",
      "transport_directions             204\n",
      "alarm_remove                     203\n",
      "audio_mute                       191\n",
      "QA_maths                         189\n",
      "alarm_query                      186\n",
      "datetime_convert                 177\n",
      "lists_adding                     171\n"
     ]
    }
   ],
   "source": [
    "bytag = full_dataset.groupby('label').aggregate(np.count_nonzero)\n",
    "print(bytag.sort_values(by='utterance', ascending=False))"
   ]
  },
  {
   "cell_type": "code",
   "execution_count": 62,
   "metadata": {},
   "outputs": [
    {
     "data": {
      "text/html": [
       "<div>\n",
       "<style scoped>\n",
       "    .dataframe tbody tr th:only-of-type {\n",
       "        vertical-align: middle;\n",
       "    }\n",
       "\n",
       "    .dataframe tbody tr th {\n",
       "        vertical-align: top;\n",
       "    }\n",
       "\n",
       "    .dataframe thead th {\n",
       "        text-align: right;\n",
       "    }\n",
       "</style>\n",
       "<table border=\"1\" class=\"dataframe\">\n",
       "  <thead>\n",
       "    <tr style=\"text-align: right;\">\n",
       "      <th></th>\n",
       "      <th>utterance</th>\n",
       "      <th>label</th>\n",
       "    </tr>\n",
       "  </thead>\n",
       "  <tbody>\n",
       "    <tr>\n",
       "      <th>0</th>\n",
       "      <td>where is my meeting today located</td>\n",
       "      <td>calendar_notification</td>\n",
       "    </tr>\n",
       "    <tr>\n",
       "      <th>1</th>\n",
       "      <td>please purchase me a train ticket to atlanta</td>\n",
       "      <td>transport_directions</td>\n",
       "    </tr>\n",
       "    <tr>\n",
       "      <th>2</th>\n",
       "      <td>i want a recipe for a burrito</td>\n",
       "      <td>cooking_recipe</td>\n",
       "    </tr>\n",
       "    <tr>\n",
       "      <th>3</th>\n",
       "      <td>play some radio</td>\n",
       "      <td>radio_play</td>\n",
       "    </tr>\n",
       "    <tr>\n",
       "      <th>4</th>\n",
       "      <td>i don't want eggs</td>\n",
       "      <td>lists_remove</td>\n",
       "    </tr>\n",
       "    <tr>\n",
       "      <th>5</th>\n",
       "      <td>please ute me on any news that has to do with the blizzard</td>\n",
       "      <td>news_query</td>\n",
       "    </tr>\n",
       "    <tr>\n",
       "      <th>6</th>\n",
       "      <td>how do i cook butter chicken</td>\n",
       "      <td>cooking_question</td>\n",
       "    </tr>\n",
       "    <tr>\n",
       "      <th>7</th>\n",
       "      <td>remind me an email to my sister</td>\n",
       "      <td>contacts_query</td>\n",
       "    </tr>\n",
       "    <tr>\n",
       "      <th>8</th>\n",
       "      <td>find me a joke related to baseball</td>\n",
       "      <td>general_joke</td>\n",
       "    </tr>\n",
       "    <tr>\n",
       "      <th>9</th>\n",
       "      <td>enter silence mode</td>\n",
       "      <td>audio_mute</td>\n",
       "    </tr>\n",
       "    <tr>\n",
       "      <th>10</th>\n",
       "      <td>want to play songs depends on my mood</td>\n",
       "      <td>QA_open_query</td>\n",
       "    </tr>\n",
       "    <tr>\n",
       "      <th>11</th>\n",
       "      <td>what's in the news</td>\n",
       "      <td>news_query</td>\n",
       "    </tr>\n",
       "    <tr>\n",
       "      <th>12</th>\n",
       "      <td>time n. date</td>\n",
       "      <td>transport_train</td>\n",
       "    </tr>\n",
       "    <tr>\n",
       "      <th>13</th>\n",
       "      <td>i would like to listen to howard stern on nine hundred and seventy nine fm</td>\n",
       "      <td>radio_play</td>\n",
       "    </tr>\n",
       "    <tr>\n",
       "      <th>14</th>\n",
       "      <td>please book a train ticket from london to manchester</td>\n",
       "      <td>transport_train</td>\n",
       "    </tr>\n",
       "    <tr>\n",
       "      <th>15</th>\n",
       "      <td>what will the weather be like in austin on march sixteenth</td>\n",
       "      <td>weather_question</td>\n",
       "    </tr>\n",
       "    <tr>\n",
       "      <th>16</th>\n",
       "      <td>is there life on other planets</td>\n",
       "      <td>QA_open_query</td>\n",
       "    </tr>\n",
       "    <tr>\n",
       "      <th>17</th>\n",
       "      <td>how this song</td>\n",
       "      <td>music_question</td>\n",
       "    </tr>\n",
       "    <tr>\n",
       "      <th>18</th>\n",
       "      <td>how tall are giraffes</td>\n",
       "      <td>QA_factoid</td>\n",
       "    </tr>\n",
       "    <tr>\n",
       "      <th>19</th>\n",
       "      <td>please stop talking</td>\n",
       "      <td>audio_mute</td>\n",
       "    </tr>\n",
       "    <tr>\n",
       "      <th>20</th>\n",
       "      <td>do i have any new email messages</td>\n",
       "      <td>email_query</td>\n",
       "    </tr>\n",
       "    <tr>\n",
       "      <th>21</th>\n",
       "      <td>need to check my list</td>\n",
       "      <td>lists_query</td>\n",
       "    </tr>\n",
       "    <tr>\n",
       "      <th>22</th>\n",
       "      <td>the cosmos</td>\n",
       "      <td>general_conversation</td>\n",
       "    </tr>\n",
       "    <tr>\n",
       "      <th>23</th>\n",
       "      <td>show me reviews of my nearest location food court</td>\n",
       "      <td>recommendation_locations</td>\n",
       "    </tr>\n",
       "    <tr>\n",
       "      <th>24</th>\n",
       "      <td>do add this on my calender</td>\n",
       "      <td>calendar_set_event</td>\n",
       "    </tr>\n",
       "    <tr>\n",
       "      <th>25</th>\n",
       "      <td>temeperature</td>\n",
       "      <td>weather_request</td>\n",
       "    </tr>\n",
       "    <tr>\n",
       "      <th>26</th>\n",
       "      <td>bring up the latest headlines from huffpo</td>\n",
       "      <td>news_query</td>\n",
       "    </tr>\n",
       "    <tr>\n",
       "      <th>27</th>\n",
       "      <td>what is the weather of this week</td>\n",
       "      <td>weather_request</td>\n",
       "    </tr>\n",
       "    <tr>\n",
       "      <th>28</th>\n",
       "      <td>read me the content of this list</td>\n",
       "      <td>lists_query</td>\n",
       "    </tr>\n",
       "    <tr>\n",
       "      <th>29</th>\n",
       "      <td>reminders</td>\n",
       "      <td>general_conversation</td>\n",
       "    </tr>\n",
       "    <tr>\n",
       "      <th>30</th>\n",
       "      <td>what kind of implement is a broiler and how do i use it</td>\n",
       "      <td>QA_definition</td>\n",
       "    </tr>\n",
       "    <tr>\n",
       "      <th>31</th>\n",
       "      <td>what time can i pick up my food</td>\n",
       "      <td>takeaway_query</td>\n",
       "    </tr>\n",
       "    <tr>\n",
       "      <th>32</th>\n",
       "      <td>define oscillate</td>\n",
       "      <td>QA_definition</td>\n",
       "    </tr>\n",
       "    <tr>\n",
       "      <th>33</th>\n",
       "      <td>dim the lights</td>\n",
       "      <td>IOT_hue</td>\n",
       "    </tr>\n",
       "    <tr>\n",
       "      <th>34</th>\n",
       "      <td>tell me the time</td>\n",
       "      <td>datetime_query</td>\n",
       "    </tr>\n",
       "    <tr>\n",
       "      <th>35</th>\n",
       "      <td>show me this week's forecast</td>\n",
       "      <td>weather_request</td>\n",
       "    </tr>\n",
       "    <tr>\n",
       "      <th>36</th>\n",
       "      <td>can you put the lights on the high setting</td>\n",
       "      <td>IOT_hue</td>\n",
       "    </tr>\n",
       "    <tr>\n",
       "      <th>37</th>\n",
       "      <td>whats the best way to france</td>\n",
       "      <td>transport_directions</td>\n",
       "    </tr>\n",
       "    <tr>\n",
       "      <th>38</th>\n",
       "      <td>reply to the mail with the following content</td>\n",
       "      <td>email_reply</td>\n",
       "    </tr>\n",
       "    <tr>\n",
       "      <th>39</th>\n",
       "      <td>what are all my lists</td>\n",
       "      <td>lists_query</td>\n",
       "    </tr>\n",
       "    <tr>\n",
       "      <th>40</th>\n",
       "      <td>how do you subtract numbers</td>\n",
       "      <td>QA_maths</td>\n",
       "    </tr>\n",
       "    <tr>\n",
       "      <th>41</th>\n",
       "      <td>add a movie name to the wish list</td>\n",
       "      <td>lists_adding</td>\n",
       "    </tr>\n",
       "    <tr>\n",
       "      <th>42</th>\n",
       "      <td>tell me today's sports news headlines</td>\n",
       "      <td>news_query</td>\n",
       "    </tr>\n",
       "    <tr>\n",
       "      <th>43</th>\n",
       "      <td>how tall is tom cruise</td>\n",
       "      <td>QA_celebrity</td>\n",
       "    </tr>\n",
       "    <tr>\n",
       "      <th>44</th>\n",
       "      <td>set the settings to mute</td>\n",
       "      <td>audio_mute</td>\n",
       "    </tr>\n",
       "    <tr>\n",
       "      <th>45</th>\n",
       "      <td>put classic rock on</td>\n",
       "      <td>music_play</td>\n",
       "    </tr>\n",
       "    <tr>\n",
       "      <th>46</th>\n",
       "      <td>joke please</td>\n",
       "      <td>general_joke</td>\n",
       "    </tr>\n",
       "    <tr>\n",
       "      <th>47</th>\n",
       "      <td>play angry bird</td>\n",
       "      <td>game_play</td>\n",
       "    </tr>\n",
       "    <tr>\n",
       "      <th>48</th>\n",
       "      <td>make the socket available for me</td>\n",
       "      <td>IOT_wemo</td>\n",
       "    </tr>\n",
       "    <tr>\n",
       "      <th>49</th>\n",
       "      <td>that's not what i was looking for</td>\n",
       "      <td>general_mistake</td>\n",
       "    </tr>\n",
       "    <tr>\n",
       "      <th>50</th>\n",
       "      <td>what will be the size of a small panda</td>\n",
       "      <td>QA_definition</td>\n",
       "    </tr>\n",
       "    <tr>\n",
       "      <th>51</th>\n",
       "      <td>please repeat that music again of akon</td>\n",
       "      <td>music_settings</td>\n",
       "    </tr>\n",
       "    <tr>\n",
       "      <th>52</th>\n",
       "      <td>what list is available for food products online</td>\n",
       "      <td>lists_query</td>\n",
       "    </tr>\n",
       "    <tr>\n",
       "      <th>53</th>\n",
       "      <td>what things can't you do</td>\n",
       "      <td>general_mistake</td>\n",
       "    </tr>\n",
       "    <tr>\n",
       "      <th>54</th>\n",
       "      <td>then tap ok</td>\n",
       "      <td>alarm_query</td>\n",
       "    </tr>\n",
       "    <tr>\n",
       "      <th>55</th>\n",
       "      <td>are there any fun events in la today</td>\n",
       "      <td>recommendation_movies</td>\n",
       "    </tr>\n",
       "    <tr>\n",
       "      <th>56</th>\n",
       "      <td>what is the exchange rate between dollars and pesos</td>\n",
       "      <td>QA_factoid</td>\n",
       "    </tr>\n",
       "    <tr>\n",
       "      <th>57</th>\n",
       "      <td>please clear jeff's birthday from the calendar</td>\n",
       "      <td>calendar_delete_event</td>\n",
       "    </tr>\n",
       "    <tr>\n",
       "      <th>58</th>\n",
       "      <td>what is going on with blank</td>\n",
       "      <td>news_query</td>\n",
       "    </tr>\n",
       "    <tr>\n",
       "      <th>59</th>\n",
       "      <td>input a meeting with jack for tuesday</td>\n",
       "      <td>calendar_set_event</td>\n",
       "    </tr>\n",
       "    <tr>\n",
       "      <th>60</th>\n",
       "      <td>how do you define 'lamp</td>\n",
       "      <td>QA_definition</td>\n",
       "    </tr>\n",
       "    <tr>\n",
       "      <th>61</th>\n",
       "      <td>are there any news regarding our president on facebook today</td>\n",
       "      <td>social_query</td>\n",
       "    </tr>\n",
       "    <tr>\n",
       "      <th>62</th>\n",
       "      <td>can you direct me to the menu for the highest rated chinese carryout near me</td>\n",
       "      <td>takeaway_order</td>\n",
       "    </tr>\n",
       "    <tr>\n",
       "      <th>63</th>\n",
       "      <td>change the light color to black light</td>\n",
       "      <td>IOT_hue</td>\n",
       "    </tr>\n",
       "    <tr>\n",
       "      <th>64</th>\n",
       "      <td>is today a sunscreen day</td>\n",
       "      <td>weather_request</td>\n",
       "    </tr>\n",
       "    <tr>\n",
       "      <th>65</th>\n",
       "      <td>set a thanks giving event for friday</td>\n",
       "      <td>calendar_set_event</td>\n",
       "    </tr>\n",
       "    <tr>\n",
       "      <th>66</th>\n",
       "      <td>how long to get to work</td>\n",
       "      <td>transport_traffic</td>\n",
       "    </tr>\n",
       "    <tr>\n",
       "      <th>67</th>\n",
       "      <td>check my email</td>\n",
       "      <td>email_query</td>\n",
       "    </tr>\n",
       "    <tr>\n",
       "      <th>68</th>\n",
       "      <td>can we talk about se &lt;unk&gt;</td>\n",
       "      <td>general_conversation</td>\n",
       "    </tr>\n",
       "    <tr>\n",
       "      <th>69</th>\n",
       "      <td>what time is it</td>\n",
       "      <td>datetime_query</td>\n",
       "    </tr>\n",
       "    <tr>\n",
       "      <th>70</th>\n",
       "      <td>lessen the the light glow</td>\n",
       "      <td>IOT_hue</td>\n",
       "    </tr>\n",
       "    <tr>\n",
       "      <th>71</th>\n",
       "      <td>remove the list</td>\n",
       "      <td>lists_remove</td>\n",
       "    </tr>\n",
       "    <tr>\n",
       "      <th>72</th>\n",
       "      <td>resume the last kingdom for me</td>\n",
       "      <td>audiobook_play</td>\n",
       "    </tr>\n",
       "    <tr>\n",
       "      <th>73</th>\n",
       "      <td>that's wrong</td>\n",
       "      <td>general_mistake</td>\n",
       "    </tr>\n",
       "    <tr>\n",
       "      <th>74</th>\n",
       "      <td>mail gaurav my phone number and other contact details</td>\n",
       "      <td>email_send_email</td>\n",
       "    </tr>\n",
       "    <tr>\n",
       "      <th>75</th>\n",
       "      <td>what do we have on nyt's front page</td>\n",
       "      <td>news_query</td>\n",
       "    </tr>\n",
       "    <tr>\n",
       "      <th>76</th>\n",
       "      <td>what person produced the song that is on the radio</td>\n",
       "      <td>music_question</td>\n",
       "    </tr>\n",
       "    <tr>\n",
       "      <th>77</th>\n",
       "      <td>please put in an order from red thai fpr this eveneing</td>\n",
       "      <td>takeaway_order</td>\n",
       "    </tr>\n",
       "    <tr>\n",
       "      <th>78</th>\n",
       "      <td>thank you so much mate</td>\n",
       "      <td>general_feedback</td>\n",
       "    </tr>\n",
       "    <tr>\n",
       "      <th>79</th>\n",
       "      <td>turn &lt;unk&gt; on</td>\n",
       "      <td>IOT_coffee</td>\n",
       "    </tr>\n",
       "    <tr>\n",
       "      <th>80</th>\n",
       "      <td>new music tracks</td>\n",
       "      <td>general_conversation</td>\n",
       "    </tr>\n",
       "    <tr>\n",
       "      <th>81</th>\n",
       "      <td>play this radio channel for me</td>\n",
       "      <td>radio_play</td>\n",
       "    </tr>\n",
       "    <tr>\n",
       "      <th>82</th>\n",
       "      <td>what should i do this weekend</td>\n",
       "      <td>recommendation_movies</td>\n",
       "    </tr>\n",
       "    <tr>\n",
       "      <th>83</th>\n",
       "      <td>agree</td>\n",
       "      <td>podcasts_play</td>\n",
       "    </tr>\n",
       "    <tr>\n",
       "      <th>84</th>\n",
       "      <td>wrong command</td>\n",
       "      <td>general_feedback</td>\n",
       "    </tr>\n",
       "    <tr>\n",
       "      <th>85</th>\n",
       "      <td>what day is it</td>\n",
       "      <td>QA_factoid</td>\n",
       "    </tr>\n",
       "    <tr>\n",
       "      <th>86</th>\n",
       "      <td>lower lights</td>\n",
       "      <td>IOT_hue</td>\n",
       "    </tr>\n",
       "    <tr>\n",
       "      <th>87</th>\n",
       "      <td>new meetingadd bill and malinda as attendees</td>\n",
       "      <td>calendar_set_event</td>\n",
       "    </tr>\n",
       "    <tr>\n",
       "      <th>88</th>\n",
       "      <td>add this new email with contact</td>\n",
       "      <td>email_send_email</td>\n",
       "    </tr>\n",
       "    <tr>\n",
       "      <th>89</th>\n",
       "      <td>what does session mean</td>\n",
       "      <td>QA_definition</td>\n",
       "    </tr>\n",
       "    <tr>\n",
       "      <th>90</th>\n",
       "      <td>play ne &lt;unk&gt; availabel podcast</td>\n",
       "      <td>podcasts_play</td>\n",
       "    </tr>\n",
       "    <tr>\n",
       "      <th>91</th>\n",
       "      <td>show me my alarms</td>\n",
       "      <td>alarm_remove</td>\n",
       "    </tr>\n",
       "    <tr>\n",
       "      <th>92</th>\n",
       "      <td>tell me a good joke</td>\n",
       "      <td>general_joke</td>\n",
       "    </tr>\n",
       "    <tr>\n",
       "      <th>93</th>\n",
       "      <td>go to radio</td>\n",
       "      <td>radio_play</td>\n",
       "    </tr>\n",
       "    <tr>\n",
       "      <th>94</th>\n",
       "      <td>what's the latest news from bbc</td>\n",
       "      <td>news_query</td>\n",
       "    </tr>\n",
       "    <tr>\n",
       "      <th>95</th>\n",
       "      <td>what's the latest news on donald trump</td>\n",
       "      <td>news_query</td>\n",
       "    </tr>\n",
       "    <tr>\n",
       "      <th>96</th>\n",
       "      <td>are eggs on my shopping list</td>\n",
       "      <td>lists_query</td>\n",
       "    </tr>\n",
       "    <tr>\n",
       "      <th>97</th>\n",
       "      <td>why people like to criticize others while seldom self criticize</td>\n",
       "      <td>QA_open_query</td>\n",
       "    </tr>\n",
       "    <tr>\n",
       "      <th>98</th>\n",
       "      <td>set a continuous alarm without the option to snooze for seven am please</td>\n",
       "      <td>alarm_set</td>\n",
       "    </tr>\n",
       "    <tr>\n",
       "      <th>99</th>\n",
       "      <td>repeat the next song</td>\n",
       "      <td>music_play</td>\n",
       "    </tr>\n",
       "  </tbody>\n",
       "</table>\n",
       "</div>"
      ],
      "text/plain": [
       "                                                                       utterance  \\\n",
       "0                                              where is my meeting today located   \n",
       "1                                   please purchase me a train ticket to atlanta   \n",
       "2                                                  i want a recipe for a burrito   \n",
       "3                                                                play some radio   \n",
       "4                                                              i don't want eggs   \n",
       "5                     please ute me on any news that has to do with the blizzard   \n",
       "6                                                   how do i cook butter chicken   \n",
       "7                                                remind me an email to my sister   \n",
       "8                                             find me a joke related to baseball   \n",
       "9                                                             enter silence mode   \n",
       "10                                         want to play songs depends on my mood   \n",
       "11                                                            what's in the news   \n",
       "12                                                                  time n. date   \n",
       "13    i would like to listen to howard stern on nine hundred and seventy nine fm   \n",
       "14                          please book a train ticket from london to manchester   \n",
       "15                    what will the weather be like in austin on march sixteenth   \n",
       "16                                                is there life on other planets   \n",
       "17                                                                 how this song   \n",
       "18                                                         how tall are giraffes   \n",
       "19                                                           please stop talking   \n",
       "20                                              do i have any new email messages   \n",
       "21                                                         need to check my list   \n",
       "22                                                                    the cosmos   \n",
       "23                             show me reviews of my nearest location food court   \n",
       "24                                                    do add this on my calender   \n",
       "25                                                                  temeperature   \n",
       "26                                     bring up the latest headlines from huffpo   \n",
       "27                                              what is the weather of this week   \n",
       "28                                              read me the content of this list   \n",
       "29                                                                     reminders   \n",
       "30                       what kind of implement is a broiler and how do i use it   \n",
       "31                                               what time can i pick up my food   \n",
       "32                                                              define oscillate   \n",
       "33                                                                dim the lights   \n",
       "34                                                              tell me the time   \n",
       "35                                                  show me this week's forecast   \n",
       "36                                    can you put the lights on the high setting   \n",
       "37                                                  whats the best way to france   \n",
       "38                                  reply to the mail with the following content   \n",
       "39                                                         what are all my lists   \n",
       "40                                                   how do you subtract numbers   \n",
       "41                                             add a movie name to the wish list   \n",
       "42                                         tell me today's sports news headlines   \n",
       "43                                                        how tall is tom cruise   \n",
       "44                                                      set the settings to mute   \n",
       "45                                                           put classic rock on   \n",
       "46                                                                   joke please   \n",
       "47                                                               play angry bird   \n",
       "48                                              make the socket available for me   \n",
       "49                                             that's not what i was looking for   \n",
       "50                                        what will be the size of a small panda   \n",
       "51                                        please repeat that music again of akon   \n",
       "52                               what list is available for food products online   \n",
       "53                                                      what things can't you do   \n",
       "54                                                                   then tap ok   \n",
       "55                                          are there any fun events in la today   \n",
       "56                           what is the exchange rate between dollars and pesos   \n",
       "57                                please clear jeff's birthday from the calendar   \n",
       "58                                                   what is going on with blank   \n",
       "59                                         input a meeting with jack for tuesday   \n",
       "60                                                       how do you define 'lamp   \n",
       "61                  are there any news regarding our president on facebook today   \n",
       "62  can you direct me to the menu for the highest rated chinese carryout near me   \n",
       "63                                         change the light color to black light   \n",
       "64                                                      is today a sunscreen day   \n",
       "65                                          set a thanks giving event for friday   \n",
       "66                                                       how long to get to work   \n",
       "67                                                                check my email   \n",
       "68                                                    can we talk about se <unk>   \n",
       "69                                                               what time is it   \n",
       "70                                                     lessen the the light glow   \n",
       "71                                                               remove the list   \n",
       "72                                                resume the last kingdom for me   \n",
       "73                                                                  that's wrong   \n",
       "74                         mail gaurav my phone number and other contact details   \n",
       "75                                           what do we have on nyt's front page   \n",
       "76                            what person produced the song that is on the radio   \n",
       "77                        please put in an order from red thai fpr this eveneing   \n",
       "78                                                        thank you so much mate   \n",
       "79                                                                 turn <unk> on   \n",
       "80                                                              new music tracks   \n",
       "81                                                play this radio channel for me   \n",
       "82                                                 what should i do this weekend   \n",
       "83                                                                         agree   \n",
       "84                                                                 wrong command   \n",
       "85                                                                what day is it   \n",
       "86                                                                  lower lights   \n",
       "87                                  new meetingadd bill and malinda as attendees   \n",
       "88                                               add this new email with contact   \n",
       "89                                                        what does session mean   \n",
       "90                                               play ne <unk> availabel podcast   \n",
       "91                                                             show me my alarms   \n",
       "92                                                           tell me a good joke   \n",
       "93                                                                   go to radio   \n",
       "94                                               what's the latest news from bbc   \n",
       "95                                        what's the latest news on donald trump   \n",
       "96                                                  are eggs on my shopping list   \n",
       "97               why people like to criticize others while seldom self criticize   \n",
       "98       set a continuous alarm without the option to snooze for seven am please   \n",
       "99                                                          repeat the next song   \n",
       "\n",
       "                        label  \n",
       "0       calendar_notification  \n",
       "1        transport_directions  \n",
       "2              cooking_recipe  \n",
       "3                  radio_play  \n",
       "4                lists_remove  \n",
       "5                  news_query  \n",
       "6            cooking_question  \n",
       "7              contacts_query  \n",
       "8                general_joke  \n",
       "9                  audio_mute  \n",
       "10              QA_open_query  \n",
       "11                 news_query  \n",
       "12            transport_train  \n",
       "13                 radio_play  \n",
       "14            transport_train  \n",
       "15           weather_question  \n",
       "16              QA_open_query  \n",
       "17             music_question  \n",
       "18                 QA_factoid  \n",
       "19                 audio_mute  \n",
       "20                email_query  \n",
       "21                lists_query  \n",
       "22       general_conversation  \n",
       "23  recommendation_locations   \n",
       "24         calendar_set_event  \n",
       "25            weather_request  \n",
       "26                 news_query  \n",
       "27            weather_request  \n",
       "28                lists_query  \n",
       "29       general_conversation  \n",
       "30              QA_definition  \n",
       "31             takeaway_query  \n",
       "32              QA_definition  \n",
       "33                    IOT_hue  \n",
       "34             datetime_query  \n",
       "35            weather_request  \n",
       "36                    IOT_hue  \n",
       "37       transport_directions  \n",
       "38                email_reply  \n",
       "39                lists_query  \n",
       "40                   QA_maths  \n",
       "41               lists_adding  \n",
       "42                 news_query  \n",
       "43               QA_celebrity  \n",
       "44                 audio_mute  \n",
       "45                 music_play  \n",
       "46               general_joke  \n",
       "47                  game_play  \n",
       "48                   IOT_wemo  \n",
       "49            general_mistake  \n",
       "50              QA_definition  \n",
       "51             music_settings  \n",
       "52                lists_query  \n",
       "53            general_mistake  \n",
       "54                alarm_query  \n",
       "55      recommendation_movies  \n",
       "56                 QA_factoid  \n",
       "57      calendar_delete_event  \n",
       "58                 news_query  \n",
       "59         calendar_set_event  \n",
       "60              QA_definition  \n",
       "61               social_query  \n",
       "62             takeaway_order  \n",
       "63                    IOT_hue  \n",
       "64            weather_request  \n",
       "65         calendar_set_event  \n",
       "66          transport_traffic  \n",
       "67                email_query  \n",
       "68       general_conversation  \n",
       "69             datetime_query  \n",
       "70                    IOT_hue  \n",
       "71               lists_remove  \n",
       "72             audiobook_play  \n",
       "73            general_mistake  \n",
       "74           email_send_email  \n",
       "75                 news_query  \n",
       "76             music_question  \n",
       "77             takeaway_order  \n",
       "78           general_feedback  \n",
       "79                 IOT_coffee  \n",
       "80       general_conversation  \n",
       "81                 radio_play  \n",
       "82      recommendation_movies  \n",
       "83              podcasts_play  \n",
       "84           general_feedback  \n",
       "85                 QA_factoid  \n",
       "86                    IOT_hue  \n",
       "87         calendar_set_event  \n",
       "88           email_send_email  \n",
       "89              QA_definition  \n",
       "90              podcasts_play  \n",
       "91               alarm_remove  \n",
       "92               general_joke  \n",
       "93                 radio_play  \n",
       "94                 news_query  \n",
       "95                 news_query  \n",
       "96                lists_query  \n",
       "97              QA_open_query  \n",
       "98                  alarm_set  \n",
       "99                 music_play  "
      ]
     },
     "execution_count": 62,
     "metadata": {},
     "output_type": "execute_result"
    }
   ],
   "source": [
    "pd.set_option('display.max_rows', 130)\n",
    "pd.set_option('display.max_colwidth', None)\n",
    "#dd = full_dataset[full_dataset['label'].isin(['Sintomas.Qualificado.Equipamento liga e desliga sozinho'])]\n",
    "full_dataset.head(100)"
   ]
  },
  {
   "cell_type": "code",
   "execution_count": 63,
   "metadata": {},
   "outputs": [
    {
     "data": {
      "image/png": "[encoded data removed]",
      "text/plain": [
       "<Figure size 432x288 with 1 Axes>"
      ]
     },
     "metadata": {},
     "output_type": "display_data"
    }
   ],
   "source": [
    "largest_qtys = [72762,50791,48223,41785,41309] \n",
    "smallest_qtys = [33,32,20,14,11]\n",
    "index = [1,2,3,4,5]\n",
    "df2 = pd.DataFrame({'largest': largest_qtys}, index = index)\n",
    "ax = df2.plot.bar(figsize=(6,4),rot=0)\n",
    "x_offset = -0.2\n",
    "y_offset = 0.2\n",
    "for p in ax.patches:\n",
    "    b = p.get_bbox()\n",
    "    val = \"{:.0f}\".format(b.y1 + b.y0)        \n",
    "    ax.annotate(val, (b.x0, b.y1 + y_offset))"
   ]
  },
  {
   "cell_type": "code",
   "execution_count": null,
   "metadata": {},
   "outputs": [],
   "source": [
    "largest_qtys = [72762,50791,48223,41785,41309] \n",
    "smallest_qtys = [33,32,20,14,11]\n",
    "index = [1,2,3,4,5]\n",
    "df2 = pd.DataFrame({'largest': largest_qtys, 'smallest': smallest_qtys}, index = index)\n",
    "ax = df2.plot.bar(figsize=(8,4),rot=0)\n",
    "x_offset = 0\n",
    "y_offset = 0.2\n",
    "for p in ax.patches:\n",
    "    b = p.get_bbox()\n",
    "    val = \"{:.0f}\".format(b.y1 + b.y0)        \n",
    "    ax.annotate(val, ((b.x0 + b.x1)/2 + x_offset, b.y1 + y_offset))"
   ]
  },
  {
   "cell_type": "code",
   "execution_count": 14,
   "metadata": {
    "scrolled": true
   },
   "outputs": [
    {
     "data": {
      "text/plain": [
       "<AxesSubplot:>"
      ]
     },
     "execution_count": 14,
     "metadata": {},
     "output_type": "execute_result"
    },
    {
     "data": {
      "image/png": "[encoded data removed]",
      "text/plain": [
       "<Figure size 1152x576 with 1 Axes>"
      ]
     },
     "metadata": {
      "needs_background": "light"
     },
     "output_type": "display_data"
    }
   ],
   "source": [
    "full_dataset.label.value_counts().plot.bar(figsize=(16,8))"
   ]
  },
  {
   "cell_type": "markdown",
   "metadata": {},
   "source": [
    "###  Sentence size (token number) distribution"
   ]
  },
  {
   "cell_type": "code",
   "execution_count": 64,
   "metadata": {
    "scrolled": true
   },
   "outputs": [
    {
     "name": "stderr",
     "output_type": "stream",
     "text": [
      "/usr/local/lib/python3.6/dist-packages/seaborn/distributions.py:2557: FutureWarning: `distplot` is a deprecated function and will be removed in a future version. Please adapt your code to use either `displot` (a figure-level function with similar flexibility) or `histplot` (an axes-level function for histograms).\n",
      "  warnings.warn(msg, FutureWarning)\n",
      "No handles with labels found to put in legend.\n"
     ]
    },
    {
     "data": {
      "image/png": "[encoded data removed]",
      "text/plain": [
       "<Figure size 432x288 with 1 Axes>"
      ]
     },
     "metadata": {},
     "output_type": "display_data"
    }
   ],
   "source": [
    "def getSentenceLen(str):\n",
    "    import re\n",
    "    try:\n",
    "        return len(re.findall(r'\\w+', str))\n",
    "    except:\n",
    "        return 0\n",
    "\n",
    "sns.set_style(\"whitegrid\")\n",
    "length_checker = np.vectorize(getSentenceLen) \n",
    "sentence_len = length_checker(full_dataset['utterance']) \n",
    "\n",
    "sns.distplot(sentence_len,bins= 50, hist=True, kde=False, color='b')\n",
    "plt.title('sentence length'); plt.legend()\n",
    "plt.show()\n"
   ]
  },
  {
   "cell_type": "code",
   "execution_count": 65,
   "metadata": {},
   "outputs": [
    {
     "data": {
      "image/png": "[encoded data removed]",
      "text/plain": [
       "<Figure size 432x288 with 1 Axes>"
      ]
     },
     "metadata": {},
     "output_type": "display_data"
    }
   ],
   "source": [
    "ax_hist = plt.subplot()\n",
    "mean = sentence_len.mean()\n",
    "#sentence_len.median()\n",
    "#sentence_len.mode().get_values()[0]\n",
    "\n",
    "sns.distplot(sentence_len, ax=ax_hist,bins= 35,kde=False,norm_hist=True)\n",
    "ax_hist.axvline(mean, color='r', linestyle='--')\n",
    "#ax_hist.axvline(median, color='g', linestyle='-')\n",
    "#ax_hist.axvline(mode, color='b', linestyle='-')\n",
    "\n",
    "#plt.legend({'Mean':mean,'Median':median,'Mode':mode})\n",
    "plt.legend({'Mean':mean})\n",
    "plt.show()"
   ]
  },
  {
   "cell_type": "code",
   "execution_count": 66,
   "metadata": {},
   "outputs": [
    {
     "data": {
      "text/plain": [
       "6.469778716084135"
      ]
     },
     "execution_count": 66,
     "metadata": {},
     "output_type": "execute_result"
    }
   ],
   "source": [
    "sentence_len.mean()"
   ]
  },
  {
   "cell_type": "code",
   "execution_count": 67,
   "metadata": {},
   "outputs": [
    {
     "name": "stdout",
     "output_type": "stream",
     "text": [
      "min seq len  1\n",
      "max seq len  61\n",
      "mean  6.469778716084135\n",
      "std dev  3.3498718203918605\n"
     ]
    }
   ],
   "source": [
    "print('min seq len ', sentence_len.min())\n",
    "print('max seq len ', sentence_len.max())\n",
    "print('mean ', sentence_len.mean())\n",
    "print('std dev ', sentence_len.std())"
   ]
  },
  {
   "cell_type": "code",
   "execution_count": 68,
   "metadata": {},
   "outputs": [
    {
     "data": {
      "text/plain": [
       "<AxesSubplot:>"
      ]
     },
     "execution_count": 68,
     "metadata": {},
     "output_type": "execute_result"
    },
    {
     "data": {
      "image/png": "[encoded data removed]",
      "text/plain": [
       "<Figure size 432x288 with 1 Axes>"
      ]
     },
     "metadata": {},
     "output_type": "display_data"
    }
   ],
   "source": [
    "full_dataset['utterance'].str.len().hist()"
   ]
  },
  {
   "cell_type": "code",
   "execution_count": 69,
   "metadata": {},
   "outputs": [
    {
     "data": {
      "text/plain": [
       "<AxesSubplot:>"
      ]
     },
     "execution_count": 69,
     "metadata": {},
     "output_type": "execute_result"
    },
    {
     "data": {
      "image/png": "[encoded data removed]",
      "text/plain": [
       "<Figure size 432x288 with 1 Axes>"
      ]
     },
     "metadata": {},
     "output_type": "display_data"
    }
   ],
   "source": [
    "full_dataset['utterance'].str.split().\\\n",
    "    map(lambda x: len(x)).\\\n",
    "    hist()"
   ]
  },
  {
   "cell_type": "code",
   "execution_count": 70,
   "metadata": {},
   "outputs": [
    {
     "data": {
      "text/plain": [
       "<AxesSubplot:>"
      ]
     },
     "execution_count": 70,
     "metadata": {},
     "output_type": "execute_result"
    },
    {
     "data": {
      "image/png": "[encoded data removed]",
      "text/plain": [
       "<Figure size 432x288 with 1 Axes>"
      ]
     },
     "metadata": {},
     "output_type": "display_data"
    }
   ],
   "source": [
    "full_dataset['utterance'].str.split().apply(lambda x : [len(i) for i in x]).map(lambda x: np.mean(x)).hist()"
   ]
  },
  {
   "cell_type": "code",
   "execution_count": 79,
   "metadata": {},
   "outputs": [
    {
     "name": "stderr",
     "output_type": "stream",
     "text": [
      "[nltk_data] Downloading package stopwords to /root/nltk_data...\n",
      "[nltk_data]   Package stopwords is already up-to-date!\n"
     ]
    }
   ],
   "source": [
    "import nltk\n",
    "from nltk.corpus import stopwords\n",
    "nltk.download('stopwords')\n",
    "stop_words = stopwords.words('english')"
   ]
  },
  {
   "cell_type": "code",
   "execution_count": 80,
   "metadata": {},
   "outputs": [],
   "source": [
    "corpus=[]\n",
    "new= full_dataset['utterance'].str.split()\n",
    "new=new.values.tolist()\n",
    "corpus=[word for i in new for word in i]\n",
    "from collections import defaultdict\n",
    "dic=defaultdict(int)\n",
    "for word in corpus:\n",
    "    if word not in stop_words:\n",
    "        dic[word]+=1"
   ]
  },
  {
   "cell_type": "code",
   "execution_count": 81,
   "metadata": {
    "scrolled": true
   },
   "outputs": [
    {
     "data": {
      "text/plain": [
       "<BarContainer object of 10 artists>"
      ]
     },
     "execution_count": 81,
     "metadata": {},
     "output_type": "execute_result"
    },
    {
     "data": {
      "image/png": "[encoded data removed]",
      "text/plain": [
       "<Figure size 432x288 with 1 Axes>"
      ]
     },
     "metadata": {},
     "output_type": "display_data"
    }
   ],
   "source": [
    "top=sorted(dic.items(), key=lambda x:x[1],reverse=True)[:10] \n",
    "x,y=zip(*top)\n",
    "plt.bar(x,y)"
   ]
  },
  {
   "cell_type": "code",
   "execution_count": 84,
   "metadata": {},
   "outputs": [
    {
     "data": {
      "text/plain": [
       "<AxesSubplot:>"
      ]
     },
     "execution_count": 84,
     "metadata": {},
     "output_type": "execute_result"
    },
    {
     "data": {
      "image/png": "[encoded data removed]",
      "text/plain": [
       "<Figure size 432x288 with 1 Axes>"
      ]
     },
     "metadata": {},
     "output_type": "display_data"
    }
   ],
   "source": [
    "import collections\n",
    "counter=collections.Counter(corpus)\n",
    "most=counter.most_common()\n",
    "x, y= [], []\n",
    "for word,count in most[:40]:\n",
    "    if (word not in stop_words):\n",
    "        x.append(word)\n",
    "        y.append(count)\n",
    "        \n",
    "sns.barplot(x=y,y=x)"
   ]
  },
  {
   "cell_type": "code",
   "execution_count": 87,
   "metadata": {},
   "outputs": [
    {
     "data": {
      "text/plain": [
       "<AxesSubplot:>"
      ]
     },
     "execution_count": 87,
     "metadata": {},
     "output_type": "execute_result"
    },
    {
     "data": {
      "image/png": "[encoded data removed]",
      "text/plain": [
       "<Figure size 432x288 with 1 Axes>"
      ]
     },
     "metadata": {},
     "output_type": "display_data"
    }
   ],
   "source": [
    "import collections\n",
    "counter=collections.Counter(corpus)\n",
    "most=counter.most_common()\n",
    "x, y= [], []\n",
    "for word,count in most[:20]:\n",
    "    if (word in stop_words):\n",
    "        x.append(word)\n",
    "        y.append(count)\n",
    "        \n",
    "sns.barplot(x=y,y=x)"
   ]
  },
  {
   "cell_type": "code",
   "execution_count": 88,
   "metadata": {},
   "outputs": [],
   "source": [
    "# Code Snippet for Top N-grams Barchart\n",
    "\n",
    "import seaborn as sns\n",
    "from sklearn.feature_extraction.text import CountVectorizer\n",
    "from collections import  Counter\n",
    "\n",
    "def plot_top_ngrams_barchart(text, n=2):\n",
    "    stop=set(stopwords.words('portuguese'))\n",
    "\n",
    "    new= text.str.split()\n",
    "    new=new.values.tolist()\n",
    "    corpus=[word for i in new for word in i]\n",
    "\n",
    "    def _get_top_ngram(corpus, n=None):\n",
    "        vec = CountVectorizer(ngram_range=(n, n)).fit(corpus)\n",
    "        bag_of_words = vec.transform(corpus)\n",
    "        sum_words = bag_of_words.sum(axis=0) \n",
    "        words_freq = [(word, sum_words[0, idx]) \n",
    "                      for word, idx in vec.vocabulary_.items()]\n",
    "        words_freq =sorted(words_freq, key = lambda x: x[1], reverse=True)\n",
    "        return words_freq[:10]\n",
    "\n",
    "    top_n_bigrams=_get_top_ngram(text,n)[:10]\n",
    "    x,y=map(list,zip(*top_n_bigrams))\n",
    "    sns.barplot(x=y,y=x)"
   ]
  },
  {
   "cell_type": "code",
   "execution_count": 89,
   "metadata": {},
   "outputs": [
    {
     "data": {
      "image/png": "[encoded data removed]",
      "text/plain": [
       "<Figure size 432x288 with 1 Axes>"
      ]
     },
     "metadata": {},
     "output_type": "display_data"
    }
   ],
   "source": [
    "plot_top_ngrams_barchart(full_dataset['utterance'],2)"
   ]
  },
  {
   "cell_type": "code",
   "execution_count": 90,
   "metadata": {},
   "outputs": [
    {
     "data": {
      "image/png": "[encoded data removed]",
      "text/plain": [
       "<Figure size 432x288 with 1 Axes>"
      ]
     },
     "metadata": {},
     "output_type": "display_data"
    }
   ],
   "source": [
    "plot_top_ngrams_barchart(full_dataset['utterance'],3)"
   ]
  },
  {
   "cell_type": "code",
   "execution_count": 91,
   "metadata": {},
   "outputs": [
    {
     "data": {
      "image/png": "[encoded data removed]",
      "text/plain": [
       "<Figure size 432x288 with 1 Axes>"
      ]
     },
     "metadata": {},
     "output_type": "display_data"
    }
   ],
   "source": [
    "plot_top_ngrams_barchart(full_dataset['utterance'],4)"
   ]
  },
  {
   "cell_type": "code",
   "execution_count": null,
   "metadata": {},
   "outputs": [],
   "source": []
  },
  {
   "cell_type": "code",
   "execution_count": null,
   "metadata": {},
   "outputs": [],
   "source": []
  }
 ],
 "metadata": {
  "kernelspec": {
   "display_name": "Python 3",
   "language": "python",
   "name": "python3"
  },
  "language_info": {
   "codemirror_mode": {
    "name": "ipython",
    "version": 3
   },
   "file_extension": ".py",
   "mimetype": "text/x-python",
   "name": "python",
   "nbconvert_exporter": "python",
   "pygments_lexer": "ipython3",
   "version": "3.6.9"
  }
 },
 "nbformat": 4,
 "nbformat_minor": 2
}
